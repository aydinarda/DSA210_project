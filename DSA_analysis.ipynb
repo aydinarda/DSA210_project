{
 "cells": [
  {
   "cell_type": "code",
   "execution_count": 43,
   "metadata": {},
   "outputs": [],
   "source": [
    "from transformers import pipeline\n",
    "\n",
    "\n",
    "from FlagEmbedding import FlagReranker\n",
    "import mailbox\n",
    "from datetime import datetime\n",
    "import pandas as pd\n",
    "import re\n",
    "import matplotlib.pyplot as plt\n",
    "\n",
    "# Initialize for the language labeling\n",
    "\n",
    "model_ckpt = \"papluca/xlm-roberta-base-language-detection\"\n",
    "pipe = pipeline(\"text-classification\", model=model_ckpt)\n",
    "#pipe(text, top_k=1, truncation=True)\n",
    "\n",
    "\n",
    "# Initialize the formality analysis model\n",
    "reranker = FlagReranker('BAAI/bge-reranker-v2-m3', use_fp16=True)\n",
    "\n",
    "# Path to your mbox file\n",
    "mbox_file_path = 'Sent.mbox'\n",
    "\n",
    "\n",
    "\n",
    "\n",
    "# Open the mbox file\n",
    "\n",
    "# Create DataFrame from extracted data\n"
   ]
  },
  {
   "cell_type": "code",
   "execution_count": 44,
   "metadata": {},
   "outputs": [],
   "source": [
    "# Function to get the plain text content of an email message\n",
    "def get_email_body(message):\n",
    "    if message.is_multipart():\n",
    "        parts = message.get_payload()\n",
    "        for part in parts:\n",
    "            if part.get_content_type() == 'text/plain':\n",
    "                return part.get_payload(decode=True).decode(part.get_content_charset() or 'utf-8')\n",
    "    else:\n",
    "        return message.get_payload(decode=True).decode(message.get_content_charset() or 'utf-8')\n",
    "    return \"\"\n",
    "\n",
    "# Function to clean up the email body and remove quoted content\n",
    "\n",
    "def determine_language(text):\n",
    "    return pipe(text, top_k=1, truncation=True)[0]['label']\n",
    "\n",
    "\n",
    "def is_reply(subject, body):\n",
    "    # Check for \"Re:\" or \"Fwd:\" in the subject\n",
    "    if subject and any(prefix in subject for prefix in ['Re:', 'Fwd:']):\n",
    "        return True\n",
    "\n",
    "    # Check for quoted text from previous emails\n",
    "    if re.search(r'On .* wrote:', body) or '>' in body:\n",
    "        return True\n",
    "\n",
    "    return False\n",
    "\n",
    "\n",
    "def clean_email_body(body):\n",
    "    cleaned_body = re.sub(r'(?m)^>.*$', '', body)\n",
    "    cleaned_body = re.split(r'\\nOn .* wrote:\\n', cleaned_body)[0]\n",
    "    cleaned_body = re.sub(r'\\r\\n', ' ', cleaned_body)\n",
    "    cleaned_body = re.sub(r'\\s+', ' ', cleaned_body)\n",
    "    return cleaned_body.strip()\n",
    "\n",
    "# Function to compute formality score and classify\n",
    "def get_formality_class(text):\n",
    "    formal_score = reranker.compute_score(['Formal', text], normalize=True)[0]\n",
    "    informal_score = reranker.compute_score(['Informal', text], normalize=True)[0]\n",
    "    if formal_score >= informal_score :\n",
    "        return ('Formal', (formal_score/informal_score))\n",
    "    elif formal_score < informal_score:\n",
    "        return ('Informal',(formal_score/informal_score))\n",
    "    else:\n",
    "        return 'Neutral'\n"
   ]
  },
  {
   "cell_type": "code",
   "execution_count": 45,
   "metadata": {},
   "outputs": [],
   "source": [
    "mbox = mailbox.mbox(mbox_file_path)\n"
   ]
  },
  {
   "cell_type": "code",
   "execution_count": 46,
   "metadata": {},
   "outputs": [
    {
     "name": "stderr",
     "output_type": "stream",
     "text": [
      "pre tokenize:   0%|          | 0/1 [00:00<?, ?it/s]You're using a XLMRobertaTokenizerFast tokenizer. Please note that with a fast tokenizer, using the `__call__` method is faster than using a method to encode the text followed by a call to the `pad` method to get a padded encoding.\n",
      "pre tokenize: 100%|██████████| 1/1 [00:00<00:00, 963.54it/s]\n",
      "C:\\Users\\LENOVO\\AppData\\Local\\Packages\\PythonSoftwareFoundation.Python.3.11_qbz5n2kfra8p0\\LocalCache\\local-packages\\Python311\\site-packages\\transformers\\tokenization_utils_base.py:2888: UserWarning: `max_length` is ignored when `padding`=`True` and there is no truncation strategy. To pad to max length, use `padding='max_length'`.\n",
      "  warnings.warn(\n",
      "pre tokenize: 100%|██████████| 1/1 [00:00<?, ?it/s]\n"
     ]
    },
    {
     "name": "stdout",
     "output_type": "stream",
     "text": [
      "Skipping reply email: Re: Hello from Uber Talent Acquisition!\n",
      "Failed to parse date: Thu, 20 Jun 2024 11:09:44 -0400 (EDT)\n"
     ]
    },
    {
     "name": "stderr",
     "output_type": "stream",
     "text": [
      "pre tokenize: 100%|██████████| 1/1 [00:00<00:00, 501.35it/s]\n",
      "pre tokenize: 100%|██████████| 1/1 [00:00<00:00, 1002.94it/s]\n"
     ]
    },
    {
     "name": "stdout",
     "output_type": "stream",
     "text": [
      "Skipping email 3 due to date parsing issues.\n",
      "\n",
      "Skipping reply email: AW: [EXT]Broken showerhead\n"
     ]
    },
    {
     "name": "stderr",
     "output_type": "stream",
     "text": [
      "pre tokenize: 100%|██████████| 1/1 [00:00<00:00, 500.93it/s]\n",
      "pre tokenize: 100%|██████████| 1/1 [00:00<00:00, 1002.70it/s]\n",
      "pre tokenize: 100%|██████████| 1/1 [00:00<?, ?it/s]\n",
      "pre tokenize: 100%|██████████| 1/1 [00:00<00:00, 1002.22it/s]\n",
      "pre tokenize: 100%|██████████| 1/1 [00:00<?, ?it/s]\n",
      "pre tokenize: 100%|██████████| 1/1 [00:00<00:00, 1002.46it/s]\n",
      "pre tokenize: 100%|██████████| 1/1 [00:00<00:00, 1002.70it/s]\n",
      "pre tokenize: 100%|██████████| 1/1 [00:00<00:00, 1002.46it/s]\n"
     ]
    },
    {
     "name": "stdout",
     "output_type": "stream",
     "text": [
      "Skipping reply email: Re: After Mobility Requirements\n",
      "Skipping reply email: Re: After Mobility Requirements\n",
      "Skipping reply email: Re: After Mobility Requirements\n"
     ]
    },
    {
     "name": "stderr",
     "output_type": "stream",
     "text": [
      "pre tokenize: 100%|██████████| 1/1 [00:00<00:00, 501.23it/s]\n",
      "pre tokenize: 100%|██████████| 1/1 [00:00<?, ?it/s]\n"
     ]
    },
    {
     "name": "stdout",
     "output_type": "stream",
     "text": [
      "Skipping reply email: Re: DAK Gesundheit - your request\n",
      "Skipping reply email: Fwd: DAK Gesundheit - your request\n",
      "Skipping reply email: DAK Gesundheit - your request\n"
     ]
    },
    {
     "name": "stderr",
     "output_type": "stream",
     "text": [
      "pre tokenize: 100%|██████████| 1/1 [00:00<?, ?it/s]\n",
      "pre tokenize: 100%|██████████| 1/1 [00:00<?, ?it/s]\n"
     ]
    },
    {
     "name": "stdout",
     "output_type": "stream",
     "text": [
      "Skipping reply email: =?UTF-8?Q?RE=3A_ticket_with_ID=3A_SU0=2DAAAS=2D3206_hakk=C4=B1nda?=\n",
      "Skipping reply email: =?UTF-8?Q?RE=3A_ticket_with_ID=3A_SU0=2DAAAS=2D3206_hakk=C4=B1nda?=\n",
      "Skipping reply email: =?UTF-8?Q?Re=3A_ticket_with_ID=3A_SU0=2DAAAS=2D3206_hakk=C4=B1nda?=\n",
      "Skipping reply email: =?UTF-8?Q?RE=3A_ticket_with_ID=3A_SU0=2DAAAS=2D3206_hakk=C4=B1nda?=\n"
     ]
    },
    {
     "name": "stderr",
     "output_type": "stream",
     "text": [
      "pre tokenize: 100%|██████████| 1/1 [00:00<00:00, 250.69it/s]\n",
      "pre tokenize: 100%|██████████| 1/1 [00:00<00:00, 1001.74it/s]\n"
     ]
    },
    {
     "name": "stdout",
     "output_type": "stream",
     "text": [
      "Skipping reply email: Re: Thank You for Completing Our GS Questionnaire!\n",
      "Skipping reply email: Re: Thank You for Completing Our GS Questionnaire!\n",
      "Skipping reply email: Thank You for Completing Our GS Questionnaire!\n",
      "Skipping reply email: Re: Meeting\n",
      "Skipping reply email: Re: Meeting\n",
      "Skipping reply email: Re: Meeting\n",
      "Skipping reply email: Re: Meeting\n",
      "Skipping reply email: Re: Meeting\n",
      "Skipping reply email: Re: Meeting\n"
     ]
    },
    {
     "name": "stderr",
     "output_type": "stream",
     "text": [
      "pre tokenize: 100%|██████████| 1/1 [00:00<00:00, 1001.98it/s]\n",
      "pre tokenize: 100%|██████████| 1/1 [00:00<00:00, 1000.79it/s]\n"
     ]
    },
    {
     "name": "stdout",
     "output_type": "stream",
     "text": [
      "Skipping reply email: Re: \n"
     ]
    },
    {
     "name": "stderr",
     "output_type": "stream",
     "text": [
      "pre tokenize: 100%|██████████| 1/1 [00:00<?, ?it/s]\n",
      "pre tokenize: 100%|██████████| 1/1 [00:00<00:00, 1002.70it/s]\n",
      "pre tokenize: 100%|██████████| 1/1 [00:00<00:00, 1002.46it/s]\n",
      "pre tokenize: 100%|██████████| 1/1 [00:00<00:00, 1004.14it/s]\n"
     ]
    },
    {
     "name": "stdout",
     "output_type": "stream",
     "text": [
      "Skipping reply email: CS300_HW1\n",
      "Skipping reply email: =?UTF-8?B?RndkOiBNYWtlIGEgc3BsYXNoIChhbmQgJDEwKSEg8J+Mig==?=\n",
      "Skipping reply email: =?UTF-8?Q?Make_a_splash_(and_$10)!_=F0=9F=8C=8A?=\n",
      "Skipping reply email: Re: PURE Fall Term Confirmation Reminder\n",
      "Skipping reply email: PURE Fall Term Confirmation Reminder\n"
     ]
    },
    {
     "name": "stderr",
     "output_type": "stream",
     "text": [
      "pre tokenize: 100%|██████████| 1/1 [00:00<00:00, 1001.98it/s]\n",
      "pre tokenize: 100%|██████████| 1/1 [00:00<?, ?it/s]\n"
     ]
    },
    {
     "name": "stdout",
     "output_type": "stream",
     "text": [
      "Skipping reply email: RE: Bee Colony Optimization ve Akademik Kariyer Hk.\n"
     ]
    },
    {
     "name": "stderr",
     "output_type": "stream",
     "text": [
      "pre tokenize: 100%|██████████| 1/1 [00:00<00:00, 250.69it/s]\n",
      "pre tokenize: 100%|██████████| 1/1 [00:00<00:00, 501.29it/s]\n",
      "pre tokenize: 100%|██████████| 1/1 [00:00<00:00, 1003.18it/s]\n",
      "pre tokenize: 100%|██████████| 1/1 [00:00<00:00, 1002.22it/s]\n"
     ]
    },
    {
     "name": "stdout",
     "output_type": "stream",
     "text": [
      "Skipping reply email: Re: Quiz ile ilgili\n"
     ]
    },
    {
     "name": "stderr",
     "output_type": "stream",
     "text": [
      "pre tokenize: 100%|██████████| 1/1 [00:00<00:00, 1001.27it/s]\n",
      "pre tokenize: 100%|██████████| 1/1 [00:00<?, ?it/s]\n",
      "pre tokenize: 100%|██████████| 1/1 [00:00<00:00, 1001.98it/s]\n",
      "pre tokenize: 100%|██████████| 1/1 [00:00<00:00, 1002.22it/s]\n"
     ]
    },
    {
     "name": "stdout",
     "output_type": "stream",
     "text": [
      "Skipping reply email: =?utf-8?B?UmU6IPCfkYAgc2lwYXJpxZ9pbiBiaXplIHVsYcWfdMSxIQ==?=\n",
      "Skipping reply email: =?UTF-8?B?UmU6IPCfkYAgc2lwYXJpxZ9pbiBiaXplIHVsYcWfdMSxIQ==?=\n",
      "Failed to parse date: Fri, 22 Dec 2023 17:44:52 +0000 (UTC)\n"
     ]
    },
    {
     "name": "stderr",
     "output_type": "stream",
     "text": [
      "pre tokenize: 100%|██████████| 1/1 [00:00<00:00, 100.28it/s]\n",
      "pre tokenize: 100%|██████████| 1/1 [00:00<00:00, 501.35it/s]\n"
     ]
    },
    {
     "name": "stdout",
     "output_type": "stream",
     "text": [
      "Skipping email 49 due to date parsing issues.\n",
      "\n"
     ]
    },
    {
     "name": "stderr",
     "output_type": "stream",
     "text": [
      "pre tokenize: 100%|██████████| 1/1 [00:00<00:00, 1002.46it/s]\n",
      "pre tokenize: 100%|██████████| 1/1 [00:00<00:00, 1002.70it/s]\n",
      "pre tokenize: 100%|██████████| 1/1 [00:00<?, ?it/s]\n",
      "pre tokenize: 100%|██████████| 1/1 [00:00<?, ?it/s]\n",
      "pre tokenize: 100%|██████████| 1/1 [00:00<00:00, 1001.74it/s]\n",
      "pre tokenize: 100%|██████████| 1/1 [00:00<?, ?it/s]\n"
     ]
    },
    {
     "name": "stdout",
     "output_type": "stream",
     "text": [
      "Skipping reply email: Re: Erasmus\n",
      "Skipping reply email: Re: Erasmus\n",
      "Skipping reply email: =?UTF-8?Q?Re=3A_Bitirme_Projesi_Hakk=C4=B1nda?=\n"
     ]
    },
    {
     "name": "stderr",
     "output_type": "stream",
     "text": [
      "pre tokenize: 100%|██████████| 1/1 [00:00<00:00, 501.29it/s]\n",
      "pre tokenize: 100%|██████████| 1/1 [00:00<00:00, 1001.98it/s]\n",
      "pre tokenize: 100%|██████████| 1/1 [00:00<00:00, 996.27it/s]\n",
      "pre tokenize: 100%|██████████| 1/1 [00:00<00:00, 1002.22it/s]\n",
      "pre tokenize: 100%|██████████| 1/1 [00:00<00:00, 1002.22it/s]\n",
      "pre tokenize: 100%|██████████| 1/1 [00:00<00:00, 1002.70it/s]\n"
     ]
    },
    {
     "name": "stdout",
     "output_type": "stream",
     "text": [
      "Skipping reply email: =?UTF-8?B?UmU6IEJpdGlybWUgdG9wbGFudMSxc8Sx?=\n"
     ]
    },
    {
     "name": "stderr",
     "output_type": "stream",
     "text": [
      "pre tokenize: 100%|██████████| 1/1 [00:00<00:00, 985.97it/s]\n",
      "pre tokenize: 100%|██████████| 1/1 [00:00<00:00, 1002.46it/s]\n"
     ]
    },
    {
     "name": "stdout",
     "output_type": "stream",
     "text": [
      "Skipping reply email: Re: Motivation letter help\n",
      "Skipping reply email: Re: Motivation letter help\n",
      "Skipping reply email: Re: Motivation letter help\n",
      "Skipping reply email: Re: Motivation letter help\n",
      "Skipping reply email: Re: Motivation letter help\n",
      "Skipping reply email: Fwd: Motivation letter help\n"
     ]
    },
    {
     "name": "stderr",
     "output_type": "stream",
     "text": [
      "pre tokenize: 100%|██████████| 1/1 [00:00<00:00, 1002.94it/s]\n",
      "pre tokenize: 100%|██████████| 1/1 [00:00<00:00, 1002.22it/s]\n",
      "pre tokenize: 100%|██████████| 1/1 [00:00<?, ?it/s]\n",
      "pre tokenize: 100%|██████████| 1/1 [00:00<?, ?it/s]\n",
      "pre tokenize: 100%|██████████| 1/1 [00:00<00:00, 1002.46it/s]\n",
      "pre tokenize: 100%|██████████| 1/1 [00:00<00:00, 1001.74it/s]\n",
      "pre tokenize: 100%|██████████| 1/1 [00:00<00:00, 1002.46it/s]\n",
      "pre tokenize: 100%|██████████| 1/1 [00:00<?, ?it/s]\n"
     ]
    },
    {
     "name": "stdout",
     "output_type": "stream",
     "text": [
      "Skipping reply email: Re: CV help for Master's Application\n",
      "Skipping reply email: Fwd: CV help for Master's Application\n"
     ]
    },
    {
     "name": "stderr",
     "output_type": "stream",
     "text": [
      "pre tokenize: 100%|██████████| 1/1 [00:00<00:00, 656.90it/s]\n",
      "pre tokenize: 100%|██████████| 1/1 [00:00<00:00, 475.22it/s]\n",
      "pre tokenize: 100%|██████████| 1/1 [00:00<00:00, 250.69it/s]\n",
      "pre tokenize: 100%|██████████| 1/1 [00:00<00:00, 501.35it/s]\n",
      "pre tokenize: 100%|██████████| 1/1 [00:00<?, ?it/s]\n",
      "pre tokenize: 100%|██████████| 1/1 [00:00<00:00, 1001.98it/s]\n",
      "pre tokenize: 100%|██████████| 1/1 [00:00<00:00, 935.60it/s]\n",
      "pre tokenize: 100%|██████████| 1/1 [00:00<00:00, 1035.37it/s]\n"
     ]
    },
    {
     "name": "stdout",
     "output_type": "stream",
     "text": [
      "Skipping reply email: Fwd:\n",
      "Skipping reply email: Re: \n",
      "Skipping reply email: Re: \n",
      "Skipping reply email: Re: \n",
      "Skipping reply email: Re:\n",
      "Skipping reply email: Re: \n",
      "Skipping reply email: Re: \n",
      "Skipping reply email: Re:\n"
     ]
    },
    {
     "name": "stderr",
     "output_type": "stream",
     "text": [
      "pre tokenize: 100%|██████████| 1/1 [00:00<?, ?it/s]\n",
      "pre tokenize: 100%|██████████| 1/1 [00:00<00:00, 932.27it/s]\n",
      "pre tokenize: 100%|██████████| 1/1 [00:00<?, ?it/s]\n",
      "pre tokenize: 100%|██████████| 1/1 [00:00<00:00, 1032.32it/s]\n",
      "pre tokenize: 100%|██████████| 1/1 [00:00<00:00, 1001.98it/s]\n",
      "pre tokenize: 100%|██████████| 1/1 [00:00<00:00, 1001.27it/s]\n",
      "pre tokenize: 100%|██████████| 1/1 [00:00<00:00, 1002.46it/s]\n",
      "pre tokenize: 100%|██████████| 1/1 [00:00<00:00, 1001.51it/s]\n",
      "pre tokenize: 100%|██████████| 1/1 [00:00<00:00, 995.56it/s]\n",
      "pre tokenize: 100%|██████████| 1/1 [00:00<?, ?it/s]\n"
     ]
    },
    {
     "name": "stdout",
     "output_type": "stream",
     "text": [
      "Skipping reply email: =?UTF-8?Q?Re=3A_Proj201_hakk=C4=B1nda?=\n"
     ]
    },
    {
     "name": "stderr",
     "output_type": "stream",
     "text": [
      "pre tokenize: 100%|██████████| 1/1 [00:00<00:00, 433.88it/s]\n",
      "pre tokenize: 100%|██████████| 1/1 [00:00<00:00, 501.35it/s]\n",
      "pre tokenize: 100%|██████████| 1/1 [00:00<00:00, 1437.39it/s]\n",
      "pre tokenize: 100%|██████████| 1/1 [00:00<?, ?it/s]\n"
     ]
    },
    {
     "name": "stdout",
     "output_type": "stream",
     "text": [
      "Skipping reply email: Fwd: Ihr Deutschlandticket April 2024\n"
     ]
    },
    {
     "name": "stderr",
     "output_type": "stream",
     "text": [
      "pre tokenize: 100%|██████████| 1/1 [00:00<00:00, 978.61it/s]\n",
      "pre tokenize: 100%|██████████| 1/1 [00:00<00:00, 1003.90it/s]\n",
      "pre tokenize: 100%|██████████| 1/1 [00:00<00:00, 1004.62it/s]\n",
      "pre tokenize: 100%|██████████| 1/1 [00:00<00:00, 928.56it/s]\n"
     ]
    },
    {
     "name": "stdout",
     "output_type": "stream",
     "text": [
      "Skipping reply email: Re: Objection for the EP\n",
      "Skipping reply email: Re: Objection for the EP\n"
     ]
    },
    {
     "name": "stderr",
     "output_type": "stream",
     "text": [
      "pre tokenize: 100%|██████████| 1/1 [00:00<00:00, 1002.70it/s]\n",
      "pre tokenize: 100%|██████████| 1/1 [00:00<00:00, 1014.59it/s]\n",
      "pre tokenize: 100%|██████████| 1/1 [00:00<?, ?it/s]\n",
      "pre tokenize: 100%|██████████| 1/1 [00:00<00:00, 929.79it/s]\n"
     ]
    },
    {
     "name": "stdout",
     "output_type": "stream",
     "text": [
      "Skipping reply email: Re: CS204 Final\n"
     ]
    },
    {
     "name": "stderr",
     "output_type": "stream",
     "text": [
      "pre tokenize: 100%|██████████| 1/1 [00:00<00:00, 1003.42it/s]\n",
      "pre tokenize: 100%|██████████| 1/1 [00:00<00:00, 1002.22it/s]\n"
     ]
    },
    {
     "name": "stdout",
     "output_type": "stream",
     "text": [
      "Skipping reply email: =?UTF-8?B?UmU6IEhhZnRhbMSxayB0b3BsYW50xLEgLSBFTlMgNDkx?=\n"
     ]
    },
    {
     "name": "stderr",
     "output_type": "stream",
     "text": [
      "pre tokenize: 100%|██████████| 1/1 [00:00<00:00, 1001.74it/s]\n",
      "pre tokenize: 100%|██████████| 1/1 [00:00<00:00, 1132.68it/s]\n",
      "pre tokenize: 100%|██████████| 1/1 [00:00<00:00, 1011.41it/s]\n",
      "pre tokenize: 100%|██████████| 1/1 [00:00<?, ?it/s]\n",
      "pre tokenize: 100%|██████████| 1/1 [00:00<00:00, 1116.40it/s]\n",
      "pre tokenize: 100%|██████████| 1/1 [00:00<?, ?it/s]\n",
      "pre tokenize: 100%|██████████| 1/1 [00:00<00:00, 1016.31it/s]\n",
      "pre tokenize: 100%|██████████| 1/1 [00:00<00:00, 843.08it/s]\n"
     ]
    },
    {
     "name": "stdout",
     "output_type": "stream",
     "text": [
      "Skipping reply email: =?UTF-8?B?QUPEsEwvIMOWTkVNTMSwOiBEZXRheWzEsSBQdWFuIFTDvHLDvCDDllNZTSBTb251w6cgQg==?=\n",
      "\t=?UTF-8?B?ZWxnZXNpIEhrLg==?=\n"
     ]
    },
    {
     "name": "stderr",
     "output_type": "stream",
     "text": [
      "pre tokenize: 100%|██████████| 1/1 [00:00<00:00, 1020.26it/s]\n",
      "pre tokenize: 100%|██████████| 1/1 [00:00<00:00, 1002.70it/s]\n",
      "pre tokenize: 100%|██████████| 1/1 [00:00<00:00, 910.42it/s]\n",
      "pre tokenize: 100%|██████████| 1/1 [00:00<?, ?it/s]\n"
     ]
    },
    {
     "name": "stdout",
     "output_type": "stream",
     "text": [
      "Skipping reply email: Re: PURE\n"
     ]
    },
    {
     "name": "stderr",
     "output_type": "stream",
     "text": [
      "pre tokenize: 100%|██████████| 1/1 [00:00<00:00, 1506.57it/s]\n",
      "pre tokenize: 100%|██████████| 1/1 [00:00<?, ?it/s]\n",
      "pre tokenize: 100%|██████████| 1/1 [00:00<00:00, 1002.94it/s]\n",
      "pre tokenize: 100%|██████████| 1/1 [00:00<00:00, 987.82it/s]\n"
     ]
    },
    {
     "name": "stdout",
     "output_type": "stream",
     "text": [
      "Skipping reply email: Re: GDSC - SUACM Mysu Duyurusu Hk.\n",
      "Skipping reply email: Re: GDSC - SUACM Mysu Duyurusu Hk.\n",
      "Skipping reply email: Re: GDSC - SUACM Mysu Duyurusu Hk.\n",
      "Skipping reply email: Re: GDSC - SUACM Mysu Duyurusu Hk.\n",
      "Skipping reply email: Re: GDSC - SUACM Mysu Duyurusu Hk.\n",
      "Skipping reply email: Re: GDSC - SUACM Mysu Duyurusu Hk.\n",
      "Skipping reply email: Re: GDSC - SUACM Mysu Duyurusu Hk.\n"
     ]
    },
    {
     "name": "stderr",
     "output_type": "stream",
     "text": [
      "pre tokenize: 100%|██████████| 1/1 [00:00<00:00, 1596.61it/s]\n",
      "pre tokenize: 100%|██████████| 1/1 [00:00<00:00, 1121.47it/s]\n"
     ]
    },
    {
     "name": "stdout",
     "output_type": "stream",
     "text": [
      "Skipping reply email: =?UTF-8?Q?Re=3A_Yemeklerin_t=C3=BCkenmesi_hakkinda?=\n",
      "Skipping reply email: =?UTF-8?Q?Re=3A_Yemeklerin_t=C3=BCkenmesi_hakkinda?=\n"
     ]
    },
    {
     "name": "stderr",
     "output_type": "stream",
     "text": [
      "pre tokenize: 100%|██████████| 1/1 [00:00<00:00, 1001.98it/s]\n",
      "pre tokenize: 100%|██████████| 1/1 [00:00<00:00, 1002.46it/s]\n",
      "pre tokenize: 100%|██████████| 1/1 [00:00<00:00, 1002.70it/s]\n",
      "pre tokenize: 100%|██████████| 1/1 [00:00<00:00, 1032.57it/s]\n",
      "pre tokenize: 100%|██████████| 1/1 [00:00<00:00, 79137.81it/s]\n",
      "pre tokenize: 100%|██████████| 1/1 [00:00<00:00, 1002.70it/s]\n",
      "pre tokenize: 100%|██████████| 1/1 [00:00<00:00, 908.05it/s]\n",
      "pre tokenize: 100%|██████████| 1/1 [00:00<00:00, 1678.39it/s]\n"
     ]
    },
    {
     "name": "stdout",
     "output_type": "stream",
     "text": [
      "Skipping reply email: Fwd: Competition Launch: ISIC 2024 - Skin Cancer Detection with 3D-TBP\n"
     ]
    },
    {
     "name": "stderr",
     "output_type": "stream",
     "text": [
      "pre tokenize: 100%|██████████| 1/1 [00:00<00:00, 258.19it/s]\n",
      "pre tokenize: 100%|██████████| 1/1 [00:00<00:00, 1002.46it/s]\n"
     ]
    },
    {
     "name": "stdout",
     "output_type": "stream",
     "text": [
      "Skipping reply email: Re: Reminder: The Grant Payment Procedure& your missing documents\n",
      "Skipping reply email: Reminder: The Grant Payment Procedure& your missing documents\n"
     ]
    },
    {
     "name": "stderr",
     "output_type": "stream",
     "text": [
      "pre tokenize: 100%|██████████| 1/1 [00:00<00:00, 912.40it/s]\n",
      "pre tokenize: 100%|██████████| 1/1 [00:00<?, ?it/s]\n"
     ]
    },
    {
     "name": "stdout",
     "output_type": "stream",
     "text": [
      "Skipping reply email: Re: About IF100 Final Exam Q6 Objection\n"
     ]
    },
    {
     "name": "stderr",
     "output_type": "stream",
     "text": [
      "pre tokenize: 100%|██████████| 1/1 [00:00<00:00, 493.27it/s]\n",
      "pre tokenize: 100%|██████████| 1/1 [00:00<00:00, 1113.43it/s]\n",
      "pre tokenize: 100%|██████████| 1/1 [00:00<00:00, 1004.14it/s]\n",
      "pre tokenize: 100%|██████████| 1/1 [00:00<?, ?it/s]\n"
     ]
    },
    {
     "name": "stdout",
     "output_type": "stream",
     "text": [
      "Skipping reply email: =?UTF-8?B?UmU6IEJpdGlybWUgdG9wbGFudMSxc8Sx?=\n"
     ]
    },
    {
     "name": "stderr",
     "output_type": "stream",
     "text": [
      "pre tokenize: 100%|██████████| 1/1 [00:00<00:00, 493.91it/s]\n",
      "pre tokenize: 100%|██████████| 1/1 [00:00<00:00, 804.28it/s]\n",
      "pre tokenize: 100%|██████████| 1/1 [00:00<00:00, 1178.18it/s]\n",
      "pre tokenize: 100%|██████████| 1/1 [00:00<00:00, 984.35it/s]\n"
     ]
    },
    {
     "name": "stdout",
     "output_type": "stream",
     "text": [
      "Skipping reply email: Re: Internship Online Management System Approval Needed: Project\n",
      " Description Change\n",
      "Skipping reply email: Re: Internship Online Management System Approval Needed: Project\n",
      " Description Change\n",
      "Skipping reply email: =?UTF-8?Q?Re=3a_Yemekhane_hakk=c4=b1nda?=\n",
      "Skipping reply email: =?UTF-8?Q?Re=3A_Yemekhane_hakk=C4=B1nda?=\n",
      "Skipping reply email: =?UTF-8?Q?Re=3A_Yemekhane_hakk=C4=B1nda?=\n"
     ]
    },
    {
     "name": "stderr",
     "output_type": "stream",
     "text": [
      "pre tokenize: 100%|██████████| 1/1 [00:00<00:00, 1004.14it/s]\n",
      "pre tokenize: 100%|██████████| 1/1 [00:00<?, ?it/s]\n",
      "pre tokenize: 100%|██████████| 1/1 [00:00<00:00, 1934.64it/s]\n",
      "pre tokenize: 100%|██████████| 1/1 [00:00<00:00, 1002.94it/s]\n",
      "pre tokenize: 100%|██████████| 1/1 [00:00<?, ?it/s]\n",
      "pre tokenize: 100%|██████████| 1/1 [00:00<00:00, 1004.38it/s]\n",
      "pre tokenize: 100%|██████████| 1/1 [00:00<00:00, 1285.41it/s]\n",
      "pre tokenize: 100%|██████████| 1/1 [00:00<00:00, 1352.13it/s]\n",
      "pre tokenize: 100%|██████████| 1/1 [00:00<00:00, 4387.35it/s]\n",
      "pre tokenize: 100%|██████████| 1/1 [00:00<00:00, 1002.22it/s]\n",
      "pre tokenize: 100%|██████████| 1/1 [00:00<00:00, 828.59it/s]\n",
      "pre tokenize: 100%|██████████| 1/1 [00:00<00:00, 912.20it/s]\n",
      "pre tokenize: 100%|██████████| 1/1 [00:00<00:00, 1002.70it/s]\n",
      "pre tokenize: 100%|██████████| 1/1 [00:00<00:00, 1002.22it/s]\n",
      "pre tokenize: 100%|██████████| 1/1 [00:00<00:00, 1002.70it/s]\n",
      "pre tokenize: 100%|██████████| 1/1 [00:00<00:00, 1002.46it/s]\n",
      "pre tokenize: 100%|██████████| 1/1 [00:00<00:00, 1002.22it/s]\n",
      "pre tokenize: 100%|██████████| 1/1 [00:00<00:00, 1001.27it/s]\n",
      "pre tokenize: 100%|██████████| 1/1 [00:00<00:00, 334.23it/s]\n",
      "pre tokenize: 100%|██████████| 1/1 [00:00<?, ?it/s]\n",
      "pre tokenize: 100%|██████████| 1/1 [00:00<?, ?it/s]\n",
      "pre tokenize: 100%|██████████| 1/1 [00:00<00:00, 1003.18it/s]\n"
     ]
    },
    {
     "name": "stdout",
     "output_type": "stream",
     "text": [
      "Skipping reply email: =?UTF-8?B?UmU6IMSwxZ4gQkFOS0FTSSBBTFRJTiBHRU7DhyAtIElOVEVSUkFJTCBCQcWeVlVSVVNV?=\n"
     ]
    },
    {
     "name": "stderr",
     "output_type": "stream",
     "text": [
      "pre tokenize: 100%|██████████| 1/1 [00:00<00:00, 1004.38it/s]\n",
      "pre tokenize: 100%|██████████| 1/1 [00:00<00:00, 334.87it/s]\n",
      "pre tokenize: 100%|██████████| 1/1 [00:00<?, ?it/s]\n",
      "pre tokenize: 100%|██████████| 1/1 [00:00<00:00, 1001.74it/s]\n"
     ]
    },
    {
     "name": "stdout",
     "output_type": "stream",
     "text": [
      "Skipping reply email: Re: Evrak teslimi\n"
     ]
    },
    {
     "name": "stderr",
     "output_type": "stream",
     "text": [
      "pre tokenize: 100%|██████████| 1/1 [00:00<00:00, 500.69it/s]\n",
      "pre tokenize: 100%|██████████| 1/1 [00:00<00:00, 1002.46it/s]\n"
     ]
    },
    {
     "name": "stdout",
     "output_type": "stream",
     "text": [
      "Skipping reply email: Re: bunq - offer\n",
      "Skipping reply email: Re: bunq - offer\n",
      "Skipping reply email: Re: bunq - offer\n"
     ]
    },
    {
     "name": "stderr",
     "output_type": "stream",
     "text": [
      "pre tokenize: 100%|██████████| 1/1 [00:00<00:00, 501.23it/s]\n",
      "pre tokenize: 100%|██████████| 1/1 [00:00<00:00, 1001.98it/s]\n",
      "pre tokenize: 100%|██████████| 1/1 [00:00<?, ?it/s]\n",
      "pre tokenize: 100%|██████████| 1/1 [00:00<00:00, 1002.70it/s]\n",
      "pre tokenize: 100%|██████████| 1/1 [00:00<00:00, 1002.70it/s]\n",
      "pre tokenize: 100%|██████████| 1/1 [00:00<?, ?it/s]\n",
      "pre tokenize: 100%|██████████| 1/1 [00:00<?, ?it/s]\n",
      "pre tokenize: 100%|██████████| 1/1 [00:00<00:00, 1002.22it/s]\n",
      "pre tokenize: 100%|██████████| 1/1 [00:00<00:00, 492.69it/s]\n",
      "pre tokenize: 100%|██████████| 1/1 [00:00<?, ?it/s]\n"
     ]
    },
    {
     "name": "stdout",
     "output_type": "stream",
     "text": [
      "Skipping reply email: Re: Antrag Ersatzkarte - Verlust CampusCard\n"
     ]
    },
    {
     "name": "stderr",
     "output_type": "stream",
     "text": [
      "pre tokenize: 100%|██████████| 1/1 [00:00<00:00, 1001.74it/s]\n",
      "pre tokenize: 100%|██████████| 1/1 [00:00<?, ?it/s]\n",
      "pre tokenize: 100%|██████████| 1/1 [00:00<00:00, 1002.46it/s]\n",
      "pre tokenize: 100%|██████████| 1/1 [00:00<00:00, 1002.46it/s]\n"
     ]
    },
    {
     "name": "stdout",
     "output_type": "stream",
     "text": [
      "Skipping reply email: AW: Your Application - University of Passau\n",
      "Skipping reply email: Re: Your Application - University of Passau\n"
     ]
    },
    {
     "name": "stderr",
     "output_type": "stream",
     "text": [
      "pre tokenize: 100%|██████████| 1/1 [00:00<00:00, 1003.66it/s]\n",
      "pre tokenize: 100%|██████████| 1/1 [00:00<00:00, 1003.18it/s]\n",
      "pre tokenize: 100%|██████████| 1/1 [00:00<?, ?it/s]\n",
      "pre tokenize: 100%|██████████| 1/1 [00:00<?, ?it/s]\n",
      "pre tokenize: 100%|██████████| 1/1 [00:00<?, ?it/s]\n",
      "pre tokenize: 100%|██████████| 1/1 [00:00<?, ?it/s]\n",
      "pre tokenize: 100%|██████████| 1/1 [00:00<00:00, 1002.22it/s]\n",
      "pre tokenize: 100%|██████████| 1/1 [00:00<00:00, 1002.94it/s]\n",
      "pre tokenize: 100%|██████████| 1/1 [00:00<00:00, 1002.22it/s]\n",
      "pre tokenize: 100%|██████████| 1/1 [00:00<00:00, 1003.90it/s]\n"
     ]
    },
    {
     "name": "stdout",
     "output_type": "stream",
     "text": [
      "Skipping reply email: \n",
      " =?windows-1254?Q?Re:_Arda_Ayd=FDn_|_Sales_Operations_WINtern,_L'Or=E9al_L?=\n",
      " =?windows-1254?Q?uxe?=\n"
     ]
    },
    {
     "name": "stderr",
     "output_type": "stream",
     "text": [
      "pre tokenize: 100%|██████████| 1/1 [00:00<?, ?it/s]\n",
      "pre tokenize: 100%|██████████| 1/1 [00:00<00:00, 1001.74it/s]\n",
      "pre tokenize: 100%|██████████| 1/1 [00:00<00:00, 1003.18it/s]\n",
      "pre tokenize: 100%|██████████| 1/1 [00:00<?, ?it/s]\n",
      "pre tokenize: 100%|██████████| 1/1 [00:00<00:00, 1003.18it/s]\n",
      "pre tokenize: 100%|██████████| 1/1 [00:00<00:00, 1001.98it/s]\n"
     ]
    },
    {
     "name": "stdout",
     "output_type": "stream",
     "text": [
      "Skipping reply email: Re: IE311 Quiz\n",
      "Skipping reply email: Re: IE311 Quiz\n",
      "Skipping reply email: Fwd: IE311 Quiz\n"
     ]
    },
    {
     "name": "stderr",
     "output_type": "stream",
     "text": [
      "pre tokenize: 100%|██████████| 1/1 [00:00<00:00, 1002.94it/s]\n",
      "pre tokenize: 100%|██████████| 1/1 [00:00<00:00, 1001.98it/s]\n"
     ]
    },
    {
     "name": "stdout",
     "output_type": "stream",
     "text": [
      "Skipping reply email: =?UTF-8?B?UmU6IE9EQSBBUktBREHFnkkgSEss?=\n",
      "Skipping reply email: =?UTF-8?Q?ODA_ARKADA=c5=9eI_HK=2c?=\n",
      "Skipping reply email: RE: Case Study 2 Hk.\n"
     ]
    },
    {
     "name": "stderr",
     "output_type": "stream",
     "text": [
      "pre tokenize: 100%|██████████| 1/1 [00:00<00:00, 501.41it/s]\n",
      "pre tokenize: 100%|██████████| 1/1 [00:00<00:00, 1002.94it/s]\n"
     ]
    },
    {
     "name": "stdout",
     "output_type": "stream",
     "text": [
      "Skipping reply email: Re: IE 311\n",
      "Skipping reply email: Re: IE 311\n",
      "Skipping reply email: Re: IE 311\n"
     ]
    },
    {
     "name": "stderr",
     "output_type": "stream",
     "text": [
      "pre tokenize: 100%|██████████| 1/1 [00:00<00:00, 1002.22it/s]\n",
      "pre tokenize: 100%|██████████| 1/1 [00:00<?, ?it/s]\n",
      "pre tokenize: 100%|██████████| 1/1 [00:00<?, ?it/s]\n",
      "pre tokenize: 100%|██████████| 1/1 [00:00<?, ?it/s]\n",
      "pre tokenize: 100%|██████████| 1/1 [00:00<00:00, 1010.92it/s]\n",
      "pre tokenize: 100%|██████████| 1/1 [00:00<?, ?it/s]\n",
      "pre tokenize: 100%|██████████| 1/1 [00:00<00:00, 1003.18it/s]\n",
      "pre tokenize: 100%|██████████| 1/1 [00:00<00:00, 1002.46it/s]\n"
     ]
    },
    {
     "name": "stdout",
     "output_type": "stream",
     "text": [
      "Skipping reply email: Re:\n"
     ]
    },
    {
     "name": "stderr",
     "output_type": "stream",
     "text": [
      "pre tokenize: 100%|██████████| 1/1 [00:00<?, ?it/s]\n",
      "pre tokenize: 100%|██████████| 1/1 [00:00<?, ?it/s]\n",
      "pre tokenize: 100%|██████████| 1/1 [00:00<00:00, 500.99it/s]\n",
      "pre tokenize: 100%|██████████| 1/1 [00:00<00:00, 1003.18it/s]\n",
      "pre tokenize: 100%|██████████| 1/1 [00:00<?, ?it/s]\n",
      "pre tokenize: 100%|██████████| 1/1 [00:00<00:00, 1001.98it/s]\n"
     ]
    },
    {
     "name": "stdout",
     "output_type": "stream",
     "text": [
      "Skipping reply email: =?UTF-8?Q?Re=3a_Yemek_miktarlar=c4=b1_hakk=c4=b1nda?=\n"
     ]
    },
    {
     "name": "stderr",
     "output_type": "stream",
     "text": [
      "pre tokenize: 100%|██████████| 1/1 [00:00<?, ?it/s]\n",
      "pre tokenize: 100%|██████████| 1/1 [00:00<?, ?it/s]\n",
      "pre tokenize: 100%|██████████| 1/1 [00:00<?, ?it/s]\n",
      "pre tokenize: 100%|██████████| 1/1 [00:00<00:00, 1002.46it/s]\n"
     ]
    },
    {
     "name": "stdout",
     "output_type": "stream",
     "text": [
      "Skipping reply email: =?UTF-8?B?UmU6IEthaHZhbHTEsSBmaXlhdGxhcsSx?=\n",
      "Skipping reply email: =?UTF-8?B?UmU6IEthaHZhbHTEsSBmaXlhdGxhcsSx?=\n"
     ]
    },
    {
     "name": "stderr",
     "output_type": "stream",
     "text": [
      "pre tokenize: 100%|██████████| 1/1 [00:00<?, ?it/s]\n",
      "pre tokenize: 100%|██████████| 1/1 [00:00<00:00, 1002.46it/s]\n",
      "pre tokenize: 100%|██████████| 1/1 [00:00<00:00, 1002.46it/s]\n",
      "pre tokenize: 100%|██████████| 1/1 [00:00<00:00, 1007.76it/s]\n"
     ]
    },
    {
     "name": "stdout",
     "output_type": "stream",
     "text": [
      "Skipping reply email: =?UTF-8?B?UmU6IEFyZGEgQXlkxLFuIC0gQWthZGVtaWsgRGFuxLHFn2Fu?=\n",
      "Skipping reply email: =?UTF-8?B?UmU6IEFyZGEgQXlkxLFuIC0gQWthZGVtaWsgRGFuxLHFn2Fu?=\n"
     ]
    },
    {
     "name": "stderr",
     "output_type": "stream",
     "text": [
      "pre tokenize: 100%|██████████| 1/1 [00:00<00:00, 1003.42it/s]\n",
      "pre tokenize: 100%|██████████| 1/1 [00:00<00:00, 1003.66it/s]\n"
     ]
    },
    {
     "name": "stdout",
     "output_type": "stream",
     "text": [
      "Skipping reply email: =?UTF-8?Q?Re=3a_Depozito_=c4=b0adeleri_i=c3=a7in_IBAN_No_/_IBAN_num?=\n",
      " =?UTF-8?Q?ber_for_Deposit_Refunds?=\n",
      "Skipping reply email: =?UTF-8?Q?Re=3a_Depozito_=c4=b0adeleri_i=c3=a7in_IBAN_No_/_IBAN_num?=\n",
      " =?UTF-8?Q?ber_for_Deposit_Refunds?=\n",
      "Skipping reply email: =?UTF-8?Q?Re=3A_Depozito_=C4=B0adeleri_i=C3=A7in_IBAN_No_=2F_IBAN_number_f?=\n",
      "\t=?UTF-8?Q?or_Deposit_Refunds?=\n",
      "Skipping reply email: =?UTF-8?Q?Depozito_=c4=b0adeleri_i=c3=a7in_IBAN_No_/_IBAN_number_fo?=\n",
      " =?UTF-8?Q?r_Deposit_Refunds?=\n"
     ]
    },
    {
     "name": "stderr",
     "output_type": "stream",
     "text": [
      "pre tokenize: 100%|██████████| 1/1 [00:00<00:00, 1001.51it/s]\n",
      "pre tokenize: 100%|██████████| 1/1 [00:00<00:00, 1001.74it/s]\n"
     ]
    },
    {
     "name": "stdout",
     "output_type": "stream",
     "text": [
      "Skipping reply email: Re: WSP3 section K\n",
      "Skipping reply email: Re: WSP3 section K\n",
      "Skipping reply email: Re: WSP3 section K\n",
      "Skipping reply email: Re: WSP3 section K\n"
     ]
    },
    {
     "name": "stderr",
     "output_type": "stream",
     "text": [
      "pre tokenize: 100%|██████████| 1/1 [00:00<00:00, 1002.70it/s]\n",
      "pre tokenize: 100%|██████████| 1/1 [00:00<00:00, 1003.90it/s]\n"
     ]
    },
    {
     "name": "stdout",
     "output_type": "stream",
     "text": [
      "Skipping reply email: Re: Problem regarding scheduling Get Shit Done day\n",
      "Skipping reply email: Problem regarding scheduling Get Shit Done day\n"
     ]
    },
    {
     "name": "stderr",
     "output_type": "stream",
     "text": [
      "pre tokenize: 100%|██████████| 1/1 [00:00<00:00, 1001.98it/s]\n",
      "pre tokenize: 100%|██████████| 1/1 [00:00<?, ?it/s]\n"
     ]
    },
    {
     "name": "stdout",
     "output_type": "stream",
     "text": [
      "Skipping reply email: =?UTF-8?B?UmU6IEXEn2l0bWVuIG1haWwgdGFzbGHEn8Sx?=\n",
      "Skipping reply email: =?UTF-8?B?UmU6IEXEn2l0bWVuIG1haWwgdGFzbGHEn8Sx?=\n",
      "Skipping reply email: =?UTF-8?B?UmU6IEXEn2l0bWVuIG1haWwgdGFzbGHEn8Sx?=\n"
     ]
    },
    {
     "name": "stderr",
     "output_type": "stream",
     "text": [
      "pre tokenize: 100%|██████████| 1/1 [00:00<00:00, 501.29it/s]\n",
      "pre tokenize: 100%|██████████| 1/1 [00:00<00:00, 501.59it/s]\n",
      "pre tokenize: 100%|██████████| 1/1 [00:00<00:00, 1003.42it/s]\n",
      "pre tokenize: 100%|██████████| 1/1 [00:00<?, ?it/s]\n"
     ]
    },
    {
     "name": "stdout",
     "output_type": "stream",
     "text": [
      "Skipping reply email: Re: FIN499 Grup Odevi Hakkinda\n"
     ]
    },
    {
     "name": "stderr",
     "output_type": "stream",
     "text": [
      "pre tokenize: 100%|██████████| 1/1 [00:00<00:00, 1002.22it/s]\n",
      "pre tokenize: 100%|██████████| 1/1 [00:00<?, ?it/s]\n",
      "pre tokenize: 100%|██████████| 1/1 [00:00<00:00, 1040.51it/s]\n",
      "pre tokenize: 100%|██████████| 1/1 [00:00<?, ?it/s]\n"
     ]
    },
    {
     "name": "stdout",
     "output_type": "stream",
     "text": [
      "Skipping reply email: Re: PURE hk.\n",
      "Skipping reply email: Re: PURE hk.\n",
      "Skipping reply email: Re: PURE hk.\n",
      "Skipping reply email: Re: PURE hk.\n",
      "Skipping reply email: Re: PURE hk.\n",
      "Skipping reply email: Re: PURE hk.\n",
      "Skipping reply email: Re: PURE hk.\n",
      "Skipping reply email: Re: PURE hk.\n"
     ]
    },
    {
     "name": "stderr",
     "output_type": "stream",
     "text": [
      "pre tokenize: 100%|██████████| 1/1 [00:00<00:00, 1001.51it/s]\n",
      "pre tokenize: 100%|██████████| 1/1 [00:00<00:00, 1002.46it/s]\n"
     ]
    },
    {
     "name": "stdout",
     "output_type": "stream",
     "text": [
      "Skipping reply email: =?UTF-8?B?UmU6IEFDxLBMIELEsExHxLAuLi4=?=\n"
     ]
    },
    {
     "name": "stderr",
     "output_type": "stream",
     "text": [
      "pre tokenize: 100%|██████████| 1/1 [00:00<00:00, 1003.66it/s]\n",
      "pre tokenize: 100%|██████████| 1/1 [00:00<00:00, 1003.42it/s]\n"
     ]
    },
    {
     "name": "stdout",
     "output_type": "stream",
     "text": [
      "Skipping reply email: Re: \n"
     ]
    },
    {
     "name": "stderr",
     "output_type": "stream",
     "text": [
      "pre tokenize: 100%|██████████| 1/1 [00:00<?, ?it/s]\n",
      "pre tokenize: 100%|██████████| 1/1 [00:00<?, ?it/s]\n"
     ]
    },
    {
     "name": "stdout",
     "output_type": "stream",
     "text": [
      "Skipping reply email: =?UTF-8?Q?Re=3A_Erasmus_dersleri_not_giri=C5=9Fi_hakk=C4=B1nda?=\n"
     ]
    },
    {
     "name": "stderr",
     "output_type": "stream",
     "text": [
      "pre tokenize: 100%|██████████| 1/1 [00:00<00:00, 501.35it/s]\n",
      "pre tokenize: 100%|██████████| 1/1 [00:00<00:00, 1003.66it/s]\n"
     ]
    },
    {
     "name": "stdout",
     "output_type": "stream",
     "text": [
      "Skipping reply email: Re: IE 311 - LA\n",
      "Skipping reply email: Re: IE 311 - LA\n",
      "Skipping reply email: Re: IE 311 - LA\n",
      "Skipping reply email: IE 311 - LA\n"
     ]
    },
    {
     "name": "stderr",
     "output_type": "stream",
     "text": [
      "pre tokenize: 100%|██████████| 1/1 [00:00<00:00, 894.69it/s]\n",
      "pre tokenize: 100%|██████████| 1/1 [00:00<00:00, 1001.74it/s]\n"
     ]
    },
    {
     "name": "stdout",
     "output_type": "stream",
     "text": [
      "Skipping reply email: =?UTF-8?Q?Re=3A_Arda_Ayd=C4=B1n_ek_belge?=\n",
      "Failed to parse date: Fri, 09 Feb 2024 02:45:52 -0800 (PST)\n"
     ]
    },
    {
     "name": "stderr",
     "output_type": "stream",
     "text": [
      "pre tokenize: 100%|██████████| 1/1 [00:00<00:00, 1002.46it/s]\n",
      "pre tokenize: 100%|██████████| 1/1 [00:00<?, ?it/s]\n"
     ]
    },
    {
     "name": "stdout",
     "output_type": "stream",
     "text": [
      "Skipping email 252 due to date parsing issues.\n",
      "\n"
     ]
    },
    {
     "name": "stderr",
     "output_type": "stream",
     "text": [
      "pre tokenize: 100%|██████████| 1/1 [00:00<00:00, 1002.22it/s]\n",
      "pre tokenize: 100%|██████████| 1/1 [00:00<?, ?it/s]\n",
      "pre tokenize: 100%|██████████| 1/1 [00:00<00:00, 1002.70it/s]\n",
      "pre tokenize: 100%|██████████| 1/1 [00:00<00:00, 1001.98it/s]\n",
      "pre tokenize: 100%|██████████| 1/1 [00:00<?, ?it/s]\n",
      "pre tokenize: 100%|██████████| 1/1 [00:00<00:00, 1000.07it/s]\n",
      "pre tokenize: 100%|██████████| 1/1 [00:00<?, ?it/s]\n",
      "pre tokenize: 100%|██████████| 1/1 [00:00<?, ?it/s]\n",
      "pre tokenize: 100%|██████████| 1/1 [00:00<00:00, 1003.18it/s]\n",
      "pre tokenize: 100%|██████████| 1/1 [00:00<?, ?it/s]\n"
     ]
    },
    {
     "name": "stdout",
     "output_type": "stream",
     "text": [
      "Skipping reply email: =?UTF-8?Q?Dogum=5Fguncuku=2Ecpp_hakk=C4=B1nda?=\n"
     ]
    },
    {
     "name": "stderr",
     "output_type": "stream",
     "text": [
      "pre tokenize: 100%|██████████| 1/1 [00:00<00:00, 1002.22it/s]\n",
      "pre tokenize: 100%|██████████| 1/1 [00:00<00:00, 1003.18it/s]\n"
     ]
    },
    {
     "name": "stdout",
     "output_type": "stream",
     "text": [
      "Skipping reply email: Re: IE 311 recitation production planning kodu\n"
     ]
    },
    {
     "name": "stderr",
     "output_type": "stream",
     "text": [
      "pre tokenize: 100%|██████████| 1/1 [00:00<00:00, 1002.22it/s]\n",
      "pre tokenize: 100%|██████████| 1/1 [00:00<?, ?it/s]\n",
      "pre tokenize: 100%|██████████| 1/1 [00:00<00:00, 1001.03it/s]\n",
      "pre tokenize: 100%|██████████| 1/1 [00:00<?, ?it/s]\n"
     ]
    },
    {
     "name": "stdout",
     "output_type": "stream",
     "text": [
      "Skipping reply email: Re: Math 203 final grades objection\n",
      "Skipping reply email: Re: Math 203 final grades objection\n",
      "Skipping reply email: Re: Math 203 final grades objection\n"
     ]
    },
    {
     "name": "stderr",
     "output_type": "stream",
     "text": [
      "pre tokenize: 100%|██████████| 1/1 [00:00<00:00, 1001.03it/s]\n",
      "pre tokenize: 100%|██████████| 1/1 [00:00<00:00, 1002.46it/s]\n",
      "pre tokenize: 100%|██████████| 1/1 [00:00<00:00, 501.05it/s]\n",
      "pre tokenize: 100%|██████████| 1/1 [00:00<00:00, 1002.70it/s]\n"
     ]
    },
    {
     "name": "stdout",
     "output_type": "stream",
     "text": [
      "Skipping reply email: Re: Your Application to P.I. Works\n"
     ]
    },
    {
     "name": "stderr",
     "output_type": "stream",
     "text": [
      "pre tokenize: 100%|██████████| 1/1 [00:00<00:00, 1002.94it/s]\n",
      "pre tokenize: 100%|██████████| 1/1 [00:00<00:00, 1002.22it/s]\n",
      "pre tokenize: 100%|██████████| 1/1 [00:00<00:00, 1003.18it/s]\n",
      "pre tokenize: 100%|██████████| 1/1 [00:00<00:00, 1002.46it/s]\n",
      "pre tokenize: 100%|██████████| 1/1 [00:00<00:00, 7244.05it/s]\n",
      "pre tokenize: 100%|██████████| 1/1 [00:00<00:00, 1002.22it/s]\n"
     ]
    },
    {
     "name": "stdout",
     "output_type": "stream",
     "text": [
      "Skipping reply email: =?UTF-8?B?UmU6IEfDtnLDvMWfbWUgdGFsZWJp?=\n"
     ]
    },
    {
     "name": "stderr",
     "output_type": "stream",
     "text": [
      "pre tokenize: 100%|██████████| 1/1 [00:00<?, ?it/s]\n",
      "pre tokenize: 100%|██████████| 1/1 [00:00<00:00, 1002.46it/s]\n"
     ]
    },
    {
     "name": "stdout",
     "output_type": "stream",
     "text": [
      "Skipping reply email: Re: Duyuru talebi\n",
      "Skipping reply email: Re: Duyuru talebi\n",
      "Skipping reply email: Re: Duyuru talebi\n"
     ]
    },
    {
     "name": "stderr",
     "output_type": "stream",
     "text": [
      "pre tokenize: 100%|██████████| 1/1 [00:00<00:00, 1001.74it/s]\n",
      "pre tokenize: 100%|██████████| 1/1 [00:00<?, ?it/s]\n",
      "pre tokenize: 100%|██████████| 1/1 [00:00<00:00, 1001.74it/s]\n",
      "pre tokenize: 100%|██████████| 1/1 [00:00<?, ?it/s]\n"
     ]
    },
    {
     "name": "stdout",
     "output_type": "stream",
     "text": [
      "Skipping reply email: Re: Writing task 1 feedback\n"
     ]
    },
    {
     "name": "stderr",
     "output_type": "stream",
     "text": [
      "pre tokenize: 100%|██████████| 1/1 [00:00<?, ?it/s]\n",
      "pre tokenize: 100%|██████████| 1/1 [00:00<00:00, 1002.46it/s]\n",
      "pre tokenize: 100%|██████████| 1/1 [00:00<?, ?it/s]\n",
      "pre tokenize: 100%|██████████| 1/1 [00:00<00:00, 1002.22it/s]\n"
     ]
    },
    {
     "name": "stdout",
     "output_type": "stream",
     "text": [
      "Skipping reply email: Re: Recit 6 Q1\n",
      "Skipping reply email: Recit 6 Q1\n",
      "Skipping reply email: Re: data\n",
      "Skipping reply email: Re: data\n",
      "Skipping reply email: data\n"
     ]
    },
    {
     "name": "stderr",
     "output_type": "stream",
     "text": [
      "pre tokenize: 100%|██████████| 1/1 [00:00<00:00, 1002.22it/s]\n",
      "pre tokenize: 100%|██████████| 1/1 [00:00<?, ?it/s]\n"
     ]
    },
    {
     "name": "stdout",
     "output_type": "stream",
     "text": [
      "Skipping reply email: =?UTF-8?Q?Re=3A_Yurt_Ba=C5=9Fvurusu_Hakk=2E?=\n"
     ]
    },
    {
     "name": "stderr",
     "output_type": "stream",
     "text": [
      "pre tokenize: 100%|██████████| 1/1 [00:00<00:00, 1003.66it/s]\n",
      "pre tokenize: 100%|██████████| 1/1 [00:00<00:00, 1002.94it/s]\n",
      "pre tokenize: 100%|██████████| 1/1 [00:00<?, ?it/s]\n",
      "pre tokenize: 100%|██████████| 1/1 [00:00<?, ?it/s]\n",
      "pre tokenize: 100%|██████████| 1/1 [00:00<?, ?it/s]\n",
      "pre tokenize: 100%|██████████| 1/1 [00:00<?, ?it/s]\n"
     ]
    },
    {
     "name": "stdout",
     "output_type": "stream",
     "text": [
      "Skipping reply email: =?UTF-8?Q?Re=3a_Antijen_Testi_=c3=96rnek_Al=c4=b1m=c4=b1-15_Ekim/An?=\n",
      " =?UTF-8?Q?tigen_Test_Sample_Collection-15_October?=\n",
      "Skipping reply email: =?UTF-8?Q?Re=3A_Antijen_Testi_=C3=96rnek_Al=C4=B1m=C4=B1=2D15_Ekim=2FAntigen_Tes?=\n",
      "\t=?UTF-8?Q?t_Sample_Collection=2D15_October?=\n"
     ]
    },
    {
     "name": "stderr",
     "output_type": "stream",
     "text": [
      "pre tokenize: 100%|██████████| 1/1 [00:00<00:00, 250.65it/s]\n",
      "pre tokenize: 100%|██████████| 1/1 [00:00<00:00, 501.29it/s]\n"
     ]
    },
    {
     "name": "stdout",
     "output_type": "stream",
     "text": [
      "Skipping reply email: Re: bunq | your Get Shit Done day\n"
     ]
    },
    {
     "name": "stderr",
     "output_type": "stream",
     "text": [
      "pre tokenize: 100%|██████████| 1/1 [00:00<00:00, 1002.22it/s]\n",
      "pre tokenize: 100%|██████████| 1/1 [00:00<00:00, 1002.70it/s]\n",
      "pre tokenize: 100%|██████████| 1/1 [00:00<00:00, 1002.70it/s]\n",
      "pre tokenize: 100%|██████████| 1/1 [00:00<00:00, 1003.18it/s]\n",
      "pre tokenize: 100%|██████████| 1/1 [00:00<?, ?it/s]\n",
      "pre tokenize: 100%|██████████| 1/1 [00:00<?, ?it/s]\n"
     ]
    },
    {
     "name": "stdout",
     "output_type": "stream",
     "text": [
      "Skipping reply email: RE: ticket with ID: SU0-AAAS-3206\n"
     ]
    },
    {
     "name": "stderr",
     "output_type": "stream",
     "text": [
      "pre tokenize: 100%|██████████| 1/1 [00:00<00:00, 1001.74it/s]\n",
      "pre tokenize: 100%|██████████| 1/1 [00:00<00:00, 1003.18it/s]\n"
     ]
    },
    {
     "name": "stdout",
     "output_type": "stream",
     "text": [
      "Skipping reply email: Re: W&S Writing task 2 feedback\n"
     ]
    },
    {
     "name": "stderr",
     "output_type": "stream",
     "text": [
      "pre tokenize: 100%|██████████| 1/1 [00:00<00:00, 501.35it/s]\n",
      "pre tokenize: 100%|██████████| 1/1 [00:00<00:00, 1006.79it/s]\n",
      "pre tokenize: 100%|██████████| 1/1 [00:00<00:00, 501.59it/s]\n",
      "pre tokenize: 100%|██████████| 1/1 [00:00<?, ?it/s]\n",
      "pre tokenize: 100%|██████████| 1/1 [00:00<?, ?it/s]\n",
      "pre tokenize: 100%|██████████| 1/1 [00:00<?, ?it/s]\n"
     ]
    },
    {
     "name": "stdout",
     "output_type": "stream",
     "text": [
      "Skipping reply email: Re: Adobe Scan 09 Eki 2023.pdf\n"
     ]
    },
    {
     "name": "stderr",
     "output_type": "stream",
     "text": [
      "pre tokenize: 100%|██████████| 1/1 [00:00<00:00, 1001.98it/s]\n",
      "pre tokenize: 100%|██████████| 1/1 [00:00<?, ?it/s]\n"
     ]
    },
    {
     "name": "stdout",
     "output_type": "stream",
     "text": [
      "Skipping reply email: Re: IE 311 Syllabus\n",
      "Skipping reply email: Re: IE 311 Syllabus\n",
      "Skipping reply email: Re: IE 311 Syllabus\n",
      "Skipping reply email: Re: IE 311 Syllabus\n",
      "Skipping reply email: Re: IE 311 Syllabus\n",
      "Skipping reply email: Re: IE 311 Syllabus\n",
      "Skipping reply email: Re: IE 311 Syllabus\n",
      "Skipping reply email: Re: IE 311 Syllabus\n",
      "Skipping reply email: Re: IE 311 Syllabus\n",
      "Skipping reply email: Re: IE 311 Syllabus\n",
      "Skipping reply email: Re: IE 311 Syllabus\n",
      "Skipping reply email: Re: IE 311 Syllabus\n",
      "Skipping reply email: Re: IE 311 Syllabus\n",
      "Skipping reply email: Re: IE 311 Syllabus\n"
     ]
    },
    {
     "name": "stderr",
     "output_type": "stream",
     "text": [
      "pre tokenize: 100%|██████████| 1/1 [00:00<00:00, 1002.70it/s]\n",
      "pre tokenize: 100%|██████████| 1/1 [00:00<?, ?it/s]\n",
      "pre tokenize: 100%|██████████| 1/1 [00:00<?, ?it/s]\n",
      "pre tokenize: 100%|██████████| 1/1 [00:00<00:00, 1004.62it/s]\n"
     ]
    },
    {
     "name": "stdout",
     "output_type": "stream",
     "text": [
      "Skipping reply email: =?UTF-8?Q?Re=3a_Yemekhanede_yemek_bitmesi_hakk=c4=b1nda?=\n"
     ]
    },
    {
     "name": "stderr",
     "output_type": "stream",
     "text": [
      "pre tokenize: 100%|██████████| 1/1 [00:00<00:00, 501.59it/s]\n",
      "pre tokenize: 100%|██████████| 1/1 [00:00<00:00, 1001.27it/s]\n",
      "pre tokenize: 100%|██████████| 1/1 [00:00<?, ?it/s]\n",
      "pre tokenize: 100%|██████████| 1/1 [00:00<?, ?it/s]\n",
      "pre tokenize: 100%|██████████| 1/1 [00:00<?, ?it/s]\n",
      "pre tokenize: 100%|██████████| 1/1 [00:00<00:00, 1002.46it/s]\n"
     ]
    },
    {
     "name": "stdout",
     "output_type": "stream",
     "text": [
      "Skipping reply email: =?UTF-8?Q?Re=3A_Burs_hakk=C4=B1nda_bilgi?=\n"
     ]
    },
    {
     "name": "stderr",
     "output_type": "stream",
     "text": [
      "pre tokenize: 100%|██████████| 1/1 [00:00<00:00, 1002.46it/s]\n",
      "pre tokenize: 100%|██████████| 1/1 [00:00<00:00, 1002.70it/s]\n",
      "pre tokenize: 100%|██████████| 1/1 [00:00<00:00, 1002.70it/s]\n",
      "pre tokenize: 100%|██████████| 1/1 [00:00<00:00, 1002.22it/s]\n"
     ]
    },
    {
     "name": "stdout",
     "output_type": "stream",
     "text": [
      "Skipping reply email: Re: IE 395 raporu (revizyon)\n",
      "Skipping reply email: Re: IE 395 raporu (revizyon)\n"
     ]
    },
    {
     "name": "stderr",
     "output_type": "stream",
     "text": [
      "pre tokenize: 100%|██████████| 1/1 [00:00<00:00, 501.59it/s]\n",
      "pre tokenize: 100%|██████████| 1/1 [00:00<00:00, 1002.70it/s]\n",
      "pre tokenize: 100%|██████████| 1/1 [00:00<?, ?it/s]\n",
      "pre tokenize: 100%|██████████| 1/1 [00:00<00:00, 1001.98it/s]\n"
     ]
    },
    {
     "name": "stdout",
     "output_type": "stream",
     "text": [
      "Skipping reply email: Re: Proj 201\n",
      "Skipping reply email: Re: Proj 201\n",
      "Skipping reply email: Re: Proj 201\n",
      "Skipping reply email: Re: Proj 201\n"
     ]
    },
    {
     "name": "stderr",
     "output_type": "stream",
     "text": [
      "pre tokenize: 100%|██████████| 1/1 [00:00<00:00, 1000.79it/s]\n",
      "pre tokenize: 100%|██████████| 1/1 [00:00<00:00, 1001.74it/s]\n",
      "pre tokenize: 100%|██████████| 1/1 [00:00<?, ?it/s]\n",
      "pre tokenize: 100%|██████████| 1/1 [00:00<?, ?it/s]\n",
      "pre tokenize: 100%|██████████| 1/1 [00:00<?, ?it/s]\n",
      "pre tokenize: 100%|██████████| 1/1 [00:00<00:00, 1002.70it/s]\n",
      "pre tokenize: 100%|██████████| 1/1 [00:00<00:00, 1002.22it/s]\n",
      "pre tokenize: 100%|██████████| 1/1 [00:00<00:00, 1001.98it/s]\n",
      "pre tokenize: 100%|██████████| 1/1 [00:00<?, ?it/s]\n",
      "pre tokenize: 100%|██████████| 1/1 [00:00<?, ?it/s]\n",
      "pre tokenize: 100%|██████████| 1/1 [00:00<00:00, 1017.54it/s]\n",
      "pre tokenize: 100%|██████████| 1/1 [00:00<00:00, 1002.22it/s]\n",
      "pre tokenize: 100%|██████████| 1/1 [00:00<00:00, 1001.98it/s]\n",
      "pre tokenize: 100%|██████████| 1/1 [00:00<?, ?it/s]\n"
     ]
    },
    {
     "name": "stdout",
     "output_type": "stream",
     "text": [
      "Skipping reply email: =?UTF-8?Q?Re=3A_=5B202201PROJ201=2DDoruk_G=C3=BCnayd=C4=B1n=27_s_Projects=5D_Pro?=\n",
      "\t=?UTF-8?Q?j_201_First_Meeting?=\n"
     ]
    },
    {
     "name": "stderr",
     "output_type": "stream",
     "text": [
      "pre tokenize: 100%|██████████| 1/1 [00:00<?, ?it/s]\n",
      "pre tokenize: 100%|██████████| 1/1 [00:00<00:00, 1002.22it/s]\n",
      "pre tokenize: 100%|██████████| 1/1 [00:00<?, ?it/s]\n",
      "pre tokenize: 100%|██████████| 1/1 [00:00<00:00, 1002.22it/s]\n",
      "pre tokenize: 100%|██████████| 1/1 [00:00<?, ?it/s]\n",
      "pre tokenize: 100%|██████████| 1/1 [00:00<00:00, 1002.70it/s]\n"
     ]
    },
    {
     "name": "stdout",
     "output_type": "stream",
     "text": [
      "Skipping reply email: Re: Tutorial for EP\n",
      "Skipping reply email: Re: Tutorial for EP\n",
      "Skipping reply email: Re: Tutorial for EP\n",
      "Skipping reply email: Re: Tutorial for EP\n"
     ]
    },
    {
     "name": "stderr",
     "output_type": "stream",
     "text": [
      "pre tokenize: 100%|██████████| 1/1 [00:00<?, ?it/s]\n",
      "pre tokenize: 100%|██████████| 1/1 [00:00<?, ?it/s]\n",
      "pre tokenize: 100%|██████████| 1/1 [00:00<?, ?it/s]\n",
      "pre tokenize: 100%|██████████| 1/1 [00:00<?, ?it/s]\n"
     ]
    },
    {
     "name": "stdout",
     "output_type": "stream",
     "text": [
      "Skipping reply email: =?UTF-8?B?UmU6IDIuIHlhesSxIMO2ZGV2aSBpbGUgaWxnaWxp?=\n"
     ]
    },
    {
     "name": "stderr",
     "output_type": "stream",
     "text": [
      "pre tokenize: 100%|██████████| 1/1 [00:00<00:00, 1003.18it/s]\n",
      "pre tokenize: 100%|██████████| 1/1 [00:00<00:00, 1002.46it/s]\n",
      "pre tokenize: 100%|██████████| 1/1 [00:00<00:00, 1001.51it/s]\n",
      "pre tokenize: 100%|██████████| 1/1 [00:00<?, ?it/s]\n"
     ]
    },
    {
     "name": "stdout",
     "output_type": "stream",
     "text": [
      "Skipping reply email: =?UTF-8?Q?Re=3A_Soru_Excel=27i_ile_alakal=C4=B1?=\n"
     ]
    },
    {
     "name": "stderr",
     "output_type": "stream",
     "text": [
      "pre tokenize: 100%|██████████| 1/1 [00:00<00:00, 1001.98it/s]\n",
      "pre tokenize: 100%|██████████| 1/1 [00:00<00:00, 1001.74it/s]\n",
      "pre tokenize: 100%|██████████| 1/1 [00:00<00:00, 1002.46it/s]\n",
      "pre tokenize: 100%|██████████| 1/1 [00:00<00:00, 1001.98it/s]\n"
     ]
    },
    {
     "name": "stdout",
     "output_type": "stream",
     "text": [
      "Skipping reply email: Re: Solution Challenge Duyuru\n"
     ]
    },
    {
     "name": "stderr",
     "output_type": "stream",
     "text": [
      "pre tokenize: 100%|██████████| 1/1 [00:00<00:00, 334.31it/s]\n",
      "pre tokenize: 100%|██████████| 1/1 [00:00<00:00, 1003.42it/s]\n"
     ]
    },
    {
     "name": "stdout",
     "output_type": "stream",
     "text": [
      "Skipping reply email: Re: Gamified Assessment\n"
     ]
    },
    {
     "name": "stderr",
     "output_type": "stream",
     "text": [
      "pre tokenize: 100%|██████████| 1/1 [00:00<00:00, 501.17it/s]\n",
      "pre tokenize: 100%|██████████| 1/1 [00:00<?, ?it/s]\n",
      "pre tokenize: 100%|██████████| 1/1 [00:00<?, ?it/s]\n",
      "pre tokenize: 100%|██████████| 1/1 [00:00<?, ?it/s]\n"
     ]
    },
    {
     "name": "stdout",
     "output_type": "stream",
     "text": [
      "Skipping reply email: =?UTF-8?Q?Fwd=3A_Deutsche_Bank_Quantitative_Internship_Programme?=\n",
      "\t=?UTF-8?Q?_=E2=80=93_Technical_Test?=\n",
      "Failed to parse date: Tue, 05 Dec 2023 17:40:35 +0000 (UTC)\n"
     ]
    },
    {
     "name": "stderr",
     "output_type": "stream",
     "text": [
      "pre tokenize: 100%|██████████| 1/1 [00:00<00:00, 1002.70it/s]\n",
      "pre tokenize: 100%|██████████| 1/1 [00:00<?, ?it/s]\n"
     ]
    },
    {
     "name": "stdout",
     "output_type": "stream",
     "text": [
      "Skipping email 367 due to date parsing issues.\n",
      "\n"
     ]
    },
    {
     "name": "stderr",
     "output_type": "stream",
     "text": [
      "pre tokenize: 100%|██████████| 1/1 [00:00<00:00, 1002.46it/s]\n",
      "pre tokenize: 100%|██████████| 1/1 [00:00<00:00, 1002.70it/s]\n",
      "pre tokenize: 100%|██████████| 1/1 [00:00<?, ?it/s]\n",
      "pre tokenize: 100%|██████████| 1/1 [00:00<00:00, 1002.22it/s]\n",
      "pre tokenize: 100%|██████████| 1/1 [00:00<?, ?it/s]\n",
      "pre tokenize: 100%|██████████| 1/1 [00:00<?, ?it/s]\n",
      "pre tokenize: 100%|██████████| 1/1 [00:00<?, ?it/s]\n",
      "pre tokenize: 100%|██████████| 1/1 [00:00<00:00, 1001.74it/s]\n"
     ]
    },
    {
     "name": "stdout",
     "output_type": "stream",
     "text": [
      "Skipping reply email: Re: About the question you asked\n"
     ]
    },
    {
     "name": "stderr",
     "output_type": "stream",
     "text": [
      "pre tokenize: 100%|██████████| 1/1 [00:00<00:00, 1001.74it/s]\n",
      "pre tokenize: 100%|██████████| 1/1 [00:00<?, ?it/s]\n",
      "pre tokenize: 100%|██████████| 1/1 [00:00<?, ?it/s]\n",
      "pre tokenize: 100%|██████████| 1/1 [00:00<?, ?it/s]\n"
     ]
    },
    {
     "name": "stdout",
     "output_type": "stream",
     "text": [
      "Skipping reply email: =?UTF-8?Q?Re=3A_Yan_dal_ba=C5=9Fvuru_durumu?=\n",
      "Skipping reply email: =?UTF-8?Q?Re=3A_Yan_dal_ba=C5=9Fvuru_durumu?=\n"
     ]
    },
    {
     "name": "stderr",
     "output_type": "stream",
     "text": [
      "pre tokenize: 100%|██████████| 1/1 [00:00<00:00, 1002.22it/s]\n",
      "pre tokenize: 100%|██████████| 1/1 [00:00<00:00, 1002.94it/s]\n",
      "pre tokenize: 100%|██████████| 1/1 [00:00<00:00, 501.29it/s]\n",
      "pre tokenize: 100%|██████████| 1/1 [00:00<00:00, 1002.70it/s]\n"
     ]
    },
    {
     "name": "stdout",
     "output_type": "stream",
     "text": [
      "Skipping reply email: =?UTF-8?Q?Re=3A_=5BFirebase=5D_Eyl=C3=BCl_=C3=96yk=C3=BC_=C5=9Een_=28Student=29_added_yo?=\n",
      "\t=?UTF-8?Q?u_as_a_collaborator_on_the_project_=27cs306=27?=\n"
     ]
    },
    {
     "name": "stderr",
     "output_type": "stream",
     "text": [
      "pre tokenize: 100%|██████████| 1/1 [00:00<00:00, 1003.18it/s]\n",
      "pre tokenize: 100%|██████████| 1/1 [00:00<00:00, 973.16it/s]\n",
      "pre tokenize: 100%|██████████| 1/1 [00:00<?, ?it/s]\n",
      "pre tokenize: 100%|██████████| 1/1 [00:00<?, ?it/s]\n"
     ]
    },
    {
     "name": "stdout",
     "output_type": "stream",
     "text": [
      "Skipping reply email: =?UTF-8?Q?Re=3a_Ak=c5=9fam_yeme=c4=9finde_tabldotun_bitmesine_dair?=\n"
     ]
    },
    {
     "name": "stderr",
     "output_type": "stream",
     "text": [
      "pre tokenize: 100%|██████████| 1/1 [00:00<00:00, 1001.51it/s]\n",
      "pre tokenize: 100%|██████████| 1/1 [00:00<?, ?it/s]\n"
     ]
    },
    {
     "name": "stdout",
     "output_type": "stream",
     "text": [
      "Skipping reply email: =?UTF-8?Q?Sabanc=C4=B1_=C3=9Cniversitesi_GDSC_E=C4=9Fitim_Daveti?=\n"
     ]
    },
    {
     "name": "stderr",
     "output_type": "stream",
     "text": [
      "pre tokenize: 100%|██████████| 1/1 [00:00<00:00, 1002.94it/s]\n",
      "pre tokenize: 100%|██████████| 1/1 [00:00<00:00, 1002.46it/s]\n",
      "pre tokenize: 100%|██████████| 1/1 [00:00<00:00, 1002.46it/s]\n",
      "pre tokenize: 100%|██████████| 1/1 [00:00<00:00, 1001.98it/s]\n"
     ]
    },
    {
     "name": "stdout",
     "output_type": "stream",
     "text": [
      "Skipping reply email: =?UTF-8?B?UmU6IEJpdGlybWUgdG9wbGFudMSxc8Sx?=\n"
     ]
    },
    {
     "name": "stderr",
     "output_type": "stream",
     "text": [
      "pre tokenize: 100%|██████████| 1/1 [00:00<00:00, 1002.70it/s]\n",
      "pre tokenize: 100%|██████████| 1/1 [00:00<00:00, 1003.18it/s]\n",
      "pre tokenize: 100%|██████████| 1/1 [00:00<?, ?it/s]\n",
      "pre tokenize: 100%|██████████| 1/1 [00:00<?, ?it/s]\n"
     ]
    },
    {
     "name": "stdout",
     "output_type": "stream",
     "text": [
      "Skipping reply email: Re: Next Steps in Your Application for the Global Markets Internship\n",
      " Programme (London) 2025 role!\n",
      "Skipping reply email: Re: Next Steps in Your Application for the Global Markets Internship\n",
      " Programme (London) 2025 role!\n",
      "Skipping reply email: Next Steps in Your Application for the Global Markets Internship\n",
      " Programme (London) 2025 role!\n"
     ]
    },
    {
     "name": "stderr",
     "output_type": "stream",
     "text": [
      "pre tokenize: 100%|██████████| 1/1 [00:00<?, ?it/s]\n",
      "pre tokenize: 100%|██████████| 1/1 [00:00<?, ?it/s]\n",
      "pre tokenize: 100%|██████████| 1/1 [00:00<00:00, 1002.22it/s]\n",
      "pre tokenize: 100%|██████████| 1/1 [00:00<?, ?it/s]\n",
      "pre tokenize: 100%|██████████| 1/1 [00:00<00:00, 1002.70it/s]\n",
      "pre tokenize: 100%|██████████| 1/1 [00:00<00:00, 1002.46it/s]\n",
      "pre tokenize: 100%|██████████| 1/1 [00:00<00:00, 1002.70it/s]\n",
      "pre tokenize: 100%|██████████| 1/1 [00:00<?, ?it/s]\n",
      "pre tokenize: 100%|██████████| 1/1 [00:00<?, ?it/s]\n",
      "pre tokenize: 100%|██████████| 1/1 [00:00<?, ?it/s]\n",
      "pre tokenize: 100%|██████████| 1/1 [00:00<00:00, 1002.46it/s]\n",
      "pre tokenize: 100%|██████████| 1/1 [00:00<00:00, 1001.74it/s]\n"
     ]
    },
    {
     "name": "stdout",
     "output_type": "stream",
     "text": [
      "Skipping reply email: =?UTF-8?Q?Re=3A_Proje_hakk=C4=B1nda?=\n"
     ]
    },
    {
     "name": "stderr",
     "output_type": "stream",
     "text": [
      "pre tokenize: 100%|██████████| 1/1 [00:00<00:00, 501.35it/s]\n",
      "pre tokenize: 100%|██████████| 1/1 [00:00<00:00, 1002.70it/s]\n"
     ]
    },
    {
     "name": "stdout",
     "output_type": "stream",
     "text": [
      "Skipping reply email: =?UTF-8?B?UmU6IEhpYmUgc8O2emxlxZ9tZXNp?=\n",
      "Skipping reply email: =?UTF-8?B?UmU6IEhpYmUgc8O2emxlxZ9tZXNp?=\n"
     ]
    },
    {
     "name": "stderr",
     "output_type": "stream",
     "text": [
      "pre tokenize: 100%|██████████| 1/1 [00:00<00:00, 972.71it/s]\n",
      "pre tokenize: 100%|██████████| 1/1 [00:00<?, ?it/s]\n"
     ]
    },
    {
     "name": "stdout",
     "output_type": "stream",
     "text": [
      "Skipping reply email: Re: Final objection\n"
     ]
    },
    {
     "name": "stderr",
     "output_type": "stream",
     "text": [
      "pre tokenize: 100%|██████████| 1/1 [00:00<?, ?it/s]\n",
      "pre tokenize: 100%|██████████| 1/1 [00:00<00:00, 1001.27it/s]\n"
     ]
    },
    {
     "name": "stdout",
     "output_type": "stream",
     "text": [
      "Skipping reply email: =?UTF-8?Q?Re=3a_Erasmus_ba=c5=9fvurusu_hakk=c4=b1nda?=\n"
     ]
    },
    {
     "name": "stderr",
     "output_type": "stream",
     "text": [
      "pre tokenize: 100%|██████████| 1/1 [00:00<00:00, 501.65it/s]\n",
      "pre tokenize: 100%|██████████| 1/1 [00:00<00:00, 1002.22it/s]\n"
     ]
    },
    {
     "name": "stdout",
     "output_type": "stream",
     "text": [
      "Skipping reply email: Re: ECON 202 Grubu\n"
     ]
    },
    {
     "name": "stderr",
     "output_type": "stream",
     "text": [
      "pre tokenize: 100%|██████████| 1/1 [00:00<00:00, 1001.98it/s]\n",
      "pre tokenize: 100%|██████████| 1/1 [00:00<?, ?it/s]\n",
      "pre tokenize: 100%|██████████| 1/1 [00:00<?, ?it/s]\n",
      "pre tokenize: 100%|██████████| 1/1 [00:00<?, ?it/s]\n",
      "pre tokenize: 100%|██████████| 1/1 [00:00<00:00, 1002.46it/s]\n",
      "pre tokenize: 100%|██████████| 1/1 [00:00<?, ?it/s]\n"
     ]
    },
    {
     "name": "stdout",
     "output_type": "stream",
     "text": [
      "Skipping reply email: =?UTF-8?B?UmU6IEJpdGlybWUgdG9wbGFudMSxc8Sx?=\n"
     ]
    },
    {
     "name": "stderr",
     "output_type": "stream",
     "text": [
      "pre tokenize: 100%|██████████| 1/1 [00:00<?, ?it/s]\n",
      "pre tokenize: 100%|██████████| 1/1 [00:00<00:00, 1002.94it/s]\n",
      "pre tokenize: 100%|██████████| 1/1 [00:00<?, ?it/s]\n",
      "pre tokenize: 100%|██████████| 1/1 [00:00<?, ?it/s]\n",
      "pre tokenize: 100%|██████████| 1/1 [00:00<?, ?it/s]\n",
      "pre tokenize: 100%|██████████| 1/1 [00:00<?, ?it/s]\n",
      "pre tokenize: 100%|██████████| 1/1 [00:00<?, ?it/s]\n",
      "pre tokenize: 100%|██████████| 1/1 [00:00<?, ?it/s]\n",
      "pre tokenize: 100%|██████████| 1/1 [00:00<?, ?it/s]\n",
      "pre tokenize: 100%|██████████| 1/1 [00:00<?, ?it/s]\n"
     ]
    },
    {
     "name": "stdout",
     "output_type": "stream",
     "text": [
      "Skipping reply email: Re:\n"
     ]
    },
    {
     "name": "stderr",
     "output_type": "stream",
     "text": [
      "pre tokenize: 100%|██████████| 1/1 [00:00<?, ?it/s]\n",
      "pre tokenize: 100%|██████████| 1/1 [00:00<00:00, 1002.22it/s]\n",
      "pre tokenize: 100%|██████████| 1/1 [00:00<?, ?it/s]\n",
      "pre tokenize: 100%|██████████| 1/1 [00:00<00:00, 1001.98it/s]\n"
     ]
    },
    {
     "name": "stdout",
     "output_type": "stream",
     "text": [
      "Skipping reply email: =?UTF-8?Q?Re=3A_GSD_day_hakk=C4=B1nda=2E?=\n",
      "Skipping reply email: =?UTF-8?Q?Re=3A_GSD_day_hakk=C4=B1nda=2E?=\n",
      "Skipping reply email: =?UTF-8?Q?Re=3A_GSD_day_hakk=C4=B1nda=2E?=\n",
      "Skipping reply email: =?UTF-8?Q?Re=3A_GSD_day_hakk=C4=B1nda=2E?=\n"
     ]
    },
    {
     "name": "stderr",
     "output_type": "stream",
     "text": [
      "pre tokenize: 100%|██████████| 1/1 [00:00<00:00, 1002.46it/s]\n",
      "pre tokenize: 100%|██████████| 1/1 [00:00<00:00, 1002.22it/s]\n",
      "pre tokenize: 100%|██████████| 1/1 [00:00<00:00, 1002.46it/s]\n",
      "pre tokenize: 100%|██████████| 1/1 [00:00<00:00, 1002.94it/s]\n",
      "pre tokenize: 100%|██████████| 1/1 [00:00<00:00, 1001.27it/s]\n",
      "pre tokenize: 100%|██████████| 1/1 [00:00<?, ?it/s]\n",
      "pre tokenize: 100%|██████████| 1/1 [00:00<00:00, 1001.74it/s]\n",
      "pre tokenize: 100%|██████████| 1/1 [00:00<?, ?it/s]\n",
      "pre tokenize: 100%|██████████| 1/1 [00:00<00:00, 200.53it/s]\n",
      "pre tokenize: 100%|██████████| 1/1 [00:00<00:00, 498.43it/s]\n",
      "pre tokenize: 100%|██████████| 1/1 [00:00<00:00, 1002.70it/s]\n",
      "pre tokenize: 100%|██████████| 1/1 [00:00<00:00, 1002.94it/s]\n",
      "pre tokenize: 100%|██████████| 1/1 [00:00<00:00, 1003.18it/s]\n",
      "pre tokenize: 100%|██████████| 1/1 [00:00<00:00, 1001.98it/s]\n"
     ]
    },
    {
     "name": "stdout",
     "output_type": "stream",
     "text": [
      "Skipping reply email: =?UTF-8?Q?Re=3A_=C3=B6nemli=5Flearning_agreement_belgen_hk?=\n"
     ]
    },
    {
     "name": "stderr",
     "output_type": "stream",
     "text": [
      "pre tokenize: 100%|██████████| 1/1 [00:00<00:00, 1001.74it/s]\n",
      "pre tokenize: 100%|██████████| 1/1 [00:00<00:00, 1005.35it/s]\n",
      "pre tokenize: 100%|██████████| 1/1 [00:00<00:00, 1003.18it/s]\n",
      "pre tokenize: 100%|██████████| 1/1 [00:00<?, ?it/s]\n",
      "pre tokenize: 100%|██████████| 1/1 [00:00<00:00, 1003.18it/s]\n",
      "pre tokenize: 100%|██████████| 1/1 [00:00<?, ?it/s]\n",
      "pre tokenize: 100%|██████████| 1/1 [00:00<00:00, 1002.70it/s]\n",
      "pre tokenize: 100%|██████████| 1/1 [00:00<00:00, 1002.22it/s]\n",
      "pre tokenize: 100%|██████████| 1/1 [00:00<00:00, 1000.79it/s]\n",
      "pre tokenize: 100%|██████████| 1/1 [00:00<00:00, 1002.70it/s]\n"
     ]
    },
    {
     "name": "stdout",
     "output_type": "stream",
     "text": [
      "Skipping reply email: AW: Rental Contract\n"
     ]
    },
    {
     "name": "stderr",
     "output_type": "stream",
     "text": [
      "pre tokenize: 100%|██████████| 1/1 [00:00<00:00, 1002.94it/s]\n",
      "pre tokenize: 100%|██████████| 1/1 [00:00<00:00, 1002.70it/s]\n",
      "pre tokenize: 100%|██████████| 1/1 [00:00<?, ?it/s]\n",
      "pre tokenize: 100%|██████████| 1/1 [00:00<?, ?it/s]\n",
      "pre tokenize: 100%|██████████| 1/1 [00:00<?, ?it/s]\n",
      "pre tokenize: 100%|██████████| 1/1 [00:00<00:00, 1002.22it/s]\n"
     ]
    },
    {
     "name": "stdout",
     "output_type": "stream",
     "text": [
      "Skipping reply email: Re: PURE Hakk.\n",
      "Skipping reply email: Re: PURE Hakk.\n",
      "Skipping reply email: Re: PURE Hakk.\n"
     ]
    },
    {
     "name": "stderr",
     "output_type": "stream",
     "text": [
      "pre tokenize: 100%|██████████| 1/1 [00:00<00:00, 492.75it/s]\n",
      "pre tokenize: 100%|██████████| 1/1 [00:00<00:00, 501.11it/s]\n"
     ]
    },
    {
     "name": "stdout",
     "output_type": "stream",
     "text": [
      "Skipping reply email: =?UTF-8?B?UmU6IExlZXh0IC0gU2FiYW5jxLEgR0RTQyBpxZ9iaXJsacSfaSBoYWtrxLFuZGE=?=\n"
     ]
    },
    {
     "name": "stderr",
     "output_type": "stream",
     "text": [
      "pre tokenize: 100%|██████████| 1/1 [00:00<00:00, 501.29it/s]\n",
      "pre tokenize: 100%|██████████| 1/1 [00:00<00:00, 1001.98it/s]\n",
      "pre tokenize: 100%|██████████| 1/1 [00:00<00:00, 1002.22it/s]\n",
      "pre tokenize: 100%|██████████| 1/1 [00:00<?, ?it/s]\n",
      "pre tokenize: 100%|██████████| 1/1 [00:00<00:00, 1004.62it/s]\n",
      "pre tokenize: 100%|██████████| 1/1 [00:00<?, ?it/s]\n"
     ]
    },
    {
     "name": "stdout",
     "output_type": "stream",
     "text": [
      "Skipping reply email: =?UTF-8?B?UmU6IFllbmkgdG9wbGFudMSxIGfDvG4tc2FhdGk=?=\n",
      "Skipping reply email: =?UTF-8?B?UmU6IFllbmkgdG9wbGFudMSxIGfDvG4tc2FhdGk=?=\n",
      "Skipping reply email: =?UTF-8?B?UmU6IFllbmkgdG9wbGFudMSxIGfDvG4tc2FhdGk=?=\n",
      "Skipping reply email: =?UTF-8?B?UmU6IFllbmkgdG9wbGFudMSxIGfDvG4tc2FhdGk=?=\n",
      "Skipping reply email: =?UTF-8?B?UmU6IFllbmkgdG9wbGFudMSxIGfDvG4tc2FhdGk=?=\n",
      "Skipping reply email: =?UTF-8?B?UmU6IFllbmkgdG9wbGFudMSxIGfDvG4tc2FhdGk=?=\n",
      "Skipping reply email: =?UTF-8?B?UmU6IFllbmkgdG9wbGFudMSxIGfDvG4tc2FhdGk=?=\n",
      "Skipping reply email: =?UTF-8?B?UmU6IFllbmkgdG9wbGFudMSxIGfDvG4tc2FhdGk=?=\n",
      "Skipping reply email: =?UTF-8?B?UmU6IFllbmkgdG9wbGFudMSxIGfDvG4tc2FhdGk=?=\n",
      "Skipping reply email: =?UTF-8?B?UmU6IFllbmkgdG9wbGFudMSxIGfDvG4tc2FhdGk=?=\n",
      "Skipping reply email: =?UTF-8?B?UmU6IFllbmkgdG9wbGFudMSxIGfDvG4tc2FhdGk=?=\n",
      "Skipping reply email: =?UTF-8?Q?Yeni_toplant=C4=B1_g=C3=BCn=2Dsaati?=\n"
     ]
    },
    {
     "name": "stderr",
     "output_type": "stream",
     "text": [
      "pre tokenize: 100%|██████████| 1/1 [00:00<00:00, 1003.18it/s]\n",
      "pre tokenize: 100%|██████████| 1/1 [00:00<?, ?it/s]\n",
      "pre tokenize: 100%|██████████| 1/1 [00:00<?, ?it/s]\n",
      "pre tokenize: 100%|██████████| 1/1 [00:00<00:00, 1001.03it/s]\n",
      "pre tokenize: 100%|██████████| 1/1 [00:00<?, ?it/s]\n",
      "pre tokenize: 100%|██████████| 1/1 [00:00<00:00, 1002.46it/s]\n",
      "pre tokenize: 100%|██████████| 1/1 [00:00<00:00, 1002.70it/s]\n",
      "pre tokenize: 100%|██████████| 1/1 [00:00<?, ?it/s]\n",
      "pre tokenize: 100%|██████████| 1/1 [00:00<00:00, 1001.98it/s]\n",
      "pre tokenize: 100%|██████████| 1/1 [00:00<00:00, 1001.51it/s]\n"
     ]
    },
    {
     "name": "stdout",
     "output_type": "stream",
     "text": [
      "Skipping reply email: =?UTF-8?Q?Re=3A_Learning_Agreement_ve_ders_se=C3=A7imi_hakk=C4=B1nd?=\n",
      " =?UTF-8?Q?a?=\n"
     ]
    },
    {
     "name": "stderr",
     "output_type": "stream",
     "text": [
      "pre tokenize: 100%|██████████| 1/1 [00:00<00:00, 333.01it/s]\n",
      "pre tokenize: 100%|██████████| 1/1 [00:00<00:00, 501.29it/s]\n"
     ]
    },
    {
     "name": "stdout",
     "output_type": "stream",
     "text": [
      "Skipping reply email: AW: Meldung 10 and money transfer for enrollment\n"
     ]
    },
    {
     "name": "stderr",
     "output_type": "stream",
     "text": [
      "pre tokenize: 100%|██████████| 1/1 [00:00<00:00, 1002.46it/s]\n",
      "pre tokenize: 100%|██████████| 1/1 [00:00<00:00, 1002.70it/s]\n"
     ]
    },
    {
     "name": "stdout",
     "output_type": "stream",
     "text": [
      "Skipping reply email: Re: about the exam\n",
      "Skipping reply email: Re: about the exam\n"
     ]
    },
    {
     "name": "stderr",
     "output_type": "stream",
     "text": [
      "pre tokenize: 100%|██████████| 1/1 [00:00<00:00, 1001.98it/s]\n",
      "pre tokenize: 100%|██████████| 1/1 [00:00<?, ?it/s]\n",
      "pre tokenize: 100%|██████████| 1/1 [00:00<?, ?it/s]\n",
      "pre tokenize: 100%|██████████| 1/1 [00:00<00:00, 1001.98it/s]\n",
      "pre tokenize: 100%|██████████| 1/1 [00:00<00:00, 999.36it/s]\n",
      "pre tokenize: 100%|██████████| 1/1 [00:00<?, ?it/s]\n"
     ]
    },
    {
     "name": "stdout",
     "output_type": "stream",
     "text": [
      "Skipping reply email: Fwd: Rental contract for your dorm room\n"
     ]
    },
    {
     "name": "stderr",
     "output_type": "stream",
     "text": [
      "pre tokenize: 100%|██████████| 1/1 [00:00<00:00, 1002.46it/s]\n",
      "pre tokenize: 100%|██████████| 1/1 [00:00<?, ?it/s]\n"
     ]
    },
    {
     "name": "stdout",
     "output_type": "stream",
     "text": [
      "Skipping reply email: Re: Accomadation in Passau\n",
      "Skipping reply email: AW: Accomadation in Passau\n",
      "Skipping reply email: AW: Accomadation in Passau\n",
      "Skipping reply email: Re: Accomadation in Passau\n",
      "Skipping reply email: Re: Accomadation in Passau\n",
      "Skipping reply email: Re: Accomadation in Passau\n"
     ]
    },
    {
     "name": "stderr",
     "output_type": "stream",
     "text": [
      "pre tokenize: 100%|██████████| 1/1 [00:00<00:00, 505.22it/s]\n",
      "pre tokenize: 100%|██████████| 1/1 [00:00<00:00, 1002.46it/s]\n",
      "pre tokenize: 100%|██████████| 1/1 [00:00<00:00, 1002.94it/s]\n",
      "pre tokenize: 100%|██████████| 1/1 [00:00<?, ?it/s]\n",
      "pre tokenize: 100%|██████████| 1/1 [00:00<00:00, 1002.46it/s]\n",
      "pre tokenize: 100%|██████████| 1/1 [00:00<00:00, 1002.46it/s]\n"
     ]
    },
    {
     "name": "stdout",
     "output_type": "stream",
     "text": [
      "Skipping reply email: =?iso-8859-9?Q?Ders_Kay=FDd=FD_Hk.?=\n"
     ]
    },
    {
     "name": "stderr",
     "output_type": "stream",
     "text": [
      "pre tokenize: 100%|██████████| 1/1 [00:00<00:00, 1002.22it/s]\n",
      "pre tokenize: 100%|██████████| 1/1 [00:00<00:00, 1002.46it/s]\n",
      "pre tokenize: 100%|██████████| 1/1 [00:00<00:00, 1002.22it/s]\n",
      "pre tokenize: 100%|██████████| 1/1 [00:00<00:00, 1002.46it/s]\n",
      "pre tokenize: 100%|██████████| 1/1 [00:00<00:00, 334.26it/s]\n",
      "pre tokenize: 100%|██████████| 1/1 [00:00<00:00, 493.74it/s]\n"
     ]
    },
    {
     "name": "stdout",
     "output_type": "stream",
     "text": [
      "Skipping reply email: Re: Tomorrow's Class for Section A is postponed\n"
     ]
    },
    {
     "name": "stderr",
     "output_type": "stream",
     "text": [
      "pre tokenize: 100%|██████████| 1/1 [00:00<00:00, 1003.42it/s]\n",
      "pre tokenize: 100%|██████████| 1/1 [00:00<00:00, 1002.70it/s]\n"
     ]
    },
    {
     "name": "stdout",
     "output_type": "stream",
     "text": [
      "Skipping reply email: Re: Akbank_Dekont\n"
     ]
    },
    {
     "name": "stderr",
     "output_type": "stream",
     "text": [
      "pre tokenize: 100%|██████████| 1/1 [00:00<?, ?it/s]\n",
      "pre tokenize: 100%|██████████| 1/1 [00:00<00:00, 1001.27it/s]\n",
      "pre tokenize: 100%|██████████| 1/1 [00:00<00:00, 1003.42it/s]\n",
      "pre tokenize: 100%|██████████| 1/1 [00:00<?, ?it/s]\n"
     ]
    },
    {
     "name": "stdout",
     "output_type": "stream",
     "text": [
      "Skipping reply email: =?UTF-8?B?UmU6IG9kYSBkZcSfacWfaW1p?=\n"
     ]
    },
    {
     "name": "stderr",
     "output_type": "stream",
     "text": [
      "pre tokenize: 100%|██████████| 1/1 [00:00<00:00, 1003.42it/s]\n",
      "pre tokenize: 100%|██████████| 1/1 [00:00<00:00, 1003.66it/s]\n",
      "pre tokenize: 100%|██████████| 1/1 [00:00<?, ?it/s]\n",
      "pre tokenize: 100%|██████████| 1/1 [00:00<?, ?it/s]\n"
     ]
    },
    {
     "name": "stdout",
     "output_type": "stream",
     "text": [
      "Skipping reply email: Re: IE 311 - LA listesi\n",
      "Skipping reply email: Re: IE 311 - LA listesi\n",
      "Skipping reply email: Re: IE 311 - LA listesi\n",
      "Skipping reply email: IE 311 - LA listesi\n"
     ]
    },
    {
     "name": "stderr",
     "output_type": "stream",
     "text": [
      "pre tokenize: 100%|██████████| 1/1 [00:00<?, ?it/s]\n",
      "pre tokenize: 100%|██████████| 1/1 [00:00<?, ?it/s]\n",
      "pre tokenize: 100%|██████████| 1/1 [00:00<00:00, 1013.12it/s]\n",
      "pre tokenize: 100%|██████████| 1/1 [00:00<?, ?it/s]\n",
      "pre tokenize: 100%|██████████| 1/1 [00:00<00:00, 1002.70it/s]\n",
      "pre tokenize: 100%|██████████| 1/1 [00:00<?, ?it/s]\n",
      "pre tokenize: 100%|██████████| 1/1 [00:00<?, ?it/s]\n",
      "pre tokenize: 100%|██████████| 1/1 [00:00<00:00, 1002.70it/s]\n",
      "pre tokenize: 100%|██████████| 1/1 [00:00<00:00, 334.23it/s]\n",
      "pre tokenize: 100%|██████████| 1/1 [00:00<00:00, 1001.98it/s]\n",
      "pre tokenize: 100%|██████████| 1/1 [00:00<?, ?it/s]\n",
      "pre tokenize: 100%|██████████| 1/1 [00:00<00:00, 1001.74it/s]\n",
      "pre tokenize: 100%|██████████| 1/1 [00:00<00:00, 1002.46it/s]\n",
      "pre tokenize: 100%|██████████| 1/1 [00:00<?, ?it/s]\n"
     ]
    },
    {
     "name": "stdout",
     "output_type": "stream",
     "text": [
      "Skipping reply email: =?UTF-8?B?UmU6IEHFn8SxIEthcnTEsQ==?=\n"
     ]
    },
    {
     "name": "stderr",
     "output_type": "stream",
     "text": [
      "pre tokenize: 100%|██████████| 1/1 [00:00<?, ?it/s]\n",
      "pre tokenize: 100%|██████████| 1/1 [00:00<?, ?it/s]\n",
      "pre tokenize: 100%|██████████| 1/1 [00:00<?, ?it/s]\n",
      "pre tokenize: 100%|██████████| 1/1 [00:00<?, ?it/s]\n"
     ]
    },
    {
     "name": "stdout",
     "output_type": "stream",
     "text": [
      "Skipping reply email: Re: \n"
     ]
    },
    {
     "name": "stderr",
     "output_type": "stream",
     "text": [
      "pre tokenize: 100%|██████████| 1/1 [00:00<?, ?it/s]\n",
      "pre tokenize: 100%|██████████| 1/1 [00:00<00:00, 1001.27it/s]\n"
     ]
    },
    {
     "name": "stdout",
     "output_type": "stream",
     "text": [
      "Skipping reply email: =?UTF-8?Q?Re=3A_Mezuniyet_Planlaman=C4=B1z_hk?=\n",
      "Skipping reply email: =?UTF-8?Q?Mezuniyet_Planlaman=C4=B1z_hk?=\n"
     ]
    },
    {
     "name": "stderr",
     "output_type": "stream",
     "text": [
      "pre tokenize: 100%|██████████| 1/1 [00:00<?, ?it/s]\n",
      "pre tokenize: 100%|██████████| 1/1 [00:00<00:00, 1002.70it/s]\n"
     ]
    },
    {
     "name": "stdout",
     "output_type": "stream",
     "text": [
      "Skipping reply email: Re: Hot off the griddle!\n",
      "Skipping reply email: Fwd: Hot off the griddle!\n",
      "Skipping reply email: Hot off the griddle!\n"
     ]
    },
    {
     "name": "stderr",
     "output_type": "stream",
     "text": [
      "pre tokenize: 100%|██████████| 1/1 [00:00<00:00, 1003.42it/s]\n",
      "pre tokenize: 100%|██████████| 1/1 [00:00<?, ?it/s]\n",
      "pre tokenize: 100%|██████████| 1/1 [00:00<?, ?it/s]\n",
      "pre tokenize: 100%|██████████| 1/1 [00:00<?, ?it/s]\n"
     ]
    },
    {
     "name": "stdout",
     "output_type": "stream",
     "text": [
      "Skipping reply email: =?UTF-8?Q?Re=3A_Master_Ba=C5=9Fvuruma_dair?=\n",
      "Skipping reply email: =?UTF-8?Q?Re=3A_Master_Ba=C5=9Fvuruma_dair?=\n",
      "Skipping reply email: =?UTF-8?Q?Re=3A_Master_Ba=C5=9Fvuruma_dair?=\n"
     ]
    },
    {
     "name": "stderr",
     "output_type": "stream",
     "text": [
      "pre tokenize: 100%|██████████| 1/1 [00:00<00:00, 1002.70it/s]\n",
      "pre tokenize: 100%|██████████| 1/1 [00:00<00:00, 1003.18it/s]\n",
      "pre tokenize: 100%|██████████| 1/1 [00:00<00:00, 1000.07it/s]\n",
      "pre tokenize: 100%|██████████| 1/1 [00:00<00:00, 1000.79it/s]\n",
      "pre tokenize: 100%|██████████| 1/1 [00:00<?, ?it/s]\n",
      "pre tokenize: 100%|██████████| 1/1 [00:00<00:00, 1001.98it/s]\n",
      "pre tokenize: 100%|██████████| 1/1 [00:00<?, ?it/s]\n",
      "pre tokenize: 100%|██████████| 1/1 [00:00<?, ?it/s]\n",
      "pre tokenize: 100%|██████████| 1/1 [00:00<00:00, 1003.18it/s]\n",
      "pre tokenize: 100%|██████████| 1/1 [00:00<?, ?it/s]\n",
      "pre tokenize: 100%|██████████| 1/1 [00:00<?, ?it/s]\n",
      "pre tokenize: 100%|██████████| 1/1 [00:00<00:00, 1002.46it/s]\n",
      "pre tokenize: 100%|██████████| 1/1 [00:00<00:00, 1001.98it/s]\n",
      "pre tokenize: 100%|██████████| 1/1 [00:00<00:00, 501.23it/s]\n"
     ]
    },
    {
     "name": "stdout",
     "output_type": "stream",
     "text": [
      "Skipping reply email: Re: Quiz 1 - Hata\n",
      "Skipping reply email: Re: Quiz 1 - Hata\n"
     ]
    },
    {
     "name": "stderr",
     "output_type": "stream",
     "text": [
      "pre tokenize: 100%|██████████| 1/1 [00:00<00:00, 1002.46it/s]\n",
      "pre tokenize: 100%|██████████| 1/1 [00:00<00:00, 1001.51it/s]\n"
     ]
    },
    {
     "name": "stdout",
     "output_type": "stream",
     "text": [
      "Skipping reply email: Re: Quiz 2\n",
      "Skipping reply email: Re: Quiz 2\n"
     ]
    },
    {
     "name": "stderr",
     "output_type": "stream",
     "text": [
      "pre tokenize: 100%|██████████| 1/1 [00:00<00:00, 1002.94it/s]\n",
      "pre tokenize: 100%|██████████| 1/1 [00:00<00:00, 1001.98it/s]\n"
     ]
    },
    {
     "name": "stdout",
     "output_type": "stream",
     "text": [
      "Skipping reply email: =?UTF-8?Q?Re=3A_HIST_191_2=2E_Grup_Final_S=C4=B1nav=C4=B1?=\n"
     ]
    },
    {
     "name": "stderr",
     "output_type": "stream",
     "text": [
      "pre tokenize: 100%|██████████| 1/1 [00:00<00:00, 501.35it/s]\n",
      "pre tokenize: 100%|██████████| 1/1 [00:00<00:00, 1002.70it/s]\n",
      "pre tokenize: 100%|██████████| 1/1 [00:00<?, ?it/s]\n",
      "pre tokenize: 100%|██████████| 1/1 [00:00<00:00, 1002.46it/s]\n",
      "pre tokenize: 100%|██████████| 1/1 [00:00<00:00, 1002.46it/s]\n",
      "pre tokenize: 100%|██████████| 1/1 [00:00<00:00, 1001.74it/s]\n",
      "pre tokenize: 100%|██████████| 1/1 [00:00<?, ?it/s]\n",
      "pre tokenize: 100%|██████████| 1/1 [00:00<00:00, 1003.18it/s]\n"
     ]
    },
    {
     "name": "stdout",
     "output_type": "stream",
     "text": [
      "Skipping reply email: Fwd: \n"
     ]
    },
    {
     "name": "stderr",
     "output_type": "stream",
     "text": [
      "pre tokenize: 100%|██████████| 1/1 [00:00<00:00, 1002.94it/s]\n",
      "pre tokenize: 100%|██████████| 1/1 [00:00<00:00, 1002.94it/s]\n"
     ]
    },
    {
     "name": "stdout",
     "output_type": "stream",
     "text": [
      "Skipping reply email: Re: PURE Spring Term Student List\n",
      "Skipping reply email: Re: PURE Spring Term Student List\n",
      "Skipping reply email: Re: PURE Spring Term Student List\n",
      "Skipping reply email: Re: PURE Spring Term Student List\n",
      "Skipping reply email: Re: PURE Spring Term Student List\n",
      "Skipping reply email: Re: PURE Spring Term Student List\n",
      "Skipping reply email: Re: PURE Spring Term Student List\n",
      "Skipping reply email: Fwd: PURE Spring Term Student List\n"
     ]
    },
    {
     "name": "stderr",
     "output_type": "stream",
     "text": [
      "pre tokenize: 100%|██████████| 1/1 [00:00<00:00, 1003.18it/s]\n",
      "pre tokenize: 100%|██████████| 1/1 [00:00<?, ?it/s]\n"
     ]
    },
    {
     "name": "stdout",
     "output_type": "stream",
     "text": [
      "Skipping reply email: Re: OA2 Stand-by student\n",
      "Skipping reply email: Re: OA2 Stand-by student\n",
      "Skipping reply email: OA2 Stand-by student\n"
     ]
    },
    {
     "name": "stderr",
     "output_type": "stream",
     "text": [
      "pre tokenize: 100%|██████████| 1/1 [00:00<?, ?it/s]\n",
      "pre tokenize: 100%|██████████| 1/1 [00:00<00:00, 1002.22it/s]\n"
     ]
    },
    {
     "name": "stdout",
     "output_type": "stream",
     "text": [
      "Skipping reply email: =?UTF-8?B?UmU6IFByb2plIGRhbsSxxZ9tYW5sxLFrIHRhbGViaSBoYWtrxLFuZGE=?=\n"
     ]
    },
    {
     "name": "stderr",
     "output_type": "stream",
     "text": [
      "pre tokenize: 100%|██████████| 1/1 [00:00<?, ?it/s]\n",
      "pre tokenize: 100%|██████████| 1/1 [00:00<00:00, 1001.74it/s]\n"
     ]
    },
    {
     "name": "stdout",
     "output_type": "stream",
     "text": [
      "Skipping reply email: Re: bunq | your Get Shit Done day assignment\n"
     ]
    },
    {
     "name": "stderr",
     "output_type": "stream",
     "text": [
      "pre tokenize: 100%|██████████| 1/1 [00:00<00:00, 1001.74it/s]\n",
      "pre tokenize: 100%|██████████| 1/1 [00:00<?, ?it/s]\n",
      "pre tokenize: 100%|██████████| 1/1 [00:00<00:00, 1004.14it/s]\n",
      "pre tokenize: 100%|██████████| 1/1 [00:00<?, ?it/s]\n",
      "pre tokenize: 100%|██████████| 1/1 [00:00<00:00, 1001.51it/s]\n",
      "pre tokenize: 100%|██████████| 1/1 [00:00<00:00, 1001.51it/s]\n"
     ]
    },
    {
     "name": "stdout",
     "output_type": "stream",
     "text": [
      "Skipping reply email: =?UTF-8?B?UmU6IERlcnMgc2XDp2ltaSBoYWtrxLFuZGE=?=\n"
     ]
    },
    {
     "name": "stderr",
     "output_type": "stream",
     "text": [
      "pre tokenize: 100%|██████████| 1/1 [00:00<00:00, 1002.70it/s]\n",
      "pre tokenize: 100%|██████████| 1/1 [00:00<00:00, 1002.22it/s]\n",
      "pre tokenize: 100%|██████████| 1/1 [00:00<?, ?it/s]\n",
      "pre tokenize: 100%|██████████| 1/1 [00:00<?, ?it/s]\n",
      "pre tokenize: 100%|██████████| 1/1 [00:00<?, ?it/s]\n",
      "pre tokenize: 100%|██████████| 1/1 [00:00<?, ?it/s]\n",
      "pre tokenize: 100%|██████████| 1/1 [00:00<?, ?it/s]\n",
      "pre tokenize: 100%|██████████| 1/1 [00:00<00:00, 1001.27it/s]\n",
      "pre tokenize: 100%|██████████| 1/1 [00:00<?, ?it/s]\n",
      "pre tokenize: 100%|██████████| 1/1 [00:00<?, ?it/s]\n",
      "pre tokenize: 100%|██████████| 1/1 [00:00<?, ?it/s]\n",
      "pre tokenize: 100%|██████████| 1/1 [00:00<00:00, 1001.51it/s]\n",
      "pre tokenize: 100%|██████████| 1/1 [00:00<00:00, 1001.98it/s]\n",
      "pre tokenize: 100%|██████████| 1/1 [00:00<?, ?it/s]\n",
      "pre tokenize: 100%|██████████| 1/1 [00:00<?, ?it/s]\n",
      "pre tokenize: 100%|██████████| 1/1 [00:00<00:00, 1001.98it/s]\n",
      "pre tokenize: 100%|██████████| 1/1 [00:00<?, ?it/s]\n",
      "pre tokenize: 100%|██████████| 1/1 [00:00<?, ?it/s]\n",
      "pre tokenize: 100%|██████████| 1/1 [00:00<?, ?it/s]\n",
      "pre tokenize: 100%|██████████| 1/1 [00:00<00:00, 1002.70it/s]\n",
      "pre tokenize: 100%|██████████| 1/1 [00:00<00:00, 1000.07it/s]\n",
      "pre tokenize: 100%|██████████| 1/1 [00:00<00:00, 1002.22it/s]\n",
      "pre tokenize: 100%|██████████| 1/1 [00:00<00:00, 1003.90it/s]\n",
      "pre tokenize: 100%|██████████| 1/1 [00:00<00:00, 1002.22it/s]\n",
      "pre tokenize: 100%|██████████| 1/1 [00:00<00:00, 1003.90it/s]\n",
      "pre tokenize: 100%|██████████| 1/1 [00:00<00:00, 1002.94it/s]\n"
     ]
    },
    {
     "name": "stdout",
     "output_type": "stream",
     "text": [
      "Skipping reply email: =?UTF-8?Q?Re=3A_Pure_Projesi_Hakk=C4=B1nda?=\n",
      "Skipping reply email: =?UTF-8?Q?Re=3A_Pure_Projesi_Hakk=C4=B1nda?=\n"
     ]
    },
    {
     "name": "stderr",
     "output_type": "stream",
     "text": [
      "pre tokenize: 100%|██████████| 1/1 [00:00<00:00, 1003.18it/s]\n",
      "pre tokenize: 100%|██████████| 1/1 [00:00<00:00, 1002.94it/s]\n"
     ]
    },
    {
     "name": "stdout",
     "output_type": "stream",
     "text": [
      "Skipping reply email: Fwd: NatWest Group (Workday) Assessment feedback report(s)\n"
     ]
    },
    {
     "name": "stderr",
     "output_type": "stream",
     "text": [
      "pre tokenize: 100%|██████████| 1/1 [00:00<00:00, 1040.00it/s]\n",
      "pre tokenize: 100%|██████████| 1/1 [00:00<?, ?it/s]\n"
     ]
    },
    {
     "name": "stdout",
     "output_type": "stream",
     "text": [
      "Skipping reply email: =?UTF-8?B?UmU6IEfDtnLDvMWfbWUgVGFsZWJp?=\n",
      "Skipping reply email: =?UTF-8?B?UmU6IEfDtnLDvMWfbWUgVGFsZWJp?=\n",
      "Skipping reply email: =?UTF-8?B?UmU6IEfDtnLDvMWfbWUgVGFsZWJp?=\n"
     ]
    },
    {
     "name": "stderr",
     "output_type": "stream",
     "text": [
      "pre tokenize: 100%|██████████| 1/1 [00:00<00:00, 1002.70it/s]\n",
      "pre tokenize: 100%|██████████| 1/1 [00:00<?, ?it/s]\n",
      "pre tokenize: 100%|██████████| 1/1 [00:00<?, ?it/s]\n",
      "pre tokenize: 100%|██████████| 1/1 [00:00<00:00, 1002.46it/s]\n"
     ]
    },
    {
     "name": "stdout",
     "output_type": "stream",
     "text": [
      "Skipping reply email: =?UTF-8?B?UmU6IEJpdGlybWUgVG9wbGFudMSxc8Sx?=\n"
     ]
    },
    {
     "name": "stderr",
     "output_type": "stream",
     "text": [
      "pre tokenize: 100%|██████████| 1/1 [00:00<00:00, 1002.46it/s]\n",
      "pre tokenize: 100%|██████████| 1/1 [00:00<00:00, 1003.18it/s]\n"
     ]
    },
    {
     "name": "stdout",
     "output_type": "stream",
     "text": [
      "Skipping reply email: =?UTF-8?Q?Re=3A_YURT_KAYDI_=C4=B0=C3=87=C4=B0N_GEREKL=C4=B0_EVRAKLAR_=2D_DOCUMENTS?=\n",
      "\t=?UTF-8?Q?_NEEDED_FOR_DORMITORY_REGISTRATION?=\n",
      "Skipping reply email: =?UTF-8?B?WVVSVCBLQVlESSDEsMOHxLBOIEdFUkVLTMSwIEVWUkFLTEFSIC0gRE9D?=\n",
      " =?UTF-8?Q?UMENTS_NEEDED_FOR_DORMITORY_REGISTRATION?=\n",
      "Skipping reply email: =?UTF-8?B?UmU6IFlhcsSxbiAxNi4zMC0xOC4zMCByZWNpdGF0aW9uJ8SxIGhha2vEsW5kYQ==?=\n",
      "Skipping reply email: =?UTF-8?B?UmU6IFlhcsSxbiAxNi4zMC0xOC4zMCByZWNpdGF0aW9uJ8SxIGhha2vEsW5kYQ==?=\n"
     ]
    },
    {
     "name": "stderr",
     "output_type": "stream",
     "text": [
      "pre tokenize: 100%|██████████| 1/1 [00:00<00:00, 1002.22it/s]\n",
      "pre tokenize: 100%|██████████| 1/1 [00:00<00:00, 1004.14it/s]\n",
      "pre tokenize: 100%|██████████| 1/1 [00:00<00:00, 1002.22it/s]\n",
      "pre tokenize: 100%|██████████| 1/1 [00:00<?, ?it/s]\n",
      "pre tokenize: 100%|██████████| 1/1 [00:00<?, ?it/s]\n",
      "pre tokenize: 100%|██████████| 1/1 [00:00<?, ?it/s]\n",
      "pre tokenize: 100%|██████████| 1/1 [00:00<00:00, 1001.74it/s]\n",
      "pre tokenize: 100%|██████████| 1/1 [00:00<?, ?it/s]\n",
      "pre tokenize: 100%|██████████| 1/1 [00:00<00:00, 1002.70it/s]\n",
      "pre tokenize: 100%|██████████| 1/1 [00:00<?, ?it/s]\n",
      "pre tokenize: 100%|██████████| 1/1 [00:00<?, ?it/s]\n",
      "pre tokenize: 100%|██████████| 1/1 [00:00<00:00, 1001.98it/s]\n"
     ]
    },
    {
     "name": "stdout",
     "output_type": "stream",
     "text": [
      "Skipping reply email: Re: Re[2]: B1 QUIZ\n",
      "Skipping reply email: =?UTF-8?B?UmVbMl06IEIxIFFVSVo=?=\n",
      "Skipping reply email: Re: B1 QUIZ\n",
      "Skipping reply email: Re: B1 QUIZ\n",
      "Skipping reply email: Re: B1 QUIZ\n"
     ]
    },
    {
     "name": "stderr",
     "output_type": "stream",
     "text": [
      "pre tokenize: 100%|██████████| 1/1 [00:00<00:00, 1002.70it/s]\n",
      "pre tokenize: 100%|██████████| 1/1 [00:00<00:00, 1002.46it/s]\n",
      "pre tokenize: 100%|██████████| 1/1 [00:00<00:00, 1003.18it/s]\n",
      "pre tokenize: 100%|██████████| 1/1 [00:00<?, ?it/s]\n",
      "pre tokenize: 100%|██████████| 1/1 [00:00<?, ?it/s]\n",
      "pre tokenize: 100%|██████████| 1/1 [00:00<?, ?it/s]\n",
      "pre tokenize: 100%|██████████| 1/1 [00:00<00:00, 1002.70it/s]\n",
      "pre tokenize: 100%|██████████| 1/1 [00:00<00:00, 1002.22it/s]\n",
      "pre tokenize: 100%|██████████| 1/1 [00:00<?, ?it/s]\n",
      "pre tokenize: 100%|██████████| 1/1 [00:00<00:00, 1002.46it/s]\n",
      "pre tokenize: 100%|██████████| 1/1 [00:00<?, ?it/s]\n",
      "pre tokenize: 100%|██████████| 1/1 [00:00<?, ?it/s]\n",
      "pre tokenize: 100%|██████████| 1/1 [00:00<00:00, 1003.42it/s]\n",
      "pre tokenize: 100%|██████████| 1/1 [00:00<?, ?it/s]\n",
      "pre tokenize: 100%|██████████| 1/1 [00:00<00:00, 1001.98it/s]\n",
      "pre tokenize: 100%|██████████| 1/1 [00:00<?, ?it/s]\n",
      "pre tokenize: 100%|██████████| 1/1 [00:00<?, ?it/s]\n",
      "pre tokenize: 100%|██████████| 1/1 [00:00<?, ?it/s]\n",
      "pre tokenize: 100%|██████████| 1/1 [00:00<00:00, 1002.22it/s]\n",
      "pre tokenize: 100%|██████████| 1/1 [00:00<00:00, 1002.70it/s]\n",
      "pre tokenize: 100%|██████████| 1/1 [00:00<?, ?it/s]\n",
      "pre tokenize: 100%|██████████| 1/1 [00:00<00:00, 1004.38it/s]\n",
      "pre tokenize: 100%|██████████| 1/1 [00:00<?, ?it/s]\n",
      "pre tokenize: 100%|██████████| 1/1 [00:00<?, ?it/s]\n",
      "pre tokenize: 100%|██████████| 1/1 [00:00<00:00, 1002.22it/s]\n",
      "pre tokenize: 100%|██████████| 1/1 [00:00<00:00, 1002.46it/s]\n"
     ]
    },
    {
     "name": "stdout",
     "output_type": "stream",
     "text": [
      "Skipping reply email: Re: PURE\n"
     ]
    },
    {
     "name": "stderr",
     "output_type": "stream",
     "text": [
      "pre tokenize: 100%|██████████| 1/1 [00:00<?, ?it/s]\n",
      "pre tokenize: 100%|██████████| 1/1 [00:00<00:00, 1003.18it/s]\n",
      "pre tokenize: 100%|██████████| 1/1 [00:00<?, ?it/s]\n",
      "pre tokenize: 100%|██████████| 1/1 [00:00<00:00, 1002.94it/s]\n",
      "pre tokenize: 100%|██████████| 1/1 [00:00<00:00, 1002.22it/s]\n",
      "pre tokenize: 100%|██████████| 1/1 [00:00<?, ?it/s]\n",
      "pre tokenize: 100%|██████████| 1/1 [00:00<00:00, 1002.94it/s]\n",
      "pre tokenize: 100%|██████████| 1/1 [00:00<00:00, 1003.66it/s]\n",
      "pre tokenize: 100%|██████████| 1/1 [00:00<?, ?it/s]\n",
      "pre tokenize: 100%|██████████| 1/1 [00:00<00:00, 1002.22it/s]\n",
      "pre tokenize: 100%|██████████| 1/1 [00:00<?, ?it/s]\n",
      "pre tokenize: 100%|██████████| 1/1 [00:00<00:00, 1002.94it/s]\n",
      "pre tokenize: 100%|██████████| 1/1 [00:00<?, ?it/s]\n",
      "pre tokenize: 100%|██████████| 1/1 [00:00<00:00, 1003.66it/s]\n",
      "pre tokenize: 100%|██████████| 1/1 [00:00<?, ?it/s]\n",
      "pre tokenize: 100%|██████████| 1/1 [00:00<?, ?it/s]\n",
      "pre tokenize: 100%|██████████| 1/1 [00:00<?, ?it/s]\n",
      "pre tokenize: 100%|██████████| 1/1 [00:00<00:00, 1002.70it/s]\n",
      "pre tokenize: 100%|██████████| 1/1 [00:00<00:00, 1001.98it/s]\n",
      "pre tokenize: 100%|██████████| 1/1 [00:00<00:00, 1002.46it/s]\n"
     ]
    },
    {
     "name": "stdout",
     "output_type": "stream",
     "text": [
      "Skipping reply email: Re: IE 312 LA olmak ister misiniz?\n",
      "Skipping reply email: Re: IE 312 LA olmak ister misiniz?\n",
      "Skipping reply email: IE 312 LA olmak ister misiniz?\n"
     ]
    },
    {
     "name": "stderr",
     "output_type": "stream",
     "text": [
      "pre tokenize: 100%|██████████| 1/1 [00:00<00:00, 1002.46it/s]\n",
      "pre tokenize: 100%|██████████| 1/1 [00:00<?, ?it/s]\n"
     ]
    },
    {
     "name": "stdout",
     "output_type": "stream",
     "text": [
      "Skipping reply email: Re: Presentation about Quality Education\n"
     ]
    },
    {
     "name": "stderr",
     "output_type": "stream",
     "text": [
      "pre tokenize: 100%|██████████| 1/1 [00:00<00:00, 1002.70it/s]\n",
      "pre tokenize: 100%|██████████| 1/1 [00:00<?, ?it/s]\n"
     ]
    },
    {
     "name": "stdout",
     "output_type": "stream",
     "text": [
      "Skipping reply email: Re: Case1-Q4\n"
     ]
    },
    {
     "name": "stderr",
     "output_type": "stream",
     "text": [
      "pre tokenize: 100%|██████████| 1/1 [00:00<?, ?it/s]\n",
      "pre tokenize: 100%|██████████| 1/1 [00:00<?, ?it/s]\n",
      "pre tokenize: 100%|██████████| 1/1 [00:00<?, ?it/s]\n",
      "pre tokenize: 100%|██████████| 1/1 [00:00<00:00, 1003.90it/s]\n",
      "pre tokenize: 100%|██████████| 1/1 [00:00<00:00, 1002.70it/s]\n",
      "pre tokenize: 100%|██████████| 1/1 [00:00<00:00, 1002.70it/s]\n"
     ]
    },
    {
     "name": "stdout",
     "output_type": "stream",
     "text": [
      "Skipping reply email: Re: ID\n",
      "Skipping reply email: Re: ID\n"
     ]
    },
    {
     "name": "stderr",
     "output_type": "stream",
     "text": [
      "pre tokenize: 100%|██████████| 1/1 [00:00<00:00, 1003.18it/s]\n",
      "pre tokenize: 100%|██████████| 1/1 [00:00<?, ?it/s]\n"
     ]
    },
    {
     "name": "stdout",
     "output_type": "stream",
     "text": [
      "Skipping reply email: =?UTF-8?B?UmU6IEJhxZ92dXJ1IHZlIGRlxJ9lcmxlbmRpcm1lIHPDvHJlY2kgaGFra8SxbmRh?=\n",
      "Skipping reply email: \n",
      " =?utf-8?B?UkU6IEJhxZ92dXJ1IHZlIGRlxJ9lcmxlbmRpcm1lIHPDvHJlY2kgaGFra8Sx?=\n",
      " =?utf-8?Q?nda?=\n"
     ]
    },
    {
     "name": "stderr",
     "output_type": "stream",
     "text": [
      "pre tokenize: 100%|██████████| 1/1 [00:00<00:00, 1002.22it/s]\n",
      "pre tokenize: 100%|██████████| 1/1 [00:00<00:00, 1002.94it/s]\n",
      "pre tokenize: 100%|██████████| 1/1 [00:00<00:00, 1003.18it/s]\n",
      "pre tokenize: 100%|██████████| 1/1 [00:00<00:00, 1002.94it/s]\n",
      "pre tokenize: 100%|██████████| 1/1 [00:00<00:00, 1005.11it/s]\n",
      "pre tokenize: 100%|██████████| 1/1 [00:00<00:00, 1002.46it/s]\n"
     ]
    },
    {
     "name": "stdout",
     "output_type": "stream",
     "text": [
      "Skipping reply email: Re: PURE & ENS491 - MATCHING: Exercises\n",
      "Skipping reply email: Re: PURE & ENS491 - MATCHING: Exercises\n",
      "Skipping reply email: Re: PURE & ENS491 - MATCHING: Exercises\n",
      "Skipping reply email: Re: PURE & ENS491 - MATCHING: Exercises\n",
      "Skipping reply email: Re: PURE & ENS491 - MATCHING: Exercises\n",
      "Skipping reply email: Re: PURE & ENS491 - MATCHING: Exercises\n",
      "Skipping reply email: Re: PURE & ENS491 - MATCHING: Exercises\n",
      "Skipping reply email: Re: PURE & ENS491 - MATCHING: Exercises\n"
     ]
    },
    {
     "name": "stderr",
     "output_type": "stream",
     "text": [
      "pre tokenize: 100%|██████████| 1/1 [00:00<?, ?it/s]\n",
      "pre tokenize: 100%|██████████| 1/1 [00:00<?, ?it/s]\n"
     ]
    },
    {
     "name": "stdout",
     "output_type": "stream",
     "text": [
      "Skipping reply email: =?UTF-8?Q?RE=3A_Maj=C3=B6r_deklerasyonu?=\n"
     ]
    },
    {
     "name": "stderr",
     "output_type": "stream",
     "text": [
      "pre tokenize: 100%|██████████| 1/1 [00:00<00:00, 1001.98it/s]\n",
      "pre tokenize: 100%|██████████| 1/1 [00:00<00:00, 1002.70it/s]\n"
     ]
    },
    {
     "name": "stdout",
     "output_type": "stream",
     "text": [
      "Skipping reply email: Re: Proj201\n"
     ]
    },
    {
     "name": "stderr",
     "output_type": "stream",
     "text": [
      "pre tokenize: 100%|██████████| 1/1 [00:00<00:00, 1002.22it/s]\n",
      "pre tokenize: 100%|██████████| 1/1 [00:00<?, ?it/s]\n"
     ]
    },
    {
     "name": "stdout",
     "output_type": "stream",
     "text": [
      "Skipping reply email: =?UTF-8?Q?Re=3A_Participation_Notland=C4=B1rmas=C4=B1_Hakk=C4=B1nda?=\n"
     ]
    },
    {
     "name": "stderr",
     "output_type": "stream",
     "text": [
      "pre tokenize: 100%|██████████| 1/1 [00:00<00:00, 1003.42it/s]\n",
      "pre tokenize: 100%|██████████| 1/1 [00:00<00:00, 501.47it/s]\n"
     ]
    },
    {
     "name": "stdout",
     "output_type": "stream",
     "text": [
      "Skipping reply email: Re: Compose camp workshop\n",
      "Skipping reply email: Re: Compose camp workshop\n",
      "Skipping reply email: Re: Compose camp workshop\n"
     ]
    },
    {
     "name": "stderr",
     "output_type": "stream",
     "text": [
      "pre tokenize: 100%|██████████| 1/1 [00:00<?, ?it/s]\n",
      "pre tokenize: 100%|██████████| 1/1 [00:00<?, ?it/s]\n"
     ]
    },
    {
     "name": "stdout",
     "output_type": "stream",
     "text": [
      "Skipping reply email: Re: Third Individual Assesment\n",
      "Skipping reply email: Re: Third Individual Assesment\n"
     ]
    },
    {
     "name": "stderr",
     "output_type": "stream",
     "text": [
      "pre tokenize: 100%|██████████| 1/1 [00:00<00:00, 501.47it/s]\n",
      "pre tokenize: 100%|██████████| 1/1 [00:00<00:00, 1002.94it/s]\n"
     ]
    },
    {
     "name": "stdout",
     "output_type": "stream",
     "text": [
      "Skipping reply email: AW: Exchange Student Documents\n"
     ]
    },
    {
     "name": "stderr",
     "output_type": "stream",
     "text": [
      "pre tokenize: 100%|██████████| 1/1 [00:00<?, ?it/s]\n",
      "pre tokenize: 100%|██████████| 1/1 [00:00<?, ?it/s]\n",
      "pre tokenize: 100%|██████████| 1/1 [00:00<00:00, 1001.51it/s]\n",
      "pre tokenize: 100%|██████████| 1/1 [00:00<?, ?it/s]\n",
      "pre tokenize: 100%|██████████| 1/1 [00:00<00:00, 1001.98it/s]\n",
      "pre tokenize: 100%|██████████| 1/1 [00:00<00:00, 1003.18it/s]\n",
      "pre tokenize: 100%|██████████| 1/1 [00:00<?, ?it/s]\n",
      "pre tokenize: 100%|██████████| 1/1 [00:00<?, ?it/s]\n",
      "pre tokenize: 100%|██████████| 1/1 [00:00<?, ?it/s]\n",
      "pre tokenize: 100%|██████████| 1/1 [00:00<?, ?it/s]\n"
     ]
    },
    {
     "name": "stdout",
     "output_type": "stream",
     "text": [
      "Skipping reply email: =?UTF-8?B?UmU6IEhJU1QgMTkyIEZpbmFsIFPEsW5hdsSxLTIuIGdydXA=?=\n"
     ]
    },
    {
     "name": "stderr",
     "output_type": "stream",
     "text": [
      "pre tokenize: 100%|██████████| 1/1 [00:00<00:00, 334.31it/s]\n",
      "pre tokenize: 100%|██████████| 1/1 [00:00<00:00, 501.41it/s]\n",
      "pre tokenize: 100%|██████████| 1/1 [00:00<?, ?it/s]\n",
      "pre tokenize: 100%|██████████| 1/1 [00:00<?, ?it/s]\n",
      "pre tokenize: 100%|██████████| 1/1 [00:00<00:00, 965.32it/s]\n",
      "pre tokenize: 100%|██████████| 1/1 [00:00<00:00, 1002.70it/s]\n"
     ]
    },
    {
     "name": "stdout",
     "output_type": "stream",
     "text": [
      "Skipping reply email: Fwd: Accommodation in Passau\n",
      "Skipping reply email: AW: Accommodation in Passau\n",
      "Skipping reply email: Re: Accommodation in Passau\n",
      "Skipping reply email: Accommodation in Passau \n",
      "Skipping reply email: Re: midterm 1 grade\n",
      "Skipping reply email: midterm 1 grade\n",
      "Skipping reply email: =?UTF-8?Q?Re=3A_Proj201_gruplar=C4=B1?=\n"
     ]
    },
    {
     "name": "stderr",
     "output_type": "stream",
     "text": [
      "pre tokenize: 100%|██████████| 1/1 [00:00<00:00, 1039.74it/s]\n",
      "pre tokenize: 100%|██████████| 1/1 [00:00<00:00, 1002.94it/s]\n"
     ]
    },
    {
     "name": "stdout",
     "output_type": "stream",
     "text": [
      "Skipping reply email: Re: Proj 201 Group 2\n",
      "Skipping reply email: Re: Proj 201 Group 2\n",
      "Skipping reply email: Re: Proj 201 Group 2\n",
      "Skipping reply email: Re: Proj 201 Group 2\n",
      "Skipping reply email: Re: Proj 201 Group 2\n",
      "Skipping reply email: Re: Proj 201 Group 2\n",
      "Skipping reply email: Re: Proj 201 Group 2\n",
      "Skipping reply email: Re: Proj 201 Group 2\n",
      "Skipping reply email: Re: Proj 201 Group 2\n",
      "Skipping reply email: Re: Proj 201 Group 2\n",
      "Skipping reply email: Re: Proj 201 Group 2\n",
      "Skipping reply email: Re: Proj 201 Group 2\n",
      "Skipping reply email: Re: Proj 201 Group 2\n",
      "Skipping reply email: Re: Proj 201 Group 2\n",
      "Skipping reply email: Re: Proj 201 Group 2\n",
      "Skipping reply email: Re: Proj 201 Group 2\n",
      "Skipping reply email: Re: Proj 201 Group 2\n",
      "Skipping reply email: Re: Proj 201 Group 2\n",
      "Skipping reply email: Re: Proj 201 Group 2\n",
      "Skipping reply email: Re: Proj 201 Group 2\n",
      "Skipping reply email: Re: Proj 201 Group 2\n",
      "Skipping reply email: Re: Proj 201 Group 2\n",
      "Skipping reply email: Re: Proj 201 Group 2\n",
      "Skipping reply email: Re: Proj 201 Group 2\n",
      "Skipping reply email: Re: Proj 201 Group 2\n",
      "Skipping reply email: Re: Proj 201 Group 2\n",
      "Skipping reply email: Re: Proj 201 Group 2\n",
      "Skipping reply email: Re: Proj 201 Group 2\n",
      "Skipping reply email: Re: Proj 201 Group 2\n",
      "Skipping reply email: Re: Proj 201 Group 2\n",
      "Skipping reply email: Re: Proj 201 Group 2\n",
      "Skipping reply email: Re: Proj 201 Group 2\n",
      "Skipping reply email: Re: Proj 201 Group 2\n",
      "Skipping reply email: Re: Proj 201 Group 2\n",
      "Skipping reply email: Re: Proj 201 Group 2\n",
      "Skipping reply email: Re: Proj 201 Group 2\n",
      "Skipping reply email: Re: Proj 201 Group 2\n",
      "Skipping reply email: Re: Proj 201 Group 2\n",
      "Skipping reply email: Re: Proj 201 Group 2\n",
      "Skipping reply email: Re: Proj 201 Group 2\n",
      "Skipping reply email: Re: Proj 201 Group 2\n",
      "Skipping reply email: Re: Proj 201 Group 2\n",
      "Skipping reply email: Re: Proj 201 Group 2\n",
      "Skipping reply email: Re: Proj 201 Group 2\n",
      "Skipping reply email: Re: Proj 201 Group 2\n",
      "Skipping reply email: Re: Proj 201 Group 2\n",
      "Skipping reply email: Re: Proj 201 Group 2\n",
      "Skipping reply email: Re: Proj 201 Group 2\n",
      "Skipping reply email: Re: Proj 201 Group 2\n",
      "Skipping reply email: Re: Proj 201 Group 2\n",
      "Skipping reply email: Re: Proj 201 Group 2\n",
      "Skipping reply email: Re: Proj 201 Group 2\n",
      "Skipping reply email: Re: Proj 201 Group 2\n",
      "Skipping reply email: Re: Proj 201 Group 2\n",
      "Skipping reply email: Re: Proj 201 Group 2\n",
      "Skipping reply email: Re: Proj 201 Group 2\n"
     ]
    },
    {
     "name": "stderr",
     "output_type": "stream",
     "text": [
      "pre tokenize: 100%|██████████| 1/1 [00:00<00:00, 1003.90it/s]\n",
      "pre tokenize: 100%|██████████| 1/1 [00:00<00:00, 1002.22it/s]\n"
     ]
    },
    {
     "name": "stdout",
     "output_type": "stream",
     "text": [
      "Skipping reply email: =?iso-8859-3?Q?Re:_Tabldot_men=FC?=\n"
     ]
    },
    {
     "name": "stderr",
     "output_type": "stream",
     "text": [
      "pre tokenize: 100%|██████████| 1/1 [00:00<00:00, 1002.46it/s]\n",
      "pre tokenize: 100%|██████████| 1/1 [00:00<?, ?it/s]\n"
     ]
    },
    {
     "name": "stdout",
     "output_type": "stream",
     "text": [
      "Skipping reply email: Re: DAK Gesundheit: Your inquiry\n",
      "Skipping reply email: DAK Gesundheit: Your inquiry\n",
      "Skipping reply email: Re: Koltuk\n",
      "Skipping reply email: Re: Koltuk\n"
     ]
    },
    {
     "name": "stderr",
     "output_type": "stream",
     "text": [
      "pre tokenize: 100%|██████████| 1/1 [00:00<?, ?it/s]\n",
      "pre tokenize: 100%|██████████| 1/1 [00:00<?, ?it/s]\n"
     ]
    },
    {
     "name": "stdout",
     "output_type": "stream",
     "text": [
      "Skipping reply email: =?UTF-8?Q?Fwd=3A_Vize_i=C3=A7in_gerekli_evraklar?=\n",
      "Skipping reply email: =?UTF-8?Q?Fwd=3A_Vize_i=C3=A7in_gerekli_evraklar?=\n",
      "Skipping reply email: =?UTF-8?Q?Re=3A_Vize_i=C3=A7in_gerekli_evraklar?=\n"
     ]
    },
    {
     "name": "stderr",
     "output_type": "stream",
     "text": [
      "pre tokenize: 100%|██████████| 1/1 [00:00<00:00, 1002.46it/s]\n",
      "pre tokenize: 100%|██████████| 1/1 [00:00<?, ?it/s]\n"
     ]
    },
    {
     "name": "stdout",
     "output_type": "stream",
     "text": [
      "Skipping reply email: =?UTF-8?Q?Re=3A_Vize_i=C3=A7in_gerekli_evraklar?=\n"
     ]
    },
    {
     "name": "stderr",
     "output_type": "stream",
     "text": [
      "pre tokenize: 100%|██████████| 1/1 [00:00<?, ?it/s]\n",
      "pre tokenize: 100%|██████████| 1/1 [00:00<?, ?it/s]\n"
     ]
    },
    {
     "name": "stdout",
     "output_type": "stream",
     "text": [
      "Skipping reply email: =?UTF-8?Q?Re=3A_Vize_i=C3=A7in_gerekli_evraklar?=\n",
      "Skipping reply email: =?UTF-8?Q?Re=3A_Vize_i=C3=A7in_gerekli_evraklar?=\n",
      "Skipping reply email: =?UTF-8?Q?Re=3A_Vize_i=C3=A7in_gerekli_evraklar?=\n",
      "Skipping reply email: =?UTF-8?Q?Re=3A_Vize_i=C3=A7in_gerekli_evraklar?=\n"
     ]
    },
    {
     "name": "stderr",
     "output_type": "stream",
     "text": [
      "pre tokenize: 100%|██████████| 1/1 [00:00<00:00, 1002.22it/s]\n",
      "pre tokenize: 100%|██████████| 1/1 [00:00<00:00, 1002.70it/s]\n",
      "pre tokenize: 100%|██████████| 1/1 [00:00<00:00, 1003.90it/s]\n",
      "pre tokenize: 100%|██████████| 1/1 [00:00<?, ?it/s]\n",
      "pre tokenize: 100%|██████████| 1/1 [00:00<?, ?it/s]\n",
      "pre tokenize: 100%|██████████| 1/1 [00:00<00:00, 1001.74it/s]\n",
      "pre tokenize: 100%|██████████| 1/1 [00:00<00:00, 1002.22it/s]\n",
      "pre tokenize: 100%|██████████| 1/1 [00:00<?, ?it/s]\n",
      "pre tokenize: 100%|██████████| 1/1 [00:00<?, ?it/s]\n",
      "pre tokenize: 100%|██████████| 1/1 [00:00<?, ?it/s]\n",
      "pre tokenize: 100%|██████████| 1/1 [00:00<00:00, 1002.70it/s]\n",
      "pre tokenize: 100%|██████████| 1/1 [00:00<00:00, 1001.98it/s]\n",
      "pre tokenize: 100%|██████████| 1/1 [00:00<?, ?it/s]\n",
      "pre tokenize: 100%|██████████| 1/1 [00:00<00:00, 1003.18it/s]\n",
      "pre tokenize: 100%|██████████| 1/1 [00:00<00:00, 1002.94it/s]\n",
      "pre tokenize: 100%|██████████| 1/1 [00:00<00:00, 1001.74it/s]\n",
      "pre tokenize: 100%|██████████| 1/1 [00:00<?, ?it/s]\n",
      "pre tokenize: 100%|██████████| 1/1 [00:00<?, ?it/s]\n"
     ]
    },
    {
     "name": "stdout",
     "output_type": "stream",
     "text": [
      "Skipping reply email: Re: Erasmus Hibe\n",
      "Skipping reply email: Re: Erasmus Hibe\n"
     ]
    },
    {
     "name": "stderr",
     "output_type": "stream",
     "text": [
      "pre tokenize: 100%|██████████| 1/1 [00:00<00:00, 501.11it/s]\n",
      "pre tokenize: 100%|██████████| 1/1 [00:00<00:00, 1003.42it/s]\n",
      "pre tokenize: 100%|██████████| 1/1 [00:00<?, ?it/s]\n",
      "pre tokenize: 100%|██████████| 1/1 [00:00<?, ?it/s]\n"
     ]
    },
    {
     "name": "stdout",
     "output_type": "stream",
     "text": [
      "Skipping reply email: Re: Bitirme projesi\n"
     ]
    },
    {
     "name": "stderr",
     "output_type": "stream",
     "text": [
      "pre tokenize: 100%|██████████| 1/1 [00:00<00:00, 1001.74it/s]\n",
      "pre tokenize: 100%|██████████| 1/1 [00:00<00:00, 1002.70it/s]\n",
      "pre tokenize: 100%|██████████| 1/1 [00:00<00:00, 992.97it/s]\n",
      "pre tokenize: 100%|██████████| 1/1 [00:00<00:00, 1001.98it/s]\n",
      "pre tokenize: 100%|██████████| 1/1 [00:00<?, ?it/s]\n",
      "pre tokenize: 100%|██████████| 1/1 [00:00<00:00, 1001.51it/s]\n",
      "pre tokenize: 100%|██████████| 1/1 [00:00<00:00, 1002.94it/s]\n",
      "pre tokenize: 100%|██████████| 1/1 [00:00<00:00, 1040.51it/s]\n",
      "pre tokenize: 100%|██████████| 1/1 [00:00<00:00, 1002.70it/s]\n",
      "pre tokenize: 100%|██████████| 1/1 [00:00<?, ?it/s]\n",
      "pre tokenize: 100%|██████████| 1/1 [00:00<?, ?it/s]\n",
      "pre tokenize: 100%|██████████| 1/1 [00:00<00:00, 1001.98it/s]\n"
     ]
    },
    {
     "name": "stdout",
     "output_type": "stream",
     "text": [
      "Skipping reply email: Fwd: Looking to grab a Prime Day deal?\n",
      "Skipping reply email: Re: Looking to grab a Prime Day deal?\n",
      "Skipping reply email: Looking to grab a Prime Day deal?\n",
      "Skipping reply email: =?UTF-8?Q?Re=3A_Bitirme_projesi_toplant=C4=B1s=C4=B1?=\n"
     ]
    },
    {
     "name": "stderr",
     "output_type": "stream",
     "text": [
      "pre tokenize: 100%|██████████| 1/1 [00:00<?, ?it/s]\n",
      "pre tokenize: 100%|██████████| 1/1 [00:00<00:00, 1002.94it/s]\n",
      "pre tokenize: 100%|██████████| 1/1 [00:00<?, ?it/s]\n",
      "pre tokenize: 100%|██████████| 1/1 [00:00<00:00, 1003.18it/s]\n",
      "pre tokenize: 100%|██████████| 1/1 [00:00<00:00, 1002.70it/s]\n",
      "pre tokenize: 100%|██████████| 1/1 [00:00<?, ?it/s]\n"
     ]
    },
    {
     "name": "stdout",
     "output_type": "stream",
     "text": [
      "Failed to parse date: Tue, 01 Mar 2022 08:15:51 -0800 (PST)\n"
     ]
    },
    {
     "name": "stderr",
     "output_type": "stream",
     "text": [
      "pre tokenize: 100%|██████████| 1/1 [00:00<00:00, 1002.94it/s]\n",
      "pre tokenize: 100%|██████████| 1/1 [00:00<?, ?it/s]\n"
     ]
    },
    {
     "name": "stdout",
     "output_type": "stream",
     "text": [
      "Skipping email 789 due to date parsing issues.\n",
      "\n",
      "Skipping reply email: Re: ENS208-AB-202102: Tomorrow's Class for Section A is postponed\n",
      "Skipping reply email: ENS208-AB-202102: Tomorrow's Class for Section A is postponed\n"
     ]
    },
    {
     "name": "stderr",
     "output_type": "stream",
     "text": [
      "pre tokenize: 100%|██████████| 1/1 [00:00<?, ?it/s]\n",
      "pre tokenize: 100%|██████████| 1/1 [00:00<00:00, 1002.46it/s]\n"
     ]
    },
    {
     "name": "stdout",
     "output_type": "stream",
     "text": [
      "Skipping reply email: Re: Request for an interview\n",
      "Skipping reply email: Re: Request for an interview\n",
      "Skipping reply email: Re: Request for an interview\n",
      "Skipping reply email: Re: Request for an interview\n",
      "Skipping reply email: Re: Request for an interview\n"
     ]
    },
    {
     "name": "stderr",
     "output_type": "stream",
     "text": [
      "pre tokenize: 100%|██████████| 1/1 [00:00<00:00, 1003.66it/s]\n",
      "pre tokenize: 100%|██████████| 1/1 [00:00<00:00, 1004.62it/s]\n"
     ]
    },
    {
     "name": "stdout",
     "output_type": "stream",
     "text": [
      "Skipping reply email: =?UTF-8?B?UmU6IEJ1IGhhZnRhIFNhbMSxIGfDvG7DvCBrYXTEsWxtYW1hbSBoYWtrxLFuZGE=?=\n"
     ]
    },
    {
     "name": "stderr",
     "output_type": "stream",
     "text": [
      "pre tokenize: 100%|██████████| 1/1 [00:00<00:00, 1001.27it/s]\n",
      "pre tokenize: 100%|██████████| 1/1 [00:00<00:00, 1003.42it/s]\n",
      "pre tokenize: 100%|██████████| 1/1 [00:00<00:00, 1002.70it/s]\n",
      "pre tokenize: 100%|██████████| 1/1 [00:00<00:00, 1002.94it/s]\n",
      "pre tokenize: 100%|██████████| 1/1 [00:00<?, ?it/s]\n",
      "pre tokenize: 100%|██████████| 1/1 [00:00<00:00, 1003.42it/s]\n"
     ]
    },
    {
     "name": "stdout",
     "output_type": "stream",
     "text": [
      "Skipping reply email: =?UTF-8?Q?Re:_Arda,_Bloke_Hesap_onay=C4=B1n=C4=B1z?=\n",
      "Skipping reply email: =?UTF-8?B?UmU6IEFyZGEsIEJsb2tlIEhlc2FwIG9uYXnEsW7EsXo=?=\n"
     ]
    },
    {
     "name": "stderr",
     "output_type": "stream",
     "text": [
      "pre tokenize: 100%|██████████| 1/1 [00:00<00:00, 100.27it/s]\n",
      "pre tokenize: 100%|██████████| 1/1 [00:00<00:00, 250.69it/s]\n",
      "pre tokenize: 100%|██████████| 1/1 [00:00<00:00, 1001.27it/s]\n",
      "pre tokenize: 100%|██████████| 1/1 [00:00<00:00, 1003.18it/s]\n"
     ]
    },
    {
     "name": "stdout",
     "output_type": "stream",
     "text": [
      "Skipping reply email: =?UTF-8?B?RndkOiBVbmlsZXZlciBJZGVhVHJvcGh5IEJhxZ92dXJ1bGFyxLEgQmHFn2xhZMSxISA=?=\n",
      "\t=?UTF-8?B?8J+aqCBIYWRpIEhlbWVuIFNlbiBkZSBZZXJpbmkgQWwhIPCfmIk=?=\n"
     ]
    },
    {
     "name": "stderr",
     "output_type": "stream",
     "text": [
      "pre tokenize: 100%|██████████| 1/1 [00:00<00:00, 501.17it/s]\n",
      "pre tokenize: 100%|██████████| 1/1 [00:00<00:00, 1001.51it/s]\n",
      "pre tokenize: 100%|██████████| 1/1 [00:00<?, ?it/s]\n",
      "pre tokenize: 100%|██████████| 1/1 [00:00<?, ?it/s]\n",
      "pre tokenize: 100%|██████████| 1/1 [00:00<00:00, 1002.70it/s]\n",
      "pre tokenize: 100%|██████████| 1/1 [00:00<?, ?it/s]\n"
     ]
    },
    {
     "name": "stdout",
     "output_type": "stream",
     "text": [
      "Skipping reply email: Re: McGraw Hill Scholarship\n"
     ]
    },
    {
     "name": "stderr",
     "output_type": "stream",
     "text": [
      "pre tokenize: 100%|██████████| 1/1 [00:00<00:00, 1002.22it/s]\n",
      "pre tokenize: 100%|██████████| 1/1 [00:00<00:00, 1002.70it/s]\n"
     ]
    },
    {
     "name": "stdout",
     "output_type": "stream",
     "text": [
      "Skipping reply email: RE: Anadal deklerasyonu\n"
     ]
    },
    {
     "name": "stderr",
     "output_type": "stream",
     "text": [
      "pre tokenize: 100%|██████████| 1/1 [00:00<00:00, 1002.22it/s]\n",
      "pre tokenize: 100%|██████████| 1/1 [00:00<?, ?it/s]\n"
     ]
    },
    {
     "name": "stdout",
     "output_type": "stream",
     "text": [
      "Skipping reply email: Re: Tabldot\n",
      "Skipping reply email: Re: Tabldot\n",
      "Skipping reply email: Re: Tabldot\n",
      "Skipping reply email: Re: Tabldot\n",
      "Skipping reply email: Re: Tabldot\n",
      "Skipping reply email: Re: Tabldot\n",
      "Skipping reply email: Re: Tabldot\n"
     ]
    },
    {
     "name": "stderr",
     "output_type": "stream",
     "text": [
      "pre tokenize: 100%|██████████| 1/1 [00:00<00:00, 1001.51it/s]\n",
      "pre tokenize: 100%|██████████| 1/1 [00:00<?, ?it/s]\n"
     ]
    },
    {
     "name": "stdout",
     "output_type": "stream",
     "text": [
      "Skipping reply email: =?UTF-8?Q?Re=3A_GDSC_E=C4=9Fitim_Daveti?=\n",
      "Skipping reply email: =?UTF-8?Q?Re=3A_GDSC_E=C4=9Fitim_Daveti?=\n",
      "Skipping reply email: =?UTF-8?Q?GDSC_E=C4=9Fitim_Daveti?=\n"
     ]
    },
    {
     "name": "stderr",
     "output_type": "stream",
     "text": [
      "pre tokenize: 100%|██████████| 1/1 [00:00<00:00, 1003.18it/s]\n",
      "pre tokenize: 100%|██████████| 1/1 [00:00<?, ?it/s]\n"
     ]
    },
    {
     "name": "stdout",
     "output_type": "stream",
     "text": [
      "Skipping reply email: =?UTF-8?Q?Re=3A_Bu_haftaki_bitirme_toplant=C4=B1s=C4=B1?=\n",
      "Skipping reply email: =?UTF-8?Q?Re=3A_Bu_haftaki_bitirme_toplant=C4=B1s=C4=B1?=\n"
     ]
    },
    {
     "name": "stderr",
     "output_type": "stream",
     "text": [
      "pre tokenize: 100%|██████████| 1/1 [00:00<00:00, 1002.94it/s]\n",
      "pre tokenize: 100%|██████████| 1/1 [00:00<?, ?it/s]\n",
      "pre tokenize: 100%|██████████| 1/1 [00:00<00:00, 1002.70it/s]\n",
      "pre tokenize: 100%|██████████| 1/1 [00:00<?, ?it/s]\n"
     ]
    },
    {
     "name": "stdout",
     "output_type": "stream",
     "text": [
      "Skipping reply email: Re: Exciting Internship Opportunity at TD Securities Just for You!\n",
      "Skipping reply email: Exciting Internship Opportunity at TD Securities Just for You!\n"
     ]
    },
    {
     "name": "stderr",
     "output_type": "stream",
     "text": [
      "pre tokenize: 100%|██████████| 1/1 [00:00<00:00, 1005.83it/s]\n",
      "pre tokenize: 100%|██████████| 1/1 [00:00<?, ?it/s]\n"
     ]
    },
    {
     "name": "stdout",
     "output_type": "stream",
     "text": [
      "Skipping reply email: =?UTF-8?B?RndkOiBTR0sgxLDFn2UgR2lyacWfIEJpbGRpcmdlc2k=?=\n",
      "Skipping reply email: =?UTF-8?B?UmU6IFNHSyDEsMWfZSBHaXJpxZ8gQmlsZGlyZ2VzaQ==?=\n",
      "Skipping reply email: =?UTF-8?B?UmU6IFNHSyDEsMWfZSBHaXJpxZ8gQmlsZGlyZ2VzaQ==?=\n"
     ]
    },
    {
     "name": "stderr",
     "output_type": "stream",
     "text": [
      "pre tokenize: 100%|██████████| 1/1 [00:00<00:00, 1002.22it/s]\n",
      "pre tokenize: 100%|██████████| 1/1 [00:00<?, ?it/s]\n"
     ]
    },
    {
     "name": "stdout",
     "output_type": "stream",
     "text": [
      "Skipping reply email: =?UTF-8?Q?Re=3A_haftal=C4=B1k_toplant=C4=B1_saati?=\n"
     ]
    },
    {
     "name": "stderr",
     "output_type": "stream",
     "text": [
      "pre tokenize: 100%|██████████| 1/1 [00:00<?, ?it/s]\n",
      "pre tokenize: 100%|██████████| 1/1 [00:00<?, ?it/s]\n",
      "pre tokenize: 100%|██████████| 1/1 [00:00<00:00, 1002.94it/s]\n",
      "pre tokenize: 100%|██████████| 1/1 [00:00<00:00, 1002.70it/s]\n",
      "pre tokenize: 100%|██████████| 1/1 [00:00<?, ?it/s]\n",
      "pre tokenize: 100%|██████████| 1/1 [00:00<00:00, 1002.46it/s]\n",
      "pre tokenize: 100%|██████████| 1/1 [00:00<?, ?it/s]\n",
      "pre tokenize: 100%|██████████| 1/1 [00:00<?, ?it/s]\n",
      "pre tokenize: 100%|██████████| 1/1 [00:00<00:00, 1002.46it/s]\n",
      "pre tokenize: 100%|██████████| 1/1 [00:00<?, ?it/s]\n",
      "pre tokenize: 100%|██████████| 1/1 [00:00<00:00, 1002.46it/s]\n",
      "pre tokenize: 100%|██████████| 1/1 [00:00<?, ?it/s]\n",
      "pre tokenize: 100%|██████████| 1/1 [00:00<?, ?it/s]\n",
      "pre tokenize: 100%|██████████| 1/1 [00:00<00:00, 1001.03it/s]\n",
      "pre tokenize: 100%|██████████| 1/1 [00:00<?, ?it/s]\n",
      "pre tokenize: 100%|██████████| 1/1 [00:00<?, ?it/s]\n",
      "pre tokenize: 100%|██████████| 1/1 [00:00<?, ?it/s]\n",
      "pre tokenize: 100%|██████████| 1/1 [00:00<00:00, 1002.94it/s]\n",
      "pre tokenize: 100%|██████████| 1/1 [00:00<00:00, 1003.18it/s]\n",
      "pre tokenize: 100%|██████████| 1/1 [00:00<00:00, 1002.46it/s]\n",
      "pre tokenize: 100%|██████████| 1/1 [00:00<00:00, 1001.27it/s]\n",
      "pre tokenize: 100%|██████████| 1/1 [00:00<?, ?it/s]\n",
      "pre tokenize: 100%|██████████| 1/1 [00:00<?, ?it/s]\n",
      "pre tokenize: 100%|██████████| 1/1 [00:00<00:00, 1001.51it/s]\n",
      "pre tokenize: 100%|██████████| 1/1 [00:00<00:00, 1001.51it/s]\n",
      "pre tokenize: 100%|██████████| 1/1 [00:00<?, ?it/s]\n",
      "pre tokenize: 100%|██████████| 1/1 [00:00<?, ?it/s]\n",
      "pre tokenize: 100%|██████████| 1/1 [00:00<?, ?it/s]\n",
      "pre tokenize: 100%|██████████| 1/1 [00:00<?, ?it/s]\n",
      "pre tokenize: 100%|██████████| 1/1 [00:00<?, ?it/s]\n",
      "pre tokenize: 100%|██████████| 1/1 [00:00<00:00, 1001.74it/s]\n",
      "pre tokenize: 100%|██████████| 1/1 [00:00<?, ?it/s]\n",
      "pre tokenize: 100%|██████████| 1/1 [00:00<?, ?it/s]\n",
      "pre tokenize: 100%|██████████| 1/1 [00:00<00:00, 1002.22it/s]\n",
      "pre tokenize: 100%|██████████| 1/1 [00:00<00:00, 1002.70it/s]\n",
      "pre tokenize: 100%|██████████| 1/1 [00:00<?, ?it/s]\n",
      "pre tokenize: 100%|██████████| 1/1 [00:00<?, ?it/s]\n",
      "pre tokenize: 100%|██████████| 1/1 [00:00<00:00, 1001.03it/s]\n",
      "pre tokenize: 100%|██████████| 1/1 [00:00<00:00, 1002.70it/s]\n",
      "pre tokenize: 100%|██████████| 1/1 [00:00<00:00, 1002.22it/s]\n"
     ]
    },
    {
     "name": "stdout",
     "output_type": "stream",
     "text": [
      "Skipping reply email: =?UTF-8?Q?Re=3A_haftal=C4=B1k_toplant=C4=B1_saati?=\n"
     ]
    },
    {
     "name": "stderr",
     "output_type": "stream",
     "text": [
      "pre tokenize: 100%|██████████| 1/1 [00:00<00:00, 1003.90it/s]\n",
      "pre tokenize: 100%|██████████| 1/1 [00:00<00:00, 1001.51it/s]\n",
      "pre tokenize: 100%|██████████| 1/1 [00:00<00:00, 1001.27it/s]\n",
      "pre tokenize: 100%|██████████| 1/1 [00:00<?, ?it/s]\n"
     ]
    },
    {
     "name": "stdout",
     "output_type": "stream",
     "text": [
      "Skipping reply email: Re: rewrited version of summary\n"
     ]
    },
    {
     "name": "stderr",
     "output_type": "stream",
     "text": [
      "pre tokenize: 100%|██████████| 1/1 [00:00<?, ?it/s]\n",
      "pre tokenize: 100%|██████████| 1/1 [00:00<?, ?it/s]\n",
      "pre tokenize: 100%|██████████| 1/1 [00:00<00:00, 1002.46it/s]\n",
      "pre tokenize: 100%|██████████| 1/1 [00:00<00:00, 1002.22it/s]\n",
      "pre tokenize: 100%|██████████| 1/1 [00:00<?, ?it/s]\n",
      "pre tokenize: 100%|██████████| 1/1 [00:00<00:00, 1002.70it/s]\n"
     ]
    },
    {
     "name": "stdout",
     "output_type": "stream",
     "text": [
      "Skipping reply email: =?UTF-8?Q?Re=3a_B=c3=b6l=c3=bcm_deklare_etmeden_Erasmus_ba=c5=9fvur?=\n",
      " =?UTF-8?Q?usu_yapmak_hakk=c4=b1nda?=\n"
     ]
    },
    {
     "name": "stderr",
     "output_type": "stream",
     "text": [
      "pre tokenize: 100%|██████████| 1/1 [00:00<?, ?it/s]\n",
      "pre tokenize: 100%|██████████| 1/1 [00:00<00:00, 1003.18it/s]\n",
      "pre tokenize: 100%|██████████| 1/1 [00:00<00:00, 1951.75it/s]\n",
      "pre tokenize: 100%|██████████| 1/1 [00:00<?, ?it/s]\n",
      "pre tokenize: 100%|██████████| 1/1 [00:00<00:00, 1002.70it/s]\n",
      "pre tokenize: 100%|██████████| 1/1 [00:00<00:00, 1001.98it/s]\n",
      "pre tokenize: 100%|██████████| 1/1 [00:00<00:00, 1002.22it/s]\n",
      "pre tokenize: 100%|██████████| 1/1 [00:00<?, ?it/s]\n",
      "pre tokenize: 100%|██████████| 1/1 [00:00<00:00, 1002.94it/s]\n",
      "pre tokenize: 100%|██████████| 1/1 [00:00<00:00, 1002.70it/s]\n"
     ]
    },
    {
     "name": "stdout",
     "output_type": "stream",
     "text": [
      "Skipping reply email: Re: P&G - please reply\n",
      "Failed to parse date: Thu,  3 Nov 2022 10:00:40 +0000 (UTC)\n"
     ]
    },
    {
     "name": "stderr",
     "output_type": "stream",
     "text": [
      "pre tokenize: 100%|██████████| 1/1 [00:00<?, ?it/s]\n",
      "pre tokenize: 100%|██████████| 1/1 [00:00<00:00, 1002.70it/s]\n"
     ]
    },
    {
     "name": "stdout",
     "output_type": "stream",
     "text": [
      "Skipping email 873 due to date parsing issues.\n",
      "\n"
     ]
    },
    {
     "name": "stderr",
     "output_type": "stream",
     "text": [
      "pre tokenize: 100%|██████████| 1/1 [00:00<?, ?it/s]\n",
      "pre tokenize: 100%|██████████| 1/1 [00:00<?, ?it/s]\n"
     ]
    },
    {
     "name": "stdout",
     "output_type": "stream",
     "text": [
      "Skipping reply email: Re: Proj 201 grup 2\n",
      "Skipping reply email: Re: Proj 201 grup 2\n",
      "Skipping reply email: Re: Proj 201 grup 2\n"
     ]
    },
    {
     "name": "stderr",
     "output_type": "stream",
     "text": [
      "pre tokenize: 100%|██████████| 1/1 [00:00<00:00, 1002.46it/s]\n",
      "pre tokenize: 100%|██████████| 1/1 [00:00<?, ?it/s]\n"
     ]
    },
    {
     "name": "stdout",
     "output_type": "stream",
     "text": [
      "Skipping reply email: =?UTF-8?Q?Re=3A_Master_ba=C5=9Fvurusu_hakk=C4=B1nda?=\n"
     ]
    },
    {
     "name": "stderr",
     "output_type": "stream",
     "text": [
      "pre tokenize: 100%|██████████| 1/1 [00:00<00:00, 1002.94it/s]\n",
      "pre tokenize: 100%|██████████| 1/1 [00:00<00:00, 1002.46it/s]\n"
     ]
    },
    {
     "name": "stdout",
     "output_type": "stream",
     "text": [
      "Skipping reply email: =?UTF-8?B?UmU6IEhhZnRhbMSxayB0b3BsYW50xLE=?=\n"
     ]
    },
    {
     "name": "stderr",
     "output_type": "stream",
     "text": [
      "pre tokenize: 100%|██████████| 1/1 [00:00<00:00, 1001.98it/s]\n",
      "pre tokenize: 100%|██████████| 1/1 [00:00<00:00, 1002.94it/s]\n",
      "pre tokenize: 100%|██████████| 1/1 [00:00<00:00, 1002.94it/s]\n",
      "pre tokenize: 100%|██████████| 1/1 [00:00<?, ?it/s]\n",
      "pre tokenize: 100%|██████████| 1/1 [00:00<?, ?it/s]\n",
      "pre tokenize: 100%|██████████| 1/1 [00:00<?, ?it/s]\n",
      "pre tokenize: 100%|██████████| 1/1 [00:00<?, ?it/s]\n",
      "pre tokenize: 100%|██████████| 1/1 [00:00<?, ?it/s]\n",
      "pre tokenize: 100%|██████████| 1/1 [00:00<?, ?it/s]\n",
      "pre tokenize: 100%|██████████| 1/1 [00:00<?, ?it/s]\n",
      "pre tokenize: 100%|██████████| 1/1 [00:00<00:00, 1002.22it/s]\n",
      "pre tokenize: 100%|██████████| 1/1 [00:00<?, ?it/s]\n"
     ]
    },
    {
     "name": "stdout",
     "output_type": "stream",
     "text": [
      "Skipping reply email: =?UTF-8?Q?Re=3A_Sabanc=C4=B1_=C3=9Cniversitesi_GDSC_E=C4=9Fitim_Daveti?=\n",
      "Skipping reply email: =?UTF-8?Q?Re=3A_Sabanc=C4=B1_=C3=9Cniversitesi_GDSC_E=C4=9Fitim_Daveti?=\n",
      "Skipping reply email: =?UTF-8?Q?Re=3A_Sabanc=C4=B1_=C3=9Cniversitesi_GDSC_E=C4=9Fitim_Daveti?=\n",
      "Skipping reply email: =?UTF-8?Q?Re=3A_Sabanc=C4=B1_=C3=9Cniversitesi_GDSC_E=C4=9Fitim_Daveti?=\n",
      "Skipping reply email: =?UTF-8?Q?Sabanc=C4=B1_=C3=9Cniversitesi_GDSC_E=C4=9Fitim_Daveti?=\n"
     ]
    },
    {
     "name": "stderr",
     "output_type": "stream",
     "text": [
      "pre tokenize: 100%|██████████| 1/1 [00:00<00:00, 1002.46it/s]\n",
      "pre tokenize: 100%|██████████| 1/1 [00:00<?, ?it/s]\n"
     ]
    },
    {
     "name": "stdout",
     "output_type": "stream",
     "text": [
      "Skipping reply email: =?UTF-8?Q?Re=3A_=C3=96NEML=C4=B0_=3A_Form_ve_Evrak_y=C3=BCkleme_=2F_IMPORTANT_=3A_?=\n",
      "\t=?UTF-8?Q?Uploading_Forms_and_Documents?=\n",
      "Skipping reply email: =?UTF-8?Q?=c3=96NEML=c4=b0_=3a_Form_ve_Evrak_y=c3=bckleme_/_IMPORTA?=\n",
      " =?UTF-8?Q?NT_=3a_Uploading_Forms_and_Documents?=\n"
     ]
    },
    {
     "name": "stderr",
     "output_type": "stream",
     "text": [
      "pre tokenize: 100%|██████████| 1/1 [00:00<?, ?it/s]\n",
      "pre tokenize: 100%|██████████| 1/1 [00:00<00:00, 1002.70it/s]\n",
      "pre tokenize: 100%|██████████| 1/1 [00:00<00:00, 1002.70it/s]\n",
      "pre tokenize: 100%|██████████| 1/1 [00:00<00:00, 1000.31it/s]\n",
      "pre tokenize: 100%|██████████| 1/1 [00:00<?, ?it/s]\n",
      "pre tokenize: 100%|██████████| 1/1 [00:00<00:00, 1003.42it/s]\n"
     ]
    },
    {
     "name": "stdout",
     "output_type": "stream",
     "text": [
      "Skipping reply email: =?UTF-8?Q?Re=3A_Erasmus_Transkript=2DArda_Ayd=C4=B1n?=\n",
      "Skipping reply email: =?UTF-8?Q?Re=3A_Erasmus_Transkript-Arda_Ayd=C4=B1n?=\n",
      "Skipping reply email: =?UTF-8?Q?Re:_Erasmus_Transkript-Arda_Ayd=C4=B1n?=\n",
      "Skipping reply email: =?UTF-8?Q?Re=3A_Erasmus_Transkript=2DArda_Ayd=C4=B1n?=\n"
     ]
    },
    {
     "name": "stderr",
     "output_type": "stream",
     "text": [
      "pre tokenize: 100%|██████████| 1/1 [00:00<00:00, 1001.51it/s]\n",
      "pre tokenize: 100%|██████████| 1/1 [00:00<?, ?it/s]\n",
      "pre tokenize: 100%|██████████| 1/1 [00:00<?, ?it/s]\n",
      "pre tokenize: 100%|██████████| 1/1 [00:00<00:00, 1002.70it/s]\n",
      "pre tokenize: 100%|██████████| 1/1 [00:00<?, ?it/s]\n",
      "pre tokenize: 100%|██████████| 1/1 [00:00<?, ?it/s]\n"
     ]
    },
    {
     "name": "stdout",
     "output_type": "stream",
     "text": [
      "Skipping reply email: Re: Review anything in here for $10\n",
      "Skipping reply email: Review anything in here for $10\n",
      "Skipping reply email: Re: process essay\n",
      "Skipping reply email: Re: process essay\n"
     ]
    },
    {
     "name": "stderr",
     "output_type": "stream",
     "text": [
      "pre tokenize: 100%|██████████| 1/1 [00:00<?, ?it/s]\n",
      "pre tokenize: 100%|██████████| 1/1 [00:00<00:00, 1002.94it/s]\n"
     ]
    },
    {
     "name": "stdout",
     "output_type": "stream",
     "text": [
      "Skipping reply email: =?UTF-8?B?UmU6IEhpc3QgMTkxLUEgU8SxbmF2xLE=?=\n",
      "Skipping reply email: =?UTF-8?B?UmU6IEhpc3QgMTkxLUEgU8SxbmF2xLE=?=\n",
      "Skipping reply email: =?UTF-8?B?UmU6IEhpc3QgMTkxLUEgU8SxbmF2xLE=?=\n"
     ]
    },
    {
     "name": "stderr",
     "output_type": "stream",
     "text": [
      "pre tokenize: 100%|██████████| 1/1 [00:00<00:00, 1002.46it/s]\n",
      "pre tokenize: 100%|██████████| 1/1 [00:00<00:00, 1001.27it/s]\n"
     ]
    },
    {
     "name": "stdout",
     "output_type": "stream",
     "text": [
      "Skipping reply email: AW: Enrolment Documents\n"
     ]
    },
    {
     "name": "stderr",
     "output_type": "stream",
     "text": [
      "pre tokenize: 100%|██████████| 1/1 [00:00<00:00, 1002.22it/s]\n",
      "pre tokenize: 100%|██████████| 1/1 [00:00<00:00, 1002.70it/s]\n"
     ]
    },
    {
     "name": "stdout",
     "output_type": "stream",
     "text": [
      "Skipping reply email: Re: IE311 Office Hour\n"
     ]
    },
    {
     "name": "stderr",
     "output_type": "stream",
     "text": [
      "pre tokenize: 100%|██████████| 1/1 [00:00<00:00, 1003.18it/s]\n",
      "pre tokenize: 100%|██████████| 1/1 [00:00<?, ?it/s]\n"
     ]
    },
    {
     "name": "stdout",
     "output_type": "stream",
     "text": [
      "Skipping reply email: =?UTF-8?Q?Re=3A_Portf=C3=B6y_optimizasyonu_hk=2E?=\n",
      "Skipping reply email: =?UTF-8?Q?Re=3A_Portf=C3=B6y_optimizasyonu_hk=2E?=\n",
      "Skipping reply email: =?UTF-8?Q?Re=3A_Portf=C3=B6y_optimizasyonu_hk=2E?=\n",
      "Skipping reply email: =?UTF-8?Q?Re=3A_Portf=C3=B6y_optimizasyonu_hk=2E?=\n",
      "Skipping reply email: =?UTF-8?Q?Re=3A_Portf=C3=B6y_optimizasyonu_hk=2E?=\n",
      "Skipping reply email: =?UTF-8?Q?Re=3A_Portf=C3=B6y_optimizasyonu_hk=2E?=\n",
      "Skipping reply email: =?UTF-8?Q?Re=3A_Portf=C3=B6y_optimizasyonu_hk=2E?=\n",
      "Skipping reply email: =?UTF-8?Q?Re=3A_Portf=C3=B6y_optimizasyonu_hk=2E?=\n"
     ]
    },
    {
     "name": "stderr",
     "output_type": "stream",
     "text": [
      "pre tokenize: 100%|██████████| 1/1 [00:00<00:00, 1001.27it/s]\n",
      "pre tokenize: 100%|██████████| 1/1 [00:00<00:00, 1001.03it/s]\n",
      "pre tokenize: 100%|██████████| 1/1 [00:00<?, ?it/s]\n",
      "pre tokenize: 100%|██████████| 1/1 [00:00<?, ?it/s]\n"
     ]
    },
    {
     "name": "stdout",
     "output_type": "stream",
     "text": [
      "Skipping reply email: Re: Hit Song Prediction Project Proposal\n",
      "Skipping reply email: Re: Hit Song Prediction Project Proposal\n",
      "Skipping reply email: Re: Hit Song Prediction Project Proposal\n",
      "Skipping reply email: Re: Hit Song Prediction Project Proposal\n",
      "Skipping reply email: Re: Hit Song Prediction Project Proposal\n",
      "Skipping reply email: Re: Hit Song Prediction Project Proposal\n",
      "Skipping reply email: Re: Hit Song Prediction Project Proposal\n"
     ]
    },
    {
     "name": "stderr",
     "output_type": "stream",
     "text": [
      "pre tokenize: 100%|██████████| 1/1 [00:00<00:00, 501.35it/s]\n",
      "pre tokenize: 100%|██████████| 1/1 [00:00<00:00, 1002.46it/s]\n",
      "pre tokenize: 100%|██████████| 1/1 [00:00<00:00, 1002.46it/s]\n",
      "pre tokenize: 100%|██████████| 1/1 [00:00<?, ?it/s]\n"
     ]
    },
    {
     "name": "stdout",
     "output_type": "stream",
     "text": [
      "Skipping reply email: =?UTF-8?Q?Re=3A_Yemek_porsiyonlar=C4=B1_hakk=C4=B1nda?=\n",
      "Skipping reply email: =?UTF-8?Q?Re=3a_Yemek_porsiyonlar=c4=b1_hakk=c4=b1nda?=\n",
      "Skipping reply email: =?UTF-8?Q?Re=3A_Yemek_porsiyonlar=C4=B1_hakk=C4=B1nda?=\n",
      "Skipping reply email: =?UTF-8?Q?Re=3a_Yemek_porsiyonlar=c4=b1_hakk=c4=b1nda?=\n"
     ]
    },
    {
     "name": "stderr",
     "output_type": "stream",
     "text": [
      "pre tokenize: 100%|██████████| 1/1 [00:00<00:00, 1002.70it/s]\n",
      "pre tokenize: 100%|██████████| 1/1 [00:00<00:00, 1001.27it/s]\n",
      "pre tokenize: 100%|██████████| 1/1 [00:00<?, ?it/s]\n",
      "pre tokenize: 100%|██████████| 1/1 [00:00<?, ?it/s]\n"
     ]
    },
    {
     "name": "stdout",
     "output_type": "stream",
     "text": [
      "Skipping reply email: Re: feedback\n"
     ]
    },
    {
     "name": "stderr",
     "output_type": "stream",
     "text": [
      "pre tokenize: 100%|██████████| 1/1 [00:00<00:00, 1001.51it/s]\n",
      "pre tokenize: 100%|██████████| 1/1 [00:00<00:00, 1002.70it/s]\n",
      "pre tokenize: 100%|██████████| 1/1 [00:00<00:00, 491.83it/s]\n",
      "pre tokenize: 100%|██████████| 1/1 [00:00<00:00, 1001.27it/s]\n",
      "pre tokenize: 100%|██████████| 1/1 [00:00<?, ?it/s]\n",
      "pre tokenize: 100%|██████████| 1/1 [00:00<?, ?it/s]\n",
      "pre tokenize: 100%|██████████| 1/1 [00:00<?, ?it/s]\n",
      "pre tokenize: 100%|██████████| 1/1 [00:00<?, ?it/s]\n",
      "pre tokenize: 100%|██████████| 1/1 [00:00<00:00, 1001.98it/s]\n",
      "pre tokenize: 100%|██████████| 1/1 [00:00<00:00, 1003.18it/s]\n",
      "pre tokenize: 100%|██████████| 1/1 [00:00<?, ?it/s]\n",
      "pre tokenize: 100%|██████████| 1/1 [00:00<00:00, 1002.70it/s]\n"
     ]
    },
    {
     "name": "stdout",
     "output_type": "stream",
     "text": [
      "Skipping reply email: =?UTF-8?B?UmU6IDI4LjA0IEN1bWEgVG9wbGFudMSxc8SxIEhha2vEsW5kYQ==?=\n"
     ]
    },
    {
     "name": "stderr",
     "output_type": "stream",
     "text": [
      "pre tokenize: 100%|██████████| 1/1 [00:00<?, ?it/s]\n",
      "pre tokenize: 100%|██████████| 1/1 [00:00<00:00, 995.56it/s]\n",
      "pre tokenize: 100%|██████████| 1/1 [00:00<?, ?it/s]\n",
      "pre tokenize: 100%|██████████| 1/1 [00:00<00:00, 1002.46it/s]\n",
      "pre tokenize: 100%|██████████| 1/1 [00:00<?, ?it/s]\n",
      "pre tokenize: 100%|██████████| 1/1 [00:00<00:00, 1002.22it/s]\n"
     ]
    },
    {
     "name": "stdout",
     "output_type": "stream",
     "text": [
      "Skipping reply email: Re: Erasmus'ta iken ENS 492\n",
      "Skipping reply email: Re: Erasmus'ta iken ENS 492\n",
      "Skipping reply email: Re: Erasmus'ta iken ENS 492\n",
      "Skipping reply email: Re: Erasmus'ta iken ENS 492\n",
      "Skipping reply email: Re: Erasmus'ta iken ENS 492\n",
      "Skipping reply email: Re: Erasmus'ta iken ENS 492\n",
      "Skipping reply email: Re: Erasmus'ta iken ENS 492\n",
      "Skipping reply email: Re: Erasmus'ta iken ENS 492\n",
      "Skipping reply email: Re: Erasmus'ta iken ENS 492\n"
     ]
    },
    {
     "name": "stderr",
     "output_type": "stream",
     "text": [
      "pre tokenize: 100%|██████████| 1/1 [00:00<00:00, 1001.74it/s]\n",
      "pre tokenize: 100%|██████████| 1/1 [00:00<00:00, 1002.70it/s]\n",
      "pre tokenize: 100%|██████████| 1/1 [00:00<00:00, 988.52it/s]\n",
      "pre tokenize: 100%|██████████| 1/1 [00:00<00:00, 1002.22it/s]\n",
      "pre tokenize: 100%|██████████| 1/1 [00:00<00:00, 1038.19it/s]\n",
      "pre tokenize: 100%|██████████| 1/1 [00:00<?, ?it/s]\n"
     ]
    },
    {
     "name": "stdout",
     "output_type": "stream",
     "text": [
      "Skipping reply email: Re: GDSC\n",
      "Skipping reply email: Fwd: GDSC\n"
     ]
    },
    {
     "name": "stderr",
     "output_type": "stream",
     "text": [
      "pre tokenize: 100%|██████████| 1/1 [00:00<00:00, 1001.27it/s]\n",
      "pre tokenize: 100%|██████████| 1/1 [00:00<00:00, 1043.62it/s]\n",
      "pre tokenize: 100%|██████████| 1/1 [00:00<00:00, 1002.94it/s]\n",
      "pre tokenize: 100%|██████████| 1/1 [00:00<?, ?it/s]\n",
      "pre tokenize: 100%|██████████| 1/1 [00:00<?, ?it/s]\n",
      "pre tokenize: 100%|██████████| 1/1 [00:00<?, ?it/s]\n",
      "pre tokenize: 100%|██████████| 1/1 [00:00<00:00, 1003.66it/s]\n",
      "pre tokenize: 100%|██████████| 1/1 [00:00<?, ?it/s]\n",
      "pre tokenize: 100%|██████████| 1/1 [00:00<00:00, 1002.22it/s]\n",
      "pre tokenize: 100%|██████████| 1/1 [00:00<00:00, 1003.42it/s]\n",
      "pre tokenize: 100%|██████████| 1/1 [00:00<?, ?it/s]\n",
      "pre tokenize: 100%|██████████| 1/1 [00:00<00:00, 1004.14it/s]\n"
     ]
    },
    {
     "name": "stdout",
     "output_type": "stream",
     "text": [
      "Skipping reply email: =?UTF-8?B?UmU6IFlheiBzdGFqxLEgYmHFn3Z1cnU=?=\n",
      "Skipping reply email: =?UTF-8?B?UmU6IFlheiBzdGFqxLEgYmHFn3Z1cnU=?=\n",
      "Skipping reply email: =?UTF-8?B?UmU6IFlheiBzdGFqxLEgYmHFn3Z1cnU=?=\n",
      "Skipping reply email: =?UTF-8?B?UmU6IFlheiBzdGFqxLEgYmHFn3Z1cnU=?=\n",
      "Skipping reply email: =?UTF-8?B?RndkOiBZYXogc3RhasSxIGJhxZ92dXJ1?=\n",
      "Skipping reply email: =?UTF-8?B?UmU6IFlheiBzdGFqxLEgYmHFn3Z1cnU=?=\n"
     ]
    },
    {
     "name": "stderr",
     "output_type": "stream",
     "text": [
      "pre tokenize: 100%|██████████| 1/1 [00:00<?, ?it/s]\n",
      "pre tokenize: 100%|██████████| 1/1 [00:00<00:00, 1001.74it/s]\n"
     ]
    },
    {
     "name": "stdout",
     "output_type": "stream",
     "text": [
      "Skipping reply email: =?UTF-8?B?UmU6IFlheiBzdGFqxLEgYmHFn3Z1cnU=?=\n"
     ]
    },
    {
     "name": "stderr",
     "output_type": "stream",
     "text": [
      "pre tokenize: 100%|██████████| 1/1 [00:00<00:00, 1002.94it/s]\n",
      "pre tokenize: 100%|██████████| 1/1 [00:00<?, ?it/s]\n"
     ]
    },
    {
     "name": "stdout",
     "output_type": "stream",
     "text": [
      "Skipping reply email: =?UTF-8?B?UmU6IFlheiBzdGFqxLEgYmHFn3Z1cnU=?=\n"
     ]
    },
    {
     "name": "stderr",
     "output_type": "stream",
     "text": [
      "pre tokenize: 100%|██████████| 1/1 [00:00<00:00, 1002.22it/s]\n",
      "pre tokenize: 100%|██████████| 1/1 [00:00<00:00, 1003.42it/s]\n"
     ]
    },
    {
     "name": "stdout",
     "output_type": "stream",
     "text": [
      "Skipping reply email: \n"
     ]
    },
    {
     "name": "stderr",
     "output_type": "stream",
     "text": [
      "pre tokenize: 100%|██████████| 1/1 [00:00<?, ?it/s]\n",
      "pre tokenize: 100%|██████████| 1/1 [00:00<?, ?it/s]\n"
     ]
    },
    {
     "name": "stdout",
     "output_type": "stream",
     "text": [
      "Skipping reply email: Re: Quiz 3\n",
      "Skipping reply email: Fwd: Quiz 3\n"
     ]
    },
    {
     "name": "stderr",
     "output_type": "stream",
     "text": [
      "pre tokenize: 100%|██████████| 1/1 [00:00<00:00, 1002.94it/s]\n",
      "pre tokenize: 100%|██████████| 1/1 [00:00<00:00, 1002.46it/s]\n",
      "pre tokenize: 100%|██████████| 1/1 [00:00<?, ?it/s]\n",
      "pre tokenize: 100%|██████████| 1/1 [00:00<00:00, 1002.70it/s]\n",
      "pre tokenize: 100%|██████████| 1/1 [00:00<00:00, 1002.94it/s]\n",
      "pre tokenize: 100%|██████████| 1/1 [00:00<00:00, 1002.70it/s]\n"
     ]
    },
    {
     "name": "stdout",
     "output_type": "stream",
     "text": [
      "Skipping reply email: Re: IE303 Final objection\n"
     ]
    },
    {
     "name": "stderr",
     "output_type": "stream",
     "text": [
      "pre tokenize: 100%|██████████| 1/1 [00:00<00:00, 1002.22it/s]\n",
      "pre tokenize: 100%|██████████| 1/1 [00:00<00:00, 1001.98it/s]\n",
      "pre tokenize: 100%|██████████| 1/1 [00:00<?, ?it/s]\n",
      "pre tokenize: 100%|██████████| 1/1 [00:00<?, ?it/s]\n",
      "pre tokenize: 100%|██████████| 1/1 [00:00<?, ?it/s]\n",
      "pre tokenize: 100%|██████████| 1/1 [00:00<?, ?it/s]\n"
     ]
    },
    {
     "name": "stdout",
     "output_type": "stream",
     "text": [
      "Skipping reply email: Re: Yurt\n",
      "Skipping reply email: Re: Yurt\n"
     ]
    },
    {
     "name": "stderr",
     "output_type": "stream",
     "text": [
      "pre tokenize: 100%|██████████| 1/1 [00:00<?, ?it/s]\n",
      "pre tokenize: 100%|██████████| 1/1 [00:00<?, ?it/s]\n",
      "pre tokenize: 100%|██████████| 1/1 [00:00<00:00, 1002.94it/s]\n",
      "pre tokenize: 100%|██████████| 1/1 [00:00<00:00, 1004.38it/s]\n"
     ]
    },
    {
     "name": "stdout",
     "output_type": "stream",
     "text": [
      "Skipping reply email: Fwd: EarlyBird Venture Capital Internship & Job Opportunities\n",
      "Skipping reply email: EarlyBird Venture Capital Internship & Job Opportunities\n",
      "Skipping reply email: Re: Cs306 grade onjection\n"
     ]
    },
    {
     "name": "stderr",
     "output_type": "stream",
     "text": [
      "pre tokenize: 100%|██████████| 1/1 [00:00<00:00, 1002.70it/s]\n",
      "pre tokenize: 100%|██████████| 1/1 [00:00<00:00, 1007.04it/s]\n"
     ]
    },
    {
     "name": "stdout",
     "output_type": "stream",
     "text": [
      "Skipping reply email: Fwd: Math306 notlar\n"
     ]
    },
    {
     "name": "stderr",
     "output_type": "stream",
     "text": [
      "pre tokenize: 100%|██████████| 1/1 [00:00<?, ?it/s]\n",
      "pre tokenize: 100%|██████████| 1/1 [00:00<?, ?it/s]\n"
     ]
    },
    {
     "name": "stdout",
     "output_type": "stream",
     "text": [
      "Skipping reply email: Re: Distinguished Research Fellows Seminerleri\n",
      "Skipping reply email: Fwd: Distinguished Research Fellows Seminerleri\n",
      "Skipping reply email: AW: [EXT]Clogged Sink and Bathtub\n",
      "Skipping reply email: AW: [EXT]Clogged Sink and Bathtub\n"
     ]
    },
    {
     "name": "stderr",
     "output_type": "stream",
     "text": [
      "pre tokenize: 100%|██████████| 1/1 [00:00<00:00, 1002.46it/s]\n",
      "pre tokenize: 100%|██████████| 1/1 [00:00<00:00, 1003.18it/s]\n",
      "pre tokenize: 100%|██████████| 1/1 [00:00<?, ?it/s]\n",
      "pre tokenize: 100%|██████████| 1/1 [00:00<?, ?it/s]\n",
      "pre tokenize: 100%|██████████| 1/1 [00:00<?, ?it/s]\n",
      "pre tokenize: 100%|██████████| 1/1 [00:00<?, ?it/s]\n",
      "pre tokenize: 100%|██████████| 1/1 [00:00<?, ?it/s]\n",
      "pre tokenize: 100%|██████████| 1/1 [00:00<00:00, 1002.94it/s]\n",
      "pre tokenize: 100%|██████████| 1/1 [00:00<00:00, 1002.94it/s]\n",
      "pre tokenize: 100%|██████████| 1/1 [00:00<?, ?it/s]\n",
      "pre tokenize: 100%|██████████| 1/1 [00:00<?, ?it/s]\n",
      "pre tokenize: 100%|██████████| 1/1 [00:00<?, ?it/s]\n",
      "pre tokenize: 100%|██████████| 1/1 [00:00<00:00, 1002.70it/s]\n",
      "pre tokenize: 100%|██████████| 1/1 [00:00<00:00, 1002.70it/s]\n"
     ]
    },
    {
     "name": "stdout",
     "output_type": "stream",
     "text": [
      "Skipping reply email: =?UTF-8?Q?Re=3A_Staj_dersi_hakk=C4=B1nda?=\n",
      "Skipping reply email: =?UTF-8?Q?Re=3A_Staj_dersi_hakk=C4=B1nda?=\n",
      "Skipping reply email: =?UTF-8?Q?Re=3A_Staj_dersi_hakk=C4=B1nda?=\n",
      "Skipping reply email: =?UTF-8?Q?Re=3A_Staj_dersi_hakk=C4=B1nda?=\n",
      "Skipping reply email: =?UTF-8?Q?Re=3A_Staj_dersi_hakk=C4=B1nda?=\n"
     ]
    },
    {
     "name": "stderr",
     "output_type": "stream",
     "text": [
      "pre tokenize: 100%|██████████| 1/1 [00:00<00:00, 1003.42it/s]\n",
      "pre tokenize: 100%|██████████| 1/1 [00:00<00:00, 1002.94it/s]\n"
     ]
    },
    {
     "name": "stdout",
     "output_type": "stream",
     "text": [
      "Skipping reply email: Re: Sabah saatlerindeki shuttlelar\n"
     ]
    },
    {
     "name": "stderr",
     "output_type": "stream",
     "text": [
      "pre tokenize: 100%|██████████| 1/1 [00:00<?, ?it/s]\n",
      "pre tokenize: 100%|██████████| 1/1 [00:00<00:00, 1001.98it/s]\n",
      "pre tokenize: 100%|██████████| 1/1 [00:00<00:00, 1018.78it/s]\n",
      "pre tokenize: 100%|██████████| 1/1 [00:00<?, ?it/s]\n"
     ]
    },
    {
     "name": "stdout",
     "output_type": "stream",
     "text": [
      "Skipping reply email: =?UTF-8?B?UmU6IEfDvHJzZWwgaWxlIGFsYWthbMSxIMWfaWtheWV0?=\n"
     ]
    },
    {
     "name": "stderr",
     "output_type": "stream",
     "text": [
      "pre tokenize: 100%|██████████| 1/1 [00:00<00:00, 1002.94it/s]\n",
      "pre tokenize: 100%|██████████| 1/1 [00:00<?, ?it/s]\n"
     ]
    },
    {
     "name": "stdout",
     "output_type": "stream",
     "text": [
      "Skipping reply email: =?UTF-8?Q?Re=3A_E_devlet_=C3=B6=C4=9Frenci_belgesi_sorgulama?=\n"
     ]
    },
    {
     "name": "stderr",
     "output_type": "stream",
     "text": [
      "pre tokenize: 100%|██████████| 1/1 [00:00<00:00, 1001.98it/s]\n",
      "pre tokenize: 100%|██████████| 1/1 [00:00<00:00, 1002.94it/s]\n",
      "pre tokenize: 100%|██████████| 1/1 [00:00<?, ?it/s]\n",
      "pre tokenize: 100%|██████████| 1/1 [00:00<?, ?it/s]\n"
     ]
    },
    {
     "name": "stdout",
     "output_type": "stream",
     "text": [
      "Skipping reply email: Re: Tll 102 sunum\n"
     ]
    },
    {
     "name": "stderr",
     "output_type": "stream",
     "text": [
      "pre tokenize: 100%|██████████| 1/1 [00:00<00:00, 1001.74it/s]\n",
      "pre tokenize: 100%|██████████| 1/1 [00:00<00:00, 1002.46it/s]\n",
      "pre tokenize: 100%|██████████| 1/1 [00:00<?, ?it/s]\n",
      "pre tokenize: 100%|██████████| 1/1 [00:00<?, ?it/s]\n",
      "pre tokenize: 100%|██████████| 1/1 [00:00<?, ?it/s]\n",
      "pre tokenize: 100%|██████████| 1/1 [00:00<?, ?it/s]\n",
      "pre tokenize: 100%|██████████| 1/1 [00:00<00:00, 1003.18it/s]\n",
      "pre tokenize: 100%|██████████| 1/1 [00:00<00:00, 1002.70it/s]\n"
     ]
    },
    {
     "name": "stdout",
     "output_type": "stream",
     "text": [
      "Skipping reply email: =?UTF-8?Q?Re=3a_Erasmus_yerle=c5=9ftirmesine_itiraz?=\n"
     ]
    },
    {
     "name": "stderr",
     "output_type": "stream",
     "text": [
      "pre tokenize: 100%|██████████| 1/1 [00:00<00:00, 1002.22it/s]\n",
      "pre tokenize: 100%|██████████| 1/1 [00:00<00:00, 1002.70it/s]\n"
     ]
    },
    {
     "name": "stdout",
     "output_type": "stream",
     "text": [
      "Skipping reply email: =?UTF-8?B?R0RTQy1UZW5zb3JmbG93IDEuIGvEsXPEsW0=?=\n"
     ]
    },
    {
     "name": "stderr",
     "output_type": "stream",
     "text": [
      "pre tokenize: 100%|██████████| 1/1 [00:00<00:00, 1001.98it/s]\n",
      "pre tokenize: 100%|██████████| 1/1 [00:00<00:00, 1002.46it/s]\n"
     ]
    },
    {
     "name": "stdout",
     "output_type": "stream",
     "text": [
      "Skipping reply email: Re: ie311 quiz answer key\n",
      "Skipping reply email: Re: ie311 quiz answer key\n",
      "Skipping reply email: Re: ie311 quiz answer key\n",
      "Skipping reply email: Fwd: ie311 quiz answer key\n"
     ]
    },
    {
     "name": "stderr",
     "output_type": "stream",
     "text": [
      "pre tokenize: 100%|██████████| 1/1 [00:00<00:00, 1001.74it/s]\n",
      "pre tokenize: 100%|██████████| 1/1 [00:00<?, ?it/s]\n",
      "pre tokenize: 100%|██████████| 1/1 [00:00<?, ?it/s]\n",
      "pre tokenize: 100%|██████████| 1/1 [00:00<00:00, 1003.42it/s]\n",
      "pre tokenize: 100%|██████████| 1/1 [00:00<00:00, 1003.42it/s]\n",
      "pre tokenize: 100%|██████████| 1/1 [00:00<00:00, 1003.42it/s]\n",
      "pre tokenize: 100%|██████████| 1/1 [00:00<00:00, 1002.94it/s]\n",
      "pre tokenize: 100%|██████████| 1/1 [00:00<?, ?it/s]\n"
     ]
    },
    {
     "name": "stdout",
     "output_type": "stream",
     "text": [
      "Skipping reply email: Re: Data kismi\n",
      "Skipping reply email: Re: Data kismi\n",
      "Skipping reply email: Re: Data kismi\n",
      "Skipping reply email: Re: Data kismi\n"
     ]
    },
    {
     "name": "stderr",
     "output_type": "stream",
     "text": [
      "pre tokenize: 100%|██████████| 1/1 [00:00<?, ?it/s]\n",
      "pre tokenize: 100%|██████████| 1/1 [00:00<00:00, 1003.18it/s]\n"
     ]
    }
   ],
   "source": [
    "\n",
    "# Extract data from each message\n",
    "data = []\n",
    "for i, message in enumerate(mbox):\n",
    "    subject = message['subject']\n",
    "    sender = message['from']\n",
    "    date_str = message['date']\n",
    "    body = get_email_body(message)\n",
    "\n",
    "    if is_reply(subject, body):\n",
    "        print(f\"Skipping reply email: {subject}\")\n",
    "        continue\n",
    "\n",
    "\n",
    "    date = None\n",
    "    try:\n",
    "        if date_str:\n",
    "            date = datetime.strptime(date_str, '%a, %d %b %Y %H:%M:%S %z')\n",
    "    except ValueError:\n",
    "        print(f\"Failed to parse date: {date_str}\")\n",
    "\n",
    "    cleaned_body = clean_email_body(body)\n",
    "\n",
    "    # Get formality classification\n",
    "    formality_class, formality_ratio = get_formality_class(cleaned_body)\n",
    "    language = determine_language(cleaned_body)\n",
    "\n",
    "    if date:\n",
    "        data.append({\n",
    "            'subject': subject,\n",
    "            'sender': sender,\n",
    "            'date': date,\n",
    "            'body': cleaned_body,\n",
    "            'formality': formality_class,\n",
    "            'formality_ratio': formality_ratio,\n",
    "            'language': language\n",
    "        })\n",
    "    else:\n",
    "        print(f\"Skipping email {i+1} due to date parsing issues.\\n\")\n"
   ]
  },
  {
   "cell_type": "code",
   "execution_count": 47,
   "metadata": {},
   "outputs": [
    {
     "name": "stdout",
     "output_type": "stream",
     "text": [
      "Formality Distribution:\n",
      "formality\n",
      "Formal      502\n",
      "Informal      9\n",
      "Name: count, dtype: int64\n"
     ]
    },
    {
     "data": {
      "image/png": "[encoded data removed]",
      "text/plain": [
       "<Figure size 1500x1500 with 6 Axes>"
      ]
     },
     "metadata": {},
     "output_type": "display_data"
    }
   ],
   "source": [
    "df = pd.DataFrame(data)\n",
    "\n",
    "# Ensure 'date' exists and is converted to UTC\n",
    "if 'date' in df.columns and not df['date'].isnull().all():\n",
    "    df['date'] = pd.to_datetime(df['date'], utc=True)\n",
    "    df['day_of_week'] = df['date'].dt.day_name()\n",
    "    df['hour'] = df['date'].dt.hour\n",
    "    df['body_length'] = df['body'].apply(len)\n",
    "    df['word_count'] = df['body'].apply(lambda x: len(x.split()))\n",
    "\n",
    "    # Formally classification summary\n",
    "    formality_counts = df['formality'].value_counts()\n",
    "    print(f\"Formality Distribution:\\n{formality_counts}\")\n",
    "\n",
    "    # Plotting formality distribution\n",
    "    fig, axs = plt.subplots(3, 2, figsize=(15, 15))\n",
    "\n",
    "    # Day of the week distribution\n",
    "    day_distribution = df['day_of_week'].value_counts()\n",
    "    axs[0, 0].bar(day_distribution.index, day_distribution.values)\n",
    "    axs[0, 0].set_xlabel('Day of the Week')\n",
    "    axs[0, 0].set_ylabel('Number of Emails')\n",
    "    axs[0, 0].set_title('Email Distribution by Day of the Week')\n",
    "    axs[0, 0].tick_params(axis='x', rotation=45)\n",
    "\n",
    "    # Hour of the day distribution\n",
    "    hour_distribution = df['hour'].value_counts().sort_index()\n",
    "    axs[0, 1].bar(hour_distribution.index, hour_distribution.values)\n",
    "    axs[0, 1].set_xlabel('Hour of the Day')\n",
    "    axs[0, 1].set_ylabel('Number of Emails')\n",
    "    axs[0, 1].set_title('Email Distribution by Hour of the Day')\n",
    "\n",
    "    # Character count distribution\n",
    "    axs[1, 0].hist(df['body_length'], bins=30)\n",
    "    axs[1, 0].set_xlabel('Number of Characters')\n",
    "    axs[1, 0].set_ylabel('Frequency')\n",
    "    axs[1, 0].set_title('Distribution of Character Count in Email Bodies')\n",
    "\n",
    "    # Word count distribution\n",
    "    axs[1, 1].hist(df['word_count'], bins=30)\n",
    "    axs[1, 1].set_xlabel('Number of Words')\n",
    "    axs[1, 1].set_ylabel('Frequency')\n",
    "    axs[1, 1].set_title('Distribution of Word Count in Email Bodies')\n",
    "\n",
    "    # Formality distribution\n",
    "    axs[2, 0].bar(formality_counts.index, formality_counts.values)\n",
    "    axs[2, 0].set_xlabel('Formality Class')\n",
    "    axs[2, 0].set_ylabel('Frequency')\n",
    "    axs[2, 0].set_title('Formality Classification of Emails')\n",
    "\n",
    "\n",
    "\n",
    "    plt.tight_layout()\n",
    "    plt.show()\n",
    "\n",
    "else:\n",
    "    print(\"The 'date' column was not found in the DataFrame or all date values are missing.\")\n"
   ]
  },
  {
   "cell_type": "code",
   "execution_count": 48,
   "metadata": {},
   "outputs": [],
   "source": [
    "df.to_json('Not_Reply.json', orient='records', date_format='iso')\n"
   ]
  },
  {
   "cell_type": "code",
   "execution_count": 1,
   "metadata": {},
   "outputs": [
    {
     "name": "stderr",
     "output_type": "stream",
     "text": [
      "C:\\Users\\LENOVO\\AppData\\Local\\Packages\\PythonSoftwareFoundation.Python.3.11_qbz5n2kfra8p0\\LocalCache\\local-packages\\Python311\\site-packages\\tqdm\\auto.py:21: TqdmWarning: IProgress not found. Please update jupyter and ipywidgets. See https://ipywidgets.readthedocs.io/en/stable/user_install.html\n",
      "  from .autonotebook import tqdm as notebook_tqdm\n"
     ]
    }
   ],
   "source": [
    "from transformers import pipeline\n",
    "import pandas as pd"
   ]
  },
  {
   "cell_type": "code",
   "execution_count": null,
   "metadata": {},
   "outputs": [],
   "source": []
  },
  {
   "cell_type": "code",
   "execution_count": 50,
   "metadata": {},
   "outputs": [],
   "source": [
    "categories = [\"Academic\", \"Empty\", \"Work & Job Applications\", \"Other Help\", \"Accommodation\", \"Complaints\"]\n"
   ]
  },
  {
   "cell_type": "code",
   "execution_count": 51,
   "metadata": {},
   "outputs": [
    {
     "name": "stderr",
     "output_type": "stream",
     "text": [
      "Some weights of the model checkpoint at joeddav/xlm-roberta-large-xnli were not used when initializing XLMRobertaForSequenceClassification: ['roberta.pooler.dense.bias', 'roberta.pooler.dense.weight']\n",
      "- This IS expected if you are initializing XLMRobertaForSequenceClassification from the checkpoint of a model trained on another task or with another architecture (e.g. initializing a BertForSequenceClassification model from a BertForPreTraining model).\n",
      "- This IS NOT expected if you are initializing XLMRobertaForSequenceClassification from the checkpoint of a model that you expect to be exactly identical (initializing a BertForSequenceClassification model from a BertForSequenceClassification model).\n",
      "C:\\Users\\LENOVO\\AppData\\Local\\Packages\\PythonSoftwareFoundation.Python.3.11_qbz5n2kfra8p0\\LocalCache\\local-packages\\Python311\\site-packages\\transformers\\tokenization_utils_base.py:1601: FutureWarning: `clean_up_tokenization_spaces` was not set. It will be set to `True` by default. This behavior will be depracted in transformers v4.45, and will be then set to `False` by default. For more details check this issue: https://github.com/huggingface/transformers/issues/31884\n",
      "  warnings.warn(\n"
     ]
    }
   ],
   "source": [
    "classifier = pipeline(\"zero-shot-classification\", model=\"joeddav/xlm-roberta-large-xnli\")\n"
   ]
  },
  {
   "cell_type": "code",
   "execution_count": 52,
   "metadata": {},
   "outputs": [],
   "source": [
    "def classify_topic(text):\n",
    "    \"\"\"\n",
    "    Classify the topic of an email using a multilingual zero-shot classifier.\n",
    "    Returns the top predicted label.\n",
    "    \"\"\"\n",
    "    # Return 'Empty' for empty or null text\n",
    "    if not text or text.strip() == \"\":\n",
    "        return \"Empty\", 1.0  # Assign \"Empty\" with full confidence\n",
    "\n",
    "    result = classifier(text, categories, multi_label=False)\n",
    "    return result['labels'][0], result['scores'][0]  # Top label and its confidence score\n"
   ]
  },
  {
   "cell_type": "code",
   "execution_count": 54,
   "metadata": {},
   "outputs": [
    {
     "name": "stdout",
     "output_type": "stream",
     "text": [
      "Topic Distribution:\n",
      "topic\n",
      "Empty                      335\n",
      "Academic                    63\n",
      "Accommodation               54\n",
      "Complaints                  33\n",
      "Other Help                  20\n",
      "Work & Job Applications      6\n",
      "Name: count, dtype: int64\n"
     ]
    }
   ],
   "source": [
    "if 'body' in df.columns:\n",
    "    df['body'] = df['body'].fillna(\"\")  # Replace NaN with empty strings\n",
    "\n",
    "# Classify topics\n",
    "df['topic'], df['topic_confidence'] = zip(*df['body'].apply(classify_topic))\n",
    "\n",
    "# Display a summary of topic distribution\n",
    "topic_summary = df['topic'].value_counts()\n",
    "print(f\"Topic Distribution:\\n{topic_summary}\")\n",
    "\n",
    "# Save results to a CSV for further inspection\n",
    "df.to_csv(\"classified_emails.csv\", index=False)"
   ]
  },
  {
   "cell_type": "code",
   "execution_count": 57,
   "metadata": {},
   "outputs": [
    {
     "data": {
      "text/html": [
       "<div>\n",
       "<style scoped>\n",
       "    .dataframe tbody tr th:only-of-type {\n",
       "        vertical-align: middle;\n",
       "    }\n",
       "\n",
       "    .dataframe tbody tr th {\n",
       "        vertical-align: top;\n",
       "    }\n",
       "\n",
       "    .dataframe thead th {\n",
       "        text-align: right;\n",
       "    }\n",
       "</style>\n",
       "<table border=\"1\" class=\"dataframe\">\n",
       "  <thead>\n",
       "    <tr style=\"text-align: right;\">\n",
       "      <th></th>\n",
       "      <th>subject</th>\n",
       "      <th>sender</th>\n",
       "      <th>date</th>\n",
       "      <th>body</th>\n",
       "      <th>formality</th>\n",
       "      <th>formality_ratio</th>\n",
       "      <th>language</th>\n",
       "      <th>day_of_week</th>\n",
       "      <th>hour</th>\n",
       "      <th>body_length</th>\n",
       "      <th>word_count</th>\n",
       "      <th>topic</th>\n",
       "      <th>topic_confidence</th>\n",
       "    </tr>\n",
       "  </thead>\n",
       "  <tbody>\n",
       "    <tr>\n",
       "      <th>0</th>\n",
       "      <td>Adobe Scan 25 Haz 2024.pdf</td>\n",
       "      <td>=?UTF-8?B?QXJkYSBBeWTEsW4gKFN0dWRlbnQp?= &lt;aydi...</td>\n",
       "      <td>2024-06-25 17:08:53+00:00</td>\n",
       "      <td>Adobe Scan 25 Haz 2024.pdf: https://acrobat.ad...</td>\n",
       "      <td>Formal</td>\n",
       "      <td>4.961067</td>\n",
       "      <td>tr</td>\n",
       "      <td>Tuesday</td>\n",
       "      <td>17</td>\n",
       "      <td>159</td>\n",
       "      <td>12</td>\n",
       "      <td>Accommodation</td>\n",
       "      <td>0.434109</td>\n",
       "    </tr>\n",
       "    <tr>\n",
       "      <th>1</th>\n",
       "      <td>Broken showerhead</td>\n",
       "      <td>=?UTF-8?B?QXJkYSBBeWTEsW4gKFN0dWRlbnQp?= &lt;aydi...</td>\n",
       "      <td>2024-08-19 10:08:41+00:00</td>\n",
       "      <td>Dear janitor, My name is Arda Aydın. I live in...</td>\n",
       "      <td>Informal</td>\n",
       "      <td>0.878757</td>\n",
       "      <td>en</td>\n",
       "      <td>Monday</td>\n",
       "      <td>10</td>\n",
       "      <td>209</td>\n",
       "      <td>42</td>\n",
       "      <td>Accommodation</td>\n",
       "      <td>0.726538</td>\n",
       "    </tr>\n",
       "    <tr>\n",
       "      <th>2</th>\n",
       "      <td>=?UTF-8?B?UmU6IEwnT3LDqWFsIFTDvHJraXllIHwgRm90...</td>\n",
       "      <td>=?UTF-8?B?QXJkYSBBeWTEsW4gKFN0dWRlbnQp?= &lt;aydi...</td>\n",
       "      <td>2024-11-29 07:04:27+00:00</td>\n",
       "      <td></td>\n",
       "      <td>Formal</td>\n",
       "      <td>1.107135</td>\n",
       "      <td>th</td>\n",
       "      <td>Friday</td>\n",
       "      <td>7</td>\n",
       "      <td>0</td>\n",
       "      <td>0</td>\n",
       "      <td>Empty</td>\n",
       "      <td>1.000000</td>\n",
       "    </tr>\n",
       "    <tr>\n",
       "      <th>3</th>\n",
       "      <td>\\n =?utf-8?B?TCdPcsOpYWwgVMO8cmtpeWUgfCBGb3Rvx...</td>\n",
       "      <td>SAHIN Gulben &lt;gulben.sahin@loreal.com&gt;</td>\n",
       "      <td>2024-11-29 06:05:23+00:00</td>\n",
       "      <td></td>\n",
       "      <td>Formal</td>\n",
       "      <td>1.107135</td>\n",
       "      <td>th</td>\n",
       "      <td>Friday</td>\n",
       "      <td>6</td>\n",
       "      <td>0</td>\n",
       "      <td>0</td>\n",
       "      <td>Empty</td>\n",
       "      <td>1.000000</td>\n",
       "    </tr>\n",
       "    <tr>\n",
       "      <th>4</th>\n",
       "      <td>Meldung 10 and money transfer for enrollment</td>\n",
       "      <td>=?UTF-8?B?QXJkYSBBeWTEsW4gKFN0dWRlbnQp?= &lt;aydi...</td>\n",
       "      <td>2024-03-20 20:19:55+00:00</td>\n",
       "      <td>Hello dear exchange students team, I would lik...</td>\n",
       "      <td>Formal</td>\n",
       "      <td>2.849389</td>\n",
       "      <td>en</td>\n",
       "      <td>Wednesday</td>\n",
       "      <td>20</td>\n",
       "      <td>446</td>\n",
       "      <td>79</td>\n",
       "      <td>Academic</td>\n",
       "      <td>0.322573</td>\n",
       "    </tr>\n",
       "    <tr>\n",
       "      <th>5</th>\n",
       "      <td>After Mobility Requirements</td>\n",
       "      <td>=?UTF-8?B?QXJkYSBBeWTEsW4gKFN0dWRlbnQp?= &lt;aydi...</td>\n",
       "      <td>2024-09-30 11:10:42+00:00</td>\n",
       "      <td>Merhaba, Gerekli evrakları şu an tarafınıza te...</td>\n",
       "      <td>Formal</td>\n",
       "      <td>4.204253</td>\n",
       "      <td>tr</td>\n",
       "      <td>Monday</td>\n",
       "      <td>11</td>\n",
       "      <td>412</td>\n",
       "      <td>52</td>\n",
       "      <td>Accommodation</td>\n",
       "      <td>0.339644</td>\n",
       "    </tr>\n",
       "    <tr>\n",
       "      <th>6</th>\n",
       "      <td>=?UTF-8?Q?Adobe_Scan_21_=C5=9Eub_2024=2Epdf?=</td>\n",
       "      <td>=?UTF-8?B?QXJkYSBBeWTEsW4gKFN0dWRlbnQp?= &lt;aydi...</td>\n",
       "      <td>2024-02-20 22:14:27+00:00</td>\n",
       "      <td></td>\n",
       "      <td>Formal</td>\n",
       "      <td>1.107135</td>\n",
       "      <td>th</td>\n",
       "      <td>Tuesday</td>\n",
       "      <td>22</td>\n",
       "      <td>0</td>\n",
       "      <td>0</td>\n",
       "      <td>Empty</td>\n",
       "      <td>1.000000</td>\n",
       "    </tr>\n",
       "    <tr>\n",
       "      <th>7</th>\n",
       "      <td>=?UTF-8?Q?ticket_with_ID=3A=C2=A0SU0=2DAAAS=2D...</td>\n",
       "      <td>=?UTF-8?B?QXJkYSBBeWTEsW4gKFN0dWRlbnQp?= &lt;aydi...</td>\n",
       "      <td>2024-01-29 07:01:43+00:00</td>\n",
       "      <td>Merhabalar, Bu maili Sabancı üniversitesi öğre...</td>\n",
       "      <td>Formal</td>\n",
       "      <td>5.396408</td>\n",
       "      <td>tr</td>\n",
       "      <td>Monday</td>\n",
       "      <td>7</td>\n",
       "      <td>1518</td>\n",
       "      <td>208</td>\n",
       "      <td>Empty</td>\n",
       "      <td>0.191714</td>\n",
       "    </tr>\n",
       "    <tr>\n",
       "      <th>8</th>\n",
       "      <td>Meeting</td>\n",
       "      <td>\"Stephen James Schalm (Student)\" &lt;stephen.scha...</td>\n",
       "      <td>2024-10-22 08:02:33+00:00</td>\n",
       "      <td>Hi Arda, Let me know if you have time Later th...</td>\n",
       "      <td>Informal</td>\n",
       "      <td>0.696844</td>\n",
       "      <td>en</td>\n",
       "      <td>Tuesday</td>\n",
       "      <td>8</td>\n",
       "      <td>79</td>\n",
       "      <td>17</td>\n",
       "      <td>Academic</td>\n",
       "      <td>0.308374</td>\n",
       "    </tr>\n",
       "    <tr>\n",
       "      <th>9</th>\n",
       "      <td></td>\n",
       "      <td>=?UTF-8?B?QXJkYSBBeWTEsW4gKFN0dWRlbnQp?= &lt;aydi...</td>\n",
       "      <td>2024-02-01 08:00:07+00:00</td>\n",
       "      <td></td>\n",
       "      <td>Formal</td>\n",
       "      <td>1.107135</td>\n",
       "      <td>th</td>\n",
       "      <td>Thursday</td>\n",
       "      <td>8</td>\n",
       "      <td>0</td>\n",
       "      <td>0</td>\n",
       "      <td>Empty</td>\n",
       "      <td>1.000000</td>\n",
       "    </tr>\n",
       "    <tr>\n",
       "      <th>10</th>\n",
       "      <td></td>\n",
       "      <td>=?UTF-8?B?QXJkYSBBeWTEsW4gKFN0dWRlbnQp?= &lt;aydi...</td>\n",
       "      <td>2024-06-10 07:24:01+00:00</td>\n",
       "      <td></td>\n",
       "      <td>Formal</td>\n",
       "      <td>1.107135</td>\n",
       "      <td>th</td>\n",
       "      <td>Monday</td>\n",
       "      <td>7</td>\n",
       "      <td>0</td>\n",
       "      <td>0</td>\n",
       "      <td>Empty</td>\n",
       "      <td>1.000000</td>\n",
       "    </tr>\n",
       "    <tr>\n",
       "      <th>11</th>\n",
       "      <td>=?UTF-8?Q?Yemek_sipari=C5=9Fi_?=</td>\n",
       "      <td>=?UTF-8?B?QXJkYSBBeWTEsW4gKFN0dWRlbnQp?= &lt;aydi...</td>\n",
       "      <td>2022-03-06 17:16:27+00:00</td>\n",
       "      <td>Merhabalar, Arda Aydın adına McDonald's'dan ye...</td>\n",
       "      <td>Formal</td>\n",
       "      <td>2.527459</td>\n",
       "      <td>tr</td>\n",
       "      <td>Sunday</td>\n",
       "      <td>17</td>\n",
       "      <td>112</td>\n",
       "      <td>12</td>\n",
       "      <td>Other Help</td>\n",
       "      <td>0.277016</td>\n",
       "    </tr>\n",
       "    <tr>\n",
       "      <th>12</th>\n",
       "      <td>Bee Colony Optimization ve Akademik Kariyer Hk.</td>\n",
       "      <td>=?UTF-8?B?QXJkYSBBeWTEsW4gKFN0dWRlbnQp?= &lt;aydi...</td>\n",
       "      <td>2023-03-12 20:11:14+00:00</td>\n",
       "      <td>Hocam merhabalar, Ben Arda Aydın, Sabancı Üniv...</td>\n",
       "      <td>Formal</td>\n",
       "      <td>4.224086</td>\n",
       "      <td>tr</td>\n",
       "      <td>Sunday</td>\n",
       "      <td>20</td>\n",
       "      <td>1301</td>\n",
       "      <td>159</td>\n",
       "      <td>Academic</td>\n",
       "      <td>0.188233</td>\n",
       "    </tr>\n",
       "    <tr>\n",
       "      <th>13</th>\n",
       "      <td></td>\n",
       "      <td>=?UTF-8?B?QXJkYSBBeWTEsW4gKFN0dWRlbnQp?= &lt;aydi...</td>\n",
       "      <td>2024-01-28 08:51:28+00:00</td>\n",
       "      <td></td>\n",
       "      <td>Formal</td>\n",
       "      <td>1.107135</td>\n",
       "      <td>th</td>\n",
       "      <td>Sunday</td>\n",
       "      <td>8</td>\n",
       "      <td>0</td>\n",
       "      <td>0</td>\n",
       "      <td>Empty</td>\n",
       "      <td>1.000000</td>\n",
       "    </tr>\n",
       "    <tr>\n",
       "      <th>14</th>\n",
       "      <td>Quiz ile ilgili</td>\n",
       "      <td>=?UTF-8?B?QXJkYSBBeWTEsW4gKFN0dWRlbnQp?= &lt;aydi...</td>\n",
       "      <td>2023-03-24 15:32:38+00:00</td>\n",
       "      <td>Merhaba Sadık, En sonda attığın mesajı gördüm ...</td>\n",
       "      <td>Formal</td>\n",
       "      <td>2.312495</td>\n",
       "      <td>tr</td>\n",
       "      <td>Friday</td>\n",
       "      <td>15</td>\n",
       "      <td>193</td>\n",
       "      <td>26</td>\n",
       "      <td>Academic</td>\n",
       "      <td>0.357339</td>\n",
       "    </tr>\n",
       "    <tr>\n",
       "      <th>15</th>\n",
       "      <td>compare contrast homework</td>\n",
       "      <td>\"Arda Aydin (Student)\" &lt;aydinarda@sabanciuniv....</td>\n",
       "      <td>2020-12-01 06:05:09+00:00</td>\n",
       "      <td></td>\n",
       "      <td>Formal</td>\n",
       "      <td>1.107135</td>\n",
       "      <td>th</td>\n",
       "      <td>Tuesday</td>\n",
       "      <td>6</td>\n",
       "      <td>0</td>\n",
       "      <td>0</td>\n",
       "      <td>Empty</td>\n",
       "      <td>1.000000</td>\n",
       "    </tr>\n",
       "    <tr>\n",
       "      <th>16</th>\n",
       "      <td></td>\n",
       "      <td>=?UTF-8?B?QXJkYSBBeWTEsW4gKFN0dWRlbnQp?= &lt;aydi...</td>\n",
       "      <td>2023-12-21 10:49:01+00:00</td>\n",
       "      <td></td>\n",
       "      <td>Formal</td>\n",
       "      <td>1.107135</td>\n",
       "      <td>th</td>\n",
       "      <td>Thursday</td>\n",
       "      <td>10</td>\n",
       "      <td>0</td>\n",
       "      <td>0</td>\n",
       "      <td>Empty</td>\n",
       "      <td>1.000000</td>\n",
       "    </tr>\n",
       "    <tr>\n",
       "      <th>17</th>\n",
       "      <td></td>\n",
       "      <td>=?UTF-8?B?QXJkYSBBeWTEsW4gKFN0dWRlbnQp?= &lt;aydi...</td>\n",
       "      <td>2022-01-10 19:50:44+00:00</td>\n",
       "      <td></td>\n",
       "      <td>Formal</td>\n",
       "      <td>1.107135</td>\n",
       "      <td>th</td>\n",
       "      <td>Monday</td>\n",
       "      <td>19</td>\n",
       "      <td>0</td>\n",
       "      <td>0</td>\n",
       "      <td>Empty</td>\n",
       "      <td>1.000000</td>\n",
       "    </tr>\n",
       "    <tr>\n",
       "      <th>18</th>\n",
       "      <td>Adobe Scan 13 Nis 2022.pdf</td>\n",
       "      <td>=?UTF-8?B?QXJkYSBBeWTEsW4gKFN0dWRlbnQp?= &lt;aydi...</td>\n",
       "      <td>2022-04-13 18:05:57+00:00</td>\n",
       "      <td></td>\n",
       "      <td>Formal</td>\n",
       "      <td>1.107135</td>\n",
       "      <td>th</td>\n",
       "      <td>Wednesday</td>\n",
       "      <td>18</td>\n",
       "      <td>0</td>\n",
       "      <td>0</td>\n",
       "      <td>Empty</td>\n",
       "      <td>1.000000</td>\n",
       "    </tr>\n",
       "    <tr>\n",
       "      <th>19</th>\n",
       "      <td>=?UTF-8?Q?Bitirme_Projesi_Hakk=C4=B1nda?=</td>\n",
       "      <td>=?UTF-8?B?QXJkYSBBeWTEsW4gKFN0dWRlbnQp?= &lt;aydi...</td>\n",
       "      <td>2024-01-30 05:00:00+00:00</td>\n",
       "      <td>Merhabalar hocam, Bitirme projesi grubunu ayır...</td>\n",
       "      <td>Formal</td>\n",
       "      <td>5.747527</td>\n",
       "      <td>tr</td>\n",
       "      <td>Tuesday</td>\n",
       "      <td>5</td>\n",
       "      <td>318</td>\n",
       "      <td>40</td>\n",
       "      <td>Accommodation</td>\n",
       "      <td>0.282623</td>\n",
       "    </tr>\n",
       "  </tbody>\n",
       "</table>\n",
       "</div>"
      ],
      "text/plain": [
       "                                              subject  \\\n",
       "0                          Adobe Scan 25 Haz 2024.pdf   \n",
       "1                                   Broken showerhead   \n",
       "2   =?UTF-8?B?UmU6IEwnT3LDqWFsIFTDvHJraXllIHwgRm90...   \n",
       "3   \\n =?utf-8?B?TCdPcsOpYWwgVMO8cmtpeWUgfCBGb3Rvx...   \n",
       "4        Meldung 10 and money transfer for enrollment   \n",
       "5                         After Mobility Requirements   \n",
       "6       =?UTF-8?Q?Adobe_Scan_21_=C5=9Eub_2024=2Epdf?=   \n",
       "7   =?UTF-8?Q?ticket_with_ID=3A=C2=A0SU0=2DAAAS=2D...   \n",
       "8                                             Meeting   \n",
       "9                                                       \n",
       "10                                                      \n",
       "11                   =?UTF-8?Q?Yemek_sipari=C5=9Fi_?=   \n",
       "12   Bee Colony Optimization ve Akademik Kariyer Hk.    \n",
       "13                                                      \n",
       "14                                   Quiz ile ilgili    \n",
       "15                          compare contrast homework   \n",
       "16                                                      \n",
       "17                                                      \n",
       "18                         Adobe Scan 13 Nis 2022.pdf   \n",
       "19          =?UTF-8?Q?Bitirme_Projesi_Hakk=C4=B1nda?=   \n",
       "\n",
       "                                               sender  \\\n",
       "0   =?UTF-8?B?QXJkYSBBeWTEsW4gKFN0dWRlbnQp?= <aydi...   \n",
       "1   =?UTF-8?B?QXJkYSBBeWTEsW4gKFN0dWRlbnQp?= <aydi...   \n",
       "2   =?UTF-8?B?QXJkYSBBeWTEsW4gKFN0dWRlbnQp?= <aydi...   \n",
       "3              SAHIN Gulben <gulben.sahin@loreal.com>   \n",
       "4   =?UTF-8?B?QXJkYSBBeWTEsW4gKFN0dWRlbnQp?= <aydi...   \n",
       "5   =?UTF-8?B?QXJkYSBBeWTEsW4gKFN0dWRlbnQp?= <aydi...   \n",
       "6   =?UTF-8?B?QXJkYSBBeWTEsW4gKFN0dWRlbnQp?= <aydi...   \n",
       "7   =?UTF-8?B?QXJkYSBBeWTEsW4gKFN0dWRlbnQp?= <aydi...   \n",
       "8   \"Stephen James Schalm (Student)\" <stephen.scha...   \n",
       "9   =?UTF-8?B?QXJkYSBBeWTEsW4gKFN0dWRlbnQp?= <aydi...   \n",
       "10  =?UTF-8?B?QXJkYSBBeWTEsW4gKFN0dWRlbnQp?= <aydi...   \n",
       "11  =?UTF-8?B?QXJkYSBBeWTEsW4gKFN0dWRlbnQp?= <aydi...   \n",
       "12  =?UTF-8?B?QXJkYSBBeWTEsW4gKFN0dWRlbnQp?= <aydi...   \n",
       "13  =?UTF-8?B?QXJkYSBBeWTEsW4gKFN0dWRlbnQp?= <aydi...   \n",
       "14  =?UTF-8?B?QXJkYSBBeWTEsW4gKFN0dWRlbnQp?= <aydi...   \n",
       "15  \"Arda Aydin (Student)\" <aydinarda@sabanciuniv....   \n",
       "16  =?UTF-8?B?QXJkYSBBeWTEsW4gKFN0dWRlbnQp?= <aydi...   \n",
       "17  =?UTF-8?B?QXJkYSBBeWTEsW4gKFN0dWRlbnQp?= <aydi...   \n",
       "18  =?UTF-8?B?QXJkYSBBeWTEsW4gKFN0dWRlbnQp?= <aydi...   \n",
       "19  =?UTF-8?B?QXJkYSBBeWTEsW4gKFN0dWRlbnQp?= <aydi...   \n",
       "\n",
       "                        date  \\\n",
       "0  2024-06-25 17:08:53+00:00   \n",
       "1  2024-08-19 10:08:41+00:00   \n",
       "2  2024-11-29 07:04:27+00:00   \n",
       "3  2024-11-29 06:05:23+00:00   \n",
       "4  2024-03-20 20:19:55+00:00   \n",
       "5  2024-09-30 11:10:42+00:00   \n",
       "6  2024-02-20 22:14:27+00:00   \n",
       "7  2024-01-29 07:01:43+00:00   \n",
       "8  2024-10-22 08:02:33+00:00   \n",
       "9  2024-02-01 08:00:07+00:00   \n",
       "10 2024-06-10 07:24:01+00:00   \n",
       "11 2022-03-06 17:16:27+00:00   \n",
       "12 2023-03-12 20:11:14+00:00   \n",
       "13 2024-01-28 08:51:28+00:00   \n",
       "14 2023-03-24 15:32:38+00:00   \n",
       "15 2020-12-01 06:05:09+00:00   \n",
       "16 2023-12-21 10:49:01+00:00   \n",
       "17 2022-01-10 19:50:44+00:00   \n",
       "18 2022-04-13 18:05:57+00:00   \n",
       "19 2024-01-30 05:00:00+00:00   \n",
       "\n",
       "                                                 body formality  \\\n",
       "0   Adobe Scan 25 Haz 2024.pdf: https://acrobat.ad...    Formal   \n",
       "1   Dear janitor, My name is Arda Aydın. I live in...  Informal   \n",
       "2                                                        Formal   \n",
       "3                                                        Formal   \n",
       "4   Hello dear exchange students team, I would lik...    Formal   \n",
       "5   Merhaba, Gerekli evrakları şu an tarafınıza te...    Formal   \n",
       "6                                                        Formal   \n",
       "7   Merhabalar, Bu maili Sabancı üniversitesi öğre...    Formal   \n",
       "8   Hi Arda, Let me know if you have time Later th...  Informal   \n",
       "9                                                        Formal   \n",
       "10                                                       Formal   \n",
       "11  Merhabalar, Arda Aydın adına McDonald's'dan ye...    Formal   \n",
       "12  Hocam merhabalar, Ben Arda Aydın, Sabancı Üniv...    Formal   \n",
       "13                                                       Formal   \n",
       "14  Merhaba Sadık, En sonda attığın mesajı gördüm ...    Formal   \n",
       "15                                                       Formal   \n",
       "16                                                       Formal   \n",
       "17                                                       Formal   \n",
       "18                                                       Formal   \n",
       "19  Merhabalar hocam, Bitirme projesi grubunu ayır...    Formal   \n",
       "\n",
       "    formality_ratio language day_of_week  hour  body_length  word_count  \\\n",
       "0          4.961067       tr     Tuesday    17          159          12   \n",
       "1          0.878757       en      Monday    10          209          42   \n",
       "2          1.107135       th      Friday     7            0           0   \n",
       "3          1.107135       th      Friday     6            0           0   \n",
       "4          2.849389       en   Wednesday    20          446          79   \n",
       "5          4.204253       tr      Monday    11          412          52   \n",
       "6          1.107135       th     Tuesday    22            0           0   \n",
       "7          5.396408       tr      Monday     7         1518         208   \n",
       "8          0.696844       en     Tuesday     8           79          17   \n",
       "9          1.107135       th    Thursday     8            0           0   \n",
       "10         1.107135       th      Monday     7            0           0   \n",
       "11         2.527459       tr      Sunday    17          112          12   \n",
       "12         4.224086       tr      Sunday    20         1301         159   \n",
       "13         1.107135       th      Sunday     8            0           0   \n",
       "14         2.312495       tr      Friday    15          193          26   \n",
       "15         1.107135       th     Tuesday     6            0           0   \n",
       "16         1.107135       th    Thursday    10            0           0   \n",
       "17         1.107135       th      Monday    19            0           0   \n",
       "18         1.107135       th   Wednesday    18            0           0   \n",
       "19         5.747527       tr     Tuesday     5          318          40   \n",
       "\n",
       "            topic  topic_confidence  \n",
       "0   Accommodation          0.434109  \n",
       "1   Accommodation          0.726538  \n",
       "2           Empty          1.000000  \n",
       "3           Empty          1.000000  \n",
       "4        Academic          0.322573  \n",
       "5   Accommodation          0.339644  \n",
       "6           Empty          1.000000  \n",
       "7           Empty          0.191714  \n",
       "8        Academic          0.308374  \n",
       "9           Empty          1.000000  \n",
       "10          Empty          1.000000  \n",
       "11     Other Help          0.277016  \n",
       "12       Academic          0.188233  \n",
       "13          Empty          1.000000  \n",
       "14       Academic          0.357339  \n",
       "15          Empty          1.000000  \n",
       "16          Empty          1.000000  \n",
       "17          Empty          1.000000  \n",
       "18          Empty          1.000000  \n",
       "19  Accommodation          0.282623  "
      ]
     },
     "execution_count": 57,
     "metadata": {},
     "output_type": "execute_result"
    }
   ],
   "source": [
    "df[:20]"
   ]
  },
  {
   "cell_type": "code",
   "execution_count": 58,
   "metadata": {},
   "outputs": [
    {
     "name": "stdout",
     "output_type": "stream",
     "text": [
      "Visual Email Distribution:\n",
      "is_just_visual\n",
      "False    510\n",
      "True       1\n",
      "Name: count, dtype: int64\n",
      "Topic Analysis:\n",
      "                         total_emails  visual_only_emails  \\\n",
      "topic                                                       \n",
      "Academic                         63.0                 0.0   \n",
      "Accommodation                    54.0                 1.0   \n",
      "Complaints                       33.0                 0.0   \n",
      "Empty                           335.0                 0.0   \n",
      "Other Help                       20.0                 0.0   \n",
      "Work & Job Applications           6.0                 0.0   \n",
      "\n",
      "                         visual_only_percentage  average_word_count  \n",
      "topic                                                                \n",
      "Academic                                   0.00               59.63  \n",
      "Accommodation                              1.85               54.11  \n",
      "Complaints                                 0.00               61.91  \n",
      "Empty                                      0.00                2.85  \n",
      "Other Help                                 0.00               18.45  \n",
      "Work & Job Applications                    0.00               49.00  \n"
     ]
    },
    {
     "name": "stderr",
     "output_type": "stream",
     "text": [
      "C:\\Users\\LENOVO\\AppData\\Local\\Temp\\ipykernel_6928\\3880505273.py:8: DeprecationWarning: DataFrameGroupBy.apply operated on the grouping columns. This behavior is deprecated, and in a future version of pandas the grouping columns will be excluded from the operation. Either pass `include_groups=False` to exclude the groupings or explicitly select the grouping columns after groupby to silence this warning.\n",
      "  topic_analysis = df.groupby('topic').apply(\n"
     ]
    }
   ],
   "source": [
    "# Flag anything mentioning \"Adobe\" in the body\n",
    "df['is_just_visual'] = df['body'].str.contains(r'\\bAdobe\\b', case=False, na=False)\n",
    "\n",
    "# Override the topic for these \"visual\" emails\n",
    "df.loc[df['is_just_visual'], 'topic'] = \"Empty\"\n",
    "df.loc[df['is_just_visual'], 'topic_confidence'] = 1.0\n",
    "\n",
    "# Display a summary of visual-only emails\n",
    "visual_summary = df['is_just_visual'].value_counts()\n",
    "print(f\"Visual Email Distribution:\\n{visual_summary}\")\n",
    "\n",
    "# Group by topics and analyze\n",
    "topic_analysis = df.groupby('topic').apply(\n",
    "    lambda x: pd.Series({\n",
    "        'total_emails': len(x),\n",
    "        'visual_only_emails': x['is_just_visual'].sum(),\n",
    "        'visual_only_percentage': (x['is_just_visual'].mean() * 100).round(2),\n",
    "        'average_word_count': x['word_count'].mean().round(2) if 'word_count' in x else None,\n",
    "    })\n",
    ")\n",
    "\n",
    "# Display the topic analysis\n",
    "print(\"Topic Analysis:\")\n",
    "print(topic_analysis)\n",
    "\n",
    "# Save the enhanced DataFrame for further inspection\n",
    "df.to_csv(\"enhanced_classified_emails.csv\", index=False)\n",
    "\n",
    "# Save the topic analysis summary\n",
    "topic_analysis.to_csv(\"topic_analysis_summary.csv\")\n"
   ]
  },
  {
   "cell_type": "code",
   "execution_count": 61,
   "metadata": {},
   "outputs": [],
   "source": [
    "import seaborn as sns\n"
   ]
  },
  {
   "cell_type": "code",
   "execution_count": 63,
   "metadata": {},
   "outputs": [
    {
     "data": {
      "image/png": "[encoded data removed]",
      "text/plain": [
       "<Figure size 1000x600 with 1 Axes>"
      ]
     },
     "metadata": {},
     "output_type": "display_data"
    },
    {
     "data": {
      "image/png": "[encoded data removed]",
      "text/plain": [
       "<Figure size 1000x600 with 1 Axes>"
      ]
     },
     "metadata": {},
     "output_type": "display_data"
    },
    {
     "data": {
      "image/png": "[encoded data removed]",
      "text/plain": [
       "<Figure size 1000x600 with 1 Axes>"
      ]
     },
     "metadata": {},
     "output_type": "display_data"
    },
    {
     "data": {
      "image/png": "[encoded data removed]",
      "text/plain": [
       "<Figure size 1000x600 with 1 Axes>"
      ]
     },
     "metadata": {},
     "output_type": "display_data"
    },
    {
     "data": {
      "image/png": "[encoded data removed]",
      "text/plain": [
       "<Figure size 1000x600 with 1 Axes>"
      ]
     },
     "metadata": {},
     "output_type": "display_data"
    },
    {
     "data": {
      "image/png": "[encoded data removed]",
      "text/plain": [
       "<Figure size 1000x600 with 1 Axes>"
      ]
     },
     "metadata": {},
     "output_type": "display_data"
    },
    {
     "data": {
      "image/png": "[encoded data removed]",
      "text/plain": [
       "<Figure size 1000x600 with 1 Axes>"
      ]
     },
     "metadata": {},
     "output_type": "display_data"
    },
    {
     "data": {
      "image/png": "[encoded data removed]",
      "text/plain": [
       "<Figure size 1000x600 with 1 Axes>"
      ]
     },
     "metadata": {},
     "output_type": "display_data"
    },
    {
     "data": {
      "image/png": "[encoded data removed]",
      "text/plain": [
       "<Figure size 1000x600 with 1 Axes>"
      ]
     },
     "metadata": {},
     "output_type": "display_data"
    },
    {
     "data": {
      "image/png": "[encoded data removed]",
      "text/plain": [
       "<Figure size 1000x600 with 1 Axes>"
      ]
     },
     "metadata": {},
     "output_type": "display_data"
    },
    {
     "data": {
      "image/png": "[encoded data removed]",
      "text/plain": [
       "<Figure size 1000x600 with 1 Axes>"
      ]
     },
     "metadata": {},
     "output_type": "display_data"
    },
    {
     "data": {
      "image/png": "[encoded data removed]",
      "text/plain": [
       "<Figure size 1000x600 with 1 Axes>"
      ]
     },
     "metadata": {},
     "output_type": "display_data"
    },
    {
     "data": {
      "image/png": "[encoded data removed]",
      "text/plain": [
       "<Figure size 1000x600 with 1 Axes>"
      ]
     },
     "metadata": {},
     "output_type": "display_data"
    },
    {
     "data": {
      "image/png": "[encoded data removed]",
      "text/plain": [
       "<Figure size 1000x600 with 1 Axes>"
      ]
     },
     "metadata": {},
     "output_type": "display_data"
    },
    {
     "data": {
      "image/png": "[encoded data removed]",
      "text/plain": [
       "<Figure size 1000x600 with 1 Axes>"
      ]
     },
     "metadata": {},
     "output_type": "display_data"
    },
    {
     "data": {
      "image/png": "[encoded data removed]",
      "text/plain": [
       "<Figure size 1000x600 with 1 Axes>"
      ]
     },
     "metadata": {},
     "output_type": "display_data"
    }
   ],
   "source": [
    "import seaborn as sns\n",
    "import matplotlib.pyplot as plt\n",
    "\n",
    "# Ensure the directory to save plots\n",
    "import os\n",
    "os.makedirs('plots', exist_ok=True)\n",
    "\n",
    "# Distribution of word count by topic (separate visualizations)\n",
    "if 'word_count' in df.columns:\n",
    "    unique_topics = df['topic'].unique()\n",
    "    for topic in unique_topics:\n",
    "        plt.figure(figsize=(10, 6))\n",
    "        sns.histplot(\n",
    "            data=df[df['topic'] == topic],\n",
    "            x='word_count',\n",
    "            kde=True,\n",
    "            bins=30,\n",
    "            color='skyblue',\n",
    "            alpha=0.6\n",
    "        )\n",
    "        plt.title(f'Word Count Distribution for Topic: {topic}', fontsize=14)\n",
    "        plt.xlabel('Word Count', fontsize=12)\n",
    "        plt.ylabel('Frequency', fontsize=12)\n",
    "        plt.tight_layout()\n",
    "        plt.savefig(f'plots/word_count_{topic}.png')  # Save the plot\n",
    "        plt.show()\n",
    "\n",
    "# Distribution of body length by topic (separate visualizations)\n",
    "if 'body_length' in df.columns:\n",
    "    unique_topics = df['topic'].unique()\n",
    "    for topic in unique_topics:\n",
    "        plt.figure(figsize=(10, 6))\n",
    "        sns.histplot(\n",
    "            data=df[df['topic'] == topic],\n",
    "            x='body_length',\n",
    "            kde=True,\n",
    "            bins=30,\n",
    "            color='lightcoral',\n",
    "            alpha=0.6\n",
    "        )\n",
    "        plt.title(f'Body Length Distribution for Topic: {topic}', fontsize=14)\n",
    "        plt.xlabel('Body Length (Characters)', fontsize=12)\n",
    "        plt.ylabel('Frequency', fontsize=12)\n",
    "        plt.tight_layout()\n",
    "        plt.savefig(f'plots/body_length_{topic}.png')  # Save the plot\n",
    "        plt.show()\n",
    "\n",
    "# Distribution of word count for visual-only and non-visual emails\n",
    "if 'word_count' in df.columns and 'is_just_visual' in df.columns:\n",
    "    for is_visual in [True, False]:\n",
    "        plt.figure(figsize=(10, 6))\n",
    "        subset = df[df['is_just_visual'] == is_visual]\n",
    "        label = 'Visual-Only Emails' if is_visual else 'Non-Visual Emails'\n",
    "        sns.histplot(\n",
    "            data=subset,\n",
    "            x='word_count',\n",
    "            kde=True,\n",
    "            bins=30,\n",
    "            color='purple' if is_visual else 'green',\n",
    "            alpha=0.6\n",
    "        )\n",
    "        plt.title(f'Word Count Distribution for {label}', fontsize=14)\n",
    "        plt.xlabel('Word Count', fontsize=12)\n",
    "        plt.ylabel('Frequency', fontsize=12)\n",
    "        plt.tight_layout()\n",
    "        plt.savefig(f'plots/word_count_{label.replace(\" \", \"_\")}.png')  # Save the plot\n",
    "        plt.show()\n",
    "\n",
    "# Distribution of body length for visual-only and non-visual emails\n",
    "if 'body_length' in df.columns and 'is_just_visual' in df.columns:\n",
    "    for is_visual in [True, False]:\n",
    "        plt.figure(figsize=(10, 6))\n",
    "        subset = df[df['is_just_visual'] == is_visual]\n",
    "        label = 'Visual-Only Emails' if is_visual else 'Non-Visual Emails'\n",
    "        sns.histplot(\n",
    "            data=subset,\n",
    "            x='body_length',\n",
    "            kde=True,\n",
    "            bins=30,\n",
    "            color='blue' if is_visual else 'orange',\n",
    "            alpha=0.6\n",
    "        )\n",
    "        plt.title(f'Body Length Distribution for {label}', fontsize=14)\n",
    "        plt.xlabel('Body Length (Characters)', fontsize=12)\n",
    "        plt.ylabel('Frequency', fontsize=12)\n",
    "        plt.tight_layout()\n",
    "        plt.savefig(f'plots/body_length_{label.replace(\" \", \"_\")}.png')  # Save the plot\n",
    "        plt.show()\n"
   ]
  },
  {
   "cell_type": "code",
   "execution_count": null,
   "metadata": {},
   "outputs": [],
   "source": []
  }
 ],
 "metadata": {
  "kernelspec": {
   "display_name": "Python 3",
   "language": "python",
   "name": "python3"
  },
  "language_info": {
   "codemirror_mode": {
    "name": "ipython",
    "version": 3
   },
   "file_extension": ".py",
   "mimetype": "text/x-python",
   "name": "python",
   "nbconvert_exporter": "python",
   "pygments_lexer": "ipython3",
   "version": "3.11.9"
  }
 },
 "nbformat": 4,
 "nbformat_minor": 2
}
