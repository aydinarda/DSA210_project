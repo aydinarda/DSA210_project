{
 "cells": [
  {
   "cell_type": "code",
   "execution_count": 3,
   "metadata": {},
   "outputs": [
    {
     "name": "stderr",
     "output_type": "stream",
     "text": [
      "C:\\Users\\LENOVO\\AppData\\Local\\Packages\\PythonSoftwareFoundation.Python.3.11_qbz5n2kfra8p0\\LocalCache\\local-packages\\Python311\\site-packages\\huggingface_hub\\file_download.py:139: UserWarning: `huggingface_hub` cache-system uses symlinks by default to efficiently store duplicated files but your machine does not support them in C:\\Users\\LENOVO\\.cache\\huggingface\\hub\\models--papluca--xlm-roberta-base-language-detection. Caching files will still work but in a degraded version that might require more space on your disk. This warning can be disabled by setting the `HF_HUB_DISABLE_SYMLINKS_WARNING` environment variable. For more details, see https://huggingface.co/docs/huggingface_hub/how-to-cache#limitations.\n",
      "To support symlinks on Windows, you either need to activate Developer Mode or to run Python as an administrator. In order to activate developer mode, see this article: https://docs.microsoft.com/en-us/windows/apps/get-started/enable-your-device-for-development\n",
      "  warnings.warn(message)\n",
      "C:\\Users\\LENOVO\\AppData\\Local\\Packages\\PythonSoftwareFoundation.Python.3.11_qbz5n2kfra8p0\\LocalCache\\local-packages\\Python311\\site-packages\\transformers\\tokenization_utils_base.py:1601: FutureWarning: `clean_up_tokenization_spaces` was not set. It will be set to `True` by default. This behavior will be depracted in transformers v4.45, and will be then set to `False` by default. For more details check this issue: https://github.com/huggingface/transformers/issues/31884\n",
      "  warnings.warn(\n",
      "C:\\Users\\LENOVO\\AppData\\Local\\Packages\\PythonSoftwareFoundation.Python.3.11_qbz5n2kfra8p0\\LocalCache\\local-packages\\Python311\\site-packages\\huggingface_hub\\file_download.py:139: UserWarning: `huggingface_hub` cache-system uses symlinks by default to efficiently store duplicated files but your machine does not support them in C:\\Users\\LENOVO\\.cache\\huggingface\\hub\\models--BAAI--bge-reranker-v2-m3. Caching files will still work but in a degraded version that might require more space on your disk. This warning can be disabled by setting the `HF_HUB_DISABLE_SYMLINKS_WARNING` environment variable. For more details, see https://huggingface.co/docs/huggingface_hub/how-to-cache#limitations.\n",
      "To support symlinks on Windows, you either need to activate Developer Mode or to run Python as an administrator. In order to activate developer mode, see this article: https://docs.microsoft.com/en-us/windows/apps/get-started/enable-your-device-for-development\n",
      "  warnings.warn(message)\n"
     ]
    }
   ],
   "source": [
    "from transformers import pipeline\n",
    "\n",
    "\n",
    "from FlagEmbedding import FlagReranker\n",
    "import mailbox\n",
    "from datetime import datetime\n",
    "import pandas as pd\n",
    "import re\n",
    "import matplotlib.pyplot as plt\n",
    "\n",
    "# Initialize for the language labeling\n",
    "\n",
    "model_ckpt = \"papluca/xlm-roberta-base-language-detection\"\n",
    "pipe = pipeline(\"text-classification\", model=model_ckpt)\n",
    "#pipe(text, top_k=1, truncation=True)\n",
    "\n",
    "\n",
    "# Initialize the formality analysis model\n",
    "reranker = FlagReranker('BAAI/bge-reranker-v2-m3', use_fp16=True)\n",
    "\n",
    "# Path to your mbox file\n",
    "mbox_file_path = 'Sent.mbox'\n",
    "\n",
    "\n",
    "\n",
    "\n",
    "# Open the mbox file\n",
    "\n",
    "# Create DataFrame from extracted data\n"
   ]
  },
  {
   "cell_type": "code",
   "execution_count": 5,
   "metadata": {},
   "outputs": [],
   "source": [
    "# Function to get the plain text content of an email message\n",
    "def get_email_body(message):\n",
    "    if message.is_multipart():\n",
    "        parts = message.get_payload()\n",
    "        for part in parts:\n",
    "            if part.get_content_type() == 'text/plain':\n",
    "                return part.get_payload(decode=True).decode(part.get_content_charset() or 'utf-8')\n",
    "    else:\n",
    "        return message.get_payload(decode=True).decode(message.get_content_charset() or 'utf-8')\n",
    "    return \"\"\n",
    "\n",
    "# Function to clean up the email body and remove quoted content\n",
    "\n",
    "def determine_language(text):\n",
    "    return pipe(text, top_k=1, truncation=True)[0]['label']\n",
    "\n",
    "\n",
    "def is_reply(subject, body):\n",
    "    # Check for \"Re:\" or \"Fwd:\" in the subject\n",
    "    if subject and any(prefix in subject for prefix in ['Re:', 'Fwd:']):\n",
    "        return True\n",
    "\n",
    "    # Check for quoted text from previous emails\n",
    "    if re.search(r'On .* wrote:', body) or '>' in body:\n",
    "        return True\n",
    "\n",
    "    return False\n",
    "\n",
    "\n",
    "def clean_email_body(body):\n",
    "    cleaned_body = re.sub(r'(?m)^>.*$', '', body)\n",
    "    cleaned_body = re.split(r'\\nOn .* wrote:\\n', cleaned_body)[0]\n",
    "    cleaned_body = re.sub(r'\\r\\n', ' ', cleaned_body)\n",
    "    cleaned_body = re.sub(r'\\s+', ' ', cleaned_body)\n",
    "    return cleaned_body.strip()\n",
    "\n",
    "# Function to compute formality score and classify\n",
    "def get_formality_class(text):\n",
    "    formal_score = reranker.compute_score(['Formal', text], normalize=True)[0]\n",
    "    informal_score = reranker.compute_score(['Informal', text], normalize=True)[0]\n",
    "    if formal_score >= informal_score :\n",
    "        return ('Formal', (formal_score/informal_score))\n",
    "    elif formal_score < informal_score:\n",
    "        return ('Informal',(formal_score/informal_score))\n",
    "    else:\n",
    "        return 'Neutral'\n"
   ]
  },
  {
   "cell_type": "code",
   "execution_count": 6,
   "metadata": {},
   "outputs": [
    {
     "name": "stderr",
     "output_type": "stream",
     "text": [
      "pre tokenize:   0%|          | 0/1 [00:00<?, ?it/s]You're using a XLMRobertaTokenizerFast tokenizer. Please note that with a fast tokenizer, using the `__call__` method is faster than using a method to encode the text followed by a call to the `pad` method to get a padded encoding.\n",
      "pre tokenize: 100%|██████████| 1/1 [00:00<00:00, 501.29it/s]\n",
      "C:\\Users\\LENOVO\\AppData\\Local\\Packages\\PythonSoftwareFoundation.Python.3.11_qbz5n2kfra8p0\\LocalCache\\local-packages\\Python311\\site-packages\\transformers\\tokenization_utils_base.py:2888: UserWarning: `max_length` is ignored when `padding`=`True` and there is no truncation strategy. To pad to max length, use `padding='max_length'`.\n",
      "  warnings.warn(\n",
      "pre tokenize: 100%|██████████| 1/1 [00:00<00:00, 1001.98it/s]\n"
     ]
    },
    {
     "name": "stdout",
     "output_type": "stream",
     "text": [
      "Skipping reply email: Re: Hello from Uber Talent Acquisition!\n",
      "Failed to parse date: Thu, 20 Jun 2024 11:09:44 -0400 (EDT)\n"
     ]
    },
    {
     "name": "stderr",
     "output_type": "stream",
     "text": [
      "pre tokenize: 100%|██████████| 1/1 [00:00<00:00, 334.39it/s]\n",
      "pre tokenize: 100%|██████████| 1/1 [00:00<00:00, 1013.12it/s]\n"
     ]
    },
    {
     "name": "stdout",
     "output_type": "stream",
     "text": [
      "Skipping email 3 due to date parsing issues.\n",
      "\n",
      "Skipping reply email: AW: [EXT]Broken showerhead\n"
     ]
    },
    {
     "name": "stderr",
     "output_type": "stream",
     "text": [
      "pre tokenize: 100%|██████████| 1/1 [00:00<00:00, 1002.22it/s]\n",
      "pre tokenize: 100%|██████████| 1/1 [00:00<?, ?it/s]\n",
      "pre tokenize: 100%|██████████| 1/1 [00:00<?, ?it/s]\n",
      "pre tokenize: 100%|██████████| 1/1 [00:00<00:00, 1003.42it/s]\n",
      "pre tokenize: 100%|██████████| 1/1 [00:00<00:00, 1001.74it/s]\n",
      "pre tokenize: 100%|██████████| 1/1 [00:00<?, ?it/s]\n",
      "pre tokenize: 100%|██████████| 1/1 [00:00<00:00, 491.31it/s]\n",
      "pre tokenize: 100%|██████████| 1/1 [00:00<00:00, 1002.94it/s]\n"
     ]
    },
    {
     "name": "stdout",
     "output_type": "stream",
     "text": [
      "Skipping reply email: Re: After Mobility Requirements\n",
      "Skipping reply email: Re: After Mobility Requirements\n",
      "Skipping reply email: Re: After Mobility Requirements\n"
     ]
    },
    {
     "name": "stderr",
     "output_type": "stream",
     "text": [
      "pre tokenize: 100%|██████████| 1/1 [00:00<00:00, 501.17it/s]\n",
      "pre tokenize: 100%|██████████| 1/1 [00:00<00:00, 1001.98it/s]\n"
     ]
    },
    {
     "name": "stdout",
     "output_type": "stream",
     "text": [
      "Skipping reply email: Re: DAK Gesundheit - your request\n",
      "Skipping reply email: Fwd: DAK Gesundheit - your request\n",
      "Skipping reply email: DAK Gesundheit - your request\n"
     ]
    },
    {
     "name": "stderr",
     "output_type": "stream",
     "text": [
      "pre tokenize: 100%|██████████| 1/1 [00:00<00:00, 1001.51it/s]\n",
      "pre tokenize: 100%|██████████| 1/1 [00:00<00:00, 1002.22it/s]\n"
     ]
    },
    {
     "name": "stdout",
     "output_type": "stream",
     "text": [
      "Skipping reply email: =?UTF-8?Q?RE=3A_ticket_with_ID=3A_SU0=2DAAAS=2D3206_hakk=C4=B1nda?=\n",
      "Skipping reply email: =?UTF-8?Q?RE=3A_ticket_with_ID=3A_SU0=2DAAAS=2D3206_hakk=C4=B1nda?=\n",
      "Skipping reply email: =?UTF-8?Q?Re=3A_ticket_with_ID=3A_SU0=2DAAAS=2D3206_hakk=C4=B1nda?=\n",
      "Skipping reply email: =?UTF-8?Q?RE=3A_ticket_with_ID=3A_SU0=2DAAAS=2D3206_hakk=C4=B1nda?=\n"
     ]
    },
    {
     "name": "stderr",
     "output_type": "stream",
     "text": [
      "pre tokenize: 100%|██████████| 1/1 [00:00<00:00, 250.68it/s]\n",
      "pre tokenize: 100%|██████████| 1/1 [00:00<00:00, 501.53it/s]\n"
     ]
    },
    {
     "name": "stdout",
     "output_type": "stream",
     "text": [
      "Skipping reply email: Re: Thank You for Completing Our GS Questionnaire!\n",
      "Skipping reply email: Re: Thank You for Completing Our GS Questionnaire!\n",
      "Skipping reply email: Thank You for Completing Our GS Questionnaire!\n",
      "Skipping reply email: Re: Meeting\n",
      "Skipping reply email: Re: Meeting\n",
      "Skipping reply email: Re: Meeting\n",
      "Skipping reply email: Re: Meeting\n",
      "Skipping reply email: Re: Meeting\n",
      "Skipping reply email: Re: Meeting\n"
     ]
    },
    {
     "name": "stderr",
     "output_type": "stream",
     "text": [
      "pre tokenize: 100%|██████████| 1/1 [00:00<00:00, 1002.94it/s]\n",
      "pre tokenize: 100%|██████████| 1/1 [00:00<?, ?it/s]\n"
     ]
    },
    {
     "name": "stdout",
     "output_type": "stream",
     "text": [
      "Skipping reply email: Re: \n"
     ]
    },
    {
     "name": "stderr",
     "output_type": "stream",
     "text": [
      "pre tokenize: 100%|██████████| 1/1 [00:00<00:00, 1001.98it/s]\n",
      "pre tokenize: 100%|██████████| 1/1 [00:00<00:00, 1003.18it/s]\n",
      "pre tokenize: 100%|██████████| 1/1 [00:00<00:00, 1003.66it/s]\n",
      "pre tokenize: 100%|██████████| 1/1 [00:00<?, ?it/s]\n"
     ]
    },
    {
     "name": "stdout",
     "output_type": "stream",
     "text": [
      "Skipping reply email: CS300_HW1\n",
      "Skipping reply email: =?UTF-8?B?RndkOiBNYWtlIGEgc3BsYXNoIChhbmQgJDEwKSEg8J+Mig==?=\n",
      "Skipping reply email: =?UTF-8?Q?Make_a_splash_(and_$10)!_=F0=9F=8C=8A?=\n",
      "Skipping reply email: Re: PURE Fall Term Confirmation Reminder\n",
      "Skipping reply email: PURE Fall Term Confirmation Reminder\n"
     ]
    },
    {
     "name": "stderr",
     "output_type": "stream",
     "text": [
      "pre tokenize: 100%|██████████| 1/1 [00:00<00:00, 1002.22it/s]\n",
      "pre tokenize: 100%|██████████| 1/1 [00:00<00:00, 1002.22it/s]\n"
     ]
    },
    {
     "name": "stdout",
     "output_type": "stream",
     "text": [
      "Skipping reply email: RE: Bee Colony Optimization ve Akademik Kariyer Hk.\n"
     ]
    },
    {
     "name": "stderr",
     "output_type": "stream",
     "text": [
      "pre tokenize: 100%|██████████| 1/1 [00:00<00:00, 501.35it/s]\n",
      "pre tokenize: 100%|██████████| 1/1 [00:00<00:00, 1001.51it/s]\n",
      "pre tokenize: 100%|██████████| 1/1 [00:00<?, ?it/s]\n",
      "pre tokenize: 100%|██████████| 1/1 [00:00<00:00, 1003.90it/s]\n"
     ]
    },
    {
     "name": "stdout",
     "output_type": "stream",
     "text": [
      "Skipping reply email: Re: Quiz ile ilgili\n"
     ]
    },
    {
     "name": "stderr",
     "output_type": "stream",
     "text": [
      "pre tokenize: 100%|██████████| 1/1 [00:00<00:00, 501.29it/s]\n",
      "pre tokenize: 100%|██████████| 1/1 [00:00<?, ?it/s]\n",
      "pre tokenize: 100%|██████████| 1/1 [00:00<?, ?it/s]\n",
      "pre tokenize: 100%|██████████| 1/1 [00:00<?, ?it/s]\n"
     ]
    },
    {
     "name": "stdout",
     "output_type": "stream",
     "text": [
      "Skipping reply email: =?utf-8?B?UmU6IPCfkYAgc2lwYXJpxZ9pbiBiaXplIHVsYcWfdMSxIQ==?=\n",
      "Skipping reply email: =?UTF-8?B?UmU6IPCfkYAgc2lwYXJpxZ9pbiBiaXplIHVsYcWfdMSxIQ==?=\n",
      "Failed to parse date: Fri, 22 Dec 2023 17:44:52 +0000 (UTC)\n"
     ]
    },
    {
     "name": "stderr",
     "output_type": "stream",
     "text": [
      "pre tokenize: 100%|██████████| 1/1 [00:00<00:00, 334.13it/s]\n",
      "pre tokenize: 100%|██████████| 1/1 [00:00<00:00, 330.34it/s]\n"
     ]
    },
    {
     "name": "stdout",
     "output_type": "stream",
     "text": [
      "Skipping email 49 due to date parsing issues.\n",
      "\n"
     ]
    },
    {
     "name": "stderr",
     "output_type": "stream",
     "text": [
      "pre tokenize: 100%|██████████| 1/1 [00:00<?, ?it/s]\n",
      "pre tokenize: 100%|██████████| 1/1 [00:00<00:00, 1002.46it/s]\n",
      "pre tokenize: 100%|██████████| 1/1 [00:00<?, ?it/s]\n",
      "pre tokenize: 100%|██████████| 1/1 [00:00<?, ?it/s]\n",
      "pre tokenize: 100%|██████████| 1/1 [00:00<00:00, 1001.98it/s]\n",
      "pre tokenize: 100%|██████████| 1/1 [00:00<00:00, 1002.22it/s]\n"
     ]
    },
    {
     "name": "stdout",
     "output_type": "stream",
     "text": [
      "Skipping reply email: Re: Erasmus\n",
      "Skipping reply email: Re: Erasmus\n",
      "Skipping reply email: =?UTF-8?Q?Re=3A_Bitirme_Projesi_Hakk=C4=B1nda?=\n"
     ]
    },
    {
     "name": "stderr",
     "output_type": "stream",
     "text": [
      "pre tokenize: 100%|██████████| 1/1 [00:00<00:00, 1002.46it/s]\n",
      "pre tokenize: 100%|██████████| 1/1 [00:00<00:00, 1000.55it/s]\n",
      "pre tokenize: 100%|██████████| 1/1 [00:00<?, ?it/s]\n",
      "pre tokenize: 100%|██████████| 1/1 [00:00<00:00, 1002.46it/s]\n",
      "pre tokenize: 100%|██████████| 1/1 [00:00<?, ?it/s]\n",
      "pre tokenize: 100%|██████████| 1/1 [00:00<00:00, 987.13it/s]\n"
     ]
    },
    {
     "name": "stdout",
     "output_type": "stream",
     "text": [
      "Skipping reply email: =?UTF-8?B?UmU6IEJpdGlybWUgdG9wbGFudMSxc8Sx?=\n"
     ]
    },
    {
     "name": "stderr",
     "output_type": "stream",
     "text": [
      "pre tokenize: 100%|██████████| 1/1 [00:00<00:00, 1002.94it/s]\n",
      "pre tokenize: 100%|██████████| 1/1 [00:00<?, ?it/s]\n"
     ]
    },
    {
     "name": "stdout",
     "output_type": "stream",
     "text": [
      "Skipping reply email: Re: Motivation letter help\n",
      "Skipping reply email: Re: Motivation letter help\n",
      "Skipping reply email: Re: Motivation letter help\n",
      "Skipping reply email: Re: Motivation letter help\n",
      "Skipping reply email: Re: Motivation letter help\n",
      "Skipping reply email: Fwd: Motivation letter help\n"
     ]
    },
    {
     "name": "stderr",
     "output_type": "stream",
     "text": [
      "pre tokenize: 100%|██████████| 1/1 [00:00<?, ?it/s]\n",
      "pre tokenize: 100%|██████████| 1/1 [00:00<00:00, 1002.70it/s]\n",
      "pre tokenize: 100%|██████████| 1/1 [00:00<00:00, 1002.70it/s]\n",
      "pre tokenize: 100%|██████████| 1/1 [00:00<00:00, 1002.22it/s]\n",
      "pre tokenize: 100%|██████████| 1/1 [00:00<00:00, 1001.51it/s]\n",
      "pre tokenize: 100%|██████████| 1/1 [00:00<00:00, 1002.94it/s]\n",
      "pre tokenize: 100%|██████████| 1/1 [00:00<00:00, 1003.18it/s]\n",
      "pre tokenize: 100%|██████████| 1/1 [00:00<00:00, 1003.66it/s]\n"
     ]
    },
    {
     "name": "stdout",
     "output_type": "stream",
     "text": [
      "Skipping reply email: Re: CV help for Master's Application\n",
      "Skipping reply email: Fwd: CV help for Master's Application\n"
     ]
    },
    {
     "name": "stderr",
     "output_type": "stream",
     "text": [
      "pre tokenize: 100%|██████████| 1/1 [00:00<00:00, 1001.74it/s]\n",
      "pre tokenize: 100%|██████████| 1/1 [00:00<?, ?it/s]\n",
      "pre tokenize: 100%|██████████| 1/1 [00:00<00:00, 334.23it/s]\n",
      "pre tokenize: 100%|██████████| 1/1 [00:00<00:00, 1002.46it/s]\n",
      "pre tokenize: 100%|██████████| 1/1 [00:00<?, ?it/s]\n",
      "pre tokenize: 100%|██████████| 1/1 [00:00<00:00, 999.12it/s]\n",
      "pre tokenize: 100%|██████████| 1/1 [00:00<?, ?it/s]\n",
      "pre tokenize: 100%|██████████| 1/1 [00:00<?, ?it/s]\n"
     ]
    },
    {
     "name": "stdout",
     "output_type": "stream",
     "text": [
      "Skipping reply email: Fwd:\n",
      "Skipping reply email: Re: \n",
      "Skipping reply email: Re: \n",
      "Skipping reply email: Re: \n",
      "Skipping reply email: Re:\n",
      "Skipping reply email: Re: \n",
      "Skipping reply email: Re: \n",
      "Skipping reply email: Re:\n"
     ]
    },
    {
     "name": "stderr",
     "output_type": "stream",
     "text": [
      "pre tokenize: 100%|██████████| 1/1 [00:00<00:00, 1010.19it/s]\n",
      "pre tokenize: 100%|██████████| 1/1 [00:00<?, ?it/s]\n",
      "pre tokenize: 100%|██████████| 1/1 [00:00<00:00, 1002.22it/s]\n",
      "pre tokenize: 100%|██████████| 1/1 [00:00<00:00, 1002.70it/s]\n",
      "pre tokenize: 100%|██████████| 1/1 [00:00<?, ?it/s]\n",
      "pre tokenize: 100%|██████████| 1/1 [00:00<?, ?it/s]\n",
      "pre tokenize: 100%|██████████| 1/1 [00:00<00:00, 1002.94it/s]\n",
      "pre tokenize: 100%|██████████| 1/1 [00:00<00:00, 1002.22it/s]\n",
      "pre tokenize: 100%|██████████| 1/1 [00:00<?, ?it/s]\n",
      "pre tokenize: 100%|██████████| 1/1 [00:00<00:00, 1002.22it/s]\n"
     ]
    },
    {
     "name": "stdout",
     "output_type": "stream",
     "text": [
      "Skipping reply email: =?UTF-8?Q?Re=3A_Proj201_hakk=C4=B1nda?=\n"
     ]
    },
    {
     "name": "stderr",
     "output_type": "stream",
     "text": [
      "pre tokenize: 100%|██████████| 1/1 [00:00<00:00, 501.71it/s]\n",
      "pre tokenize: 100%|██████████| 1/1 [00:00<00:00, 1002.46it/s]\n",
      "pre tokenize: 100%|██████████| 1/1 [00:00<00:00, 1003.66it/s]\n",
      "pre tokenize: 100%|██████████| 1/1 [00:00<?, ?it/s]\n"
     ]
    },
    {
     "name": "stdout",
     "output_type": "stream",
     "text": [
      "Skipping reply email: Fwd: Ihr Deutschlandticket April 2024\n"
     ]
    },
    {
     "name": "stderr",
     "output_type": "stream",
     "text": [
      "pre tokenize: 100%|██████████| 1/1 [00:00<00:00, 1001.98it/s]\n",
      "pre tokenize: 100%|██████████| 1/1 [00:00<?, ?it/s]\n",
      "pre tokenize: 100%|██████████| 1/1 [00:00<00:00, 1002.22it/s]\n",
      "pre tokenize: 100%|██████████| 1/1 [00:00<?, ?it/s]\n"
     ]
    },
    {
     "name": "stdout",
     "output_type": "stream",
     "text": [
      "Skipping reply email: Re: Objection for the EP\n",
      "Skipping reply email: Re: Objection for the EP\n"
     ]
    },
    {
     "name": "stderr",
     "output_type": "stream",
     "text": [
      "pre tokenize: 100%|██████████| 1/1 [00:00<00:00, 1002.46it/s]\n",
      "pre tokenize: 100%|██████████| 1/1 [00:00<00:00, 1002.46it/s]\n",
      "pre tokenize: 100%|██████████| 1/1 [00:00<00:00, 1004.14it/s]\n",
      "pre tokenize: 100%|██████████| 1/1 [00:00<?, ?it/s]\n"
     ]
    },
    {
     "name": "stdout",
     "output_type": "stream",
     "text": [
      "Skipping reply email: Re: CS204 Final\n"
     ]
    },
    {
     "name": "stderr",
     "output_type": "stream",
     "text": [
      "pre tokenize: 100%|██████████| 1/1 [00:00<00:00, 1003.18it/s]\n",
      "pre tokenize: 100%|██████████| 1/1 [00:00<00:00, 1000.31it/s]\n"
     ]
    },
    {
     "name": "stdout",
     "output_type": "stream",
     "text": [
      "Skipping reply email: =?UTF-8?B?UmU6IEhhZnRhbMSxayB0b3BsYW50xLEgLSBFTlMgNDkx?=\n"
     ]
    },
    {
     "name": "stderr",
     "output_type": "stream",
     "text": [
      "pre tokenize: 100%|██████████| 1/1 [00:00<00:00, 1001.03it/s]\n",
      "pre tokenize: 100%|██████████| 1/1 [00:00<00:00, 1002.46it/s]\n",
      "pre tokenize: 100%|██████████| 1/1 [00:00<?, ?it/s]\n",
      "pre tokenize: 100%|██████████| 1/1 [00:00<?, ?it/s]\n",
      "pre tokenize: 100%|██████████| 1/1 [00:00<00:00, 1004.14it/s]\n",
      "pre tokenize: 100%|██████████| 1/1 [00:00<00:00, 1002.22it/s]\n",
      "pre tokenize: 100%|██████████| 1/1 [00:00<?, ?it/s]\n",
      "pre tokenize: 100%|██████████| 1/1 [00:00<00:00, 1002.94it/s]\n"
     ]
    },
    {
     "name": "stdout",
     "output_type": "stream",
     "text": [
      "Skipping reply email: =?UTF-8?B?QUPEsEwvIMOWTkVNTMSwOiBEZXRheWzEsSBQdWFuIFTDvHLDvCDDllNZTSBTb251w6cgQg==?=\n",
      "\t=?UTF-8?B?ZWxnZXNpIEhrLg==?=\n"
     ]
    },
    {
     "name": "stderr",
     "output_type": "stream",
     "text": [
      "pre tokenize: 100%|██████████| 1/1 [00:00<00:00, 1002.22it/s]\n",
      "pre tokenize: 100%|██████████| 1/1 [00:00<?, ?it/s]\n",
      "pre tokenize: 100%|██████████| 1/1 [00:00<00:00, 1002.94it/s]\n",
      "pre tokenize: 100%|██████████| 1/1 [00:00<00:00, 1001.51it/s]\n"
     ]
    },
    {
     "name": "stdout",
     "output_type": "stream",
     "text": [
      "Skipping reply email: Re: PURE\n"
     ]
    },
    {
     "name": "stderr",
     "output_type": "stream",
     "text": [
      "pre tokenize: 100%|██████████| 1/1 [00:00<00:00, 1002.46it/s]\n",
      "pre tokenize: 100%|██████████| 1/1 [00:00<00:00, 1001.74it/s]\n",
      "pre tokenize: 100%|██████████| 1/1 [00:00<?, ?it/s]\n",
      "pre tokenize: 100%|██████████| 1/1 [00:00<00:00, 1002.22it/s]\n"
     ]
    },
    {
     "name": "stdout",
     "output_type": "stream",
     "text": [
      "Skipping reply email: Re: GDSC - SUACM Mysu Duyurusu Hk.\n",
      "Skipping reply email: Re: GDSC - SUACM Mysu Duyurusu Hk.\n",
      "Skipping reply email: Re: GDSC - SUACM Mysu Duyurusu Hk.\n",
      "Skipping reply email: Re: GDSC - SUACM Mysu Duyurusu Hk.\n",
      "Skipping reply email: Re: GDSC - SUACM Mysu Duyurusu Hk.\n",
      "Skipping reply email: Re: GDSC - SUACM Mysu Duyurusu Hk.\n",
      "Skipping reply email: Re: GDSC - SUACM Mysu Duyurusu Hk.\n"
     ]
    },
    {
     "name": "stderr",
     "output_type": "stream",
     "text": [
      "pre tokenize: 100%|██████████| 1/1 [00:00<00:00, 1003.18it/s]\n",
      "pre tokenize: 100%|██████████| 1/1 [00:00<00:00, 1002.22it/s]\n"
     ]
    },
    {
     "name": "stdout",
     "output_type": "stream",
     "text": [
      "Skipping reply email: =?UTF-8?Q?Re=3A_Yemeklerin_t=C3=BCkenmesi_hakkinda?=\n",
      "Skipping reply email: =?UTF-8?Q?Re=3A_Yemeklerin_t=C3=BCkenmesi_hakkinda?=\n"
     ]
    },
    {
     "name": "stderr",
     "output_type": "stream",
     "text": [
      "pre tokenize: 100%|██████████| 1/1 [00:00<00:00, 1003.66it/s]\n",
      "pre tokenize: 100%|██████████| 1/1 [00:00<?, ?it/s]\n",
      "pre tokenize: 100%|██████████| 1/1 [00:00<?, ?it/s]\n",
      "pre tokenize: 100%|██████████| 1/1 [00:00<00:00, 1002.22it/s]\n",
      "pre tokenize: 100%|██████████| 1/1 [00:00<?, ?it/s]\n",
      "pre tokenize: 100%|██████████| 1/1 [00:00<00:00, 1002.94it/s]\n",
      "pre tokenize: 100%|██████████| 1/1 [00:00<?, ?it/s]\n",
      "pre tokenize: 100%|██████████| 1/1 [00:00<00:00, 1003.90it/s]\n"
     ]
    },
    {
     "name": "stdout",
     "output_type": "stream",
     "text": [
      "Skipping reply email: Fwd: Competition Launch: ISIC 2024 - Skin Cancer Detection with 3D-TBP\n"
     ]
    },
    {
     "name": "stderr",
     "output_type": "stream",
     "text": [
      "pre tokenize: 100%|██████████| 1/1 [00:00<00:00, 334.37it/s]\n",
      "pre tokenize: 100%|██████████| 1/1 [00:00<00:00, 501.71it/s]\n"
     ]
    },
    {
     "name": "stdout",
     "output_type": "stream",
     "text": [
      "Skipping reply email: Re: Reminder: The Grant Payment Procedure& your missing documents\n",
      "Skipping reply email: Reminder: The Grant Payment Procedure& your missing documents\n"
     ]
    },
    {
     "name": "stderr",
     "output_type": "stream",
     "text": [
      "pre tokenize: 100%|██████████| 1/1 [00:00<00:00, 1001.74it/s]\n",
      "pre tokenize: 100%|██████████| 1/1 [00:00<?, ?it/s]\n"
     ]
    },
    {
     "name": "stdout",
     "output_type": "stream",
     "text": [
      "Skipping reply email: Re: About IF100 Final Exam Q6 Objection\n"
     ]
    },
    {
     "name": "stderr",
     "output_type": "stream",
     "text": [
      "pre tokenize: 100%|██████████| 1/1 [00:00<00:00, 1002.70it/s]\n",
      "pre tokenize: 100%|██████████| 1/1 [00:00<00:00, 1001.98it/s]\n",
      "pre tokenize: 100%|██████████| 1/1 [00:00<?, ?it/s]\n",
      "pre tokenize: 100%|██████████| 1/1 [00:00<00:00, 1002.46it/s]\n"
     ]
    },
    {
     "name": "stdout",
     "output_type": "stream",
     "text": [
      "Skipping reply email: =?UTF-8?B?UmU6IEJpdGlybWUgdG9wbGFudMSxc8Sx?=\n"
     ]
    },
    {
     "name": "stderr",
     "output_type": "stream",
     "text": [
      "pre tokenize: 100%|██████████| 1/1 [00:00<00:00, 501.59it/s]\n",
      "pre tokenize: 100%|██████████| 1/1 [00:00<00:00, 1002.46it/s]\n",
      "pre tokenize: 100%|██████████| 1/1 [00:00<?, ?it/s]\n",
      "pre tokenize: 100%|██████████| 1/1 [00:00<00:00, 1002.46it/s]\n"
     ]
    },
    {
     "name": "stdout",
     "output_type": "stream",
     "text": [
      "Skipping reply email: Re: Internship Online Management System Approval Needed: Project\n",
      " Description Change\n",
      "Skipping reply email: Re: Internship Online Management System Approval Needed: Project\n",
      " Description Change\n",
      "Skipping reply email: =?UTF-8?Q?Re=3a_Yemekhane_hakk=c4=b1nda?=\n",
      "Skipping reply email: =?UTF-8?Q?Re=3A_Yemekhane_hakk=C4=B1nda?=\n",
      "Skipping reply email: =?UTF-8?Q?Re=3A_Yemekhane_hakk=C4=B1nda?=\n"
     ]
    },
    {
     "name": "stderr",
     "output_type": "stream",
     "text": [
      "pre tokenize: 100%|██████████| 1/1 [00:00<00:00, 1001.74it/s]\n",
      "pre tokenize: 100%|██████████| 1/1 [00:00<00:00, 1000.07it/s]\n",
      "pre tokenize: 100%|██████████| 1/1 [00:00<00:00, 1002.22it/s]\n",
      "pre tokenize: 100%|██████████| 1/1 [00:00<00:00, 1001.98it/s]\n",
      "pre tokenize: 100%|██████████| 1/1 [00:00<00:00, 1002.22it/s]\n",
      "pre tokenize: 100%|██████████| 1/1 [00:00<?, ?it/s]\n",
      "pre tokenize: 100%|██████████| 1/1 [00:00<00:00, 1002.22it/s]\n",
      "pre tokenize: 100%|██████████| 1/1 [00:00<00:00, 1002.22it/s]\n",
      "pre tokenize: 100%|██████████| 1/1 [00:00<00:00, 1002.94it/s]\n",
      "pre tokenize: 100%|██████████| 1/1 [00:00<?, ?it/s]\n",
      "pre tokenize: 100%|██████████| 1/1 [00:00<?, ?it/s]\n",
      "pre tokenize: 100%|██████████| 1/1 [00:00<?, ?it/s]\n",
      "pre tokenize: 100%|██████████| 1/1 [00:00<00:00, 908.25it/s]\n",
      "pre tokenize: 100%|██████████| 1/1 [00:00<?, ?it/s]\n",
      "pre tokenize: 100%|██████████| 1/1 [00:00<?, ?it/s]\n",
      "pre tokenize: 100%|██████████| 1/1 [00:00<?, ?it/s]\n",
      "pre tokenize: 100%|██████████| 1/1 [00:00<00:00, 1002.46it/s]\n",
      "pre tokenize: 100%|██████████| 1/1 [00:00<?, ?it/s]\n",
      "pre tokenize: 100%|██████████| 1/1 [00:00<?, ?it/s]\n",
      "pre tokenize: 100%|██████████| 1/1 [00:00<00:00, 1004.38it/s]\n",
      "pre tokenize: 100%|██████████| 1/1 [00:00<00:00, 1002.22it/s]\n",
      "pre tokenize: 100%|██████████| 1/1 [00:00<?, ?it/s]\n"
     ]
    },
    {
     "name": "stdout",
     "output_type": "stream",
     "text": [
      "Skipping reply email: =?UTF-8?B?UmU6IMSwxZ4gQkFOS0FTSSBBTFRJTiBHRU7DhyAtIElOVEVSUkFJTCBCQcWeVlVSVVNV?=\n"
     ]
    },
    {
     "name": "stderr",
     "output_type": "stream",
     "text": [
      "pre tokenize: 100%|██████████| 1/1 [00:00<?, ?it/s]\n",
      "pre tokenize: 100%|██████████| 1/1 [00:00<00:00, 1001.74it/s]\n",
      "pre tokenize: 100%|██████████| 1/1 [00:00<00:00, 1001.98it/s]\n",
      "pre tokenize: 100%|██████████| 1/1 [00:00<00:00, 1002.46it/s]\n"
     ]
    },
    {
     "name": "stdout",
     "output_type": "stream",
     "text": [
      "Skipping reply email: Re: Evrak teslimi\n"
     ]
    },
    {
     "name": "stderr",
     "output_type": "stream",
     "text": [
      "pre tokenize: 100%|██████████| 1/1 [00:00<00:00, 1004.14it/s]\n",
      "pre tokenize: 100%|██████████| 1/1 [00:00<00:00, 1002.46it/s]\n"
     ]
    },
    {
     "name": "stdout",
     "output_type": "stream",
     "text": [
      "Skipping reply email: Re: bunq - offer\n",
      "Skipping reply email: Re: bunq - offer\n",
      "Skipping reply email: Re: bunq - offer\n"
     ]
    },
    {
     "name": "stderr",
     "output_type": "stream",
     "text": [
      "pre tokenize: 100%|██████████| 1/1 [00:00<00:00, 250.68it/s]\n",
      "pre tokenize: 100%|██████████| 1/1 [00:00<00:00, 501.35it/s]\n",
      "pre tokenize: 100%|██████████| 1/1 [00:00<?, ?it/s]\n",
      "pre tokenize: 100%|██████████| 1/1 [00:00<?, ?it/s]\n",
      "pre tokenize: 100%|██████████| 1/1 [00:00<00:00, 1002.46it/s]\n",
      "pre tokenize: 100%|██████████| 1/1 [00:00<?, ?it/s]\n",
      "pre tokenize: 100%|██████████| 1/1 [00:00<00:00, 1002.70it/s]\n",
      "pre tokenize: 100%|██████████| 1/1 [00:00<?, ?it/s]\n",
      "pre tokenize: 100%|██████████| 1/1 [00:00<00:00, 501.17it/s]\n",
      "pre tokenize: 100%|██████████| 1/1 [00:00<00:00, 1001.98it/s]\n"
     ]
    },
    {
     "name": "stdout",
     "output_type": "stream",
     "text": [
      "Skipping reply email: Re: Antrag Ersatzkarte - Verlust CampusCard\n"
     ]
    },
    {
     "name": "stderr",
     "output_type": "stream",
     "text": [
      "pre tokenize: 100%|██████████| 1/1 [00:00<?, ?it/s]\n",
      "pre tokenize: 100%|██████████| 1/1 [00:00<00:00, 1002.94it/s]\n",
      "pre tokenize: 100%|██████████| 1/1 [00:00<?, ?it/s]\n",
      "pre tokenize: 100%|██████████| 1/1 [00:00<?, ?it/s]\n"
     ]
    },
    {
     "name": "stdout",
     "output_type": "stream",
     "text": [
      "Skipping reply email: AW: Your Application - University of Passau\n",
      "Skipping reply email: Re: Your Application - University of Passau\n"
     ]
    },
    {
     "name": "stderr",
     "output_type": "stream",
     "text": [
      "pre tokenize: 100%|██████████| 1/1 [00:00<00:00, 1001.51it/s]\n",
      "pre tokenize: 100%|██████████| 1/1 [00:00<00:00, 1001.98it/s]\n",
      "pre tokenize: 100%|██████████| 1/1 [00:00<?, ?it/s]\n",
      "pre tokenize: 100%|██████████| 1/1 [00:00<00:00, 1950.84it/s]\n",
      "pre tokenize: 100%|██████████| 1/1 [00:00<?, ?it/s]\n",
      "pre tokenize: 100%|██████████| 1/1 [00:00<00:00, 1002.70it/s]\n",
      "pre tokenize: 100%|██████████| 1/1 [00:00<00:00, 1002.46it/s]\n",
      "pre tokenize: 100%|██████████| 1/1 [00:00<00:00, 1002.70it/s]\n",
      "pre tokenize: 100%|██████████| 1/1 [00:00<00:00, 1001.98it/s]\n",
      "pre tokenize: 100%|██████████| 1/1 [00:00<00:00, 1001.51it/s]\n"
     ]
    },
    {
     "name": "stdout",
     "output_type": "stream",
     "text": [
      "Skipping reply email: \n",
      " =?windows-1254?Q?Re:_Arda_Ayd=FDn_|_Sales_Operations_WINtern,_L'Or=E9al_L?=\n",
      " =?windows-1254?Q?uxe?=\n"
     ]
    },
    {
     "name": "stderr",
     "output_type": "stream",
     "text": [
      "pre tokenize: 100%|██████████| 1/1 [00:00<00:00, 1002.70it/s]\n",
      "pre tokenize: 100%|██████████| 1/1 [00:00<?, ?it/s]\n",
      "pre tokenize: 100%|██████████| 1/1 [00:00<00:00, 1002.22it/s]\n",
      "pre tokenize: 100%|██████████| 1/1 [00:00<?, ?it/s]\n",
      "pre tokenize: 100%|██████████| 1/1 [00:00<?, ?it/s]\n",
      "pre tokenize: 100%|██████████| 1/1 [00:00<00:00, 1003.42it/s]\n"
     ]
    },
    {
     "name": "stdout",
     "output_type": "stream",
     "text": [
      "Skipping reply email: Re: IE311 Quiz\n",
      "Skipping reply email: Re: IE311 Quiz\n",
      "Skipping reply email: Fwd: IE311 Quiz\n"
     ]
    },
    {
     "name": "stderr",
     "output_type": "stream",
     "text": [
      "pre tokenize: 100%|██████████| 1/1 [00:00<00:00, 1002.22it/s]\n",
      "pre tokenize: 100%|██████████| 1/1 [00:00<?, ?it/s]\n"
     ]
    },
    {
     "name": "stdout",
     "output_type": "stream",
     "text": [
      "Skipping reply email: =?UTF-8?B?UmU6IE9EQSBBUktBREHFnkkgSEss?=\n",
      "Skipping reply email: =?UTF-8?Q?ODA_ARKADA=c5=9eI_HK=2c?=\n",
      "Skipping reply email: RE: Case Study 2 Hk.\n"
     ]
    },
    {
     "name": "stderr",
     "output_type": "stream",
     "text": [
      "pre tokenize: 100%|██████████| 1/1 [00:00<00:00, 1003.42it/s]\n",
      "pre tokenize: 100%|██████████| 1/1 [00:00<00:00, 1001.74it/s]\n"
     ]
    },
    {
     "name": "stdout",
     "output_type": "stream",
     "text": [
      "Skipping reply email: Re: IE 311\n",
      "Skipping reply email: Re: IE 311\n",
      "Skipping reply email: Re: IE 311\n"
     ]
    },
    {
     "name": "stderr",
     "output_type": "stream",
     "text": [
      "pre tokenize: 100%|██████████| 1/1 [00:00<00:00, 1002.22it/s]\n",
      "pre tokenize: 100%|██████████| 1/1 [00:00<?, ?it/s]\n",
      "pre tokenize: 100%|██████████| 1/1 [00:00<?, ?it/s]\n",
      "pre tokenize: 100%|██████████| 1/1 [00:00<00:00, 1002.46it/s]\n",
      "pre tokenize: 100%|██████████| 1/1 [00:00<?, ?it/s]\n",
      "pre tokenize: 100%|██████████| 1/1 [00:00<?, ?it/s]\n",
      "pre tokenize: 100%|██████████| 1/1 [00:00<00:00, 1002.22it/s]\n",
      "pre tokenize: 100%|██████████| 1/1 [00:00<00:00, 1002.22it/s]\n"
     ]
    },
    {
     "name": "stdout",
     "output_type": "stream",
     "text": [
      "Skipping reply email: Re:\n"
     ]
    },
    {
     "name": "stderr",
     "output_type": "stream",
     "text": [
      "pre tokenize: 100%|██████████| 1/1 [00:00<?, ?it/s]\n",
      "pre tokenize: 100%|██████████| 1/1 [00:00<00:00, 1001.74it/s]\n",
      "pre tokenize: 100%|██████████| 1/1 [00:00<00:00, 1001.98it/s]\n",
      "pre tokenize: 100%|██████████| 1/1 [00:00<00:00, 1001.74it/s]\n",
      "pre tokenize: 100%|██████████| 1/1 [00:00<00:00, 1002.46it/s]\n",
      "pre tokenize: 100%|██████████| 1/1 [00:00<00:00, 1001.74it/s]\n"
     ]
    },
    {
     "name": "stdout",
     "output_type": "stream",
     "text": [
      "Skipping reply email: =?UTF-8?Q?Re=3a_Yemek_miktarlar=c4=b1_hakk=c4=b1nda?=\n"
     ]
    },
    {
     "name": "stderr",
     "output_type": "stream",
     "text": [
      "pre tokenize: 100%|██████████| 1/1 [00:00<?, ?it/s]\n",
      "pre tokenize: 100%|██████████| 1/1 [00:00<?, ?it/s]\n",
      "pre tokenize: 100%|██████████| 1/1 [00:00<00:00, 1003.18it/s]\n",
      "pre tokenize: 100%|██████████| 1/1 [00:00<00:00, 1002.46it/s]\n"
     ]
    },
    {
     "name": "stdout",
     "output_type": "stream",
     "text": [
      "Skipping reply email: =?UTF-8?B?UmU6IEthaHZhbHTEsSBmaXlhdGxhcsSx?=\n",
      "Skipping reply email: =?UTF-8?B?UmU6IEthaHZhbHTEsSBmaXlhdGxhcsSx?=\n"
     ]
    },
    {
     "name": "stderr",
     "output_type": "stream",
     "text": [
      "pre tokenize: 100%|██████████| 1/1 [00:00<00:00, 1001.98it/s]\n",
      "pre tokenize: 100%|██████████| 1/1 [00:00<?, ?it/s]\n",
      "pre tokenize: 100%|██████████| 1/1 [00:00<00:00, 501.29it/s]\n",
      "pre tokenize: 100%|██████████| 1/1 [00:00<00:00, 1001.51it/s]\n"
     ]
    },
    {
     "name": "stdout",
     "output_type": "stream",
     "text": [
      "Skipping reply email: =?UTF-8?B?UmU6IEFyZGEgQXlkxLFuIC0gQWthZGVtaWsgRGFuxLHFn2Fu?=\n",
      "Skipping reply email: =?UTF-8?B?UmU6IEFyZGEgQXlkxLFuIC0gQWthZGVtaWsgRGFuxLHFn2Fu?=\n"
     ]
    },
    {
     "name": "stderr",
     "output_type": "stream",
     "text": [
      "pre tokenize: 100%|██████████| 1/1 [00:00<00:00, 1002.70it/s]\n",
      "pre tokenize: 100%|██████████| 1/1 [00:00<00:00, 1002.70it/s]\n"
     ]
    },
    {
     "name": "stdout",
     "output_type": "stream",
     "text": [
      "Skipping reply email: =?UTF-8?Q?Re=3a_Depozito_=c4=b0adeleri_i=c3=a7in_IBAN_No_/_IBAN_num?=\n",
      " =?UTF-8?Q?ber_for_Deposit_Refunds?=\n",
      "Skipping reply email: =?UTF-8?Q?Re=3a_Depozito_=c4=b0adeleri_i=c3=a7in_IBAN_No_/_IBAN_num?=\n",
      " =?UTF-8?Q?ber_for_Deposit_Refunds?=\n",
      "Skipping reply email: =?UTF-8?Q?Re=3A_Depozito_=C4=B0adeleri_i=C3=A7in_IBAN_No_=2F_IBAN_number_f?=\n",
      "\t=?UTF-8?Q?or_Deposit_Refunds?=\n",
      "Skipping reply email: =?UTF-8?Q?Depozito_=c4=b0adeleri_i=c3=a7in_IBAN_No_/_IBAN_number_fo?=\n",
      " =?UTF-8?Q?r_Deposit_Refunds?=\n"
     ]
    },
    {
     "name": "stderr",
     "output_type": "stream",
     "text": [
      "pre tokenize: 100%|██████████| 1/1 [00:00<00:00, 1001.03it/s]\n",
      "pre tokenize: 100%|██████████| 1/1 [00:00<?, ?it/s]\n"
     ]
    },
    {
     "name": "stdout",
     "output_type": "stream",
     "text": [
      "Skipping reply email: Re: WSP3 section K\n",
      "Skipping reply email: Re: WSP3 section K\n",
      "Skipping reply email: Re: WSP3 section K\n",
      "Skipping reply email: Re: WSP3 section K\n"
     ]
    },
    {
     "name": "stderr",
     "output_type": "stream",
     "text": [
      "pre tokenize: 100%|██████████| 1/1 [00:00<00:00, 1002.70it/s]\n",
      "pre tokenize: 100%|██████████| 1/1 [00:00<00:00, 1002.70it/s]\n"
     ]
    },
    {
     "name": "stdout",
     "output_type": "stream",
     "text": [
      "Skipping reply email: Re: Problem regarding scheduling Get Shit Done day\n",
      "Skipping reply email: Problem regarding scheduling Get Shit Done day\n"
     ]
    },
    {
     "name": "stderr",
     "output_type": "stream",
     "text": [
      "pre tokenize: 100%|██████████| 1/1 [00:00<?, ?it/s]\n",
      "pre tokenize: 100%|██████████| 1/1 [00:00<?, ?it/s]\n"
     ]
    },
    {
     "name": "stdout",
     "output_type": "stream",
     "text": [
      "Skipping reply email: =?UTF-8?B?UmU6IEXEn2l0bWVuIG1haWwgdGFzbGHEn8Sx?=\n",
      "Skipping reply email: =?UTF-8?B?UmU6IEXEn2l0bWVuIG1haWwgdGFzbGHEn8Sx?=\n",
      "Skipping reply email: =?UTF-8?B?UmU6IEXEn2l0bWVuIG1haWwgdGFzbGHEn8Sx?=\n"
     ]
    },
    {
     "name": "stderr",
     "output_type": "stream",
     "text": [
      "pre tokenize: 100%|██████████| 1/1 [00:00<00:00, 501.29it/s]\n",
      "pre tokenize: 100%|██████████| 1/1 [00:00<00:00, 501.29it/s]\n",
      "pre tokenize: 100%|██████████| 1/1 [00:00<?, ?it/s]\n",
      "pre tokenize: 100%|██████████| 1/1 [00:00<00:00, 1001.98it/s]\n"
     ]
    },
    {
     "name": "stdout",
     "output_type": "stream",
     "text": [
      "Skipping reply email: Re: FIN499 Grup Odevi Hakkinda\n"
     ]
    },
    {
     "name": "stderr",
     "output_type": "stream",
     "text": [
      "pre tokenize: 100%|██████████| 1/1 [00:00<00:00, 1002.46it/s]\n",
      "pre tokenize: 100%|██████████| 1/1 [00:00<00:00, 1002.70it/s]\n",
      "pre tokenize: 100%|██████████| 1/1 [00:00<?, ?it/s]\n",
      "pre tokenize: 100%|██████████| 1/1 [00:00<?, ?it/s]\n"
     ]
    },
    {
     "name": "stdout",
     "output_type": "stream",
     "text": [
      "Skipping reply email: Re: PURE hk.\n",
      "Skipping reply email: Re: PURE hk.\n",
      "Skipping reply email: Re: PURE hk.\n",
      "Skipping reply email: Re: PURE hk.\n",
      "Skipping reply email: Re: PURE hk.\n",
      "Skipping reply email: Re: PURE hk.\n",
      "Skipping reply email: Re: PURE hk.\n",
      "Skipping reply email: Re: PURE hk.\n"
     ]
    },
    {
     "name": "stderr",
     "output_type": "stream",
     "text": [
      "pre tokenize: 100%|██████████| 1/1 [00:00<00:00, 1002.22it/s]\n",
      "pre tokenize: 100%|██████████| 1/1 [00:00<?, ?it/s]\n"
     ]
    },
    {
     "name": "stdout",
     "output_type": "stream",
     "text": [
      "Skipping reply email: =?UTF-8?B?UmU6IEFDxLBMIELEsExHxLAuLi4=?=\n"
     ]
    },
    {
     "name": "stderr",
     "output_type": "stream",
     "text": [
      "pre tokenize: 100%|██████████| 1/1 [00:00<00:00, 1002.70it/s]\n",
      "pre tokenize: 100%|██████████| 1/1 [00:00<00:00, 1002.70it/s]\n"
     ]
    },
    {
     "name": "stdout",
     "output_type": "stream",
     "text": [
      "Skipping reply email: Re: \n"
     ]
    },
    {
     "name": "stderr",
     "output_type": "stream",
     "text": [
      "pre tokenize: 100%|██████████| 1/1 [00:00<00:00, 1002.94it/s]\n",
      "pre tokenize: 100%|██████████| 1/1 [00:00<?, ?it/s]\n"
     ]
    },
    {
     "name": "stdout",
     "output_type": "stream",
     "text": [
      "Skipping reply email: =?UTF-8?Q?Re=3A_Erasmus_dersleri_not_giri=C5=9Fi_hakk=C4=B1nda?=\n"
     ]
    },
    {
     "name": "stderr",
     "output_type": "stream",
     "text": [
      "pre tokenize: 100%|██████████| 1/1 [00:00<00:00, 1002.46it/s]\n",
      "pre tokenize: 100%|██████████| 1/1 [00:00<00:00, 1000.79it/s]\n"
     ]
    },
    {
     "name": "stdout",
     "output_type": "stream",
     "text": [
      "Skipping reply email: Re: IE 311 - LA\n",
      "Skipping reply email: Re: IE 311 - LA\n",
      "Skipping reply email: Re: IE 311 - LA\n",
      "Skipping reply email: IE 311 - LA\n"
     ]
    },
    {
     "name": "stderr",
     "output_type": "stream",
     "text": [
      "pre tokenize: 100%|██████████| 1/1 [00:00<00:00, 1950.84it/s]\n",
      "pre tokenize: 100%|██████████| 1/1 [00:00<00:00, 919.00it/s]\n"
     ]
    },
    {
     "name": "stdout",
     "output_type": "stream",
     "text": [
      "Skipping reply email: =?UTF-8?Q?Re=3A_Arda_Ayd=C4=B1n_ek_belge?=\n",
      "Failed to parse date: Fri, 09 Feb 2024 02:45:52 -0800 (PST)\n"
     ]
    },
    {
     "name": "stderr",
     "output_type": "stream",
     "text": [
      "pre tokenize: 100%|██████████| 1/1 [00:00<?, ?it/s]\n",
      "pre tokenize: 100%|██████████| 1/1 [00:00<00:00, 1002.46it/s]\n"
     ]
    },
    {
     "name": "stdout",
     "output_type": "stream",
     "text": [
      "Skipping email 252 due to date parsing issues.\n",
      "\n"
     ]
    },
    {
     "name": "stderr",
     "output_type": "stream",
     "text": [
      "pre tokenize: 100%|██████████| 1/1 [00:00<?, ?it/s]\n",
      "pre tokenize: 100%|██████████| 1/1 [00:00<?, ?it/s]\n",
      "pre tokenize: 100%|██████████| 1/1 [00:00<?, ?it/s]\n",
      "pre tokenize: 100%|██████████| 1/1 [00:00<?, ?it/s]\n",
      "pre tokenize: 100%|██████████| 1/1 [00:00<00:00, 1002.46it/s]\n",
      "pre tokenize: 100%|██████████| 1/1 [00:00<?, ?it/s]\n",
      "pre tokenize: 100%|██████████| 1/1 [00:00<?, ?it/s]\n",
      "pre tokenize: 100%|██████████| 1/1 [00:00<00:00, 1029.78it/s]\n",
      "pre tokenize: 100%|██████████| 1/1 [00:00<00:00, 1002.22it/s]\n",
      "pre tokenize: 100%|██████████| 1/1 [00:00<?, ?it/s]\n"
     ]
    },
    {
     "name": "stdout",
     "output_type": "stream",
     "text": [
      "Skipping reply email: =?UTF-8?Q?Dogum=5Fguncuku=2Ecpp_hakk=C4=B1nda?=\n"
     ]
    },
    {
     "name": "stderr",
     "output_type": "stream",
     "text": [
      "pre tokenize: 100%|██████████| 1/1 [00:00<00:00, 1001.51it/s]\n",
      "pre tokenize: 100%|██████████| 1/1 [00:00<00:00, 1000.07it/s]\n"
     ]
    },
    {
     "name": "stdout",
     "output_type": "stream",
     "text": [
      "Skipping reply email: Re: IE 311 recitation production planning kodu\n"
     ]
    },
    {
     "name": "stderr",
     "output_type": "stream",
     "text": [
      "pre tokenize: 100%|██████████| 1/1 [00:00<?, ?it/s]\n",
      "pre tokenize: 100%|██████████| 1/1 [00:00<00:00, 1002.46it/s]\n",
      "pre tokenize: 100%|██████████| 1/1 [00:00<00:00, 1002.22it/s]\n",
      "pre tokenize: 100%|██████████| 1/1 [00:00<00:00, 1001.03it/s]\n"
     ]
    },
    {
     "name": "stdout",
     "output_type": "stream",
     "text": [
      "Skipping reply email: Re: Math 203 final grades objection\n",
      "Skipping reply email: Re: Math 203 final grades objection\n",
      "Skipping reply email: Re: Math 203 final grades objection\n"
     ]
    },
    {
     "name": "stderr",
     "output_type": "stream",
     "text": [
      "pre tokenize: 100%|██████████| 1/1 [00:00<00:00, 1001.27it/s]\n",
      "pre tokenize: 100%|██████████| 1/1 [00:00<00:00, 1002.46it/s]\n",
      "pre tokenize: 100%|██████████| 1/1 [00:00<00:00, 500.93it/s]\n",
      "pre tokenize: 100%|██████████| 1/1 [00:00<00:00, 1001.74it/s]\n"
     ]
    },
    {
     "name": "stdout",
     "output_type": "stream",
     "text": [
      "Skipping reply email: Re: Your Application to P.I. Works\n"
     ]
    },
    {
     "name": "stderr",
     "output_type": "stream",
     "text": [
      "pre tokenize: 100%|██████████| 1/1 [00:00<00:00, 1003.90it/s]\n",
      "pre tokenize: 100%|██████████| 1/1 [00:00<00:00, 502.01it/s]\n",
      "pre tokenize: 100%|██████████| 1/1 [00:00<00:00, 1003.42it/s]\n",
      "pre tokenize: 100%|██████████| 1/1 [00:00<00:00, 1002.70it/s]\n",
      "pre tokenize: 100%|██████████| 1/1 [00:00<00:00, 1002.46it/s]\n",
      "pre tokenize: 100%|██████████| 1/1 [00:00<00:00, 1004.38it/s]\n"
     ]
    },
    {
     "name": "stdout",
     "output_type": "stream",
     "text": [
      "Skipping reply email: =?UTF-8?B?UmU6IEfDtnLDvMWfbWUgdGFsZWJp?=\n"
     ]
    },
    {
     "name": "stderr",
     "output_type": "stream",
     "text": [
      "pre tokenize: 100%|██████████| 1/1 [00:00<00:00, 1002.46it/s]\n",
      "pre tokenize: 100%|██████████| 1/1 [00:00<00:00, 1003.42it/s]\n"
     ]
    },
    {
     "name": "stdout",
     "output_type": "stream",
     "text": [
      "Skipping reply email: Re: Duyuru talebi\n",
      "Skipping reply email: Re: Duyuru talebi\n",
      "Skipping reply email: Re: Duyuru talebi\n"
     ]
    },
    {
     "name": "stderr",
     "output_type": "stream",
     "text": [
      "pre tokenize: 100%|██████████| 1/1 [00:00<00:00, 1000.79it/s]\n",
      "pre tokenize: 100%|██████████| 1/1 [00:00<?, ?it/s]\n",
      "pre tokenize: 100%|██████████| 1/1 [00:00<00:00, 1001.98it/s]\n",
      "pre tokenize: 100%|██████████| 1/1 [00:00<?, ?it/s]\n"
     ]
    },
    {
     "name": "stdout",
     "output_type": "stream",
     "text": [
      "Skipping reply email: Re: Writing task 1 feedback\n"
     ]
    },
    {
     "name": "stderr",
     "output_type": "stream",
     "text": [
      "pre tokenize: 100%|██████████| 1/1 [00:00<00:00, 1002.94it/s]\n",
      "pre tokenize: 100%|██████████| 1/1 [00:00<00:00, 1002.70it/s]\n",
      "pre tokenize: 100%|██████████| 1/1 [00:00<00:00, 1003.42it/s]\n",
      "pre tokenize: 100%|██████████| 1/1 [00:00<00:00, 1001.98it/s]\n"
     ]
    },
    {
     "name": "stdout",
     "output_type": "stream",
     "text": [
      "Skipping reply email: Re: Recit 6 Q1\n",
      "Skipping reply email: Recit 6 Q1\n",
      "Skipping reply email: Re: data\n",
      "Skipping reply email: Re: data\n",
      "Skipping reply email: data\n"
     ]
    },
    {
     "name": "stderr",
     "output_type": "stream",
     "text": [
      "pre tokenize: 100%|██████████| 1/1 [00:00<00:00, 1002.22it/s]\n",
      "pre tokenize: 100%|██████████| 1/1 [00:00<?, ?it/s]\n"
     ]
    },
    {
     "name": "stdout",
     "output_type": "stream",
     "text": [
      "Skipping reply email: =?UTF-8?Q?Re=3A_Yurt_Ba=C5=9Fvurusu_Hakk=2E?=\n"
     ]
    },
    {
     "name": "stderr",
     "output_type": "stream",
     "text": [
      "pre tokenize: 100%|██████████| 1/1 [00:00<00:00, 334.10it/s]\n",
      "pre tokenize: 100%|██████████| 1/1 [00:00<00:00, 1004.14it/s]\n",
      "pre tokenize: 100%|██████████| 1/1 [00:00<?, ?it/s]\n",
      "pre tokenize: 100%|██████████| 1/1 [00:00<00:00, 1002.46it/s]\n",
      "pre tokenize: 100%|██████████| 1/1 [00:00<?, ?it/s]\n",
      "pre tokenize: 100%|██████████| 1/1 [00:00<00:00, 1003.18it/s]\n"
     ]
    },
    {
     "name": "stdout",
     "output_type": "stream",
     "text": [
      "Skipping reply email: =?UTF-8?Q?Re=3a_Antijen_Testi_=c3=96rnek_Al=c4=b1m=c4=b1-15_Ekim/An?=\n",
      " =?UTF-8?Q?tigen_Test_Sample_Collection-15_October?=\n",
      "Skipping reply email: =?UTF-8?Q?Re=3A_Antijen_Testi_=C3=96rnek_Al=C4=B1m=C4=B1=2D15_Ekim=2FAntigen_Tes?=\n",
      "\t=?UTF-8?Q?t_Sample_Collection=2D15_October?=\n"
     ]
    },
    {
     "name": "stderr",
     "output_type": "stream",
     "text": [
      "pre tokenize: 100%|██████████| 1/1 [00:00<00:00, 200.46it/s]\n",
      "pre tokenize: 100%|██████████| 1/1 [00:00<00:00, 334.29it/s]\n"
     ]
    },
    {
     "name": "stdout",
     "output_type": "stream",
     "text": [
      "Skipping reply email: Re: bunq | your Get Shit Done day\n"
     ]
    },
    {
     "name": "stderr",
     "output_type": "stream",
     "text": [
      "pre tokenize: 100%|██████████| 1/1 [00:00<00:00, 1003.42it/s]\n",
      "pre tokenize: 100%|██████████| 1/1 [00:00<00:00, 1002.70it/s]\n",
      "pre tokenize: 100%|██████████| 1/1 [00:00<00:00, 1001.74it/s]\n",
      "pre tokenize: 100%|██████████| 1/1 [00:00<00:00, 1002.70it/s]\n",
      "pre tokenize: 100%|██████████| 1/1 [00:00<?, ?it/s]\n",
      "pre tokenize: 100%|██████████| 1/1 [00:00<00:00, 1002.70it/s]\n"
     ]
    },
    {
     "name": "stdout",
     "output_type": "stream",
     "text": [
      "Skipping reply email: RE: ticket with ID: SU0-AAAS-3206\n"
     ]
    },
    {
     "name": "stderr",
     "output_type": "stream",
     "text": [
      "pre tokenize: 100%|██████████| 1/1 [00:00<00:00, 501.23it/s]\n",
      "pre tokenize: 100%|██████████| 1/1 [00:00<00:00, 1004.38it/s]\n"
     ]
    },
    {
     "name": "stdout",
     "output_type": "stream",
     "text": [
      "Skipping reply email: Re: W&S Writing task 2 feedback\n"
     ]
    },
    {
     "name": "stderr",
     "output_type": "stream",
     "text": [
      "pre tokenize: 100%|██████████| 1/1 [00:00<00:00, 1002.46it/s]\n",
      "pre tokenize: 100%|██████████| 1/1 [00:00<00:00, 1003.42it/s]\n",
      "pre tokenize: 100%|██████████| 1/1 [00:00<00:00, 1002.94it/s]\n",
      "pre tokenize: 100%|██████████| 1/1 [00:00<00:00, 1002.46it/s]\n",
      "pre tokenize: 100%|██████████| 1/1 [00:00<00:00, 1001.98it/s]\n",
      "pre tokenize: 100%|██████████| 1/1 [00:00<?, ?it/s]\n"
     ]
    },
    {
     "name": "stdout",
     "output_type": "stream",
     "text": [
      "Skipping reply email: Re: Adobe Scan 09 Eki 2023.pdf\n"
     ]
    },
    {
     "name": "stderr",
     "output_type": "stream",
     "text": [
      "pre tokenize: 100%|██████████| 1/1 [00:00<00:00, 1002.22it/s]\n",
      "pre tokenize: 100%|██████████| 1/1 [00:00<00:00, 1002.46it/s]\n"
     ]
    },
    {
     "name": "stdout",
     "output_type": "stream",
     "text": [
      "Skipping reply email: Re: IE 311 Syllabus\n",
      "Skipping reply email: Re: IE 311 Syllabus\n",
      "Skipping reply email: Re: IE 311 Syllabus\n",
      "Skipping reply email: Re: IE 311 Syllabus\n",
      "Skipping reply email: Re: IE 311 Syllabus\n",
      "Skipping reply email: Re: IE 311 Syllabus\n",
      "Skipping reply email: Re: IE 311 Syllabus\n",
      "Skipping reply email: Re: IE 311 Syllabus\n",
      "Skipping reply email: Re: IE 311 Syllabus\n",
      "Skipping reply email: Re: IE 311 Syllabus\n",
      "Skipping reply email: Re: IE 311 Syllabus\n",
      "Skipping reply email: Re: IE 311 Syllabus\n",
      "Skipping reply email: Re: IE 311 Syllabus\n",
      "Skipping reply email: Re: IE 311 Syllabus\n"
     ]
    },
    {
     "name": "stderr",
     "output_type": "stream",
     "text": [
      "pre tokenize: 100%|██████████| 1/1 [00:00<?, ?it/s]\n",
      "pre tokenize: 100%|██████████| 1/1 [00:00<?, ?it/s]\n",
      "pre tokenize: 100%|██████████| 1/1 [00:00<00:00, 1001.74it/s]\n",
      "pre tokenize: 100%|██████████| 1/1 [00:00<?, ?it/s]\n"
     ]
    },
    {
     "name": "stdout",
     "output_type": "stream",
     "text": [
      "Skipping reply email: =?UTF-8?Q?Re=3a_Yemekhanede_yemek_bitmesi_hakk=c4=b1nda?=\n"
     ]
    },
    {
     "name": "stderr",
     "output_type": "stream",
     "text": [
      "pre tokenize: 100%|██████████| 1/1 [00:00<00:00, 1003.66it/s]\n",
      "pre tokenize: 100%|██████████| 1/1 [00:00<00:00, 1002.22it/s]\n",
      "pre tokenize: 100%|██████████| 1/1 [00:00<?, ?it/s]\n",
      "pre tokenize: 100%|██████████| 1/1 [00:00<00:00, 1002.22it/s]\n",
      "pre tokenize: 100%|██████████| 1/1 [00:00<00:00, 1002.22it/s]\n",
      "pre tokenize: 100%|██████████| 1/1 [00:00<00:00, 1003.90it/s]\n"
     ]
    },
    {
     "name": "stdout",
     "output_type": "stream",
     "text": [
      "Skipping reply email: =?UTF-8?Q?Re=3A_Burs_hakk=C4=B1nda_bilgi?=\n"
     ]
    },
    {
     "name": "stderr",
     "output_type": "stream",
     "text": [
      "pre tokenize: 100%|██████████| 1/1 [00:00<00:00, 1002.70it/s]\n",
      "pre tokenize: 100%|██████████| 1/1 [00:00<00:00, 1002.46it/s]\n",
      "pre tokenize: 100%|██████████| 1/1 [00:00<00:00, 1003.18it/s]\n",
      "pre tokenize: 100%|██████████| 1/1 [00:00<?, ?it/s]\n"
     ]
    },
    {
     "name": "stdout",
     "output_type": "stream",
     "text": [
      "Skipping reply email: Re: IE 395 raporu (revizyon)\n",
      "Skipping reply email: Re: IE 395 raporu (revizyon)\n"
     ]
    },
    {
     "name": "stderr",
     "output_type": "stream",
     "text": [
      "pre tokenize: 100%|██████████| 1/1 [00:00<00:00, 501.59it/s]\n",
      "pre tokenize: 100%|██████████| 1/1 [00:00<00:00, 1001.98it/s]\n",
      "pre tokenize: 100%|██████████| 1/1 [00:00<?, ?it/s]\n",
      "pre tokenize: 100%|██████████| 1/1 [00:00<?, ?it/s]\n"
     ]
    },
    {
     "name": "stdout",
     "output_type": "stream",
     "text": [
      "Skipping reply email: Re: Proj 201\n",
      "Skipping reply email: Re: Proj 201\n",
      "Skipping reply email: Re: Proj 201\n",
      "Skipping reply email: Re: Proj 201\n"
     ]
    },
    {
     "name": "stderr",
     "output_type": "stream",
     "text": [
      "pre tokenize: 100%|██████████| 1/1 [00:00<00:00, 501.35it/s]\n",
      "pre tokenize: 100%|██████████| 1/1 [00:00<00:00, 1002.94it/s]\n",
      "pre tokenize: 100%|██████████| 1/1 [00:00<?, ?it/s]\n",
      "pre tokenize: 100%|██████████| 1/1 [00:00<00:00, 500.10it/s]\n",
      "pre tokenize: 100%|██████████| 1/1 [00:00<00:00, 1002.22it/s]\n",
      "pre tokenize: 100%|██████████| 1/1 [00:00<?, ?it/s]\n",
      "pre tokenize: 100%|██████████| 1/1 [00:00<?, ?it/s]\n",
      "pre tokenize: 100%|██████████| 1/1 [00:00<?, ?it/s]\n",
      "pre tokenize: 100%|██████████| 1/1 [00:00<00:00, 982.73it/s]\n",
      "pre tokenize: 100%|██████████| 1/1 [00:00<00:00, 1001.74it/s]\n",
      "pre tokenize: 100%|██████████| 1/1 [00:00<?, ?it/s]\n",
      "pre tokenize: 100%|██████████| 1/1 [00:00<?, ?it/s]\n",
      "pre tokenize: 100%|██████████| 1/1 [00:00<?, ?it/s]\n",
      "pre tokenize: 100%|██████████| 1/1 [00:00<00:00, 1002.46it/s]\n"
     ]
    },
    {
     "name": "stdout",
     "output_type": "stream",
     "text": [
      "Skipping reply email: =?UTF-8?Q?Re=3A_=5B202201PROJ201=2DDoruk_G=C3=BCnayd=C4=B1n=27_s_Projects=5D_Pro?=\n",
      "\t=?UTF-8?Q?j_201_First_Meeting?=\n"
     ]
    },
    {
     "name": "stderr",
     "output_type": "stream",
     "text": [
      "pre tokenize: 100%|██████████| 1/1 [00:00<00:00, 1003.90it/s]\n",
      "pre tokenize: 100%|██████████| 1/1 [00:00<00:00, 1001.03it/s]\n",
      "pre tokenize: 100%|██████████| 1/1 [00:00<00:00, 1002.70it/s]\n",
      "pre tokenize: 100%|██████████| 1/1 [00:00<?, ?it/s]\n",
      "pre tokenize: 100%|██████████| 1/1 [00:00<?, ?it/s]\n",
      "pre tokenize: 100%|██████████| 1/1 [00:00<?, ?it/s]\n"
     ]
    },
    {
     "name": "stdout",
     "output_type": "stream",
     "text": [
      "Skipping reply email: Re: Tutorial for EP\n",
      "Skipping reply email: Re: Tutorial for EP\n",
      "Skipping reply email: Re: Tutorial for EP\n",
      "Skipping reply email: Re: Tutorial for EP\n"
     ]
    },
    {
     "name": "stderr",
     "output_type": "stream",
     "text": [
      "pre tokenize: 100%|██████████| 1/1 [00:00<00:00, 1002.70it/s]\n",
      "pre tokenize: 100%|██████████| 1/1 [00:00<00:00, 1002.46it/s]\n",
      "pre tokenize: 100%|██████████| 1/1 [00:00<?, ?it/s]\n",
      "pre tokenize: 100%|██████████| 1/1 [00:00<?, ?it/s]\n"
     ]
    },
    {
     "name": "stdout",
     "output_type": "stream",
     "text": [
      "Skipping reply email: =?UTF-8?B?UmU6IDIuIHlhesSxIMO2ZGV2aSBpbGUgaWxnaWxp?=\n"
     ]
    },
    {
     "name": "stderr",
     "output_type": "stream",
     "text": [
      "pre tokenize: 100%|██████████| 1/1 [00:00<00:00, 1003.18it/s]\n",
      "pre tokenize: 100%|██████████| 1/1 [00:00<00:00, 1002.46it/s]\n",
      "pre tokenize: 100%|██████████| 1/1 [00:00<00:00, 991.56it/s]\n",
      "pre tokenize: 100%|██████████| 1/1 [00:00<00:00, 1003.66it/s]\n"
     ]
    },
    {
     "name": "stdout",
     "output_type": "stream",
     "text": [
      "Skipping reply email: =?UTF-8?Q?Re=3A_Soru_Excel=27i_ile_alakal=C4=B1?=\n"
     ]
    },
    {
     "name": "stderr",
     "output_type": "stream",
     "text": [
      "pre tokenize: 100%|██████████| 1/1 [00:00<00:00, 1003.18it/s]\n",
      "pre tokenize: 100%|██████████| 1/1 [00:00<?, ?it/s]\n",
      "pre tokenize: 100%|██████████| 1/1 [00:00<?, ?it/s]\n",
      "pre tokenize: 100%|██████████| 1/1 [00:00<?, ?it/s]\n"
     ]
    },
    {
     "name": "stdout",
     "output_type": "stream",
     "text": [
      "Skipping reply email: Re: Solution Challenge Duyuru\n"
     ]
    },
    {
     "name": "stderr",
     "output_type": "stream",
     "text": [
      "pre tokenize: 100%|██████████| 1/1 [00:00<00:00, 167.12it/s]\n",
      "pre tokenize: 100%|██████████| 1/1 [00:00<00:00, 501.41it/s]\n"
     ]
    },
    {
     "name": "stdout",
     "output_type": "stream",
     "text": [
      "Skipping reply email: Re: Gamified Assessment\n"
     ]
    },
    {
     "name": "stderr",
     "output_type": "stream",
     "text": [
      "pre tokenize: 100%|██████████| 1/1 [00:00<00:00, 1002.70it/s]\n",
      "pre tokenize: 100%|██████████| 1/1 [00:00<00:00, 1001.98it/s]\n",
      "pre tokenize: 100%|██████████| 1/1 [00:00<00:00, 1001.98it/s]\n",
      "pre tokenize: 100%|██████████| 1/1 [00:00<00:00, 1002.46it/s]\n"
     ]
    },
    {
     "name": "stdout",
     "output_type": "stream",
     "text": [
      "Skipping reply email: =?UTF-8?Q?Fwd=3A_Deutsche_Bank_Quantitative_Internship_Programme?=\n",
      "\t=?UTF-8?Q?_=E2=80=93_Technical_Test?=\n",
      "Failed to parse date: Tue, 05 Dec 2023 17:40:35 +0000 (UTC)\n"
     ]
    },
    {
     "name": "stderr",
     "output_type": "stream",
     "text": [
      "pre tokenize: 100%|██████████| 1/1 [00:00<?, ?it/s]\n",
      "pre tokenize: 100%|██████████| 1/1 [00:00<00:00, 1001.98it/s]\n"
     ]
    },
    {
     "name": "stdout",
     "output_type": "stream",
     "text": [
      "Skipping email 367 due to date parsing issues.\n",
      "\n"
     ]
    },
    {
     "name": "stderr",
     "output_type": "stream",
     "text": [
      "pre tokenize: 100%|██████████| 1/1 [00:00<00:00, 1002.94it/s]\n",
      "pre tokenize: 100%|██████████| 1/1 [00:00<00:00, 1001.27it/s]\n",
      "pre tokenize: 100%|██████████| 1/1 [00:00<?, ?it/s]\n",
      "pre tokenize: 100%|██████████| 1/1 [00:00<00:00, 1004.38it/s]\n",
      "pre tokenize: 100%|██████████| 1/1 [00:00<00:00, 1001.74it/s]\n",
      "pre tokenize: 100%|██████████| 1/1 [00:00<?, ?it/s]\n",
      "pre tokenize: 100%|██████████| 1/1 [00:00<?, ?it/s]\n",
      "pre tokenize: 100%|██████████| 1/1 [00:00<00:00, 1001.98it/s]\n"
     ]
    },
    {
     "name": "stdout",
     "output_type": "stream",
     "text": [
      "Skipping reply email: Re: About the question you asked\n"
     ]
    },
    {
     "name": "stderr",
     "output_type": "stream",
     "text": [
      "pre tokenize: 100%|██████████| 1/1 [00:00<00:00, 1016.80it/s]\n",
      "pre tokenize: 100%|██████████| 1/1 [00:00<00:00, 1004.38it/s]\n",
      "pre tokenize: 100%|██████████| 1/1 [00:00<00:00, 1002.22it/s]\n",
      "pre tokenize: 100%|██████████| 1/1 [00:00<?, ?it/s]\n"
     ]
    },
    {
     "name": "stdout",
     "output_type": "stream",
     "text": [
      "Skipping reply email: =?UTF-8?Q?Re=3A_Yan_dal_ba=C5=9Fvuru_durumu?=\n",
      "Skipping reply email: =?UTF-8?Q?Re=3A_Yan_dal_ba=C5=9Fvuru_durumu?=\n"
     ]
    },
    {
     "name": "stderr",
     "output_type": "stream",
     "text": [
      "pre tokenize: 100%|██████████| 1/1 [00:00<00:00, 1001.03it/s]\n",
      "pre tokenize: 100%|██████████| 1/1 [00:00<00:00, 1002.22it/s]\n",
      "pre tokenize: 100%|██████████| 1/1 [00:00<00:00, 501.35it/s]\n",
      "pre tokenize: 100%|██████████| 1/1 [00:00<00:00, 1002.22it/s]\n"
     ]
    },
    {
     "name": "stdout",
     "output_type": "stream",
     "text": [
      "Skipping reply email: =?UTF-8?Q?Re=3A_=5BFirebase=5D_Eyl=C3=BCl_=C3=96yk=C3=BC_=C5=9Een_=28Student=29_added_yo?=\n",
      "\t=?UTF-8?Q?u_as_a_collaborator_on_the_project_=27cs306=27?=\n"
     ]
    },
    {
     "name": "stderr",
     "output_type": "stream",
     "text": [
      "pre tokenize: 100%|██████████| 1/1 [00:00<00:00, 1002.70it/s]\n",
      "pre tokenize: 100%|██████████| 1/1 [00:00<00:00, 1002.46it/s]\n",
      "pre tokenize: 100%|██████████| 1/1 [00:00<?, ?it/s]\n",
      "pre tokenize: 100%|██████████| 1/1 [00:00<00:00, 1001.98it/s]\n"
     ]
    },
    {
     "name": "stdout",
     "output_type": "stream",
     "text": [
      "Skipping reply email: =?UTF-8?Q?Re=3a_Ak=c5=9fam_yeme=c4=9finde_tabldotun_bitmesine_dair?=\n"
     ]
    },
    {
     "name": "stderr",
     "output_type": "stream",
     "text": [
      "pre tokenize: 100%|██████████| 1/1 [00:00<00:00, 1002.22it/s]\n",
      "pre tokenize: 100%|██████████| 1/1 [00:00<00:00, 1001.74it/s]\n"
     ]
    },
    {
     "name": "stdout",
     "output_type": "stream",
     "text": [
      "Skipping reply email: =?UTF-8?Q?Sabanc=C4=B1_=C3=9Cniversitesi_GDSC_E=C4=9Fitim_Daveti?=\n"
     ]
    },
    {
     "name": "stderr",
     "output_type": "stream",
     "text": [
      "pre tokenize: 100%|██████████| 1/1 [00:00<00:00, 1003.42it/s]\n",
      "pre tokenize: 100%|██████████| 1/1 [00:00<00:00, 1001.98it/s]\n",
      "pre tokenize: 100%|██████████| 1/1 [00:00<?, ?it/s]\n",
      "pre tokenize: 100%|██████████| 1/1 [00:00<?, ?it/s]\n"
     ]
    },
    {
     "name": "stdout",
     "output_type": "stream",
     "text": [
      "Skipping reply email: =?UTF-8?B?UmU6IEJpdGlybWUgdG9wbGFudMSxc8Sx?=\n"
     ]
    },
    {
     "name": "stderr",
     "output_type": "stream",
     "text": [
      "pre tokenize: 100%|██████████| 1/1 [00:00<00:00, 1002.46it/s]\n",
      "pre tokenize: 100%|██████████| 1/1 [00:00<00:00, 1002.70it/s]\n",
      "pre tokenize: 100%|██████████| 1/1 [00:00<00:00, 1002.46it/s]\n",
      "pre tokenize: 100%|██████████| 1/1 [00:00<00:00, 1002.94it/s]\n"
     ]
    },
    {
     "name": "stdout",
     "output_type": "stream",
     "text": [
      "Skipping reply email: Re: Next Steps in Your Application for the Global Markets Internship\n",
      " Programme (London) 2025 role!\n",
      "Skipping reply email: Re: Next Steps in Your Application for the Global Markets Internship\n",
      " Programme (London) 2025 role!\n",
      "Skipping reply email: Next Steps in Your Application for the Global Markets Internship\n",
      " Programme (London) 2025 role!\n"
     ]
    },
    {
     "name": "stderr",
     "output_type": "stream",
     "text": [
      "pre tokenize: 100%|██████████| 1/1 [00:00<?, ?it/s]\n",
      "pre tokenize: 100%|██████████| 1/1 [00:00<00:00, 1002.70it/s]\n",
      "pre tokenize: 100%|██████████| 1/1 [00:00<?, ?it/s]\n",
      "pre tokenize: 100%|██████████| 1/1 [00:00<00:00, 1001.74it/s]\n",
      "pre tokenize: 100%|██████████| 1/1 [00:00<?, ?it/s]\n",
      "pre tokenize: 100%|██████████| 1/1 [00:00<?, ?it/s]\n",
      "pre tokenize: 100%|██████████| 1/1 [00:00<00:00, 1001.98it/s]\n",
      "pre tokenize: 100%|██████████| 1/1 [00:00<?, ?it/s]\n",
      "pre tokenize: 100%|██████████| 1/1 [00:00<00:00, 1003.18it/s]\n",
      "pre tokenize: 100%|██████████| 1/1 [00:00<00:00, 1002.94it/s]\n",
      "pre tokenize: 100%|██████████| 1/1 [00:00<00:00, 1003.66it/s]\n",
      "pre tokenize: 100%|██████████| 1/1 [00:00<?, ?it/s]\n"
     ]
    },
    {
     "name": "stdout",
     "output_type": "stream",
     "text": [
      "Skipping reply email: =?UTF-8?Q?Re=3A_Proje_hakk=C4=B1nda?=\n"
     ]
    },
    {
     "name": "stderr",
     "output_type": "stream",
     "text": [
      "pre tokenize: 100%|██████████| 1/1 [00:00<00:00, 501.35it/s]\n",
      "pre tokenize: 100%|██████████| 1/1 [00:00<00:00, 501.35it/s]\n"
     ]
    },
    {
     "name": "stdout",
     "output_type": "stream",
     "text": [
      "Skipping reply email: =?UTF-8?B?UmU6IEhpYmUgc8O2emxlxZ9tZXNp?=\n",
      "Skipping reply email: =?UTF-8?B?UmU6IEhpYmUgc8O2emxlxZ9tZXNp?=\n"
     ]
    },
    {
     "name": "stderr",
     "output_type": "stream",
     "text": [
      "pre tokenize: 100%|██████████| 1/1 [00:00<00:00, 1002.22it/s]\n",
      "pre tokenize: 100%|██████████| 1/1 [00:00<?, ?it/s]\n"
     ]
    },
    {
     "name": "stdout",
     "output_type": "stream",
     "text": [
      "Skipping reply email: Re: Final objection\n"
     ]
    },
    {
     "name": "stderr",
     "output_type": "stream",
     "text": [
      "pre tokenize: 100%|██████████| 1/1 [00:00<00:00, 1003.18it/s]\n",
      "pre tokenize: 100%|██████████| 1/1 [00:00<00:00, 1002.22it/s]\n"
     ]
    },
    {
     "name": "stdout",
     "output_type": "stream",
     "text": [
      "Skipping reply email: =?UTF-8?Q?Re=3a_Erasmus_ba=c5=9fvurusu_hakk=c4=b1nda?=\n"
     ]
    },
    {
     "name": "stderr",
     "output_type": "stream",
     "text": [
      "pre tokenize: 100%|██████████| 1/1 [00:00<00:00, 501.17it/s]\n",
      "pre tokenize: 100%|██████████| 1/1 [00:00<00:00, 1001.98it/s]\n"
     ]
    },
    {
     "name": "stdout",
     "output_type": "stream",
     "text": [
      "Skipping reply email: Re: ECON 202 Grubu\n"
     ]
    },
    {
     "name": "stderr",
     "output_type": "stream",
     "text": [
      "pre tokenize: 100%|██████████| 1/1 [00:00<00:00, 1002.94it/s]\n",
      "pre tokenize: 100%|██████████| 1/1 [00:00<00:00, 1001.27it/s]\n",
      "pre tokenize: 100%|██████████| 1/1 [00:00<?, ?it/s]\n",
      "pre tokenize: 100%|██████████| 1/1 [00:00<00:00, 1001.51it/s]\n",
      "pre tokenize: 100%|██████████| 1/1 [00:00<00:00, 1001.98it/s]\n",
      "pre tokenize: 100%|██████████| 1/1 [00:00<?, ?it/s]\n"
     ]
    },
    {
     "name": "stdout",
     "output_type": "stream",
     "text": [
      "Skipping reply email: =?UTF-8?B?UmU6IEJpdGlybWUgdG9wbGFudMSxc8Sx?=\n"
     ]
    },
    {
     "name": "stderr",
     "output_type": "stream",
     "text": [
      "pre tokenize: 100%|██████████| 1/1 [00:00<00:00, 1002.94it/s]\n",
      "pre tokenize: 100%|██████████| 1/1 [00:00<00:00, 1002.70it/s]\n",
      "pre tokenize: 100%|██████████| 1/1 [00:00<00:00, 1002.70it/s]\n",
      "pre tokenize: 100%|██████████| 1/1 [00:00<00:00, 1002.46it/s]\n",
      "pre tokenize: 100%|██████████| 1/1 [00:00<00:00, 1001.51it/s]\n",
      "pre tokenize: 100%|██████████| 1/1 [00:00<?, ?it/s]\n",
      "pre tokenize: 100%|██████████| 1/1 [00:00<00:00, 1001.74it/s]\n",
      "pre tokenize: 100%|██████████| 1/1 [00:00<00:00, 1002.70it/s]\n",
      "pre tokenize: 100%|██████████| 1/1 [00:00<00:00, 1000.79it/s]\n",
      "pre tokenize: 100%|██████████| 1/1 [00:00<00:00, 1004.62it/s]\n"
     ]
    },
    {
     "name": "stdout",
     "output_type": "stream",
     "text": [
      "Skipping reply email: Re:\n"
     ]
    },
    {
     "name": "stderr",
     "output_type": "stream",
     "text": [
      "pre tokenize: 100%|██████████| 1/1 [00:00<00:00, 1001.51it/s]\n",
      "pre tokenize: 100%|██████████| 1/1 [00:00<00:00, 1004.86it/s]\n",
      "pre tokenize: 100%|██████████| 1/1 [00:00<00:00, 1043.88it/s]\n",
      "pre tokenize: 100%|██████████| 1/1 [00:00<00:00, 1002.22it/s]\n"
     ]
    },
    {
     "name": "stdout",
     "output_type": "stream",
     "text": [
      "Skipping reply email: =?UTF-8?Q?Re=3A_GSD_day_hakk=C4=B1nda=2E?=\n",
      "Skipping reply email: =?UTF-8?Q?Re=3A_GSD_day_hakk=C4=B1nda=2E?=\n",
      "Skipping reply email: =?UTF-8?Q?Re=3A_GSD_day_hakk=C4=B1nda=2E?=\n",
      "Skipping reply email: =?UTF-8?Q?Re=3A_GSD_day_hakk=C4=B1nda=2E?=\n"
     ]
    },
    {
     "name": "stderr",
     "output_type": "stream",
     "text": [
      "pre tokenize: 100%|██████████| 1/1 [00:00<?, ?it/s]\n",
      "pre tokenize: 100%|██████████| 1/1 [00:00<?, ?it/s]\n",
      "pre tokenize: 100%|██████████| 1/1 [00:00<00:00, 501.29it/s]\n",
      "pre tokenize: 100%|██████████| 1/1 [00:00<00:00, 1003.66it/s]\n",
      "pre tokenize: 100%|██████████| 1/1 [00:00<00:00, 1002.46it/s]\n",
      "pre tokenize: 100%|██████████| 1/1 [00:00<?, ?it/s]\n",
      "pre tokenize: 100%|██████████| 1/1 [00:00<?, ?it/s]\n",
      "pre tokenize: 100%|██████████| 1/1 [00:00<?, ?it/s]\n",
      "pre tokenize: 100%|██████████| 1/1 [00:00<00:00, 167.12it/s]\n",
      "pre tokenize: 100%|██████████| 1/1 [00:00<00:00, 334.34it/s]\n",
      "pre tokenize: 100%|██████████| 1/1 [00:00<?, ?it/s]\n",
      "pre tokenize: 100%|██████████| 1/1 [00:00<?, ?it/s]\n",
      "pre tokenize: 100%|██████████| 1/1 [00:00<00:00, 1001.98it/s]\n",
      "pre tokenize: 100%|██████████| 1/1 [00:00<00:00, 1001.74it/s]\n"
     ]
    },
    {
     "name": "stdout",
     "output_type": "stream",
     "text": [
      "Skipping reply email: =?UTF-8?Q?Re=3A_=C3=B6nemli=5Flearning_agreement_belgen_hk?=\n"
     ]
    },
    {
     "name": "stderr",
     "output_type": "stream",
     "text": [
      "pre tokenize: 100%|██████████| 1/1 [00:00<?, ?it/s]\n",
      "pre tokenize: 100%|██████████| 1/1 [00:00<00:00, 1002.46it/s]\n",
      "pre tokenize: 100%|██████████| 1/1 [00:00<00:00, 1003.66it/s]\n",
      "pre tokenize: 100%|██████████| 1/1 [00:00<?, ?it/s]\n",
      "pre tokenize: 100%|██████████| 1/1 [00:00<?, ?it/s]\n",
      "pre tokenize: 100%|██████████| 1/1 [00:00<?, ?it/s]\n",
      "pre tokenize: 100%|██████████| 1/1 [00:00<?, ?it/s]\n",
      "pre tokenize: 100%|██████████| 1/1 [00:00<?, ?it/s]\n",
      "pre tokenize: 100%|██████████| 1/1 [00:00<?, ?it/s]\n",
      "pre tokenize: 100%|██████████| 1/1 [00:00<00:00, 1002.70it/s]\n"
     ]
    },
    {
     "name": "stdout",
     "output_type": "stream",
     "text": [
      "Skipping reply email: AW: Rental Contract\n"
     ]
    },
    {
     "name": "stderr",
     "output_type": "stream",
     "text": [
      "pre tokenize: 100%|██████████| 1/1 [00:00<?, ?it/s]\n",
      "pre tokenize: 100%|██████████| 1/1 [00:00<00:00, 1001.03it/s]\n",
      "pre tokenize: 100%|██████████| 1/1 [00:00<00:00, 1001.74it/s]\n",
      "pre tokenize: 100%|██████████| 1/1 [00:00<00:00, 1001.98it/s]\n",
      "pre tokenize: 100%|██████████| 1/1 [00:00<?, ?it/s]\n",
      "pre tokenize: 100%|██████████| 1/1 [00:00<?, ?it/s]\n"
     ]
    },
    {
     "name": "stdout",
     "output_type": "stream",
     "text": [
      "Skipping reply email: Re: PURE Hakk.\n",
      "Skipping reply email: Re: PURE Hakk.\n",
      "Skipping reply email: Re: PURE Hakk.\n"
     ]
    },
    {
     "name": "stderr",
     "output_type": "stream",
     "text": [
      "pre tokenize: 100%|██████████| 1/1 [00:00<00:00, 501.41it/s]\n",
      "pre tokenize: 100%|██████████| 1/1 [00:00<00:00, 1002.22it/s]\n"
     ]
    },
    {
     "name": "stdout",
     "output_type": "stream",
     "text": [
      "Skipping reply email: =?UTF-8?B?UmU6IExlZXh0IC0gU2FiYW5jxLEgR0RTQyBpxZ9iaXJsacSfaSBoYWtrxLFuZGE=?=\n"
     ]
    },
    {
     "name": "stderr",
     "output_type": "stream",
     "text": [
      "pre tokenize: 100%|██████████| 1/1 [00:00<00:00, 501.17it/s]\n",
      "pre tokenize: 100%|██████████| 1/1 [00:00<00:00, 1009.22it/s]\n",
      "pre tokenize: 100%|██████████| 1/1 [00:00<?, ?it/s]\n",
      "pre tokenize: 100%|██████████| 1/1 [00:00<?, ?it/s]\n",
      "pre tokenize: 100%|██████████| 1/1 [00:00<00:00, 1002.46it/s]\n",
      "pre tokenize: 100%|██████████| 1/1 [00:00<?, ?it/s]\n"
     ]
    },
    {
     "name": "stdout",
     "output_type": "stream",
     "text": [
      "Skipping reply email: =?UTF-8?B?UmU6IFllbmkgdG9wbGFudMSxIGfDvG4tc2FhdGk=?=\n",
      "Skipping reply email: =?UTF-8?B?UmU6IFllbmkgdG9wbGFudMSxIGfDvG4tc2FhdGk=?=\n",
      "Skipping reply email: =?UTF-8?B?UmU6IFllbmkgdG9wbGFudMSxIGfDvG4tc2FhdGk=?=\n",
      "Skipping reply email: =?UTF-8?B?UmU6IFllbmkgdG9wbGFudMSxIGfDvG4tc2FhdGk=?=\n",
      "Skipping reply email: =?UTF-8?B?UmU6IFllbmkgdG9wbGFudMSxIGfDvG4tc2FhdGk=?=\n",
      "Skipping reply email: =?UTF-8?B?UmU6IFllbmkgdG9wbGFudMSxIGfDvG4tc2FhdGk=?=\n",
      "Skipping reply email: =?UTF-8?B?UmU6IFllbmkgdG9wbGFudMSxIGfDvG4tc2FhdGk=?=\n",
      "Skipping reply email: =?UTF-8?B?UmU6IFllbmkgdG9wbGFudMSxIGfDvG4tc2FhdGk=?=\n",
      "Skipping reply email: =?UTF-8?B?UmU6IFllbmkgdG9wbGFudMSxIGfDvG4tc2FhdGk=?=\n",
      "Skipping reply email: =?UTF-8?B?UmU6IFllbmkgdG9wbGFudMSxIGfDvG4tc2FhdGk=?=\n",
      "Skipping reply email: =?UTF-8?B?UmU6IFllbmkgdG9wbGFudMSxIGfDvG4tc2FhdGk=?=\n",
      "Skipping reply email: =?UTF-8?Q?Yeni_toplant=C4=B1_g=C3=BCn=2Dsaati?=\n"
     ]
    },
    {
     "name": "stderr",
     "output_type": "stream",
     "text": [
      "pre tokenize: 100%|██████████| 1/1 [00:00<00:00, 1001.74it/s]\n",
      "pre tokenize: 100%|██████████| 1/1 [00:00<?, ?it/s]\n",
      "pre tokenize: 100%|██████████| 1/1 [00:00<00:00, 1002.70it/s]\n",
      "pre tokenize: 100%|██████████| 1/1 [00:00<?, ?it/s]\n",
      "pre tokenize: 100%|██████████| 1/1 [00:00<?, ?it/s]\n",
      "pre tokenize: 100%|██████████| 1/1 [00:00<?, ?it/s]\n",
      "pre tokenize: 100%|██████████| 1/1 [00:00<00:00, 1003.42it/s]\n",
      "pre tokenize: 100%|██████████| 1/1 [00:00<00:00, 1002.70it/s]\n",
      "pre tokenize: 100%|██████████| 1/1 [00:00<00:00, 1001.98it/s]\n",
      "pre tokenize: 100%|██████████| 1/1 [00:00<00:00, 1002.70it/s]\n"
     ]
    },
    {
     "name": "stdout",
     "output_type": "stream",
     "text": [
      "Skipping reply email: =?UTF-8?Q?Re=3A_Learning_Agreement_ve_ders_se=C3=A7imi_hakk=C4=B1nd?=\n",
      " =?UTF-8?Q?a?=\n"
     ]
    },
    {
     "name": "stderr",
     "output_type": "stream",
     "text": [
      "pre tokenize: 100%|██████████| 1/1 [00:00<00:00, 500.93it/s]\n",
      "pre tokenize: 100%|██████████| 1/1 [00:00<00:00, 1002.94it/s]\n"
     ]
    },
    {
     "name": "stdout",
     "output_type": "stream",
     "text": [
      "Skipping reply email: AW: Meldung 10 and money transfer for enrollment\n"
     ]
    },
    {
     "name": "stderr",
     "output_type": "stream",
     "text": [
      "pre tokenize: 100%|██████████| 1/1 [00:00<00:00, 1002.46it/s]\n",
      "pre tokenize: 100%|██████████| 1/1 [00:00<00:00, 1003.66it/s]\n"
     ]
    },
    {
     "name": "stdout",
     "output_type": "stream",
     "text": [
      "Skipping reply email: Re: about the exam\n",
      "Skipping reply email: Re: about the exam\n"
     ]
    },
    {
     "name": "stderr",
     "output_type": "stream",
     "text": [
      "pre tokenize: 100%|██████████| 1/1 [00:00<00:00, 1002.94it/s]\n",
      "pre tokenize: 100%|██████████| 1/1 [00:00<00:00, 1002.94it/s]\n",
      "pre tokenize: 100%|██████████| 1/1 [00:00<00:00, 1001.74it/s]\n",
      "pre tokenize: 100%|██████████| 1/1 [00:00<?, ?it/s]\n",
      "pre tokenize: 100%|██████████| 1/1 [00:00<?, ?it/s]\n",
      "pre tokenize: 100%|██████████| 1/1 [00:00<?, ?it/s]\n"
     ]
    },
    {
     "name": "stdout",
     "output_type": "stream",
     "text": [
      "Skipping reply email: Fwd: Rental contract for your dorm room\n"
     ]
    },
    {
     "name": "stderr",
     "output_type": "stream",
     "text": [
      "pre tokenize: 100%|██████████| 1/1 [00:00<?, ?it/s]\n",
      "pre tokenize: 100%|██████████| 1/1 [00:00<?, ?it/s]\n"
     ]
    },
    {
     "name": "stdout",
     "output_type": "stream",
     "text": [
      "Skipping reply email: Re: Accomadation in Passau\n",
      "Skipping reply email: AW: Accomadation in Passau\n",
      "Skipping reply email: AW: Accomadation in Passau\n",
      "Skipping reply email: Re: Accomadation in Passau\n",
      "Skipping reply email: Re: Accomadation in Passau\n",
      "Skipping reply email: Re: Accomadation in Passau\n"
     ]
    },
    {
     "name": "stderr",
     "output_type": "stream",
     "text": [
      "pre tokenize: 100%|██████████| 1/1 [00:00<00:00, 501.29it/s]\n",
      "pre tokenize: 100%|██████████| 1/1 [00:00<00:00, 1002.94it/s]\n",
      "pre tokenize: 100%|██████████| 1/1 [00:00<00:00, 1003.42it/s]\n",
      "pre tokenize: 100%|██████████| 1/1 [00:00<00:00, 1004.14it/s]\n",
      "pre tokenize: 100%|██████████| 1/1 [00:00<00:00, 1039.22it/s]\n",
      "pre tokenize: 100%|██████████| 1/1 [00:00<?, ?it/s]\n"
     ]
    },
    {
     "name": "stdout",
     "output_type": "stream",
     "text": [
      "Skipping reply email: =?iso-8859-9?Q?Ders_Kay=FDd=FD_Hk.?=\n"
     ]
    },
    {
     "name": "stderr",
     "output_type": "stream",
     "text": [
      "pre tokenize: 100%|██████████| 1/1 [00:00<00:00, 983.19it/s]\n",
      "pre tokenize: 100%|██████████| 1/1 [00:00<00:00, 1002.70it/s]\n",
      "pre tokenize: 100%|██████████| 1/1 [00:00<00:00, 1003.18it/s]\n",
      "pre tokenize: 100%|██████████| 1/1 [00:00<00:00, 1003.18it/s]\n",
      "pre tokenize: 100%|██████████| 1/1 [00:00<00:00, 501.17it/s]\n",
      "pre tokenize: 100%|██████████| 1/1 [00:00<00:00, 1002.70it/s]\n"
     ]
    },
    {
     "name": "stdout",
     "output_type": "stream",
     "text": [
      "Skipping reply email: Re: Tomorrow's Class for Section A is postponed\n"
     ]
    },
    {
     "name": "stderr",
     "output_type": "stream",
     "text": [
      "pre tokenize: 100%|██████████| 1/1 [00:00<00:00, 1002.46it/s]\n",
      "pre tokenize: 100%|██████████| 1/1 [00:00<00:00, 1003.42it/s]\n"
     ]
    },
    {
     "name": "stdout",
     "output_type": "stream",
     "text": [
      "Skipping reply email: Re: Akbank_Dekont\n"
     ]
    },
    {
     "name": "stderr",
     "output_type": "stream",
     "text": [
      "pre tokenize: 100%|██████████| 1/1 [00:00<00:00, 1001.51it/s]\n",
      "pre tokenize: 100%|██████████| 1/1 [00:00<?, ?it/s]\n",
      "pre tokenize: 100%|██████████| 1/1 [00:00<?, ?it/s]\n",
      "pre tokenize: 100%|██████████| 1/1 [00:00<00:00, 1002.94it/s]\n"
     ]
    },
    {
     "name": "stdout",
     "output_type": "stream",
     "text": [
      "Skipping reply email: =?UTF-8?B?UmU6IG9kYSBkZcSfacWfaW1p?=\n"
     ]
    },
    {
     "name": "stderr",
     "output_type": "stream",
     "text": [
      "pre tokenize: 100%|██████████| 1/1 [00:00<00:00, 1002.22it/s]\n",
      "pre tokenize: 100%|██████████| 1/1 [00:00<00:00, 1001.98it/s]\n",
      "pre tokenize: 100%|██████████| 1/1 [00:00<00:00, 1002.94it/s]\n",
      "pre tokenize: 100%|██████████| 1/1 [00:00<?, ?it/s]\n"
     ]
    },
    {
     "name": "stdout",
     "output_type": "stream",
     "text": [
      "Skipping reply email: Re: IE 311 - LA listesi\n",
      "Skipping reply email: Re: IE 311 - LA listesi\n",
      "Skipping reply email: Re: IE 311 - LA listesi\n",
      "Skipping reply email: IE 311 - LA listesi\n"
     ]
    },
    {
     "name": "stderr",
     "output_type": "stream",
     "text": [
      "pre tokenize: 100%|██████████| 1/1 [00:00<?, ?it/s]\n",
      "pre tokenize: 100%|██████████| 1/1 [00:00<00:00, 969.33it/s]\n",
      "pre tokenize: 100%|██████████| 1/1 [00:00<00:00, 1001.98it/s]\n",
      "pre tokenize: 100%|██████████| 1/1 [00:00<00:00, 1001.98it/s]\n",
      "pre tokenize: 100%|██████████| 1/1 [00:00<00:00, 1001.27it/s]\n",
      "pre tokenize: 100%|██████████| 1/1 [00:00<00:00, 1002.94it/s]\n",
      "pre tokenize: 100%|██████████| 1/1 [00:00<?, ?it/s]\n",
      "pre tokenize: 100%|██████████| 1/1 [00:00<00:00, 1003.66it/s]\n",
      "pre tokenize: 100%|██████████| 1/1 [00:00<00:00, 503.64it/s]\n",
      "pre tokenize: 100%|██████████| 1/1 [00:00<00:00, 1001.74it/s]\n",
      "pre tokenize: 100%|██████████| 1/1 [00:00<?, ?it/s]\n",
      "pre tokenize: 100%|██████████| 1/1 [00:00<00:00, 1002.70it/s]\n",
      "pre tokenize: 100%|██████████| 1/1 [00:00<00:00, 1002.22it/s]\n",
      "pre tokenize: 100%|██████████| 1/1 [00:00<?, ?it/s]\n"
     ]
    },
    {
     "name": "stdout",
     "output_type": "stream",
     "text": [
      "Skipping reply email: =?UTF-8?B?UmU6IEHFn8SxIEthcnTEsQ==?=\n"
     ]
    },
    {
     "name": "stderr",
     "output_type": "stream",
     "text": [
      "pre tokenize: 100%|██████████| 1/1 [00:00<00:00, 1002.94it/s]\n",
      "pre tokenize: 100%|██████████| 1/1 [00:00<00:00, 1002.70it/s]\n",
      "pre tokenize: 100%|██████████| 1/1 [00:00<00:00, 1002.70it/s]\n",
      "pre tokenize: 100%|██████████| 1/1 [00:00<00:00, 1002.70it/s]\n"
     ]
    },
    {
     "name": "stdout",
     "output_type": "stream",
     "text": [
      "Skipping reply email: Re: \n"
     ]
    },
    {
     "name": "stderr",
     "output_type": "stream",
     "text": [
      "pre tokenize: 100%|██████████| 1/1 [00:00<00:00, 1002.94it/s]\n",
      "pre tokenize: 100%|██████████| 1/1 [00:00<?, ?it/s]\n"
     ]
    },
    {
     "name": "stdout",
     "output_type": "stream",
     "text": [
      "Skipping reply email: =?UTF-8?Q?Re=3A_Mezuniyet_Planlaman=C4=B1z_hk?=\n",
      "Skipping reply email: =?UTF-8?Q?Mezuniyet_Planlaman=C4=B1z_hk?=\n"
     ]
    },
    {
     "name": "stderr",
     "output_type": "stream",
     "text": [
      "pre tokenize: 100%|██████████| 1/1 [00:00<00:00, 1000.31it/s]\n",
      "pre tokenize: 100%|██████████| 1/1 [00:00<00:00, 1001.51it/s]\n"
     ]
    },
    {
     "name": "stdout",
     "output_type": "stream",
     "text": [
      "Skipping reply email: Re: Hot off the griddle!\n",
      "Skipping reply email: Fwd: Hot off the griddle!\n",
      "Skipping reply email: Hot off the griddle!\n"
     ]
    },
    {
     "name": "stderr",
     "output_type": "stream",
     "text": [
      "pre tokenize: 100%|██████████| 1/1 [00:00<00:00, 1044.92it/s]\n",
      "pre tokenize: 100%|██████████| 1/1 [00:00<00:00, 1003.90it/s]\n",
      "pre tokenize: 100%|██████████| 1/1 [00:00<00:00, 1931.97it/s]\n",
      "pre tokenize: 100%|██████████| 1/1 [00:00<00:00, 1003.42it/s]\n"
     ]
    },
    {
     "name": "stdout",
     "output_type": "stream",
     "text": [
      "Skipping reply email: =?UTF-8?Q?Re=3A_Master_Ba=C5=9Fvuruma_dair?=\n",
      "Skipping reply email: =?UTF-8?Q?Re=3A_Master_Ba=C5=9Fvuruma_dair?=\n",
      "Skipping reply email: =?UTF-8?Q?Re=3A_Master_Ba=C5=9Fvuruma_dair?=\n"
     ]
    },
    {
     "name": "stderr",
     "output_type": "stream",
     "text": [
      "pre tokenize: 100%|██████████| 1/1 [00:00<00:00, 501.47it/s]\n",
      "pre tokenize: 100%|██████████| 1/1 [00:00<00:00, 1002.22it/s]\n",
      "pre tokenize: 100%|██████████| 1/1 [00:00<00:00, 1001.74it/s]\n",
      "pre tokenize: 100%|██████████| 1/1 [00:00<00:00, 1002.70it/s]\n",
      "pre tokenize: 100%|██████████| 1/1 [00:00<00:00, 1003.18it/s]\n",
      "pre tokenize: 100%|██████████| 1/1 [00:00<?, ?it/s]\n",
      "pre tokenize: 100%|██████████| 1/1 [00:00<00:00, 1002.94it/s]\n",
      "pre tokenize: 100%|██████████| 1/1 [00:00<?, ?it/s]\n",
      "pre tokenize: 100%|██████████| 1/1 [00:00<?, ?it/s]\n",
      "pre tokenize: 100%|██████████| 1/1 [00:00<00:00, 1003.66it/s]\n",
      "pre tokenize: 100%|██████████| 1/1 [00:00<?, ?it/s]\n",
      "pre tokenize: 100%|██████████| 1/1 [00:00<?, ?it/s]\n",
      "pre tokenize: 100%|██████████| 1/1 [00:00<00:00, 1004.14it/s]\n",
      "pre tokenize: 100%|██████████| 1/1 [00:00<00:00, 501.23it/s]\n"
     ]
    },
    {
     "name": "stdout",
     "output_type": "stream",
     "text": [
      "Skipping reply email: Re: Quiz 1 - Hata\n",
      "Skipping reply email: Re: Quiz 1 - Hata\n"
     ]
    },
    {
     "name": "stderr",
     "output_type": "stream",
     "text": [
      "pre tokenize: 100%|██████████| 1/1 [00:00<00:00, 1001.74it/s]\n",
      "pre tokenize: 100%|██████████| 1/1 [00:00<00:00, 1002.46it/s]\n"
     ]
    },
    {
     "name": "stdout",
     "output_type": "stream",
     "text": [
      "Skipping reply email: Re: Quiz 2\n",
      "Skipping reply email: Re: Quiz 2\n"
     ]
    },
    {
     "name": "stderr",
     "output_type": "stream",
     "text": [
      "pre tokenize: 100%|██████████| 1/1 [00:00<00:00, 501.47it/s]\n",
      "pre tokenize: 100%|██████████| 1/1 [00:00<00:00, 1002.22it/s]\n"
     ]
    },
    {
     "name": "stdout",
     "output_type": "stream",
     "text": [
      "Skipping reply email: =?UTF-8?Q?Re=3A_HIST_191_2=2E_Grup_Final_S=C4=B1nav=C4=B1?=\n"
     ]
    },
    {
     "name": "stderr",
     "output_type": "stream",
     "text": [
      "pre tokenize: 100%|██████████| 1/1 [00:00<00:00, 501.41it/s]\n",
      "pre tokenize: 100%|██████████| 1/1 [00:00<00:00, 1003.66it/s]\n",
      "pre tokenize: 100%|██████████| 1/1 [00:00<00:00, 1002.94it/s]\n",
      "pre tokenize: 100%|██████████| 1/1 [00:00<?, ?it/s]\n",
      "pre tokenize: 100%|██████████| 1/1 [00:00<00:00, 1940.91it/s]\n",
      "pre tokenize: 100%|██████████| 1/1 [00:00<00:00, 999.60it/s]\n",
      "pre tokenize: 100%|██████████| 1/1 [00:00<00:00, 1002.46it/s]\n",
      "pre tokenize: 100%|██████████| 1/1 [00:00<00:00, 1002.46it/s]\n"
     ]
    },
    {
     "name": "stdout",
     "output_type": "stream",
     "text": [
      "Skipping reply email: Fwd: \n"
     ]
    },
    {
     "name": "stderr",
     "output_type": "stream",
     "text": [
      "pre tokenize: 100%|██████████| 1/1 [00:00<00:00, 498.43it/s]\n",
      "pre tokenize: 100%|██████████| 1/1 [00:00<00:00, 1002.46it/s]\n"
     ]
    },
    {
     "name": "stdout",
     "output_type": "stream",
     "text": [
      "Skipping reply email: Re: PURE Spring Term Student List\n",
      "Skipping reply email: Re: PURE Spring Term Student List\n",
      "Skipping reply email: Re: PURE Spring Term Student List\n",
      "Skipping reply email: Re: PURE Spring Term Student List\n",
      "Skipping reply email: Re: PURE Spring Term Student List\n",
      "Skipping reply email: Re: PURE Spring Term Student List\n",
      "Skipping reply email: Re: PURE Spring Term Student List\n",
      "Skipping reply email: Fwd: PURE Spring Term Student List\n"
     ]
    },
    {
     "name": "stderr",
     "output_type": "stream",
     "text": [
      "pre tokenize: 100%|██████████| 1/1 [00:00<00:00, 1002.22it/s]\n",
      "pre tokenize: 100%|██████████| 1/1 [00:00<?, ?it/s]\n"
     ]
    },
    {
     "name": "stdout",
     "output_type": "stream",
     "text": [
      "Skipping reply email: Re: OA2 Stand-by student\n",
      "Skipping reply email: Re: OA2 Stand-by student\n",
      "Skipping reply email: OA2 Stand-by student\n"
     ]
    },
    {
     "name": "stderr",
     "output_type": "stream",
     "text": [
      "pre tokenize: 100%|██████████| 1/1 [00:00<?, ?it/s]\n",
      "pre tokenize: 100%|██████████| 1/1 [00:00<?, ?it/s]\n"
     ]
    },
    {
     "name": "stdout",
     "output_type": "stream",
     "text": [
      "Skipping reply email: =?UTF-8?B?UmU6IFByb2plIGRhbsSxxZ9tYW5sxLFrIHRhbGViaSBoYWtrxLFuZGE=?=\n"
     ]
    },
    {
     "name": "stderr",
     "output_type": "stream",
     "text": [
      "pre tokenize: 100%|██████████| 1/1 [00:00<?, ?it/s]\n",
      "pre tokenize: 100%|██████████| 1/1 [00:00<00:00, 1002.70it/s]\n"
     ]
    },
    {
     "name": "stdout",
     "output_type": "stream",
     "text": [
      "Skipping reply email: Re: bunq | your Get Shit Done day assignment\n"
     ]
    },
    {
     "name": "stderr",
     "output_type": "stream",
     "text": [
      "pre tokenize: 100%|██████████| 1/1 [00:00<00:00, 1002.46it/s]\n",
      "pre tokenize: 100%|██████████| 1/1 [00:00<00:00, 1002.22it/s]\n",
      "pre tokenize: 100%|██████████| 1/1 [00:00<00:00, 1001.98it/s]\n",
      "pre tokenize: 100%|██████████| 1/1 [00:00<?, ?it/s]\n",
      "pre tokenize: 100%|██████████| 1/1 [00:00<?, ?it/s]\n",
      "pre tokenize: 100%|██████████| 1/1 [00:00<00:00, 1000.79it/s]\n"
     ]
    },
    {
     "name": "stdout",
     "output_type": "stream",
     "text": [
      "Skipping reply email: =?UTF-8?B?UmU6IERlcnMgc2XDp2ltaSBoYWtrxLFuZGE=?=\n"
     ]
    },
    {
     "name": "stderr",
     "output_type": "stream",
     "text": [
      "pre tokenize: 100%|██████████| 1/1 [00:00<00:00, 999.83it/s]\n",
      "pre tokenize: 100%|██████████| 1/1 [00:00<00:00, 1002.94it/s]\n",
      "pre tokenize: 100%|██████████| 1/1 [00:00<00:00, 1003.66it/s]\n",
      "pre tokenize: 100%|██████████| 1/1 [00:00<00:00, 1002.22it/s]\n",
      "pre tokenize: 100%|██████████| 1/1 [00:00<?, ?it/s]\n",
      "pre tokenize: 100%|██████████| 1/1 [00:00<00:00, 1002.70it/s]\n",
      "pre tokenize: 100%|██████████| 1/1 [00:00<00:00, 1002.94it/s]\n",
      "pre tokenize: 100%|██████████| 1/1 [00:00<00:00, 1001.98it/s]\n",
      "pre tokenize: 100%|██████████| 1/1 [00:00<?, ?it/s]\n",
      "pre tokenize: 100%|██████████| 1/1 [00:00<00:00, 1002.22it/s]\n",
      "pre tokenize: 100%|██████████| 1/1 [00:00<?, ?it/s]\n",
      "pre tokenize: 100%|██████████| 1/1 [00:00<00:00, 1002.46it/s]\n",
      "pre tokenize: 100%|██████████| 1/1 [00:00<?, ?it/s]\n",
      "pre tokenize: 100%|██████████| 1/1 [00:00<?, ?it/s]\n",
      "pre tokenize: 100%|██████████| 1/1 [00:00<?, ?it/s]\n",
      "pre tokenize: 100%|██████████| 1/1 [00:00<00:00, 1002.70it/s]\n",
      "pre tokenize: 100%|██████████| 1/1 [00:00<?, ?it/s]\n",
      "pre tokenize: 100%|██████████| 1/1 [00:00<00:00, 1001.74it/s]\n",
      "pre tokenize: 100%|██████████| 1/1 [00:00<00:00, 1001.98it/s]\n",
      "pre tokenize: 100%|██████████| 1/1 [00:00<?, ?it/s]\n",
      "pre tokenize: 100%|██████████| 1/1 [00:00<00:00, 1029.78it/s]\n",
      "pre tokenize: 100%|██████████| 1/1 [00:00<?, ?it/s]\n",
      "pre tokenize: 100%|██████████| 1/1 [00:00<00:00, 1002.22it/s]\n",
      "pre tokenize: 100%|██████████| 1/1 [00:00<?, ?it/s]\n",
      "pre tokenize: 100%|██████████| 1/1 [00:00<?, ?it/s]\n",
      "pre tokenize: 100%|██████████| 1/1 [00:00<00:00, 1001.51it/s]\n"
     ]
    },
    {
     "name": "stdout",
     "output_type": "stream",
     "text": [
      "Skipping reply email: =?UTF-8?Q?Re=3A_Pure_Projesi_Hakk=C4=B1nda?=\n",
      "Skipping reply email: =?UTF-8?Q?Re=3A_Pure_Projesi_Hakk=C4=B1nda?=\n"
     ]
    },
    {
     "name": "stderr",
     "output_type": "stream",
     "text": [
      "pre tokenize: 100%|██████████| 1/1 [00:00<?, ?it/s]\n",
      "pre tokenize: 100%|██████████| 1/1 [00:00<?, ?it/s]\n"
     ]
    },
    {
     "name": "stdout",
     "output_type": "stream",
     "text": [
      "Skipping reply email: Fwd: NatWest Group (Workday) Assessment feedback report(s)\n"
     ]
    },
    {
     "name": "stderr",
     "output_type": "stream",
     "text": [
      "pre tokenize: 100%|██████████| 1/1 [00:00<?, ?it/s]\n",
      "pre tokenize: 100%|██████████| 1/1 [00:00<00:00, 1001.74it/s]\n"
     ]
    },
    {
     "name": "stdout",
     "output_type": "stream",
     "text": [
      "Skipping reply email: =?UTF-8?B?UmU6IEfDtnLDvMWfbWUgVGFsZWJp?=\n",
      "Skipping reply email: =?UTF-8?B?UmU6IEfDtnLDvMWfbWUgVGFsZWJp?=\n",
      "Skipping reply email: =?UTF-8?B?UmU6IEfDtnLDvMWfbWUgVGFsZWJp?=\n"
     ]
    },
    {
     "name": "stderr",
     "output_type": "stream",
     "text": [
      "pre tokenize: 100%|██████████| 1/1 [00:00<00:00, 912.00it/s]\n",
      "pre tokenize: 100%|██████████| 1/1 [00:00<?, ?it/s]\n",
      "pre tokenize: 100%|██████████| 1/1 [00:00<?, ?it/s]\n",
      "pre tokenize: 100%|██████████| 1/1 [00:00<00:00, 1002.22it/s]\n"
     ]
    },
    {
     "name": "stdout",
     "output_type": "stream",
     "text": [
      "Skipping reply email: =?UTF-8?B?UmU6IEJpdGlybWUgVG9wbGFudMSxc8Sx?=\n"
     ]
    },
    {
     "name": "stderr",
     "output_type": "stream",
     "text": [
      "pre tokenize: 100%|██████████| 1/1 [00:00<00:00, 1002.22it/s]\n",
      "pre tokenize: 100%|██████████| 1/1 [00:00<00:00, 1003.18it/s]\n"
     ]
    },
    {
     "name": "stdout",
     "output_type": "stream",
     "text": [
      "Skipping reply email: =?UTF-8?Q?Re=3A_YURT_KAYDI_=C4=B0=C3=87=C4=B0N_GEREKL=C4=B0_EVRAKLAR_=2D_DOCUMENTS?=\n",
      "\t=?UTF-8?Q?_NEEDED_FOR_DORMITORY_REGISTRATION?=\n",
      "Skipping reply email: =?UTF-8?B?WVVSVCBLQVlESSDEsMOHxLBOIEdFUkVLTMSwIEVWUkFLTEFSIC0gRE9D?=\n",
      " =?UTF-8?Q?UMENTS_NEEDED_FOR_DORMITORY_REGISTRATION?=\n",
      "Skipping reply email: =?UTF-8?B?UmU6IFlhcsSxbiAxNi4zMC0xOC4zMCByZWNpdGF0aW9uJ8SxIGhha2vEsW5kYQ==?=\n",
      "Skipping reply email: =?UTF-8?B?UmU6IFlhcsSxbiAxNi4zMC0xOC4zMCByZWNpdGF0aW9uJ8SxIGhha2vEsW5kYQ==?=\n"
     ]
    },
    {
     "name": "stderr",
     "output_type": "stream",
     "text": [
      "pre tokenize: 100%|██████████| 1/1 [00:00<00:00, 501.17it/s]\n",
      "pre tokenize: 100%|██████████| 1/1 [00:00<00:00, 1002.46it/s]\n",
      "pre tokenize: 100%|██████████| 1/1 [00:00<00:00, 1002.46it/s]\n",
      "pre tokenize: 100%|██████████| 1/1 [00:00<00:00, 996.98it/s]\n",
      "pre tokenize: 100%|██████████| 1/1 [00:00<00:00, 1002.70it/s]\n",
      "pre tokenize: 100%|██████████| 1/1 [00:00<00:00, 1001.98it/s]\n",
      "pre tokenize: 100%|██████████| 1/1 [00:00<?, ?it/s]\n",
      "pre tokenize: 100%|██████████| 1/1 [00:00<?, ?it/s]\n",
      "pre tokenize: 100%|██████████| 1/1 [00:00<00:00, 1000.79it/s]\n",
      "pre tokenize: 100%|██████████| 1/1 [00:00<?, ?it/s]\n",
      "pre tokenize: 100%|██████████| 1/1 [00:00<00:00, 1002.70it/s]\n",
      "pre tokenize: 100%|██████████| 1/1 [00:00<?, ?it/s]\n"
     ]
    },
    {
     "name": "stdout",
     "output_type": "stream",
     "text": [
      "Skipping reply email: Re: Re[2]: B1 QUIZ\n",
      "Skipping reply email: =?UTF-8?B?UmVbMl06IEIxIFFVSVo=?=\n",
      "Skipping reply email: Re: B1 QUIZ\n",
      "Skipping reply email: Re: B1 QUIZ\n",
      "Skipping reply email: Re: B1 QUIZ\n"
     ]
    },
    {
     "name": "stderr",
     "output_type": "stream",
     "text": [
      "pre tokenize: 100%|██████████| 1/1 [00:00<00:00, 1001.51it/s]\n",
      "pre tokenize: 100%|██████████| 1/1 [00:00<00:00, 1001.51it/s]\n",
      "pre tokenize: 100%|██████████| 1/1 [00:00<?, ?it/s]\n",
      "pre tokenize: 100%|██████████| 1/1 [00:00<00:00, 1002.94it/s]\n",
      "pre tokenize: 100%|██████████| 1/1 [00:00<00:00, 1002.46it/s]\n",
      "pre tokenize: 100%|██████████| 1/1 [00:00<00:00, 1001.98it/s]\n",
      "pre tokenize: 100%|██████████| 1/1 [00:00<00:00, 1003.42it/s]\n",
      "pre tokenize: 100%|██████████| 1/1 [00:00<00:00, 1003.18it/s]\n",
      "pre tokenize: 100%|██████████| 1/1 [00:00<00:00, 1002.46it/s]\n",
      "pre tokenize: 100%|██████████| 1/1 [00:00<?, ?it/s]\n",
      "pre tokenize: 100%|██████████| 1/1 [00:00<00:00, 1019.52it/s]\n",
      "pre tokenize: 100%|██████████| 1/1 [00:00<00:00, 1001.98it/s]\n",
      "pre tokenize: 100%|██████████| 1/1 [00:00<?, ?it/s]\n",
      "pre tokenize: 100%|██████████| 1/1 [00:00<?, ?it/s]\n",
      "pre tokenize: 100%|██████████| 1/1 [00:00<?, ?it/s]\n",
      "pre tokenize: 100%|██████████| 1/1 [00:00<?, ?it/s]\n",
      "pre tokenize: 100%|██████████| 1/1 [00:00<00:00, 1002.22it/s]\n",
      "pre tokenize: 100%|██████████| 1/1 [00:00<?, ?it/s]\n",
      "pre tokenize: 100%|██████████| 1/1 [00:00<?, ?it/s]\n",
      "pre tokenize: 100%|██████████| 1/1 [00:00<?, ?it/s]\n",
      "pre tokenize: 100%|██████████| 1/1 [00:00<00:00, 1002.94it/s]\n",
      "pre tokenize: 100%|██████████| 1/1 [00:00<00:00, 1002.70it/s]\n",
      "pre tokenize: 100%|██████████| 1/1 [00:00<00:00, 1001.74it/s]\n",
      "pre tokenize: 100%|██████████| 1/1 [00:00<?, ?it/s]\n",
      "pre tokenize: 100%|██████████| 1/1 [00:00<00:00, 1001.98it/s]\n",
      "pre tokenize: 100%|██████████| 1/1 [00:00<00:00, 1040.77it/s]\n"
     ]
    },
    {
     "name": "stdout",
     "output_type": "stream",
     "text": [
      "Skipping reply email: Re: PURE\n"
     ]
    },
    {
     "name": "stderr",
     "output_type": "stream",
     "text": [
      "pre tokenize: 100%|██████████| 1/1 [00:00<00:00, 1002.46it/s]\n",
      "pre tokenize: 100%|██████████| 1/1 [00:00<00:00, 1001.74it/s]\n",
      "pre tokenize: 100%|██████████| 1/1 [00:00<?, ?it/s]\n",
      "pre tokenize: 100%|██████████| 1/1 [00:00<?, ?it/s]\n",
      "pre tokenize: 100%|██████████| 1/1 [00:00<00:00, 998.64it/s]\n",
      "pre tokenize: 100%|██████████| 1/1 [00:00<?, ?it/s]\n",
      "pre tokenize: 100%|██████████| 1/1 [00:00<00:00, 1001.51it/s]\n",
      "pre tokenize: 100%|██████████| 1/1 [00:00<00:00, 1001.27it/s]\n",
      "pre tokenize: 100%|██████████| 1/1 [00:00<?, ?it/s]\n",
      "pre tokenize: 100%|██████████| 1/1 [00:00<00:00, 1002.70it/s]\n",
      "pre tokenize: 100%|██████████| 1/1 [00:00<00:00, 1002.46it/s]\n",
      "pre tokenize: 100%|██████████| 1/1 [00:00<00:00, 1002.22it/s]\n",
      "pre tokenize: 100%|██████████| 1/1 [00:00<00:00, 1002.46it/s]\n",
      "pre tokenize: 100%|██████████| 1/1 [00:00<?, ?it/s]\n",
      "pre tokenize: 100%|██████████| 1/1 [00:00<?, ?it/s]\n",
      "pre tokenize: 100%|██████████| 1/1 [00:00<?, ?it/s]\n",
      "pre tokenize: 100%|██████████| 1/1 [00:00<00:00, 1002.22it/s]\n",
      "pre tokenize: 100%|██████████| 1/1 [00:00<?, ?it/s]\n",
      "pre tokenize: 100%|██████████| 1/1 [00:00<00:00, 1015.32it/s]\n",
      "pre tokenize: 100%|██████████| 1/1 [00:00<?, ?it/s]\n"
     ]
    },
    {
     "name": "stdout",
     "output_type": "stream",
     "text": [
      "Skipping reply email: Re: IE 312 LA olmak ister misiniz?\n",
      "Skipping reply email: Re: IE 312 LA olmak ister misiniz?\n",
      "Skipping reply email: IE 312 LA olmak ister misiniz?\n"
     ]
    },
    {
     "name": "stderr",
     "output_type": "stream",
     "text": [
      "pre tokenize: 100%|██████████| 1/1 [00:00<00:00, 1002.70it/s]\n",
      "pre tokenize: 100%|██████████| 1/1 [00:00<00:00, 1001.27it/s]\n"
     ]
    },
    {
     "name": "stdout",
     "output_type": "stream",
     "text": [
      "Skipping reply email: Re: Presentation about Quality Education\n"
     ]
    },
    {
     "name": "stderr",
     "output_type": "stream",
     "text": [
      "pre tokenize: 100%|██████████| 1/1 [00:00<?, ?it/s]\n",
      "pre tokenize: 100%|██████████| 1/1 [00:00<?, ?it/s]\n"
     ]
    },
    {
     "name": "stdout",
     "output_type": "stream",
     "text": [
      "Skipping reply email: Re: Case1-Q4\n"
     ]
    },
    {
     "name": "stderr",
     "output_type": "stream",
     "text": [
      "pre tokenize: 100%|██████████| 1/1 [00:00<00:00, 1002.46it/s]\n",
      "pre tokenize: 100%|██████████| 1/1 [00:00<?, ?it/s]\n",
      "pre tokenize: 100%|██████████| 1/1 [00:00<00:00, 1002.70it/s]\n",
      "pre tokenize: 100%|██████████| 1/1 [00:00<00:00, 1001.27it/s]\n",
      "pre tokenize: 100%|██████████| 1/1 [00:00<?, ?it/s]\n",
      "pre tokenize: 100%|██████████| 1/1 [00:00<?, ?it/s]\n"
     ]
    },
    {
     "name": "stdout",
     "output_type": "stream",
     "text": [
      "Skipping reply email: Re: ID\n",
      "Skipping reply email: Re: ID\n"
     ]
    },
    {
     "name": "stderr",
     "output_type": "stream",
     "text": [
      "pre tokenize: 100%|██████████| 1/1 [00:00<00:00, 1000.79it/s]\n",
      "pre tokenize: 100%|██████████| 1/1 [00:00<00:00, 1004.14it/s]\n"
     ]
    },
    {
     "name": "stdout",
     "output_type": "stream",
     "text": [
      "Skipping reply email: =?UTF-8?B?UmU6IEJhxZ92dXJ1IHZlIGRlxJ9lcmxlbmRpcm1lIHPDvHJlY2kgaGFra8SxbmRh?=\n",
      "Skipping reply email: \n",
      " =?utf-8?B?UkU6IEJhxZ92dXJ1IHZlIGRlxJ9lcmxlbmRpcm1lIHPDvHJlY2kgaGFra8Sx?=\n",
      " =?utf-8?Q?nda?=\n"
     ]
    },
    {
     "name": "stderr",
     "output_type": "stream",
     "text": [
      "pre tokenize: 100%|██████████| 1/1 [00:00<00:00, 1003.90it/s]\n",
      "pre tokenize: 100%|██████████| 1/1 [00:00<00:00, 1001.98it/s]\n",
      "pre tokenize: 100%|██████████| 1/1 [00:00<00:00, 999.60it/s]\n",
      "pre tokenize: 100%|██████████| 1/1 [00:00<?, ?it/s]\n",
      "pre tokenize: 100%|██████████| 1/1 [00:00<00:00, 1007.52it/s]\n",
      "pre tokenize: 100%|██████████| 1/1 [00:00<00:00, 1003.42it/s]\n"
     ]
    },
    {
     "name": "stdout",
     "output_type": "stream",
     "text": [
      "Skipping reply email: Re: PURE & ENS491 - MATCHING: Exercises\n",
      "Skipping reply email: Re: PURE & ENS491 - MATCHING: Exercises\n",
      "Skipping reply email: Re: PURE & ENS491 - MATCHING: Exercises\n",
      "Skipping reply email: Re: PURE & ENS491 - MATCHING: Exercises\n",
      "Skipping reply email: Re: PURE & ENS491 - MATCHING: Exercises\n",
      "Skipping reply email: Re: PURE & ENS491 - MATCHING: Exercises\n",
      "Skipping reply email: Re: PURE & ENS491 - MATCHING: Exercises\n",
      "Skipping reply email: Re: PURE & ENS491 - MATCHING: Exercises\n"
     ]
    },
    {
     "name": "stderr",
     "output_type": "stream",
     "text": [
      "pre tokenize: 100%|██████████| 1/1 [00:00<00:00, 1002.46it/s]\n",
      "pre tokenize: 100%|██████████| 1/1 [00:00<00:00, 1001.74it/s]\n"
     ]
    },
    {
     "name": "stdout",
     "output_type": "stream",
     "text": [
      "Skipping reply email: =?UTF-8?Q?RE=3A_Maj=C3=B6r_deklerasyonu?=\n"
     ]
    },
    {
     "name": "stderr",
     "output_type": "stream",
     "text": [
      "pre tokenize: 100%|██████████| 1/1 [00:00<00:00, 1004.14it/s]\n",
      "pre tokenize: 100%|██████████| 1/1 [00:00<?, ?it/s]\n"
     ]
    },
    {
     "name": "stdout",
     "output_type": "stream",
     "text": [
      "Skipping reply email: Re: Proj201\n"
     ]
    },
    {
     "name": "stderr",
     "output_type": "stream",
     "text": [
      "pre tokenize: 100%|██████████| 1/1 [00:00<00:00, 1002.70it/s]\n",
      "pre tokenize: 100%|██████████| 1/1 [00:00<00:00, 1002.22it/s]\n"
     ]
    },
    {
     "name": "stdout",
     "output_type": "stream",
     "text": [
      "Skipping reply email: =?UTF-8?Q?Re=3A_Participation_Notland=C4=B1rmas=C4=B1_Hakk=C4=B1nda?=\n"
     ]
    },
    {
     "name": "stderr",
     "output_type": "stream",
     "text": [
      "pre tokenize: 100%|██████████| 1/1 [00:00<00:00, 1001.51it/s]\n",
      "pre tokenize: 100%|██████████| 1/1 [00:00<00:00, 1002.94it/s]\n"
     ]
    },
    {
     "name": "stdout",
     "output_type": "stream",
     "text": [
      "Skipping reply email: Re: Compose camp workshop\n",
      "Skipping reply email: Re: Compose camp workshop\n",
      "Skipping reply email: Re: Compose camp workshop\n"
     ]
    },
    {
     "name": "stderr",
     "output_type": "stream",
     "text": [
      "pre tokenize: 100%|██████████| 1/1 [00:00<00:00, 1002.70it/s]\n",
      "pre tokenize: 100%|██████████| 1/1 [00:00<00:00, 1002.22it/s]\n"
     ]
    },
    {
     "name": "stdout",
     "output_type": "stream",
     "text": [
      "Skipping reply email: Re: Third Individual Assesment\n",
      "Skipping reply email: Re: Third Individual Assesment\n"
     ]
    },
    {
     "name": "stderr",
     "output_type": "stream",
     "text": [
      "pre tokenize: 100%|██████████| 1/1 [00:00<00:00, 1002.94it/s]\n",
      "pre tokenize: 100%|██████████| 1/1 [00:00<00:00, 1002.46it/s]\n"
     ]
    },
    {
     "name": "stdout",
     "output_type": "stream",
     "text": [
      "Skipping reply email: AW: Exchange Student Documents\n"
     ]
    },
    {
     "name": "stderr",
     "output_type": "stream",
     "text": [
      "pre tokenize: 100%|██████████| 1/1 [00:00<00:00, 967.32it/s]\n",
      "pre tokenize: 100%|██████████| 1/1 [00:00<?, ?it/s]\n",
      "pre tokenize: 100%|██████████| 1/1 [00:00<00:00, 1001.98it/s]\n",
      "pre tokenize: 100%|██████████| 1/1 [00:00<?, ?it/s]\n",
      "pre tokenize: 100%|██████████| 1/1 [00:00<?, ?it/s]\n",
      "pre tokenize: 100%|██████████| 1/1 [00:00<?, ?it/s]\n",
      "pre tokenize: 100%|██████████| 1/1 [00:00<00:00, 1003.18it/s]\n",
      "pre tokenize: 100%|██████████| 1/1 [00:00<?, ?it/s]\n",
      "pre tokenize: 100%|██████████| 1/1 [00:00<00:00, 999.83it/s]\n",
      "pre tokenize: 100%|██████████| 1/1 [00:00<?, ?it/s]\n"
     ]
    },
    {
     "name": "stdout",
     "output_type": "stream",
     "text": [
      "Skipping reply email: =?UTF-8?B?UmU6IEhJU1QgMTkyIEZpbmFsIFPEsW5hdsSxLTIuIGdydXA=?=\n"
     ]
    },
    {
     "name": "stderr",
     "output_type": "stream",
     "text": [
      "pre tokenize: 100%|██████████| 1/1 [00:00<00:00, 334.15it/s]\n",
      "pre tokenize: 100%|██████████| 1/1 [00:00<00:00, 501.29it/s]\n",
      "pre tokenize: 100%|██████████| 1/1 [00:00<00:00, 1002.94it/s]\n",
      "pre tokenize: 100%|██████████| 1/1 [00:00<?, ?it/s]\n",
      "pre tokenize: 100%|██████████| 1/1 [00:00<00:00, 1001.98it/s]\n",
      "pre tokenize: 100%|██████████| 1/1 [00:00<00:00, 1003.18it/s]\n"
     ]
    },
    {
     "name": "stdout",
     "output_type": "stream",
     "text": [
      "Skipping reply email: Fwd: Accommodation in Passau\n",
      "Skipping reply email: AW: Accommodation in Passau\n",
      "Skipping reply email: Re: Accommodation in Passau\n",
      "Skipping reply email: Accommodation in Passau \n",
      "Skipping reply email: Re: midterm 1 grade\n",
      "Skipping reply email: midterm 1 grade\n",
      "Skipping reply email: =?UTF-8?Q?Re=3A_Proj201_gruplar=C4=B1?=\n"
     ]
    },
    {
     "name": "stderr",
     "output_type": "stream",
     "text": [
      "pre tokenize: 100%|██████████| 1/1 [00:00<?, ?it/s]\n",
      "pre tokenize: 100%|██████████| 1/1 [00:00<00:00, 1003.42it/s]\n"
     ]
    },
    {
     "name": "stdout",
     "output_type": "stream",
     "text": [
      "Skipping reply email: Re: Proj 201 Group 2\n",
      "Skipping reply email: Re: Proj 201 Group 2\n",
      "Skipping reply email: Re: Proj 201 Group 2\n",
      "Skipping reply email: Re: Proj 201 Group 2\n",
      "Skipping reply email: Re: Proj 201 Group 2\n",
      "Skipping reply email: Re: Proj 201 Group 2\n",
      "Skipping reply email: Re: Proj 201 Group 2\n",
      "Skipping reply email: Re: Proj 201 Group 2\n",
      "Skipping reply email: Re: Proj 201 Group 2\n",
      "Skipping reply email: Re: Proj 201 Group 2\n",
      "Skipping reply email: Re: Proj 201 Group 2\n",
      "Skipping reply email: Re: Proj 201 Group 2\n",
      "Skipping reply email: Re: Proj 201 Group 2\n",
      "Skipping reply email: Re: Proj 201 Group 2\n",
      "Skipping reply email: Re: Proj 201 Group 2\n",
      "Skipping reply email: Re: Proj 201 Group 2\n",
      "Skipping reply email: Re: Proj 201 Group 2\n",
      "Skipping reply email: Re: Proj 201 Group 2\n",
      "Skipping reply email: Re: Proj 201 Group 2\n",
      "Skipping reply email: Re: Proj 201 Group 2\n",
      "Skipping reply email: Re: Proj 201 Group 2\n",
      "Skipping reply email: Re: Proj 201 Group 2\n",
      "Skipping reply email: Re: Proj 201 Group 2\n",
      "Skipping reply email: Re: Proj 201 Group 2\n",
      "Skipping reply email: Re: Proj 201 Group 2\n",
      "Skipping reply email: Re: Proj 201 Group 2\n",
      "Skipping reply email: Re: Proj 201 Group 2\n",
      "Skipping reply email: Re: Proj 201 Group 2\n",
      "Skipping reply email: Re: Proj 201 Group 2\n",
      "Skipping reply email: Re: Proj 201 Group 2\n",
      "Skipping reply email: Re: Proj 201 Group 2\n",
      "Skipping reply email: Re: Proj 201 Group 2\n",
      "Skipping reply email: Re: Proj 201 Group 2\n",
      "Skipping reply email: Re: Proj 201 Group 2\n",
      "Skipping reply email: Re: Proj 201 Group 2\n",
      "Skipping reply email: Re: Proj 201 Group 2\n",
      "Skipping reply email: Re: Proj 201 Group 2\n",
      "Skipping reply email: Re: Proj 201 Group 2\n",
      "Skipping reply email: Re: Proj 201 Group 2\n",
      "Skipping reply email: Re: Proj 201 Group 2\n",
      "Skipping reply email: Re: Proj 201 Group 2\n",
      "Skipping reply email: Re: Proj 201 Group 2\n",
      "Skipping reply email: Re: Proj 201 Group 2\n",
      "Skipping reply email: Re: Proj 201 Group 2\n",
      "Skipping reply email: Re: Proj 201 Group 2\n",
      "Skipping reply email: Re: Proj 201 Group 2\n",
      "Skipping reply email: Re: Proj 201 Group 2\n",
      "Skipping reply email: Re: Proj 201 Group 2\n",
      "Skipping reply email: Re: Proj 201 Group 2\n",
      "Skipping reply email: Re: Proj 201 Group 2\n",
      "Skipping reply email: Re: Proj 201 Group 2\n",
      "Skipping reply email: Re: Proj 201 Group 2\n",
      "Skipping reply email: Re: Proj 201 Group 2\n",
      "Skipping reply email: Re: Proj 201 Group 2\n",
      "Skipping reply email: Re: Proj 201 Group 2\n",
      "Skipping reply email: Re: Proj 201 Group 2\n"
     ]
    },
    {
     "name": "stderr",
     "output_type": "stream",
     "text": [
      "pre tokenize: 100%|██████████| 1/1 [00:00<00:00, 1059.17it/s]\n",
      "pre tokenize: 100%|██████████| 1/1 [00:00<?, ?it/s]\n"
     ]
    },
    {
     "name": "stdout",
     "output_type": "stream",
     "text": [
      "Skipping reply email: =?iso-8859-3?Q?Re:_Tabldot_men=FC?=\n"
     ]
    },
    {
     "name": "stderr",
     "output_type": "stream",
     "text": [
      "pre tokenize: 100%|██████████| 1/1 [00:00<00:00, 1003.66it/s]\n",
      "pre tokenize: 100%|██████████| 1/1 [00:00<00:00, 1002.22it/s]\n"
     ]
    },
    {
     "name": "stdout",
     "output_type": "stream",
     "text": [
      "Skipping reply email: Re: DAK Gesundheit: Your inquiry\n",
      "Skipping reply email: DAK Gesundheit: Your inquiry\n",
      "Skipping reply email: Re: Koltuk\n",
      "Skipping reply email: Re: Koltuk\n"
     ]
    },
    {
     "name": "stderr",
     "output_type": "stream",
     "text": [
      "pre tokenize: 100%|██████████| 1/1 [00:00<?, ?it/s]\n",
      "pre tokenize: 100%|██████████| 1/1 [00:00<00:00, 1002.22it/s]\n"
     ]
    },
    {
     "name": "stdout",
     "output_type": "stream",
     "text": [
      "Skipping reply email: =?UTF-8?Q?Fwd=3A_Vize_i=C3=A7in_gerekli_evraklar?=\n",
      "Skipping reply email: =?UTF-8?Q?Fwd=3A_Vize_i=C3=A7in_gerekli_evraklar?=\n",
      "Skipping reply email: =?UTF-8?Q?Re=3A_Vize_i=C3=A7in_gerekli_evraklar?=\n"
     ]
    },
    {
     "name": "stderr",
     "output_type": "stream",
     "text": [
      "pre tokenize: 100%|██████████| 1/1 [00:00<?, ?it/s]\n",
      "pre tokenize: 100%|██████████| 1/1 [00:00<00:00, 1001.98it/s]\n"
     ]
    },
    {
     "name": "stdout",
     "output_type": "stream",
     "text": [
      "Skipping reply email: =?UTF-8?Q?Re=3A_Vize_i=C3=A7in_gerekli_evraklar?=\n"
     ]
    },
    {
     "name": "stderr",
     "output_type": "stream",
     "text": [
      "pre tokenize: 100%|██████████| 1/1 [00:00<00:00, 1002.22it/s]\n",
      "pre tokenize: 100%|██████████| 1/1 [00:00<?, ?it/s]\n"
     ]
    },
    {
     "name": "stdout",
     "output_type": "stream",
     "text": [
      "Skipping reply email: =?UTF-8?Q?Re=3A_Vize_i=C3=A7in_gerekli_evraklar?=\n",
      "Skipping reply email: =?UTF-8?Q?Re=3A_Vize_i=C3=A7in_gerekli_evraklar?=\n",
      "Skipping reply email: =?UTF-8?Q?Re=3A_Vize_i=C3=A7in_gerekli_evraklar?=\n",
      "Skipping reply email: =?UTF-8?Q?Re=3A_Vize_i=C3=A7in_gerekli_evraklar?=\n"
     ]
    },
    {
     "name": "stderr",
     "output_type": "stream",
     "text": [
      "pre tokenize: 100%|██████████| 1/1 [00:00<00:00, 1001.51it/s]\n",
      "pre tokenize: 100%|██████████| 1/1 [00:00<00:00, 1002.22it/s]\n",
      "pre tokenize: 100%|██████████| 1/1 [00:00<?, ?it/s]\n",
      "pre tokenize: 100%|██████████| 1/1 [00:00<?, ?it/s]\n",
      "pre tokenize: 100%|██████████| 1/1 [00:00<00:00, 1001.74it/s]\n",
      "pre tokenize: 100%|██████████| 1/1 [00:00<00:00, 1003.18it/s]\n",
      "pre tokenize: 100%|██████████| 1/1 [00:00<?, ?it/s]\n",
      "pre tokenize: 100%|██████████| 1/1 [00:00<00:00, 1002.46it/s]\n",
      "pre tokenize: 100%|██████████| 1/1 [00:00<?, ?it/s]\n",
      "pre tokenize: 100%|██████████| 1/1 [00:00<?, ?it/s]\n",
      "pre tokenize: 100%|██████████| 1/1 [00:00<?, ?it/s]\n",
      "pre tokenize: 100%|██████████| 1/1 [00:00<?, ?it/s]\n",
      "pre tokenize: 100%|██████████| 1/1 [00:00<00:00, 1002.46it/s]\n",
      "pre tokenize: 100%|██████████| 1/1 [00:00<00:00, 1001.98it/s]\n",
      "pre tokenize: 100%|██████████| 1/1 [00:00<?, ?it/s]\n",
      "pre tokenize: 100%|██████████| 1/1 [00:00<?, ?it/s]\n",
      "pre tokenize: 100%|██████████| 1/1 [00:00<00:00, 1002.22it/s]\n",
      "pre tokenize: 100%|██████████| 1/1 [00:00<00:00, 1001.98it/s]\n"
     ]
    },
    {
     "name": "stdout",
     "output_type": "stream",
     "text": [
      "Skipping reply email: Re: Erasmus Hibe\n",
      "Skipping reply email: Re: Erasmus Hibe\n"
     ]
    },
    {
     "name": "stderr",
     "output_type": "stream",
     "text": [
      "pre tokenize: 100%|██████████| 1/1 [00:00<00:00, 1003.90it/s]\n",
      "pre tokenize: 100%|██████████| 1/1 [00:00<?, ?it/s]\n",
      "pre tokenize: 100%|██████████| 1/1 [00:00<00:00, 1001.98it/s]\n",
      "pre tokenize: 100%|██████████| 1/1 [00:00<00:00, 1002.22it/s]\n"
     ]
    },
    {
     "name": "stdout",
     "output_type": "stream",
     "text": [
      "Skipping reply email: Re: Bitirme projesi\n"
     ]
    },
    {
     "name": "stderr",
     "output_type": "stream",
     "text": [
      "pre tokenize: 100%|██████████| 1/1 [00:00<?, ?it/s]\n",
      "pre tokenize: 100%|██████████| 1/1 [00:00<00:00, 1001.98it/s]\n",
      "pre tokenize: 100%|██████████| 1/1 [00:00<00:00, 1003.18it/s]\n",
      "pre tokenize: 100%|██████████| 1/1 [00:00<00:00, 1001.03it/s]\n",
      "pre tokenize: 100%|██████████| 1/1 [00:00<?, ?it/s]\n",
      "pre tokenize: 100%|██████████| 1/1 [00:00<00:00, 1002.22it/s]\n",
      "pre tokenize: 100%|██████████| 1/1 [00:00<?, ?it/s]\n",
      "pre tokenize: 100%|██████████| 1/1 [00:00<00:00, 1003.42it/s]\n",
      "pre tokenize: 100%|██████████| 1/1 [00:00<?, ?it/s]\n",
      "pre tokenize: 100%|██████████| 1/1 [00:00<00:00, 1001.03it/s]\n",
      "pre tokenize: 100%|██████████| 1/1 [00:00<?, ?it/s]\n",
      "pre tokenize: 100%|██████████| 1/1 [00:00<00:00, 1002.70it/s]\n"
     ]
    },
    {
     "name": "stdout",
     "output_type": "stream",
     "text": [
      "Skipping reply email: Fwd: Looking to grab a Prime Day deal?\n",
      "Skipping reply email: Re: Looking to grab a Prime Day deal?\n",
      "Skipping reply email: Looking to grab a Prime Day deal?\n",
      "Skipping reply email: =?UTF-8?Q?Re=3A_Bitirme_projesi_toplant=C4=B1s=C4=B1?=\n"
     ]
    },
    {
     "name": "stderr",
     "output_type": "stream",
     "text": [
      "pre tokenize: 100%|██████████| 1/1 [00:00<00:00, 1001.74it/s]\n",
      "pre tokenize: 100%|██████████| 1/1 [00:00<00:00, 1002.22it/s]\n",
      "pre tokenize: 100%|██████████| 1/1 [00:00<00:00, 1006.31it/s]\n",
      "pre tokenize: 100%|██████████| 1/1 [00:00<00:00, 1002.94it/s]\n",
      "pre tokenize: 100%|██████████| 1/1 [00:00<00:00, 1001.51it/s]\n",
      "pre tokenize: 100%|██████████| 1/1 [00:00<00:00, 1001.98it/s]\n"
     ]
    },
    {
     "name": "stdout",
     "output_type": "stream",
     "text": [
      "Failed to parse date: Tue, 01 Mar 2022 08:15:51 -0800 (PST)\n"
     ]
    },
    {
     "name": "stderr",
     "output_type": "stream",
     "text": [
      "pre tokenize: 100%|██████████| 1/1 [00:00<00:00, 1002.70it/s]\n",
      "pre tokenize: 100%|██████████| 1/1 [00:00<00:00, 1002.94it/s]\n"
     ]
    },
    {
     "name": "stdout",
     "output_type": "stream",
     "text": [
      "Skipping email 789 due to date parsing issues.\n",
      "\n",
      "Skipping reply email: Re: ENS208-AB-202102: Tomorrow's Class for Section A is postponed\n",
      "Skipping reply email: ENS208-AB-202102: Tomorrow's Class for Section A is postponed\n"
     ]
    },
    {
     "name": "stderr",
     "output_type": "stream",
     "text": [
      "pre tokenize: 100%|██████████| 1/1 [00:00<?, ?it/s]\n",
      "pre tokenize: 100%|██████████| 1/1 [00:00<?, ?it/s]\n"
     ]
    },
    {
     "name": "stdout",
     "output_type": "stream",
     "text": [
      "Skipping reply email: Re: Request for an interview\n",
      "Skipping reply email: Re: Request for an interview\n",
      "Skipping reply email: Re: Request for an interview\n",
      "Skipping reply email: Re: Request for an interview\n",
      "Skipping reply email: Re: Request for an interview\n"
     ]
    },
    {
     "name": "stderr",
     "output_type": "stream",
     "text": [
      "pre tokenize: 100%|██████████| 1/1 [00:00<00:00, 501.41it/s]\n",
      "pre tokenize: 100%|██████████| 1/1 [00:00<00:00, 1002.22it/s]\n"
     ]
    },
    {
     "name": "stdout",
     "output_type": "stream",
     "text": [
      "Skipping reply email: =?UTF-8?B?UmU6IEJ1IGhhZnRhIFNhbMSxIGfDvG7DvCBrYXTEsWxtYW1hbSBoYWtrxLFuZGE=?=\n"
     ]
    },
    {
     "name": "stderr",
     "output_type": "stream",
     "text": [
      "pre tokenize: 100%|██████████| 1/1 [00:00<00:00, 963.99it/s]\n",
      "pre tokenize: 100%|██████████| 1/1 [00:00<00:00, 1002.22it/s]\n",
      "pre tokenize: 100%|██████████| 1/1 [00:00<?, ?it/s]\n",
      "pre tokenize: 100%|██████████| 1/1 [00:00<00:00, 1002.22it/s]\n",
      "pre tokenize: 100%|██████████| 1/1 [00:00<00:00, 1004.14it/s]\n",
      "pre tokenize: 100%|██████████| 1/1 [00:00<00:00, 1001.51it/s]\n"
     ]
    },
    {
     "name": "stdout",
     "output_type": "stream",
     "text": [
      "Skipping reply email: =?UTF-8?Q?Re:_Arda,_Bloke_Hesap_onay=C4=B1n=C4=B1z?=\n",
      "Skipping reply email: =?UTF-8?B?UmU6IEFyZGEsIEJsb2tlIEhlc2FwIG9uYXnEsW7EsXo=?=\n"
     ]
    },
    {
     "name": "stderr",
     "output_type": "stream",
     "text": [
      "pre tokenize: 100%|██████████| 1/1 [00:00<00:00, 91.16it/s]\n",
      "pre tokenize: 100%|██████████| 1/1 [00:00<00:00, 200.51it/s]\n",
      "pre tokenize: 100%|██████████| 1/1 [00:00<00:00, 1002.22it/s]\n",
      "pre tokenize: 100%|██████████| 1/1 [00:00<00:00, 1003.42it/s]\n"
     ]
    },
    {
     "name": "stdout",
     "output_type": "stream",
     "text": [
      "Skipping reply email: =?UTF-8?B?RndkOiBVbmlsZXZlciBJZGVhVHJvcGh5IEJhxZ92dXJ1bGFyxLEgQmHFn2xhZMSxISA=?=\n",
      "\t=?UTF-8?B?8J+aqCBIYWRpIEhlbWVuIFNlbiBkZSBZZXJpbmkgQWwhIPCfmIk=?=\n"
     ]
    },
    {
     "name": "stderr",
     "output_type": "stream",
     "text": [
      "pre tokenize: 100%|██████████| 1/1 [00:00<00:00, 501.47it/s]\n",
      "pre tokenize: 100%|██████████| 1/1 [00:00<00:00, 1002.94it/s]\n",
      "pre tokenize: 100%|██████████| 1/1 [00:00<00:00, 1002.94it/s]\n",
      "pre tokenize: 100%|██████████| 1/1 [00:00<00:00, 1003.18it/s]\n",
      "pre tokenize: 100%|██████████| 1/1 [00:00<00:00, 1002.46it/s]\n",
      "pre tokenize: 100%|██████████| 1/1 [00:00<00:00, 1001.51it/s]\n"
     ]
    },
    {
     "name": "stdout",
     "output_type": "stream",
     "text": [
      "Skipping reply email: Re: McGraw Hill Scholarship\n"
     ]
    },
    {
     "name": "stderr",
     "output_type": "stream",
     "text": [
      "pre tokenize: 100%|██████████| 1/1 [00:00<00:00, 1002.70it/s]\n",
      "pre tokenize: 100%|██████████| 1/1 [00:00<00:00, 1001.98it/s]\n"
     ]
    },
    {
     "name": "stdout",
     "output_type": "stream",
     "text": [
      "Skipping reply email: RE: Anadal deklerasyonu\n"
     ]
    },
    {
     "name": "stderr",
     "output_type": "stream",
     "text": [
      "pre tokenize: 100%|██████████| 1/1 [00:00<?, ?it/s]\n",
      "pre tokenize: 100%|██████████| 1/1 [00:00<00:00, 1002.70it/s]\n"
     ]
    },
    {
     "name": "stdout",
     "output_type": "stream",
     "text": [
      "Skipping reply email: Re: Tabldot\n",
      "Skipping reply email: Re: Tabldot\n",
      "Skipping reply email: Re: Tabldot\n",
      "Skipping reply email: Re: Tabldot\n",
      "Skipping reply email: Re: Tabldot\n",
      "Skipping reply email: Re: Tabldot\n",
      "Skipping reply email: Re: Tabldot\n"
     ]
    },
    {
     "name": "stderr",
     "output_type": "stream",
     "text": [
      "pre tokenize: 100%|██████████| 1/1 [00:00<00:00, 501.29it/s]\n",
      "pre tokenize: 100%|██████████| 1/1 [00:00<00:00, 1002.70it/s]\n"
     ]
    },
    {
     "name": "stdout",
     "output_type": "stream",
     "text": [
      "Skipping reply email: =?UTF-8?Q?Re=3A_GDSC_E=C4=9Fitim_Daveti?=\n",
      "Skipping reply email: =?UTF-8?Q?Re=3A_GDSC_E=C4=9Fitim_Daveti?=\n",
      "Skipping reply email: =?UTF-8?Q?GDSC_E=C4=9Fitim_Daveti?=\n"
     ]
    },
    {
     "name": "stderr",
     "output_type": "stream",
     "text": [
      "pre tokenize: 100%|██████████| 1/1 [00:00<00:00, 1001.98it/s]\n",
      "pre tokenize: 100%|██████████| 1/1 [00:00<?, ?it/s]\n"
     ]
    },
    {
     "name": "stdout",
     "output_type": "stream",
     "text": [
      "Skipping reply email: =?UTF-8?Q?Re=3A_Bu_haftaki_bitirme_toplant=C4=B1s=C4=B1?=\n",
      "Skipping reply email: =?UTF-8?Q?Re=3A_Bu_haftaki_bitirme_toplant=C4=B1s=C4=B1?=\n"
     ]
    },
    {
     "name": "stderr",
     "output_type": "stream",
     "text": [
      "pre tokenize: 100%|██████████| 1/1 [00:00<00:00, 1004.86it/s]\n",
      "pre tokenize: 100%|██████████| 1/1 [00:00<00:00, 1002.46it/s]\n",
      "pre tokenize: 100%|██████████| 1/1 [00:00<?, ?it/s]\n",
      "pre tokenize: 100%|██████████| 1/1 [00:00<?, ?it/s]\n"
     ]
    },
    {
     "name": "stdout",
     "output_type": "stream",
     "text": [
      "Skipping reply email: Re: Exciting Internship Opportunity at TD Securities Just for You!\n",
      "Skipping reply email: Exciting Internship Opportunity at TD Securities Just for You!\n"
     ]
    },
    {
     "name": "stderr",
     "output_type": "stream",
     "text": [
      "pre tokenize: 100%|██████████| 1/1 [00:00<?, ?it/s]\n",
      "pre tokenize: 100%|██████████| 1/1 [00:00<?, ?it/s]\n"
     ]
    },
    {
     "name": "stdout",
     "output_type": "stream",
     "text": [
      "Skipping reply email: =?UTF-8?B?RndkOiBTR0sgxLDFn2UgR2lyacWfIEJpbGRpcmdlc2k=?=\n",
      "Skipping reply email: =?UTF-8?B?UmU6IFNHSyDEsMWfZSBHaXJpxZ8gQmlsZGlyZ2VzaQ==?=\n",
      "Skipping reply email: =?UTF-8?B?UmU6IFNHSyDEsMWfZSBHaXJpxZ8gQmlsZGlyZ2VzaQ==?=\n"
     ]
    },
    {
     "name": "stderr",
     "output_type": "stream",
     "text": [
      "pre tokenize: 100%|██████████| 1/1 [00:00<?, ?it/s]\n",
      "pre tokenize: 100%|██████████| 1/1 [00:00<?, ?it/s]\n"
     ]
    },
    {
     "name": "stdout",
     "output_type": "stream",
     "text": [
      "Skipping reply email: =?UTF-8?Q?Re=3A_haftal=C4=B1k_toplant=C4=B1_saati?=\n"
     ]
    },
    {
     "name": "stderr",
     "output_type": "stream",
     "text": [
      "pre tokenize: 100%|██████████| 1/1 [00:00<?, ?it/s]\n",
      "pre tokenize: 100%|██████████| 1/1 [00:00<?, ?it/s]\n",
      "pre tokenize: 100%|██████████| 1/1 [00:00<?, ?it/s]\n",
      "pre tokenize: 100%|██████████| 1/1 [00:00<?, ?it/s]\n",
      "pre tokenize: 100%|██████████| 1/1 [00:00<?, ?it/s]\n",
      "pre tokenize: 100%|██████████| 1/1 [00:00<00:00, 1002.94it/s]\n",
      "pre tokenize: 100%|██████████| 1/1 [00:00<00:00, 1002.70it/s]\n",
      "pre tokenize: 100%|██████████| 1/1 [00:00<?, ?it/s]\n",
      "pre tokenize: 100%|██████████| 1/1 [00:00<?, ?it/s]\n",
      "pre tokenize: 100%|██████████| 1/1 [00:00<00:00, 1003.42it/s]\n",
      "pre tokenize: 100%|██████████| 1/1 [00:00<?, ?it/s]\n",
      "pre tokenize: 100%|██████████| 1/1 [00:00<00:00, 1003.66it/s]\n",
      "pre tokenize: 100%|██████████| 1/1 [00:00<?, ?it/s]\n",
      "pre tokenize: 100%|██████████| 1/1 [00:00<00:00, 1001.74it/s]\n",
      "pre tokenize: 100%|██████████| 1/1 [00:00<00:00, 1002.46it/s]\n",
      "pre tokenize: 100%|██████████| 1/1 [00:00<?, ?it/s]\n",
      "pre tokenize: 100%|██████████| 1/1 [00:00<00:00, 1005.11it/s]\n",
      "pre tokenize: 100%|██████████| 1/1 [00:00<?, ?it/s]\n",
      "pre tokenize: 100%|██████████| 1/1 [00:00<00:00, 1002.22it/s]\n",
      "pre tokenize: 100%|██████████| 1/1 [00:00<?, ?it/s]\n",
      "pre tokenize: 100%|██████████| 1/1 [00:00<?, ?it/s]\n",
      "pre tokenize: 100%|██████████| 1/1 [00:00<00:00, 1003.66it/s]\n",
      "pre tokenize: 100%|██████████| 1/1 [00:00<?, ?it/s]\n",
      "pre tokenize: 100%|██████████| 1/1 [00:00<00:00, 1001.27it/s]\n",
      "pre tokenize: 100%|██████████| 1/1 [00:00<?, ?it/s]\n",
      "pre tokenize: 100%|██████████| 1/1 [00:00<?, ?it/s]\n",
      "pre tokenize: 100%|██████████| 1/1 [00:00<?, ?it/s]\n",
      "pre tokenize: 100%|██████████| 1/1 [00:00<00:00, 1003.90it/s]\n",
      "pre tokenize: 100%|██████████| 1/1 [00:00<00:00, 1006.55it/s]\n",
      "pre tokenize: 100%|██████████| 1/1 [00:00<?, ?it/s]\n",
      "pre tokenize: 100%|██████████| 1/1 [00:00<00:00, 1002.46it/s]\n",
      "pre tokenize: 100%|██████████| 1/1 [00:00<00:00, 1002.46it/s]\n",
      "pre tokenize: 100%|██████████| 1/1 [00:00<00:00, 1002.46it/s]\n",
      "pre tokenize: 100%|██████████| 1/1 [00:00<00:00, 1002.46it/s]\n",
      "pre tokenize: 100%|██████████| 1/1 [00:00<00:00, 1001.51it/s]\n",
      "pre tokenize: 100%|██████████| 1/1 [00:00<00:00, 1002.46it/s]\n",
      "pre tokenize: 100%|██████████| 1/1 [00:00<?, ?it/s]\n",
      "pre tokenize: 100%|██████████| 1/1 [00:00<00:00, 999.12it/s]\n",
      "pre tokenize: 100%|██████████| 1/1 [00:00<00:00, 1003.42it/s]\n",
      "pre tokenize: 100%|██████████| 1/1 [00:00<00:00, 1001.03it/s]\n"
     ]
    },
    {
     "name": "stdout",
     "output_type": "stream",
     "text": [
      "Skipping reply email: =?UTF-8?Q?Re=3A_haftal=C4=B1k_toplant=C4=B1_saati?=\n"
     ]
    },
    {
     "name": "stderr",
     "output_type": "stream",
     "text": [
      "pre tokenize: 100%|██████████| 1/1 [00:00<00:00, 1003.18it/s]\n",
      "pre tokenize: 100%|██████████| 1/1 [00:00<00:00, 1002.46it/s]\n",
      "pre tokenize: 100%|██████████| 1/1 [00:00<00:00, 1001.51it/s]\n",
      "pre tokenize: 100%|██████████| 1/1 [00:00<?, ?it/s]\n"
     ]
    },
    {
     "name": "stdout",
     "output_type": "stream",
     "text": [
      "Skipping reply email: Re: rewrited version of summary\n"
     ]
    },
    {
     "name": "stderr",
     "output_type": "stream",
     "text": [
      "pre tokenize: 100%|██████████| 1/1 [00:00<00:00, 1001.51it/s]\n",
      "pre tokenize: 100%|██████████| 1/1 [00:00<?, ?it/s]\n",
      "pre tokenize: 100%|██████████| 1/1 [00:00<?, ?it/s]\n",
      "pre tokenize: 100%|██████████| 1/1 [00:00<?, ?it/s]\n",
      "pre tokenize: 100%|██████████| 1/1 [00:00<?, ?it/s]\n",
      "pre tokenize: 100%|██████████| 1/1 [00:00<?, ?it/s]\n"
     ]
    },
    {
     "name": "stdout",
     "output_type": "stream",
     "text": [
      "Skipping reply email: =?UTF-8?Q?Re=3a_B=c3=b6l=c3=bcm_deklare_etmeden_Erasmus_ba=c5=9fvur?=\n",
      " =?UTF-8?Q?usu_yapmak_hakk=c4=b1nda?=\n"
     ]
    },
    {
     "name": "stderr",
     "output_type": "stream",
     "text": [
      "pre tokenize: 100%|██████████| 1/1 [00:00<00:00, 1004.86it/s]\n",
      "pre tokenize: 100%|██████████| 1/1 [00:00<?, ?it/s]\n",
      "pre tokenize: 100%|██████████| 1/1 [00:00<?, ?it/s]\n",
      "pre tokenize: 100%|██████████| 1/1 [00:00<00:00, 1002.70it/s]\n",
      "pre tokenize: 100%|██████████| 1/1 [00:00<00:00, 1002.22it/s]\n",
      "pre tokenize: 100%|██████████| 1/1 [00:00<?, ?it/s]\n",
      "pre tokenize: 100%|██████████| 1/1 [00:00<?, ?it/s]\n",
      "pre tokenize: 100%|██████████| 1/1 [00:00<?, ?it/s]\n",
      "pre tokenize: 100%|██████████| 1/1 [00:00<?, ?it/s]\n",
      "pre tokenize: 100%|██████████| 1/1 [00:00<?, ?it/s]\n"
     ]
    },
    {
     "name": "stdout",
     "output_type": "stream",
     "text": [
      "Skipping reply email: Re: P&G - please reply\n",
      "Failed to parse date: Thu,  3 Nov 2022 10:00:40 +0000 (UTC)\n"
     ]
    },
    {
     "name": "stderr",
     "output_type": "stream",
     "text": [
      "pre tokenize: 100%|██████████| 1/1 [00:00<00:00, 1002.22it/s]\n",
      "pre tokenize: 100%|██████████| 1/1 [00:00<?, ?it/s]\n"
     ]
    },
    {
     "name": "stdout",
     "output_type": "stream",
     "text": [
      "Skipping email 873 due to date parsing issues.\n",
      "\n"
     ]
    },
    {
     "name": "stderr",
     "output_type": "stream",
     "text": [
      "pre tokenize: 100%|██████████| 1/1 [00:00<00:00, 1004.38it/s]\n",
      "pre tokenize: 100%|██████████| 1/1 [00:00<?, ?it/s]\n"
     ]
    },
    {
     "name": "stdout",
     "output_type": "stream",
     "text": [
      "Skipping reply email: Re: Proj 201 grup 2\n",
      "Skipping reply email: Re: Proj 201 grup 2\n",
      "Skipping reply email: Re: Proj 201 grup 2\n"
     ]
    },
    {
     "name": "stderr",
     "output_type": "stream",
     "text": [
      "pre tokenize: 100%|██████████| 1/1 [00:00<00:00, 1002.22it/s]\n",
      "pre tokenize: 100%|██████████| 1/1 [00:00<00:00, 1002.22it/s]\n"
     ]
    },
    {
     "name": "stdout",
     "output_type": "stream",
     "text": [
      "Skipping reply email: =?UTF-8?Q?Re=3A_Master_ba=C5=9Fvurusu_hakk=C4=B1nda?=\n"
     ]
    },
    {
     "name": "stderr",
     "output_type": "stream",
     "text": [
      "pre tokenize: 100%|██████████| 1/1 [00:00<?, ?it/s]\n",
      "pre tokenize: 100%|██████████| 1/1 [00:00<00:00, 1003.18it/s]\n"
     ]
    },
    {
     "name": "stdout",
     "output_type": "stream",
     "text": [
      "Skipping reply email: =?UTF-8?B?UmU6IEhhZnRhbMSxayB0b3BsYW50xLE=?=\n"
     ]
    },
    {
     "name": "stderr",
     "output_type": "stream",
     "text": [
      "pre tokenize: 100%|██████████| 1/1 [00:00<00:00, 1002.94it/s]\n",
      "pre tokenize: 100%|██████████| 1/1 [00:00<00:00, 1001.74it/s]\n",
      "pre tokenize: 100%|██████████| 1/1 [00:00<00:00, 1003.18it/s]\n",
      "pre tokenize: 100%|██████████| 1/1 [00:00<00:00, 1000.79it/s]\n",
      "pre tokenize: 100%|██████████| 1/1 [00:00<?, ?it/s]\n",
      "pre tokenize: 100%|██████████| 1/1 [00:00<00:00, 1003.18it/s]\n",
      "pre tokenize: 100%|██████████| 1/1 [00:00<?, ?it/s]\n",
      "pre tokenize: 100%|██████████| 1/1 [00:00<00:00, 1002.94it/s]\n",
      "pre tokenize: 100%|██████████| 1/1 [00:00<?, ?it/s]\n",
      "pre tokenize: 100%|██████████| 1/1 [00:00<?, ?it/s]\n",
      "pre tokenize: 100%|██████████| 1/1 [00:00<?, ?it/s]\n",
      "pre tokenize: 100%|██████████| 1/1 [00:00<?, ?it/s]\n"
     ]
    },
    {
     "name": "stdout",
     "output_type": "stream",
     "text": [
      "Skipping reply email: =?UTF-8?Q?Re=3A_Sabanc=C4=B1_=C3=9Cniversitesi_GDSC_E=C4=9Fitim_Daveti?=\n",
      "Skipping reply email: =?UTF-8?Q?Re=3A_Sabanc=C4=B1_=C3=9Cniversitesi_GDSC_E=C4=9Fitim_Daveti?=\n",
      "Skipping reply email: =?UTF-8?Q?Re=3A_Sabanc=C4=B1_=C3=9Cniversitesi_GDSC_E=C4=9Fitim_Daveti?=\n",
      "Skipping reply email: =?UTF-8?Q?Re=3A_Sabanc=C4=B1_=C3=9Cniversitesi_GDSC_E=C4=9Fitim_Daveti?=\n",
      "Skipping reply email: =?UTF-8?Q?Sabanc=C4=B1_=C3=9Cniversitesi_GDSC_E=C4=9Fitim_Daveti?=\n"
     ]
    },
    {
     "name": "stderr",
     "output_type": "stream",
     "text": [
      "pre tokenize: 100%|██████████| 1/1 [00:00<00:00, 1002.70it/s]\n",
      "pre tokenize: 100%|██████████| 1/1 [00:00<?, ?it/s]\n"
     ]
    },
    {
     "name": "stdout",
     "output_type": "stream",
     "text": [
      "Skipping reply email: =?UTF-8?Q?Re=3A_=C3=96NEML=C4=B0_=3A_Form_ve_Evrak_y=C3=BCkleme_=2F_IMPORTANT_=3A_?=\n",
      "\t=?UTF-8?Q?Uploading_Forms_and_Documents?=\n",
      "Skipping reply email: =?UTF-8?Q?=c3=96NEML=c4=b0_=3a_Form_ve_Evrak_y=c3=bckleme_/_IMPORTA?=\n",
      " =?UTF-8?Q?NT_=3a_Uploading_Forms_and_Documents?=\n"
     ]
    },
    {
     "name": "stderr",
     "output_type": "stream",
     "text": [
      "pre tokenize: 100%|██████████| 1/1 [00:00<00:00, 1003.18it/s]\n",
      "pre tokenize: 100%|██████████| 1/1 [00:00<00:00, 1001.03it/s]\n",
      "pre tokenize: 100%|██████████| 1/1 [00:00<00:00, 1002.46it/s]\n",
      "pre tokenize: 100%|██████████| 1/1 [00:00<?, ?it/s]\n",
      "pre tokenize: 100%|██████████| 1/1 [00:00<00:00, 998.64it/s]\n",
      "pre tokenize: 100%|██████████| 1/1 [00:00<?, ?it/s]\n"
     ]
    },
    {
     "name": "stdout",
     "output_type": "stream",
     "text": [
      "Skipping reply email: =?UTF-8?Q?Re=3A_Erasmus_Transkript=2DArda_Ayd=C4=B1n?=\n",
      "Skipping reply email: =?UTF-8?Q?Re=3A_Erasmus_Transkript-Arda_Ayd=C4=B1n?=\n",
      "Skipping reply email: =?UTF-8?Q?Re:_Erasmus_Transkript-Arda_Ayd=C4=B1n?=\n",
      "Skipping reply email: =?UTF-8?Q?Re=3A_Erasmus_Transkript=2DArda_Ayd=C4=B1n?=\n"
     ]
    },
    {
     "name": "stderr",
     "output_type": "stream",
     "text": [
      "pre tokenize: 100%|██████████| 1/1 [00:00<00:00, 1002.22it/s]\n",
      "pre tokenize: 100%|██████████| 1/1 [00:00<?, ?it/s]\n",
      "pre tokenize: 100%|██████████| 1/1 [00:00<?, ?it/s]\n",
      "pre tokenize: 100%|██████████| 1/1 [00:00<?, ?it/s]\n",
      "pre tokenize: 100%|██████████| 1/1 [00:00<?, ?it/s]\n",
      "pre tokenize: 100%|██████████| 1/1 [00:00<00:00, 997.69it/s]\n"
     ]
    },
    {
     "name": "stdout",
     "output_type": "stream",
     "text": [
      "Skipping reply email: Re: Review anything in here for $10\n",
      "Skipping reply email: Review anything in here for $10\n",
      "Skipping reply email: Re: process essay\n",
      "Skipping reply email: Re: process essay\n"
     ]
    },
    {
     "name": "stderr",
     "output_type": "stream",
     "text": [
      "pre tokenize: 100%|██████████| 1/1 [00:00<00:00, 1001.98it/s]\n",
      "pre tokenize: 100%|██████████| 1/1 [00:00<00:00, 1002.46it/s]\n"
     ]
    },
    {
     "name": "stdout",
     "output_type": "stream",
     "text": [
      "Skipping reply email: =?UTF-8?B?UmU6IEhpc3QgMTkxLUEgU8SxbmF2xLE=?=\n",
      "Skipping reply email: =?UTF-8?B?UmU6IEhpc3QgMTkxLUEgU8SxbmF2xLE=?=\n",
      "Skipping reply email: =?UTF-8?B?UmU6IEhpc3QgMTkxLUEgU8SxbmF2xLE=?=\n"
     ]
    },
    {
     "name": "stderr",
     "output_type": "stream",
     "text": [
      "pre tokenize: 100%|██████████| 1/1 [00:00<00:00, 501.11it/s]\n",
      "pre tokenize: 100%|██████████| 1/1 [00:00<00:00, 1002.70it/s]\n"
     ]
    },
    {
     "name": "stdout",
     "output_type": "stream",
     "text": [
      "Skipping reply email: AW: Enrolment Documents\n"
     ]
    },
    {
     "name": "stderr",
     "output_type": "stream",
     "text": [
      "pre tokenize: 100%|██████████| 1/1 [00:00<00:00, 1003.66it/s]\n",
      "pre tokenize: 100%|██████████| 1/1 [00:00<00:00, 1003.18it/s]\n"
     ]
    },
    {
     "name": "stdout",
     "output_type": "stream",
     "text": [
      "Skipping reply email: Re: IE311 Office Hour\n"
     ]
    },
    {
     "name": "stderr",
     "output_type": "stream",
     "text": [
      "pre tokenize: 100%|██████████| 1/1 [00:00<00:00, 1002.46it/s]\n",
      "pre tokenize: 100%|██████████| 1/1 [00:00<00:00, 1001.74it/s]\n"
     ]
    },
    {
     "name": "stdout",
     "output_type": "stream",
     "text": [
      "Skipping reply email: =?UTF-8?Q?Re=3A_Portf=C3=B6y_optimizasyonu_hk=2E?=\n",
      "Skipping reply email: =?UTF-8?Q?Re=3A_Portf=C3=B6y_optimizasyonu_hk=2E?=\n",
      "Skipping reply email: =?UTF-8?Q?Re=3A_Portf=C3=B6y_optimizasyonu_hk=2E?=\n",
      "Skipping reply email: =?UTF-8?Q?Re=3A_Portf=C3=B6y_optimizasyonu_hk=2E?=\n",
      "Skipping reply email: =?UTF-8?Q?Re=3A_Portf=C3=B6y_optimizasyonu_hk=2E?=\n",
      "Skipping reply email: =?UTF-8?Q?Re=3A_Portf=C3=B6y_optimizasyonu_hk=2E?=\n",
      "Skipping reply email: =?UTF-8?Q?Re=3A_Portf=C3=B6y_optimizasyonu_hk=2E?=\n",
      "Skipping reply email: =?UTF-8?Q?Re=3A_Portf=C3=B6y_optimizasyonu_hk=2E?=\n"
     ]
    },
    {
     "name": "stderr",
     "output_type": "stream",
     "text": [
      "pre tokenize: 100%|██████████| 1/1 [00:00<00:00, 501.23it/s]\n",
      "pre tokenize: 100%|██████████| 1/1 [00:00<00:00, 1001.51it/s]\n",
      "pre tokenize: 100%|██████████| 1/1 [00:00<00:00, 1002.94it/s]\n",
      "pre tokenize: 100%|██████████| 1/1 [00:00<?, ?it/s]\n"
     ]
    },
    {
     "name": "stdout",
     "output_type": "stream",
     "text": [
      "Skipping reply email: Re: Hit Song Prediction Project Proposal\n",
      "Skipping reply email: Re: Hit Song Prediction Project Proposal\n",
      "Skipping reply email: Re: Hit Song Prediction Project Proposal\n",
      "Skipping reply email: Re: Hit Song Prediction Project Proposal\n",
      "Skipping reply email: Re: Hit Song Prediction Project Proposal\n",
      "Skipping reply email: Re: Hit Song Prediction Project Proposal\n",
      "Skipping reply email: Re: Hit Song Prediction Project Proposal\n"
     ]
    },
    {
     "name": "stderr",
     "output_type": "stream",
     "text": [
      "pre tokenize: 100%|██████████| 1/1 [00:00<00:00, 501.53it/s]\n",
      "pre tokenize: 100%|██████████| 1/1 [00:00<00:00, 1002.70it/s]\n",
      "pre tokenize: 100%|██████████| 1/1 [00:00<?, ?it/s]\n",
      "pre tokenize: 100%|██████████| 1/1 [00:00<?, ?it/s]\n"
     ]
    },
    {
     "name": "stdout",
     "output_type": "stream",
     "text": [
      "Skipping reply email: =?UTF-8?Q?Re=3A_Yemek_porsiyonlar=C4=B1_hakk=C4=B1nda?=\n",
      "Skipping reply email: =?UTF-8?Q?Re=3a_Yemek_porsiyonlar=c4=b1_hakk=c4=b1nda?=\n",
      "Skipping reply email: =?UTF-8?Q?Re=3A_Yemek_porsiyonlar=C4=B1_hakk=C4=B1nda?=\n",
      "Skipping reply email: =?UTF-8?Q?Re=3a_Yemek_porsiyonlar=c4=b1_hakk=c4=b1nda?=\n"
     ]
    },
    {
     "name": "stderr",
     "output_type": "stream",
     "text": [
      "pre tokenize: 100%|██████████| 1/1 [00:00<00:00, 1000.07it/s]\n",
      "pre tokenize: 100%|██████████| 1/1 [00:00<?, ?it/s]\n",
      "pre tokenize: 100%|██████████| 1/1 [00:00<00:00, 1002.70it/s]\n",
      "pre tokenize: 100%|██████████| 1/1 [00:00<?, ?it/s]\n"
     ]
    },
    {
     "name": "stdout",
     "output_type": "stream",
     "text": [
      "Skipping reply email: Re: feedback\n"
     ]
    },
    {
     "name": "stderr",
     "output_type": "stream",
     "text": [
      "pre tokenize: 100%|██████████| 1/1 [00:00<00:00, 1001.74it/s]\n",
      "pre tokenize: 100%|██████████| 1/1 [00:00<00:00, 1001.74it/s]\n",
      "pre tokenize: 100%|██████████| 1/1 [00:00<00:00, 1001.27it/s]\n",
      "pre tokenize: 100%|██████████| 1/1 [00:00<00:00, 1001.98it/s]\n",
      "pre tokenize: 100%|██████████| 1/1 [00:00<00:00, 1002.70it/s]\n",
      "pre tokenize: 100%|██████████| 1/1 [00:00<00:00, 1001.98it/s]\n",
      "pre tokenize: 100%|██████████| 1/1 [00:00<?, ?it/s]\n",
      "pre tokenize: 100%|██████████| 1/1 [00:00<?, ?it/s]\n",
      "pre tokenize: 100%|██████████| 1/1 [00:00<00:00, 1001.74it/s]\n",
      "pre tokenize: 100%|██████████| 1/1 [00:00<00:00, 1002.46it/s]\n",
      "pre tokenize: 100%|██████████| 1/1 [00:00<?, ?it/s]\n",
      "pre tokenize: 100%|██████████| 1/1 [00:00<?, ?it/s]\n"
     ]
    },
    {
     "name": "stdout",
     "output_type": "stream",
     "text": [
      "Skipping reply email: =?UTF-8?B?UmU6IDI4LjA0IEN1bWEgVG9wbGFudMSxc8SxIEhha2vEsW5kYQ==?=\n"
     ]
    },
    {
     "name": "stderr",
     "output_type": "stream",
     "text": [
      "pre tokenize: 100%|██████████| 1/1 [00:00<00:00, 1001.51it/s]\n",
      "pre tokenize: 100%|██████████| 1/1 [00:00<00:00, 1003.90it/s]\n",
      "pre tokenize: 100%|██████████| 1/1 [00:00<00:00, 1002.70it/s]\n",
      "pre tokenize: 100%|██████████| 1/1 [00:00<00:00, 1002.70it/s]\n",
      "pre tokenize: 100%|██████████| 1/1 [00:00<00:00, 1001.98it/s]\n",
      "pre tokenize: 100%|██████████| 1/1 [00:00<00:00, 1002.94it/s]\n"
     ]
    },
    {
     "name": "stdout",
     "output_type": "stream",
     "text": [
      "Skipping reply email: Re: Erasmus'ta iken ENS 492\n",
      "Skipping reply email: Re: Erasmus'ta iken ENS 492\n",
      "Skipping reply email: Re: Erasmus'ta iken ENS 492\n",
      "Skipping reply email: Re: Erasmus'ta iken ENS 492\n",
      "Skipping reply email: Re: Erasmus'ta iken ENS 492\n",
      "Skipping reply email: Re: Erasmus'ta iken ENS 492\n",
      "Skipping reply email: Re: Erasmus'ta iken ENS 492\n",
      "Skipping reply email: Re: Erasmus'ta iken ENS 492\n",
      "Skipping reply email: Re: Erasmus'ta iken ENS 492\n"
     ]
    },
    {
     "name": "stderr",
     "output_type": "stream",
     "text": [
      "pre tokenize: 100%|██████████| 1/1 [00:00<00:00, 1002.22it/s]\n",
      "pre tokenize: 100%|██████████| 1/1 [00:00<?, ?it/s]\n",
      "pre tokenize: 100%|██████████| 1/1 [00:00<?, ?it/s]\n",
      "pre tokenize: 100%|██████████| 1/1 [00:00<00:00, 1002.70it/s]\n",
      "pre tokenize: 100%|██████████| 1/1 [00:00<00:00, 1042.06it/s]\n",
      "pre tokenize: 100%|██████████| 1/1 [00:00<00:00, 1001.03it/s]\n"
     ]
    },
    {
     "name": "stdout",
     "output_type": "stream",
     "text": [
      "Skipping reply email: Re: GDSC\n",
      "Skipping reply email: Fwd: GDSC\n"
     ]
    },
    {
     "name": "stderr",
     "output_type": "stream",
     "text": [
      "pre tokenize: 100%|██████████| 1/1 [00:00<00:00, 1004.62it/s]\n",
      "pre tokenize: 100%|██████████| 1/1 [00:00<?, ?it/s]\n",
      "pre tokenize: 100%|██████████| 1/1 [00:00<?, ?it/s]\n",
      "pre tokenize: 100%|██████████| 1/1 [00:00<00:00, 1001.98it/s]\n",
      "pre tokenize: 100%|██████████| 1/1 [00:00<00:00, 1983.12it/s]\n",
      "pre tokenize: 100%|██████████| 1/1 [00:00<00:00, 1002.46it/s]\n",
      "pre tokenize: 100%|██████████| 1/1 [00:00<00:00, 1002.46it/s]\n",
      "pre tokenize: 100%|██████████| 1/1 [00:00<00:00, 1000.07it/s]\n",
      "pre tokenize: 100%|██████████| 1/1 [00:00<00:00, 1003.90it/s]\n",
      "pre tokenize: 100%|██████████| 1/1 [00:00<?, ?it/s]\n",
      "pre tokenize: 100%|██████████| 1/1 [00:00<00:00, 1936.43it/s]\n",
      "pre tokenize: 100%|██████████| 1/1 [00:00<?, ?it/s]\n"
     ]
    },
    {
     "name": "stdout",
     "output_type": "stream",
     "text": [
      "Skipping reply email: =?UTF-8?B?UmU6IFlheiBzdGFqxLEgYmHFn3Z1cnU=?=\n",
      "Skipping reply email: =?UTF-8?B?UmU6IFlheiBzdGFqxLEgYmHFn3Z1cnU=?=\n",
      "Skipping reply email: =?UTF-8?B?UmU6IFlheiBzdGFqxLEgYmHFn3Z1cnU=?=\n",
      "Skipping reply email: =?UTF-8?B?UmU6IFlheiBzdGFqxLEgYmHFn3Z1cnU=?=\n",
      "Skipping reply email: =?UTF-8?B?RndkOiBZYXogc3RhasSxIGJhxZ92dXJ1?=\n",
      "Skipping reply email: =?UTF-8?B?UmU6IFlheiBzdGFqxLEgYmHFn3Z1cnU=?=\n"
     ]
    },
    {
     "name": "stderr",
     "output_type": "stream",
     "text": [
      "pre tokenize: 100%|██████████| 1/1 [00:00<00:00, 1003.18it/s]\n",
      "pre tokenize: 100%|██████████| 1/1 [00:00<00:00, 1002.94it/s]\n"
     ]
    },
    {
     "name": "stdout",
     "output_type": "stream",
     "text": [
      "Skipping reply email: =?UTF-8?B?UmU6IFlheiBzdGFqxLEgYmHFn3Z1cnU=?=\n"
     ]
    },
    {
     "name": "stderr",
     "output_type": "stream",
     "text": [
      "pre tokenize: 100%|██████████| 1/1 [00:00<00:00, 1004.62it/s]\n",
      "pre tokenize: 100%|██████████| 1/1 [00:00<?, ?it/s]\n"
     ]
    },
    {
     "name": "stdout",
     "output_type": "stream",
     "text": [
      "Skipping reply email: =?UTF-8?B?UmU6IFlheiBzdGFqxLEgYmHFn3Z1cnU=?=\n"
     ]
    },
    {
     "name": "stderr",
     "output_type": "stream",
     "text": [
      "pre tokenize: 100%|██████████| 1/1 [00:00<00:00, 1003.18it/s]\n",
      "pre tokenize: 100%|██████████| 1/1 [00:00<00:00, 1001.51it/s]\n"
     ]
    },
    {
     "name": "stdout",
     "output_type": "stream",
     "text": [
      "Skipping reply email: \n"
     ]
    },
    {
     "name": "stderr",
     "output_type": "stream",
     "text": [
      "pre tokenize: 100%|██████████| 1/1 [00:00<?, ?it/s]\n",
      "pre tokenize: 100%|██████████| 1/1 [00:00<?, ?it/s]\n"
     ]
    },
    {
     "name": "stdout",
     "output_type": "stream",
     "text": [
      "Skipping reply email: Re: Quiz 3\n",
      "Skipping reply email: Fwd: Quiz 3\n"
     ]
    },
    {
     "name": "stderr",
     "output_type": "stream",
     "text": [
      "pre tokenize: 100%|██████████| 1/1 [00:00<00:00, 1001.51it/s]\n",
      "pre tokenize: 100%|██████████| 1/1 [00:00<00:00, 1001.51it/s]\n",
      "pre tokenize: 100%|██████████| 1/1 [00:00<?, ?it/s]\n",
      "pre tokenize: 100%|██████████| 1/1 [00:00<00:00, 1002.94it/s]\n",
      "pre tokenize: 100%|██████████| 1/1 [00:00<00:00, 501.35it/s]\n",
      "pre tokenize: 100%|██████████| 1/1 [00:00<?, ?it/s]\n"
     ]
    },
    {
     "name": "stdout",
     "output_type": "stream",
     "text": [
      "Skipping reply email: Re: IE303 Final objection\n"
     ]
    },
    {
     "name": "stderr",
     "output_type": "stream",
     "text": [
      "pre tokenize: 100%|██████████| 1/1 [00:00<00:00, 1002.46it/s]\n",
      "pre tokenize: 100%|██████████| 1/1 [00:00<?, ?it/s]\n",
      "pre tokenize: 100%|██████████| 1/1 [00:00<?, ?it/s]\n",
      "pre tokenize: 100%|██████████| 1/1 [00:00<00:00, 811.75it/s]\n",
      "pre tokenize: 100%|██████████| 1/1 [00:00<?, ?it/s]\n",
      "pre tokenize: 100%|██████████| 1/1 [00:00<00:00, 1002.46it/s]\n"
     ]
    },
    {
     "name": "stdout",
     "output_type": "stream",
     "text": [
      "Skipping reply email: Re: Yurt\n",
      "Skipping reply email: Re: Yurt\n"
     ]
    },
    {
     "name": "stderr",
     "output_type": "stream",
     "text": [
      "pre tokenize: 100%|██████████| 1/1 [00:00<00:00, 501.29it/s]\n",
      "pre tokenize: 100%|██████████| 1/1 [00:00<00:00, 1002.46it/s]\n",
      "pre tokenize: 100%|██████████| 1/1 [00:00<?, ?it/s]\n",
      "pre tokenize: 100%|██████████| 1/1 [00:00<?, ?it/s]\n"
     ]
    },
    {
     "name": "stdout",
     "output_type": "stream",
     "text": [
      "Skipping reply email: Fwd: EarlyBird Venture Capital Internship & Job Opportunities\n",
      "Skipping reply email: EarlyBird Venture Capital Internship & Job Opportunities\n",
      "Skipping reply email: Re: Cs306 grade onjection\n"
     ]
    },
    {
     "name": "stderr",
     "output_type": "stream",
     "text": [
      "pre tokenize: 100%|██████████| 1/1 [00:00<00:00, 1002.22it/s]\n",
      "pre tokenize: 100%|██████████| 1/1 [00:00<00:00, 1001.98it/s]\n"
     ]
    },
    {
     "name": "stdout",
     "output_type": "stream",
     "text": [
      "Skipping reply email: Fwd: Math306 notlar\n"
     ]
    },
    {
     "name": "stderr",
     "output_type": "stream",
     "text": [
      "pre tokenize: 100%|██████████| 1/1 [00:00<?, ?it/s]\n",
      "pre tokenize: 100%|██████████| 1/1 [00:00<00:00, 999.83it/s]\n"
     ]
    },
    {
     "name": "stdout",
     "output_type": "stream",
     "text": [
      "Skipping reply email: Re: Distinguished Research Fellows Seminerleri\n",
      "Skipping reply email: Fwd: Distinguished Research Fellows Seminerleri\n",
      "Skipping reply email: AW: [EXT]Clogged Sink and Bathtub\n",
      "Skipping reply email: AW: [EXT]Clogged Sink and Bathtub\n"
     ]
    },
    {
     "name": "stderr",
     "output_type": "stream",
     "text": [
      "pre tokenize: 100%|██████████| 1/1 [00:00<?, ?it/s]\n",
      "pre tokenize: 100%|██████████| 1/1 [00:00<00:00, 1002.70it/s]\n",
      "pre tokenize: 100%|██████████| 1/1 [00:00<?, ?it/s]\n",
      "pre tokenize: 100%|██████████| 1/1 [00:00<00:00, 943.60it/s]\n",
      "pre tokenize: 100%|██████████| 1/1 [00:00<?, ?it/s]\n",
      "pre tokenize: 100%|██████████| 1/1 [00:00<00:00, 1002.70it/s]\n",
      "pre tokenize: 100%|██████████| 1/1 [00:00<?, ?it/s]\n",
      "pre tokenize: 100%|██████████| 1/1 [00:00<?, ?it/s]\n",
      "pre tokenize: 100%|██████████| 1/1 [00:00<?, ?it/s]\n",
      "pre tokenize: 100%|██████████| 1/1 [00:00<00:00, 1002.94it/s]\n",
      "pre tokenize: 100%|██████████| 1/1 [00:00<?, ?it/s]\n",
      "pre tokenize: 100%|██████████| 1/1 [00:00<?, ?it/s]\n",
      "pre tokenize: 100%|██████████| 1/1 [00:00<00:00, 1002.70it/s]\n",
      "pre tokenize: 100%|██████████| 1/1 [00:00<00:00, 1003.66it/s]\n"
     ]
    },
    {
     "name": "stdout",
     "output_type": "stream",
     "text": [
      "Skipping reply email: =?UTF-8?Q?Re=3A_Staj_dersi_hakk=C4=B1nda?=\n",
      "Skipping reply email: =?UTF-8?Q?Re=3A_Staj_dersi_hakk=C4=B1nda?=\n",
      "Skipping reply email: =?UTF-8?Q?Re=3A_Staj_dersi_hakk=C4=B1nda?=\n",
      "Skipping reply email: =?UTF-8?Q?Re=3A_Staj_dersi_hakk=C4=B1nda?=\n",
      "Skipping reply email: =?UTF-8?Q?Re=3A_Staj_dersi_hakk=C4=B1nda?=\n"
     ]
    },
    {
     "name": "stderr",
     "output_type": "stream",
     "text": [
      "pre tokenize: 100%|██████████| 1/1 [00:00<00:00, 1002.22it/s]\n",
      "pre tokenize: 100%|██████████| 1/1 [00:00<?, ?it/s]\n"
     ]
    },
    {
     "name": "stdout",
     "output_type": "stream",
     "text": [
      "Skipping reply email: Re: Sabah saatlerindeki shuttlelar\n"
     ]
    },
    {
     "name": "stderr",
     "output_type": "stream",
     "text": [
      "pre tokenize: 100%|██████████| 1/1 [00:00<00:00, 1001.98it/s]\n",
      "pre tokenize: 100%|██████████| 1/1 [00:00<00:00, 1002.46it/s]\n",
      "pre tokenize: 100%|██████████| 1/1 [00:00<?, ?it/s]\n",
      "pre tokenize: 100%|██████████| 1/1 [00:00<?, ?it/s]\n"
     ]
    },
    {
     "name": "stdout",
     "output_type": "stream",
     "text": [
      "Skipping reply email: =?UTF-8?B?UmU6IEfDvHJzZWwgaWxlIGFsYWthbMSxIMWfaWtheWV0?=\n"
     ]
    },
    {
     "name": "stderr",
     "output_type": "stream",
     "text": [
      "pre tokenize: 100%|██████████| 1/1 [00:00<00:00, 1002.70it/s]\n",
      "pre tokenize: 100%|██████████| 1/1 [00:00<?, ?it/s]\n"
     ]
    },
    {
     "name": "stdout",
     "output_type": "stream",
     "text": [
      "Skipping reply email: =?UTF-8?Q?Re=3A_E_devlet_=C3=B6=C4=9Frenci_belgesi_sorgulama?=\n"
     ]
    },
    {
     "name": "stderr",
     "output_type": "stream",
     "text": [
      "pre tokenize: 100%|██████████| 1/1 [00:00<?, ?it/s]\n",
      "pre tokenize: 100%|██████████| 1/1 [00:00<?, ?it/s]\n",
      "pre tokenize: 100%|██████████| 1/1 [00:00<?, ?it/s]\n",
      "pre tokenize: 100%|██████████| 1/1 [00:00<?, ?it/s]\n"
     ]
    },
    {
     "name": "stdout",
     "output_type": "stream",
     "text": [
      "Skipping reply email: Re: Tll 102 sunum\n"
     ]
    },
    {
     "name": "stderr",
     "output_type": "stream",
     "text": [
      "pre tokenize: 100%|██████████| 1/1 [00:00<00:00, 1002.22it/s]\n",
      "pre tokenize: 100%|██████████| 1/1 [00:00<00:00, 1002.22it/s]\n",
      "pre tokenize: 100%|██████████| 1/1 [00:00<00:00, 1002.70it/s]\n",
      "pre tokenize: 100%|██████████| 1/1 [00:00<00:00, 1002.22it/s]\n",
      "pre tokenize: 100%|██████████| 1/1 [00:00<00:00, 1001.51it/s]\n",
      "pre tokenize: 100%|██████████| 1/1 [00:00<00:00, 1001.98it/s]\n",
      "pre tokenize: 100%|██████████| 1/1 [00:00<00:00, 1001.03it/s]\n",
      "pre tokenize: 100%|██████████| 1/1 [00:00<?, ?it/s]\n"
     ]
    },
    {
     "name": "stdout",
     "output_type": "stream",
     "text": [
      "Skipping reply email: =?UTF-8?Q?Re=3a_Erasmus_yerle=c5=9ftirmesine_itiraz?=\n"
     ]
    },
    {
     "name": "stderr",
     "output_type": "stream",
     "text": [
      "pre tokenize: 100%|██████████| 1/1 [00:00<00:00, 501.23it/s]\n",
      "pre tokenize: 100%|██████████| 1/1 [00:00<00:00, 1002.70it/s]\n"
     ]
    },
    {
     "name": "stdout",
     "output_type": "stream",
     "text": [
      "Skipping reply email: =?UTF-8?B?R0RTQy1UZW5zb3JmbG93IDEuIGvEsXPEsW0=?=\n"
     ]
    },
    {
     "name": "stderr",
     "output_type": "stream",
     "text": [
      "pre tokenize: 100%|██████████| 1/1 [00:00<00:00, 1002.70it/s]\n",
      "pre tokenize: 100%|██████████| 1/1 [00:00<00:00, 1000.55it/s]\n"
     ]
    },
    {
     "name": "stdout",
     "output_type": "stream",
     "text": [
      "Skipping reply email: Re: ie311 quiz answer key\n",
      "Skipping reply email: Re: ie311 quiz answer key\n",
      "Skipping reply email: Re: ie311 quiz answer key\n",
      "Skipping reply email: Fwd: ie311 quiz answer key\n"
     ]
    },
    {
     "name": "stderr",
     "output_type": "stream",
     "text": [
      "pre tokenize: 100%|██████████| 1/1 [00:00<?, ?it/s]\n",
      "pre tokenize: 100%|██████████| 1/1 [00:00<00:00, 1041.03it/s]\n",
      "pre tokenize: 100%|██████████| 1/1 [00:00<00:00, 1002.70it/s]\n",
      "pre tokenize: 100%|██████████| 1/1 [00:00<?, ?it/s]\n",
      "pre tokenize: 100%|██████████| 1/1 [00:00<?, ?it/s]\n",
      "pre tokenize: 100%|██████████| 1/1 [00:00<?, ?it/s]\n",
      "pre tokenize: 100%|██████████| 1/1 [00:00<?, ?it/s]\n",
      "pre tokenize: 100%|██████████| 1/1 [00:00<00:00, 1001.51it/s]\n"
     ]
    },
    {
     "name": "stdout",
     "output_type": "stream",
     "text": [
      "Skipping reply email: Re: Data kismi\n",
      "Skipping reply email: Re: Data kismi\n",
      "Skipping reply email: Re: Data kismi\n",
      "Skipping reply email: Re: Data kismi\n"
     ]
    },
    {
     "name": "stderr",
     "output_type": "stream",
     "text": [
      "pre tokenize: 100%|██████████| 1/1 [00:00<00:00, 1003.42it/s]\n",
      "pre tokenize: 100%|██████████| 1/1 [00:00<00:00, 1003.90it/s]\n"
     ]
    }
   ],
   "source": [
    "mbox = mailbox.mbox(mbox_file_path)\n",
    "\n",
    "# Extract data from each message\n",
    "data = []\n",
    "for i, message in enumerate(mbox):\n",
    "    subject = message['subject']\n",
    "    sender = message['from']\n",
    "    date_str = message['date']\n",
    "    body = get_email_body(message)\n",
    "\n",
    "    if is_reply(subject, body):\n",
    "        print(f\"Skipping reply email: {subject}\")\n",
    "        continue\n",
    "\n",
    "\n",
    "    date = None\n",
    "    try:\n",
    "        if date_str:\n",
    "            date = datetime.strptime(date_str, '%a, %d %b %Y %H:%M:%S %z')\n",
    "    except ValueError:\n",
    "        print(f\"Failed to parse date: {date_str}\")\n",
    "\n",
    "    cleaned_body = clean_email_body(body)\n",
    "\n",
    "    # Get formality classification\n",
    "    formality_class, formality_ratio = get_formality_class(cleaned_body)\n",
    "    language = determine_language(cleaned_body)\n",
    "\n",
    "    if date:\n",
    "        data.append({\n",
    "            'subject': subject,\n",
    "            'sender': sender,\n",
    "            'date': date,\n",
    "            'body': cleaned_body,\n",
    "            'formality': formality_class,\n",
    "            'formality_ratio': formality_ratio,\n",
    "            'language': language\n",
    "        })\n",
    "    else:\n",
    "        print(f\"Skipping email {i+1} due to date parsing issues.\\n\")\n"
   ]
  },
  {
   "cell_type": "code",
   "execution_count": 7,
   "metadata": {},
   "outputs": [
    {
     "name": "stdout",
     "output_type": "stream",
     "text": [
      "Formality Distribution:\n",
      "formality\n",
      "Formal      502\n",
      "Informal      9\n",
      "Name: count, dtype: int64\n"
     ]
    },
    {
     "data": {
      "image/png": "[encoded data removed]",
      "text/plain": [
       "<Figure size 1500x1500 with 6 Axes>"
      ]
     },
     "metadata": {},
     "output_type": "display_data"
    }
   ],
   "source": [
    "df = pd.DataFrame(data)\n",
    "\n",
    "# Ensure 'date' exists and is converted to UTC\n",
    "if 'date' in df.columns and not df['date'].isnull().all():\n",
    "    df['date'] = pd.to_datetime(df['date'], utc=True)\n",
    "    df['day_of_week'] = df['date'].dt.day_name()\n",
    "    df['hour'] = df['date'].dt.hour\n",
    "    df['body_length'] = df['body'].apply(len)\n",
    "    df['word_count'] = df['body'].apply(lambda x: len(x.split()))\n",
    "\n",
    "    # Formally classification summary\n",
    "    formality_counts = df['formality'].value_counts()\n",
    "    print(f\"Formality Distribution:\\n{formality_counts}\")\n",
    "\n",
    "    # Plotting formality distribution\n",
    "    fig, axs = plt.subplots(3, 2, figsize=(15, 15))\n",
    "\n",
    "    # Day of the week distribution\n",
    "    day_distribution = df['day_of_week'].value_counts()\n",
    "    axs[0, 0].bar(day_distribution.index, day_distribution.values)\n",
    "    axs[0, 0].set_xlabel('Day of the Week')\n",
    "    axs[0, 0].set_ylabel('Number of Emails')\n",
    "    axs[0, 0].set_title('Email Distribution by Day of the Week')\n",
    "    axs[0, 0].tick_params(axis='x', rotation=45)\n",
    "\n",
    "    # Hour of the day distribution\n",
    "    hour_distribution = df['hour'].value_counts().sort_index()\n",
    "    axs[0, 1].bar(hour_distribution.index, hour_distribution.values)\n",
    "    axs[0, 1].set_xlabel('Hour of the Day')\n",
    "    axs[0, 1].set_ylabel('Number of Emails')\n",
    "    axs[0, 1].set_title('Email Distribution by Hour of the Day')\n",
    "\n",
    "    # Character count distribution\n",
    "    axs[1, 0].hist(df['body_length'], bins=30)\n",
    "    axs[1, 0].set_xlabel('Number of Characters')\n",
    "    axs[1, 0].set_ylabel('Frequency')\n",
    "    axs[1, 0].set_title('Distribution of Character Count in Email Bodies')\n",
    "\n",
    "    # Word count distribution\n",
    "    axs[1, 1].hist(df['word_count'], bins=30)\n",
    "    axs[1, 1].set_xlabel('Number of Words')\n",
    "    axs[1, 1].set_ylabel('Frequency')\n",
    "    axs[1, 1].set_title('Distribution of Word Count in Email Bodies')\n",
    "\n",
    "    # Formality distribution\n",
    "    axs[2, 0].bar(formality_counts.index, formality_counts.values)\n",
    "    axs[2, 0].set_xlabel('Formality Class')\n",
    "    axs[2, 0].set_ylabel('Frequency')\n",
    "    axs[2, 0].set_title('Formality Classification of Emails')\n",
    "\n",
    "\n",
    "\n",
    "    plt.tight_layout()\n",
    "    plt.show()\n",
    "\n",
    "else:\n",
    "    print(\"The 'date' column was not found in the DataFrame or all date values are missing.\")\n"
   ]
  },
  {
   "cell_type": "code",
   "execution_count": 12,
   "metadata": {},
   "outputs": [],
   "source": [
    "df.to_json('Not_Reply.json', orient='records', date_format='iso')\n"
   ]
  },
  {
   "cell_type": "code",
   "execution_count": null,
   "metadata": {},
   "outputs": [],
   "source": []
  }
 ],
 "metadata": {
  "kernelspec": {
   "display_name": "Python 3",
   "language": "python",
   "name": "python3"
  },
  "language_info": {
   "codemirror_mode": {
    "name": "ipython",
    "version": 3
   },
   "file_extension": ".py",
   "mimetype": "text/x-python",
   "name": "python",
   "nbconvert_exporter": "python",
   "pygments_lexer": "ipython3",
   "version": "3.11.9"
  }
 },
 "nbformat": 4,
 "nbformat_minor": 2
}
